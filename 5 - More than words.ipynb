{
 "cells": [
  {
   "cell_type": "markdown",
   "id": "57e83a6c",
   "metadata": {},
   "source": [
    "# Features beyond words\n",
    "\n",
    "To this point, we’ve looked at how to get capture the structure of text as tabular data in R. Words have been the atomic units of interest, or **features**, and the process of creating a table in which each feature is quantified for each text sample is often called **feature extraction**.\n",
    "\n",
    "In this section we’ll look at some alternative feature sets beyond words—although most of these are derived from words in some way. Sometimes we collapse words together, for example by **stemming** or **part of speech** tagging, resulting in a smaller feature set. Sometimes, by contrast, we look at word combinations, **n-grams**, and the feature set becomes even bigger. In either case, we will likely go through a process of **feature selection** later, where we mix and match the features most useful to our specific task.\n",
    "\n",
    "## Responsions between author and audience\n",
    "\n",
    "One of my favourite aspects of Homer’s poems is the evidence that their oral-formulaic origins has left in the text of an intimate feedback loop between the singer and the audience: the scenes that have been elaborated and adorned with formulas to luxuriate in the listeners’ attention; the concise way information can be condensed when the plot needs to more forward.\n",
    "\n",
    "But the feedback process is not limited to oral composition. Vergil showed the enomous originality that was possible in \"fan fiction\" when he turned the raw material of Homer to his own epic purposes. As he was still composing the *Aeneid*, he was already receiving \"comments\" from his audience, for example Propertius 2.34.66, *nescio quid maius nascitur Iliade*, \"Something greater than the Iliad is coming to birth.\" In particular, he seems to quote Vergil’s own preface to the second half of the Aeneid, which he calls a *maius opus*, \"a greater work\" (Aen. 7.45).\n",
    "\n",
    "## Fans and fan fiction\n",
    "\n",
    "In 2014, author Anna Todd composed the novel *After* largely on her phone, using the online self-publishing platform Wattpad. The novel was conceived as a fan fiction, not of a book or film, but of the real-life boy-band One Direction. The story became wildly popular, with readership topping 1,000,000,000 views even as she was writing. According to a contemporary interview with the *New York Times*, she would generate new content daily in response to reader’s comments, shaping the storyline in response to their own fantasies as well as her own. Despite the fact that the novel is [still available for free on Wattpad](https://www.wattpad.com/story/5095707-after), Todd went on to sign a \"six-figure\" book deal, including film rights. \n",
    "\n",
    "Not all authors experience this feedback loop so positively, however. George R. R. Martin, author of *A Game of Thrones* and its sequels, reported in an interview that he had been forced to stop reading the theories of his fans online. As he continued to develop the labyrinthine subplots and Tolstoy-sized cast of characters, he had found himself deliberately trying to outsmart the readers. When they correctly guessed the path of the plot, he would change it to foil them. But, he grimly noted, \"That way lies madness and disaster.\" As he fell victim to depression and writer’s block, some fans turned against him. In forums like [Finish the Book, George](https://grrrm.livejournal.com/), some goaded and provoked him. Eventually, the course of the novels was overcome by the television series.\n",
    "\n",
    "## Case study: Annacharlier’s *Don’t Go*\n",
    "\n",
    "<div style=\"float:right; width:250px; margin:1.5em\">\n",
    "    <figure>\n",
    "        <img src=\"https://upload.wikimedia.org/wikipedia/en/1/1c/She-Ra_comparison.png\" alt=\"image\">\n",
    "        <caption>She-Ra in 1985 and 2018. <br/>Source: wikipedia.org</caption>\n",
    "    </figure>\n",
    "</div>\n",
    "\n",
    "For the rest of this session, I want to look at an interesting convolution of fan-author feedback, drawn from the fan fiction web site [Archive of Our Own](https://archiveofourown.org/) (AO3). Annacharlier’s 5000-word *Don’t Go* is the most-read submission within the fandom dedicated to \"She-Ra and the Princesses of Power,\" a Netflix children’s cartoon. \"She-Ra\" is itself intertextual, being a 2018 reboot of an earlier children’s show from the 1980s, in part deliberately designed to subvert the original program’s messaging about gender norms, sexuality, and body image.\n",
    "\n",
    "Like many fan fictions, *Don’t Go* represents beloved characters, in this case the protagonist Adora and her principal antagonist Catra, in the \"downtime\" between episodes, allowing the audience to indulge in a [sense of immersion](https://en.wikipedia.org/wiki/Parasocial_interaction) in the character’s everyday lives. Also like many fan fictions (dating back at least to the revolutionary Kirk/Spock amateur fictions of the mid-twentieth century), this one develops a same-sex romantic relationship (or **ship**) between principal characters. (Unlike the Kirk/Spock relationship, the \"Catradora\" ship was established as canonical in the series finale, released a mere 5 days before this story was posted.)\n",
    " \n",
    "What makes the story interesting to me, however, is that not long after it appeared on the site, its pseudonymous author was revealed to be ND Stevenson, the show’s creater herself, granting quasi-canonical status to the events described along with enormous encouragement to other fan-fiction authors. In the examples below, we’ll practice downloading the story from AO3 and performing several different feature extraction techniques."
   ]
  },
  {
   "cell_type": "code",
   "execution_count": 1,
   "id": "677b858f",
   "metadata": {},
   "outputs": [
    {
     "name": "stdout",
     "output_type": "stream",
     "text": [
      "\n",
      "The downloaded binary packages are in\n",
      "\t/var/folders/_k/nhmmjzg96r318bm9jvyvv7ph0000gn/T//RtmpcltZQa/downloaded_packages\n"
     ]
    }
   ],
   "source": [
    "# only need to do this once\n",
    "install.packages(c('rvest', 'polite'))"
   ]
  },
  {
   "cell_type": "markdown",
   "id": "6fc72f99",
   "metadata": {},
   "source": [
    "These packages are useful tools for tidy-compatible web-scraping. Specifically, the package **rvest** (apparently a pun on \"harvest\") can be used for downloading pages from the web and parsing their content using **xpath** or **css selectors**, while **polite** is a wrapper for parts of rvest that ensures your script complies with the crawling/scraping policies set out in a site’s `robots.txt` file.\n",
    "\n",
    "Abiding by the site’s limitations for automated downloads will make sure your script isn’t ruining the experience of human users. It also makes it less likely that you’ll be booted from the site in the middle of a long-running process."
   ]
  },
  {
   "cell_type": "code",
   "execution_count": 2,
   "id": "0db1616a",
   "metadata": {},
   "outputs": [
    {
     "name": "stderr",
     "output_type": "stream",
     "text": [
      "── \u001b[1mAttaching packages\u001b[22m ─────────────────────────────────────── tidyverse 1.3.1 ──\n",
      "\n",
      "\u001b[32m✔\u001b[39m \u001b[34mggplot2\u001b[39m 3.3.6     \u001b[32m✔\u001b[39m \u001b[34mpurrr  \u001b[39m 0.3.4\n",
      "\u001b[32m✔\u001b[39m \u001b[34mtibble \u001b[39m 3.1.7     \u001b[32m✔\u001b[39m \u001b[34mdplyr  \u001b[39m 1.0.9\n",
      "\u001b[32m✔\u001b[39m \u001b[34mtidyr  \u001b[39m 1.2.0     \u001b[32m✔\u001b[39m \u001b[34mstringr\u001b[39m 1.4.0\n",
      "\u001b[32m✔\u001b[39m \u001b[34mreadr  \u001b[39m 2.1.2     \u001b[32m✔\u001b[39m \u001b[34mforcats\u001b[39m 0.5.1\n",
      "\n",
      "── \u001b[1mConflicts\u001b[22m ────────────────────────────────────────── tidyverse_conflicts() ──\n",
      "\u001b[31m✖\u001b[39m \u001b[34mdplyr\u001b[39m::\u001b[32mfilter()\u001b[39m masks \u001b[34mstats\u001b[39m::filter()\n",
      "\u001b[31m✖\u001b[39m \u001b[34mdplyr\u001b[39m::\u001b[32mlag()\u001b[39m    masks \u001b[34mstats\u001b[39m::lag()\n",
      "\n",
      "\n",
      "Attaching package: ‘rvest’\n",
      "\n",
      "\n",
      "The following object is masked from ‘package:readr’:\n",
      "\n",
      "    guess_encoding\n",
      "\n",
      "\n"
     ]
    }
   ],
   "source": [
    "library(tidyverse)\n",
    "library(tidytext)\n",
    "library(rvest)\n",
    "library(polite)"
   ]
  },
  {
   "cell_type": "markdown",
   "id": "0d09e4da",
   "metadata": {},
   "source": [
    "### Create a session\n",
    "\n",
    "This opens our session with the website, announcing our intention and checking for rules pertaining to automated scripts."
   ]
  },
  {
   "cell_type": "code",
   "execution_count": 3,
   "id": "d67e8794",
   "metadata": {},
   "outputs": [],
   "source": [
    "base_url <- 'https://www.archiveofourown.org'\n",
    "session <- bow(base_url, force=TRUE)           # setting force=TRUE will clear any cached session info"
   ]
  },
  {
   "cell_type": "markdown",
   "id": "b84d6917",
   "metadata": {},
   "source": [
    "Let’s inspect the session object:"
   ]
  },
  {
   "cell_type": "code",
   "execution_count": 4,
   "id": "372e12f8",
   "metadata": {},
   "outputs": [
    {
     "data": {
      "text/plain": [
       "<polite session> https://www.archiveofourown.org\n",
       "    User-agent: polite R package - https://github.com/dmi3kno/polite\n",
       "    robots.txt: 23 rules are defined for 3 bots\n",
       "   Crawl delay: 5 sec\n",
       "  The path is scrapable for this user-agent"
      ]
     },
     "metadata": {},
     "output_type": "display_data"
    }
   ],
   "source": [
    "session"
   ]
  },
  {
   "cell_type": "markdown",
   "id": "779ed869",
   "metadata": {},
   "source": [
    "This says that we’re allowed to read the site using non-human agents, but they want us to introduce a five-second delay between requests.\n",
    "\n",
    "The `User-agent` line shows how we’ve identified ourselves to the site. If you want, you can specify something else by passing e.g. `user_agent='cforstall experiment number 1'` as an additional argument to `bow()`. For comparison, here is the equivalent field that my normal web browser reports to sites I’m visiting as a human:\n",
    "\n",
    "    User-Agent: Mozilla/5.0 (Macintosh; Intel Mac OS X 10.15; rv:101.0) Gecko/20100101 Firefox/101.0\n",
    "    \n",
    "    \n",
    "### Managing the session\n",
    "\n",
    "Now that we have a session, we can make as many requests as we like to the same URL (for example with different parameters) and polite will make sure that we comply with the rules. But if we want to change the URL path, we need to check in with the site again using `nod()`:"
   ]
  },
  {
   "cell_type": "code",
   "execution_count": 5,
   "id": "e2a827bd",
   "metadata": {},
   "outputs": [],
   "source": [
    "session <- session %>% nod('/works/24280306')"
   ]
  },
  {
   "cell_type": "markdown",
   "id": "baacae8d",
   "metadata": {},
   "source": [
    "We can download a page using `scrape()`:"
   ]
  },
  {
   "cell_type": "code",
   "execution_count": 6,
   "id": "6afec4af",
   "metadata": {},
   "outputs": [],
   "source": [
    "html_doc <- session %>% scrape()"
   ]
  },
  {
   "cell_type": "markdown",
   "id": "e60ed8b6",
   "metadata": {},
   "source": [
    "The result is a complex object representing the structure of the HTML document. The easiest way to work with it is using rvest’s `html_*` functions: especially `html_elements()`, `html_attrs()`, `html_table()`, and `html_text2()`.\n",
    "\n",
    "These allow you to search for specific parts of the page using xpath or css expressions. For example, all the `<div>` nodes:"
   ]
  },
  {
   "cell_type": "code",
   "execution_count": 7,
   "id": "fbc9718b",
   "metadata": {},
   "outputs": [
    {
     "data": {
      "text/plain": [
       "{xml_nodeset (24)}\n",
       " [1] <div id=\"outer\" class=\"wrapper\">\\n      <ul id=\"skiplinks\"><li><a href=\" ...\n",
       " [2] <div id=\"header\" class=\"region\">\\n\\n  <h1 class=\"heading\">\\n    <a href= ...\n",
       " [3] <div id=\"login\" class=\"dropdown\">\\n      <p class=\"user actions\" role=\"m ...\n",
       " [4] <div id=\"small_login\" class=\"simple login\">\\n\\t<form class=\"new_user\" id ...\n",
       " [5] <div class=\"clear\"></div>\n",
       " [6] <div id=\"inner\" class=\"wrapper\">\\n        <!-- BEGIN sidebar -->\\n       ...\n",
       " [7] <div id=\"main\" class=\"works-show region\" role=\"main\">\\n          \\n      ...\n",
       " [8] <div class=\"flash\"></div>\n",
       " [9] <div class=\"wrapper\">\\n\\n  <dl class=\"work meta group\" role=\"complementa ...\n",
       "[10] <div id=\"workskin\">\\n  <div class=\"preface group\">\\n    <h2 class=\"title ...\n",
       "[11] <div class=\"preface group\">\\n    <h2 class=\"title heading\">\\n      Don't ...\n",
       "[12] <div class=\"summary module\" role=\"complementary\">\\n          <h3 class=\" ...\n",
       "[13] <div id=\"chapters\" role=\"article\">\\n        <h3 class=\"landmark heading\" ...\n",
       "[14] <div class=\"userstuff\">\\n<p class=\"p1\">They stay that way for a long tim ...\n",
       "[15] <div id=\"feedback\" class=\"feedback\" role=\"complementary\">\\n\\n  <h3 class ...\n",
       "[16] <div id=\"kudos_message\"></div>\n",
       "[17] <div id=\"kudos\">\\n      <p class=\"kudos\">\\n          <a href=\"/users/bch ...\n",
       "[18] <div id=\"add_comment_placeholder\" title=\"top level comment\">\\n      <div ...\n",
       "[19] <div id=\"add_comment\">\\n        <!-- expects the local variables comment ...\n",
       "[20] <div class=\"post comment\" id=\"comment_form_for_24280306\">\\n  <form class ...\n",
       "..."
      ]
     },
     "metadata": {},
     "output_type": "display_data"
    }
   ],
   "source": [
    "html_doc %>% html_elements('div')"
   ]
  },
  {
   "cell_type": "markdown",
   "id": "40adac3b",
   "metadata": {},
   "source": [
    "Here, we use **css** selectors to look for the first `<div>` of class `summary`, then take the first `<blockquote>` from within that, to islote the \"Summary\" section at the top of Annacharlier’s story. Then we extract just the text:"
   ]
  },
  {
   "cell_type": "code",
   "execution_count": 8,
   "id": "0011923d",
   "metadata": {},
   "outputs": [
    {
     "data": {
      "text/html": [
       "'They stay that way for a long time, Catra’s face tucked into Adora’s shoulder, Adora gently cradling Catra’s head. Adora is careful not to hug Catra too hard or make her feel restrained, anticipating the moment that Catra will start to pull away — but Catra doesn’t. She hangs on so tightly it hurts, her claws digging through Adora’s jacket and into her back, latching into her like she did when she was a kitten and didn’t know how much her claws could hurt. Adora tries not to wince, tries not to move a single muscle, worried that if she does the spell will break and Catra will struggle away, appalled at having shown weakness.\\n\\nBut Catra doesn’t let go. And so neither does Adora.'"
      ],
      "text/latex": [
       "'They stay that way for a long time, Catra’s face tucked into Adora’s shoulder, Adora gently cradling Catra’s head. Adora is careful not to hug Catra too hard or make her feel restrained, anticipating the moment that Catra will start to pull away — but Catra doesn’t. She hangs on so tightly it hurts, her claws digging through Adora’s jacket and into her back, latching into her like she did when she was a kitten and didn’t know how much her claws could hurt. Adora tries not to wince, tries not to move a single muscle, worried that if she does the spell will break and Catra will struggle away, appalled at having shown weakness.\\textbackslash{}n\\textbackslash{}nBut Catra doesn’t let go. And so neither does Adora.'"
      ],
      "text/markdown": [
       "'They stay that way for a long time, Catra’s face tucked into Adora’s shoulder, Adora gently cradling Catra’s head. Adora is careful not to hug Catra too hard or make her feel restrained, anticipating the moment that Catra will start to pull away — but Catra doesn’t. She hangs on so tightly it hurts, her claws digging through Adora’s jacket and into her back, latching into her like she did when she was a kitten and didn’t know how much her claws could hurt. Adora tries not to wince, tries not to move a single muscle, worried that if she does the spell will break and Catra will struggle away, appalled at having shown weakness.\\n\\nBut Catra doesn’t let go. And so neither does Adora.'"
      ],
      "text/plain": [
       "[1] \"They stay that way for a long time, Catra’s face tucked into Adora’s shoulder, Adora gently cradling Catra’s head. Adora is careful not to hug Catra too hard or make her feel restrained, anticipating the moment that Catra will start to pull away — but Catra doesn’t. She hangs on so tightly it hurts, her claws digging through Adora’s jacket and into her back, latching into her like she did when she was a kitten and didn’t know how much her claws could hurt. Adora tries not to wince, tries not to move a single muscle, worried that if she does the spell will break and Catra will struggle away, appalled at having shown weakness.\\n\\nBut Catra doesn’t let go. And so neither does Adora.\""
      ]
     },
     "metadata": {},
     "output_type": "display_data"
    }
   ],
   "source": [
    "html_doc %>% \n",
    "    html_element('div.summary.module') %>%\n",
    "    html_element('blockquote') %>% \n",
    "    html_text2()"
   ]
  },
  {
   "cell_type": "markdown",
   "id": "eb022e28",
   "metadata": {},
   "source": [
    "### Manual inspection\n",
    "\n",
    "This part of your research demands a lot of time-consuming manual inspection of the web site you’re interested in. You need to understand how the underlying HTML is structured so that you can pick out the information you want. This almost always entails bespoke solutions and lots of trial and error.\n",
    "\n",
    "I like to use the \"Developer Tools\" feature of my web browser to examine the structure of the page. You might prefer to use your favourite text editor. There are also third-party plugins or extensions that you can add to your browser.\n",
    "\n",
    "Here’s what the site looks like in my browser:\n",
    "\n",
    "<div style=\"margin:1em; padding:1em\">\n",
    "<img src=\"img/annacharlier.png\">\n",
    "</div>\n",
    "    \n",
    "Here’s the underlying source HTML for the \"Summary\" section, also viewed in my browser:\n",
    "\n",
    "<div style=\"margin:1em; padding:1em\">\n",
    "<img src=\"img/annacharlier_source.png\">\n",
    "</div>\n",
    "    \n",
    "And here’s what it looks like using the browser’s \"inspector\" tool. I use Firefox, but the other major browsers have similar functionality. (Sometimes you have to check a box in \"Settings\" or \"Preferences\" to enable these tools.)\n",
    "\n",
    "<div style=\"margin:1em; padding:1em\">\n",
    "<img src=\"img/annacharlier_inspector.png\">\n",
    "</div>"
   ]
  },
  {
   "cell_type": "markdown",
   "id": "759f48e2",
   "metadata": {},
   "source": [
    "Let’s extract the main body of the text from this page so we can process it. It looks to me like the story is enclosed in `<div id=\"chapters\" role=\"article\">`, and then within `<div class=\"userstuff\">`. Let’s try that as a first attempt."
   ]
  },
  {
   "cell_type": "code",
   "execution_count": 9,
   "id": "2e839b6c",
   "metadata": {},
   "outputs": [],
   "source": [
    "text <- html_doc %>% \n",
    "    html_element('div#chapters div.userstuff') %>% \n",
    "    html_text2()"
   ]
  },
  {
   "cell_type": "code",
   "execution_count": 10,
   "id": "e265aeb6",
   "metadata": {},
   "outputs": [
    {
     "name": "stdout",
     "output_type": "stream",
     "text": [
      " chr \"They stay that way for a long time, Catra’s face tucked into Adora’s shoulder, Adora gently cradling Catra’s he\"| __truncated__\n"
     ]
    }
   ],
   "source": [
    "str(text)"
   ]
  },
  {
   "cell_type": "code",
   "execution_count": 11,
   "id": "10a1b79e",
   "metadata": {},
   "outputs": [
    {
     "data": {
      "text/html": [
       "30706"
      ],
      "text/latex": [
       "30706"
      ],
      "text/markdown": [
       "30706"
      ],
      "text/plain": [
       "[1] 30706"
      ]
     },
     "metadata": {},
     "output_type": "display_data"
    }
   ],
   "source": [
    "nchar(text)"
   ]
  },
  {
   "cell_type": "markdown",
   "id": "2e06aad7",
   "metadata": {},
   "source": [
    "Let’s tokenize into words with `unnest_tokens()`. But `unnest_tokens()` is expecting a tibble, so first we have to create a tibble with a single row:"
   ]
  },
  {
   "cell_type": "code",
   "execution_count": 12,
   "id": "a17b4982",
   "metadata": {},
   "outputs": [],
   "source": [
    "# create a one-row tibble for Annacharlier's story\n",
    "fan_fics <- tibble(\n",
    "    ao3_id = 24280306,\n",
    "    text = text\n",
    ")\n",
    "\n",
    "# tokenize\n",
    "tokens <- fan_fics %>%\n",
    "    unnest_tokens(output=word, input=text)"
   ]
  },
  {
   "cell_type": "code",
   "execution_count": 13,
   "id": "01b3cc92",
   "metadata": {},
   "outputs": [
    {
     "data": {
      "text/html": [
       "<table class=\"dataframe\">\n",
       "<caption>A tibble: 10 × 2</caption>\n",
       "<thead>\n",
       "\t<tr><th scope=col>ao3_id</th><th scope=col>word</th></tr>\n",
       "\t<tr><th scope=col>&lt;dbl&gt;</th><th scope=col>&lt;chr&gt;</th></tr>\n",
       "</thead>\n",
       "<tbody>\n",
       "\t<tr><td>24280306</td><td>they   </td></tr>\n",
       "\t<tr><td>24280306</td><td>stay   </td></tr>\n",
       "\t<tr><td>24280306</td><td>that   </td></tr>\n",
       "\t<tr><td>24280306</td><td>way    </td></tr>\n",
       "\t<tr><td>24280306</td><td>for    </td></tr>\n",
       "\t<tr><td>24280306</td><td>a      </td></tr>\n",
       "\t<tr><td>24280306</td><td>long   </td></tr>\n",
       "\t<tr><td>24280306</td><td>time   </td></tr>\n",
       "\t<tr><td>24280306</td><td>catra’s</td></tr>\n",
       "\t<tr><td>24280306</td><td>face   </td></tr>\n",
       "</tbody>\n",
       "</table>\n"
      ],
      "text/latex": [
       "A tibble: 10 × 2\n",
       "\\begin{tabular}{ll}\n",
       " ao3\\_id & word\\\\\n",
       " <dbl> & <chr>\\\\\n",
       "\\hline\n",
       "\t 24280306 & they   \\\\\n",
       "\t 24280306 & stay   \\\\\n",
       "\t 24280306 & that   \\\\\n",
       "\t 24280306 & way    \\\\\n",
       "\t 24280306 & for    \\\\\n",
       "\t 24280306 & a      \\\\\n",
       "\t 24280306 & long   \\\\\n",
       "\t 24280306 & time   \\\\\n",
       "\t 24280306 & catra’s\\\\\n",
       "\t 24280306 & face   \\\\\n",
       "\\end{tabular}\n"
      ],
      "text/markdown": [
       "\n",
       "A tibble: 10 × 2\n",
       "\n",
       "| ao3_id &lt;dbl&gt; | word &lt;chr&gt; |\n",
       "|---|---|\n",
       "| 24280306 | they    |\n",
       "| 24280306 | stay    |\n",
       "| 24280306 | that    |\n",
       "| 24280306 | way     |\n",
       "| 24280306 | for     |\n",
       "| 24280306 | a       |\n",
       "| 24280306 | long    |\n",
       "| 24280306 | time    |\n",
       "| 24280306 | catra’s |\n",
       "| 24280306 | face    |\n",
       "\n"
      ],
      "text/plain": [
       "   ao3_id   word   \n",
       "1  24280306 they   \n",
       "2  24280306 stay   \n",
       "3  24280306 that   \n",
       "4  24280306 way    \n",
       "5  24280306 for    \n",
       "6  24280306 a      \n",
       "7  24280306 long   \n",
       "8  24280306 time   \n",
       "9  24280306 catra’s\n",
       "10 24280306 face   "
      ]
     },
     "metadata": {},
     "output_type": "display_data"
    }
   ],
   "source": [
    "tokens %>% head(10)"
   ]
  },
  {
   "cell_type": "markdown",
   "id": "417eee7b",
   "metadata": {},
   "source": [
    "## n-grams\n",
    "\n",
    "Let’s examine some other tokenization options with `unnest_tokens()`. In addition to individual words, we can also break the text into **n-grams**, groups of successive words. Because word frequencies are highly dependent on each other, **bigrams** (pairs), **trigrams** (triples), or even larger groups of words are often more informative than single words (i.e. **unigrams**).\n",
    "\n",
    "To tokenize into ngrams, add the optional argument `token=\"ngrams\"` and specify a value for `n`:"
   ]
  },
  {
   "cell_type": "code",
   "execution_count": 14,
   "id": "ff88854f",
   "metadata": {},
   "outputs": [
    {
     "data": {
      "text/html": [
       "<table class=\"dataframe\">\n",
       "<caption>A tibble: 6 × 2</caption>\n",
       "<thead>\n",
       "\t<tr><th scope=col>ao3_id</th><th scope=col>bigram</th></tr>\n",
       "\t<tr><th scope=col>&lt;dbl&gt;</th><th scope=col>&lt;chr&gt;</th></tr>\n",
       "</thead>\n",
       "<tbody>\n",
       "\t<tr><td>24280306</td><td>they stay</td></tr>\n",
       "\t<tr><td>24280306</td><td>stay that</td></tr>\n",
       "\t<tr><td>24280306</td><td>that way </td></tr>\n",
       "\t<tr><td>24280306</td><td>way for  </td></tr>\n",
       "\t<tr><td>24280306</td><td>for a    </td></tr>\n",
       "\t<tr><td>24280306</td><td>a long   </td></tr>\n",
       "</tbody>\n",
       "</table>\n"
      ],
      "text/latex": [
       "A tibble: 6 × 2\n",
       "\\begin{tabular}{ll}\n",
       " ao3\\_id & bigram\\\\\n",
       " <dbl> & <chr>\\\\\n",
       "\\hline\n",
       "\t 24280306 & they stay\\\\\n",
       "\t 24280306 & stay that\\\\\n",
       "\t 24280306 & that way \\\\\n",
       "\t 24280306 & way for  \\\\\n",
       "\t 24280306 & for a    \\\\\n",
       "\t 24280306 & a long   \\\\\n",
       "\\end{tabular}\n"
      ],
      "text/markdown": [
       "\n",
       "A tibble: 6 × 2\n",
       "\n",
       "| ao3_id &lt;dbl&gt; | bigram &lt;chr&gt; |\n",
       "|---|---|\n",
       "| 24280306 | they stay |\n",
       "| 24280306 | stay that |\n",
       "| 24280306 | that way  |\n",
       "| 24280306 | way for   |\n",
       "| 24280306 | for a     |\n",
       "| 24280306 | a long    |\n",
       "\n"
      ],
      "text/plain": [
       "  ao3_id   bigram   \n",
       "1 24280306 they stay\n",
       "2 24280306 stay that\n",
       "3 24280306 that way \n",
       "4 24280306 way for  \n",
       "5 24280306 for a    \n",
       "6 24280306 a long   "
      ]
     },
     "metadata": {},
     "output_type": "display_data"
    }
   ],
   "source": [
    "# tokenize\n",
    "bigrams <- fan_fics %>%\n",
    "    unnest_tokens(output=bigram, input=text, token=\"ngrams\", n=2)\n",
    "\n",
    "head(bigrams)"
   ]
  },
  {
   "cell_type": "markdown",
   "id": "884fe79a",
   "metadata": {},
   "source": [
    "The two-word window slides along the text one word at a time, so each word (except the first) appears twice, once as the right-hand member and once as the left-hand member.\n",
    "\n",
    "Which bigrams are most common?"
   ]
  },
  {
   "cell_type": "code",
   "execution_count": 15,
   "id": "87fdcf40",
   "metadata": {},
   "outputs": [
    {
     "data": {
      "text/html": [
       "<table class=\"dataframe\">\n",
       "<caption>A tibble: 10 × 2</caption>\n",
       "<thead>\n",
       "\t<tr><th scope=col>bigram</th><th scope=col>n</th></tr>\n",
       "\t<tr><th scope=col>&lt;chr&gt;</th><th scope=col>&lt;int&gt;</th></tr>\n",
       "</thead>\n",
       "<tbody>\n",
       "\t<tr><td>in the     </td><td>18</td></tr>\n",
       "\t<tr><td>she doesn’t</td><td>18</td></tr>\n",
       "\t<tr><td>of the     </td><td>16</td></tr>\n",
       "\t<tr><td>as she     </td><td>15</td></tr>\n",
       "\t<tr><td>her eyes   </td><td>15</td></tr>\n",
       "\t<tr><td>in her     </td><td>15</td></tr>\n",
       "\t<tr><td>her head   </td><td>14</td></tr>\n",
       "\t<tr><td>she can    </td><td>14</td></tr>\n",
       "\t<tr><td>and she    </td><td>13</td></tr>\n",
       "\t<tr><td>on the     </td><td>13</td></tr>\n",
       "</tbody>\n",
       "</table>\n"
      ],
      "text/latex": [
       "A tibble: 10 × 2\n",
       "\\begin{tabular}{ll}\n",
       " bigram & n\\\\\n",
       " <chr> & <int>\\\\\n",
       "\\hline\n",
       "\t in the      & 18\\\\\n",
       "\t she doesn’t & 18\\\\\n",
       "\t of the      & 16\\\\\n",
       "\t as she      & 15\\\\\n",
       "\t her eyes    & 15\\\\\n",
       "\t in her      & 15\\\\\n",
       "\t her head    & 14\\\\\n",
       "\t she can     & 14\\\\\n",
       "\t and she     & 13\\\\\n",
       "\t on the      & 13\\\\\n",
       "\\end{tabular}\n"
      ],
      "text/markdown": [
       "\n",
       "A tibble: 10 × 2\n",
       "\n",
       "| bigram &lt;chr&gt; | n &lt;int&gt; |\n",
       "|---|---|\n",
       "| in the      | 18 |\n",
       "| she doesn’t | 18 |\n",
       "| of the      | 16 |\n",
       "| as she      | 15 |\n",
       "| her eyes    | 15 |\n",
       "| in her      | 15 |\n",
       "| her head    | 14 |\n",
       "| she can     | 14 |\n",
       "| and she     | 13 |\n",
       "| on the      | 13 |\n",
       "\n"
      ],
      "text/plain": [
       "   bigram      n \n",
       "1  in the      18\n",
       "2  she doesn’t 18\n",
       "3  of the      16\n",
       "4  as she      15\n",
       "5  her eyes    15\n",
       "6  in her      15\n",
       "7  her head    14\n",
       "8  she can     14\n",
       "9  and she     13\n",
       "10 on the      13"
      ]
     },
     "metadata": {},
     "output_type": "display_data"
    }
   ],
   "source": [
    "bigrams %>%\n",
    "    count(bigram, sort=TRUE) %>%\n",
    "    head(10)"
   ]
  },
  {
   "cell_type": "markdown",
   "id": "5ea44eaf",
   "metadata": {},
   "source": [
    "## Skip-grams\n",
    "\n",
    "Sometimes two or more words form a significant collocation but don’t appear exactly side-by-side. For this, we can use \"skip_ngrams\" as the value for `token`. In addition to passing `n`, we can also specify `k`, the maximum number of intervening words. \n",
    "\n",
    "For example, this should find all words that co-occur with no more than four words between them. I’m also using `n_min` to eliminate unigrams from the output."
   ]
  },
  {
   "cell_type": "code",
   "execution_count": 16,
   "id": "e300c116",
   "metadata": {},
   "outputs": [
    {
     "data": {
      "text/html": [
       "<table class=\"dataframe\">\n",
       "<caption>A tibble: 10 × 2</caption>\n",
       "<thead>\n",
       "\t<tr><th scope=col>skipgram</th><th scope=col>n</th></tr>\n",
       "\t<tr><th scope=col>&lt;chr&gt;</th><th scope=col>&lt;int&gt;</th></tr>\n",
       "</thead>\n",
       "<tbody>\n",
       "\t<tr><td>she the  </td><td>45</td></tr>\n",
       "\t<tr><td>to her   </td><td>44</td></tr>\n",
       "\t<tr><td>her her  </td><td>42</td></tr>\n",
       "\t<tr><td>her she  </td><td>42</td></tr>\n",
       "\t<tr><td>the the  </td><td>41</td></tr>\n",
       "\t<tr><td>her and  </td><td>40</td></tr>\n",
       "\t<tr><td>the her  </td><td>39</td></tr>\n",
       "\t<tr><td>and her  </td><td>38</td></tr>\n",
       "\t<tr><td>catra her</td><td>37</td></tr>\n",
       "\t<tr><td>her the  </td><td>35</td></tr>\n",
       "</tbody>\n",
       "</table>\n"
      ],
      "text/latex": [
       "A tibble: 10 × 2\n",
       "\\begin{tabular}{ll}\n",
       " skipgram & n\\\\\n",
       " <chr> & <int>\\\\\n",
       "\\hline\n",
       "\t she the   & 45\\\\\n",
       "\t to her    & 44\\\\\n",
       "\t her her   & 42\\\\\n",
       "\t her she   & 42\\\\\n",
       "\t the the   & 41\\\\\n",
       "\t her and   & 40\\\\\n",
       "\t the her   & 39\\\\\n",
       "\t and her   & 38\\\\\n",
       "\t catra her & 37\\\\\n",
       "\t her the   & 35\\\\\n",
       "\\end{tabular}\n"
      ],
      "text/markdown": [
       "\n",
       "A tibble: 10 × 2\n",
       "\n",
       "| skipgram &lt;chr&gt; | n &lt;int&gt; |\n",
       "|---|---|\n",
       "| she the   | 45 |\n",
       "| to her    | 44 |\n",
       "| her her   | 42 |\n",
       "| her she   | 42 |\n",
       "| the the   | 41 |\n",
       "| her and   | 40 |\n",
       "| the her   | 39 |\n",
       "| and her   | 38 |\n",
       "| catra her | 37 |\n",
       "| her the   | 35 |\n",
       "\n"
      ],
      "text/plain": [
       "   skipgram  n \n",
       "1  she the   45\n",
       "2  to her    44\n",
       "3  her her   42\n",
       "4  her she   42\n",
       "5  the the   41\n",
       "6  her and   40\n",
       "7  the her   39\n",
       "8  and her   38\n",
       "9  catra her 37\n",
       "10 her the   35"
      ]
     },
     "metadata": {},
     "output_type": "display_data"
    }
   ],
   "source": [
    "fan_fics %>%\n",
    "    unnest_tokens(output=skipgram, input=text, token=\"skip_ngrams\", n=2, n_min=2, k=4) %>%\n",
    "    count(skipgram, sort=TRUE) %>%\n",
    "    head(10)"
   ]
  },
  {
   "cell_type": "markdown",
   "id": "7a2c465c",
   "metadata": {},
   "source": [
    "### Separating n-grams for analysis\n",
    "\n",
    "It may be helpful, after you’ve tallied the n-grams, to split them back into their component words. For this, we can use the function `separate()`, which splits a single column as if it were a string, based on some separator pattern. By default, `unnest_tokens()` joins the words of an n-gram with a space, so we’ll split on spaces."
   ]
  },
  {
   "cell_type": "code",
   "execution_count": 17,
   "id": "26ca6957",
   "metadata": {},
   "outputs": [],
   "source": [
    "bigrams <- bigrams %>%\n",
    "    count(bigram, sort=TRUE) %>%\n",
    "    separate(bigram, into=c('left', 'right'), sep=' ', remove=FALSE)"
   ]
  },
  {
   "cell_type": "code",
   "execution_count": 18,
   "id": "3408bfbf",
   "metadata": {},
   "outputs": [
    {
     "data": {
      "text/html": [
       "<table class=\"dataframe\">\n",
       "<caption>A tibble: 6 × 4</caption>\n",
       "<thead>\n",
       "\t<tr><th scope=col>bigram</th><th scope=col>left</th><th scope=col>right</th><th scope=col>n</th></tr>\n",
       "\t<tr><th scope=col>&lt;chr&gt;</th><th scope=col>&lt;chr&gt;</th><th scope=col>&lt;chr&gt;</th><th scope=col>&lt;int&gt;</th></tr>\n",
       "</thead>\n",
       "<tbody>\n",
       "\t<tr><td>in the     </td><td>in </td><td>the    </td><td>18</td></tr>\n",
       "\t<tr><td>she doesn’t</td><td>she</td><td>doesn’t</td><td>18</td></tr>\n",
       "\t<tr><td>of the     </td><td>of </td><td>the    </td><td>16</td></tr>\n",
       "\t<tr><td>as she     </td><td>as </td><td>she    </td><td>15</td></tr>\n",
       "\t<tr><td>her eyes   </td><td>her</td><td>eyes   </td><td>15</td></tr>\n",
       "\t<tr><td>in her     </td><td>in </td><td>her    </td><td>15</td></tr>\n",
       "</tbody>\n",
       "</table>\n"
      ],
      "text/latex": [
       "A tibble: 6 × 4\n",
       "\\begin{tabular}{llll}\n",
       " bigram & left & right & n\\\\\n",
       " <chr> & <chr> & <chr> & <int>\\\\\n",
       "\\hline\n",
       "\t in the      & in  & the     & 18\\\\\n",
       "\t she doesn’t & she & doesn’t & 18\\\\\n",
       "\t of the      & of  & the     & 16\\\\\n",
       "\t as she      & as  & she     & 15\\\\\n",
       "\t her eyes    & her & eyes    & 15\\\\\n",
       "\t in her      & in  & her     & 15\\\\\n",
       "\\end{tabular}\n"
      ],
      "text/markdown": [
       "\n",
       "A tibble: 6 × 4\n",
       "\n",
       "| bigram &lt;chr&gt; | left &lt;chr&gt; | right &lt;chr&gt; | n &lt;int&gt; |\n",
       "|---|---|---|---|\n",
       "| in the      | in  | the     | 18 |\n",
       "| she doesn’t | she | doesn’t | 18 |\n",
       "| of the      | of  | the     | 16 |\n",
       "| as she      | as  | she     | 15 |\n",
       "| her eyes    | her | eyes    | 15 |\n",
       "| in her      | in  | her     | 15 |\n",
       "\n"
      ],
      "text/plain": [
       "  bigram      left right   n \n",
       "1 in the      in   the     18\n",
       "2 she doesn’t she  doesn’t 18\n",
       "3 of the      of   the     16\n",
       "4 as she      as   she     15\n",
       "5 her eyes    her  eyes    15\n",
       "6 in her      in   her     15"
      ]
     },
     "metadata": {},
     "output_type": "display_data"
    }
   ],
   "source": [
    "head(bigrams)"
   ]
  },
  {
   "cell_type": "code",
   "execution_count": 19,
   "id": "ab9d756b",
   "metadata": {},
   "outputs": [
    {
     "data": {
      "text/html": [
       "<table class=\"dataframe\">\n",
       "<caption>A tibble: 12 × 4</caption>\n",
       "<thead>\n",
       "\t<tr><th scope=col>bigram</th><th scope=col>left</th><th scope=col>right</th><th scope=col>n</th></tr>\n",
       "\t<tr><th scope=col>&lt;chr&gt;</th><th scope=col>&lt;chr&gt;</th><th scope=col>&lt;chr&gt;</th><th scope=col>&lt;int&gt;</th></tr>\n",
       "</thead>\n",
       "<tbody>\n",
       "\t<tr><td>her eyes       </td><td>her       </td><td>eyes</td><td>15</td></tr>\n",
       "\t<tr><td>adora’s eyes   </td><td>adora’s   </td><td>eyes</td><td> 2</td></tr>\n",
       "\t<tr><td>catra eyes     </td><td>catra     </td><td>eyes</td><td> 1</td></tr>\n",
       "\t<tr><td>clone eyes     </td><td>clone     </td><td>eyes</td><td> 1</td></tr>\n",
       "\t<tr><td>door eyes      </td><td>door      </td><td>eyes</td><td> 1</td></tr>\n",
       "\t<tr><td>entrapta’s eyes</td><td>entrapta’s</td><td>eyes</td><td> 1</td></tr>\n",
       "\t<tr><td>gold eyes      </td><td>gold      </td><td>eyes</td><td> 1</td></tr>\n",
       "\t<tr><td>other’s eyes   </td><td>other’s   </td><td>eyes</td><td> 1</td></tr>\n",
       "\t<tr><td>over eyes      </td><td>over      </td><td>eyes</td><td> 1</td></tr>\n",
       "\t<tr><td>slowly eyes    </td><td>slowly    </td><td>eyes</td><td> 1</td></tr>\n",
       "\t<tr><td>teary eyes     </td><td>teary     </td><td>eyes</td><td> 1</td></tr>\n",
       "\t<tr><td>the eyes       </td><td>the       </td><td>eyes</td><td> 1</td></tr>\n",
       "</tbody>\n",
       "</table>\n"
      ],
      "text/latex": [
       "A tibble: 12 × 4\n",
       "\\begin{tabular}{llll}\n",
       " bigram & left & right & n\\\\\n",
       " <chr> & <chr> & <chr> & <int>\\\\\n",
       "\\hline\n",
       "\t her eyes        & her        & eyes & 15\\\\\n",
       "\t adora’s eyes    & adora’s    & eyes &  2\\\\\n",
       "\t catra eyes      & catra      & eyes &  1\\\\\n",
       "\t clone eyes      & clone      & eyes &  1\\\\\n",
       "\t door eyes       & door       & eyes &  1\\\\\n",
       "\t entrapta’s eyes & entrapta’s & eyes &  1\\\\\n",
       "\t gold eyes       & gold       & eyes &  1\\\\\n",
       "\t other’s eyes    & other’s    & eyes &  1\\\\\n",
       "\t over eyes       & over       & eyes &  1\\\\\n",
       "\t slowly eyes     & slowly     & eyes &  1\\\\\n",
       "\t teary eyes      & teary      & eyes &  1\\\\\n",
       "\t the eyes        & the        & eyes &  1\\\\\n",
       "\\end{tabular}\n"
      ],
      "text/markdown": [
       "\n",
       "A tibble: 12 × 4\n",
       "\n",
       "| bigram &lt;chr&gt; | left &lt;chr&gt; | right &lt;chr&gt; | n &lt;int&gt; |\n",
       "|---|---|---|---|\n",
       "| her eyes        | her        | eyes | 15 |\n",
       "| adora’s eyes    | adora’s    | eyes |  2 |\n",
       "| catra eyes      | catra      | eyes |  1 |\n",
       "| clone eyes      | clone      | eyes |  1 |\n",
       "| door eyes       | door       | eyes |  1 |\n",
       "| entrapta’s eyes | entrapta’s | eyes |  1 |\n",
       "| gold eyes       | gold       | eyes |  1 |\n",
       "| other’s eyes    | other’s    | eyes |  1 |\n",
       "| over eyes       | over       | eyes |  1 |\n",
       "| slowly eyes     | slowly     | eyes |  1 |\n",
       "| teary eyes      | teary      | eyes |  1 |\n",
       "| the eyes        | the        | eyes |  1 |\n",
       "\n"
      ],
      "text/plain": [
       "   bigram          left       right n \n",
       "1  her eyes        her        eyes  15\n",
       "2  adora’s eyes    adora’s    eyes   2\n",
       "3  catra eyes      catra      eyes   1\n",
       "4  clone eyes      clone      eyes   1\n",
       "5  door eyes       door       eyes   1\n",
       "6  entrapta’s eyes entrapta’s eyes   1\n",
       "7  gold eyes       gold       eyes   1\n",
       "8  other’s eyes    other’s    eyes   1\n",
       "9  over eyes       over       eyes   1\n",
       "10 slowly eyes     slowly     eyes   1\n",
       "11 teary eyes      teary      eyes   1\n",
       "12 the eyes        the        eyes   1"
      ]
     },
     "metadata": {},
     "output_type": "display_data"
    }
   ],
   "source": [
    "bigrams %>%\n",
    "    filter(right=='eyes')"
   ]
  },
  {
   "cell_type": "code",
   "execution_count": 20,
   "id": "4eb29ef7",
   "metadata": {},
   "outputs": [
    {
     "data": {
      "text/html": [
       "<table class=\"dataframe\">\n",
       "<caption>A tibble: 20 × 4</caption>\n",
       "<thead>\n",
       "\t<tr><th scope=col>bigram</th><th scope=col>left</th><th scope=col>right</th><th scope=col>n</th></tr>\n",
       "\t<tr><th scope=col>&lt;chr&gt;</th><th scope=col>&lt;chr&gt;</th><th scope=col>&lt;chr&gt;</th><th scope=col>&lt;int&gt;</th></tr>\n",
       "</thead>\n",
       "<tbody>\n",
       "\t<tr><td>catra’s hand   </td><td>catra’s</td><td>hand   </td><td>4</td></tr>\n",
       "\t<tr><td>catra’s face   </td><td>catra’s</td><td>face   </td><td>3</td></tr>\n",
       "\t<tr><td>catra’s back   </td><td>catra’s</td><td>back   </td><td>2</td></tr>\n",
       "\t<tr><td>catra’s hands  </td><td>catra’s</td><td>hands  </td><td>2</td></tr>\n",
       "\t<tr><td>catra’s head   </td><td>catra’s</td><td>head   </td><td>2</td></tr>\n",
       "\t<tr><td>catra’s room   </td><td>catra’s</td><td>room   </td><td>2</td></tr>\n",
       "\t<tr><td>catra’s wrists </td><td>catra’s</td><td>wrists </td><td>2</td></tr>\n",
       "\t<tr><td>catra’s broken </td><td>catra’s</td><td>broken </td><td>1</td></tr>\n",
       "\t<tr><td>catra’s chuckle</td><td>catra’s</td><td>chuckle</td><td>1</td></tr>\n",
       "\t<tr><td>catra’s claws  </td><td>catra’s</td><td>claws  </td><td>1</td></tr>\n",
       "\t<tr><td>catra’s gaze   </td><td>catra’s</td><td>gaze   </td><td>1</td></tr>\n",
       "\t<tr><td>catra’s hair   </td><td>catra’s</td><td>hair   </td><td>1</td></tr>\n",
       "\t<tr><td>catra’s knees  </td><td>catra’s</td><td>knees  </td><td>1</td></tr>\n",
       "\t<tr><td>catra’s looking</td><td>catra’s</td><td>looking</td><td>1</td></tr>\n",
       "\t<tr><td>catra’s mouth  </td><td>catra’s</td><td>mouth  </td><td>1</td></tr>\n",
       "\t<tr><td>catra’s muscles</td><td>catra’s</td><td>muscles</td><td>1</td></tr>\n",
       "\t<tr><td>catra’s nails  </td><td>catra’s</td><td>nails  </td><td>1</td></tr>\n",
       "\t<tr><td>catra’s naked  </td><td>catra’s</td><td>naked  </td><td>1</td></tr>\n",
       "\t<tr><td>catra’s narrow </td><td>catra’s</td><td>narrow </td><td>1</td></tr>\n",
       "\t<tr><td>catra’s only   </td><td>catra’s</td><td>only   </td><td>1</td></tr>\n",
       "</tbody>\n",
       "</table>\n"
      ],
      "text/latex": [
       "A tibble: 20 × 4\n",
       "\\begin{tabular}{llll}\n",
       " bigram & left & right & n\\\\\n",
       " <chr> & <chr> & <chr> & <int>\\\\\n",
       "\\hline\n",
       "\t catra’s hand    & catra’s & hand    & 4\\\\\n",
       "\t catra’s face    & catra’s & face    & 3\\\\\n",
       "\t catra’s back    & catra’s & back    & 2\\\\\n",
       "\t catra’s hands   & catra’s & hands   & 2\\\\\n",
       "\t catra’s head    & catra’s & head    & 2\\\\\n",
       "\t catra’s room    & catra’s & room    & 2\\\\\n",
       "\t catra’s wrists  & catra’s & wrists  & 2\\\\\n",
       "\t catra’s broken  & catra’s & broken  & 1\\\\\n",
       "\t catra’s chuckle & catra’s & chuckle & 1\\\\\n",
       "\t catra’s claws   & catra’s & claws   & 1\\\\\n",
       "\t catra’s gaze    & catra’s & gaze    & 1\\\\\n",
       "\t catra’s hair    & catra’s & hair    & 1\\\\\n",
       "\t catra’s knees   & catra’s & knees   & 1\\\\\n",
       "\t catra’s looking & catra’s & looking & 1\\\\\n",
       "\t catra’s mouth   & catra’s & mouth   & 1\\\\\n",
       "\t catra’s muscles & catra’s & muscles & 1\\\\\n",
       "\t catra’s nails   & catra’s & nails   & 1\\\\\n",
       "\t catra’s naked   & catra’s & naked   & 1\\\\\n",
       "\t catra’s narrow  & catra’s & narrow  & 1\\\\\n",
       "\t catra’s only    & catra’s & only    & 1\\\\\n",
       "\\end{tabular}\n"
      ],
      "text/markdown": [
       "\n",
       "A tibble: 20 × 4\n",
       "\n",
       "| bigram &lt;chr&gt; | left &lt;chr&gt; | right &lt;chr&gt; | n &lt;int&gt; |\n",
       "|---|---|---|---|\n",
       "| catra’s hand    | catra’s | hand    | 4 |\n",
       "| catra’s face    | catra’s | face    | 3 |\n",
       "| catra’s back    | catra’s | back    | 2 |\n",
       "| catra’s hands   | catra’s | hands   | 2 |\n",
       "| catra’s head    | catra’s | head    | 2 |\n",
       "| catra’s room    | catra’s | room    | 2 |\n",
       "| catra’s wrists  | catra’s | wrists  | 2 |\n",
       "| catra’s broken  | catra’s | broken  | 1 |\n",
       "| catra’s chuckle | catra’s | chuckle | 1 |\n",
       "| catra’s claws   | catra’s | claws   | 1 |\n",
       "| catra’s gaze    | catra’s | gaze    | 1 |\n",
       "| catra’s hair    | catra’s | hair    | 1 |\n",
       "| catra’s knees   | catra’s | knees   | 1 |\n",
       "| catra’s looking | catra’s | looking | 1 |\n",
       "| catra’s mouth   | catra’s | mouth   | 1 |\n",
       "| catra’s muscles | catra’s | muscles | 1 |\n",
       "| catra’s nails   | catra’s | nails   | 1 |\n",
       "| catra’s naked   | catra’s | naked   | 1 |\n",
       "| catra’s narrow  | catra’s | narrow  | 1 |\n",
       "| catra’s only    | catra’s | only    | 1 |\n",
       "\n"
      ],
      "text/plain": [
       "   bigram          left    right   n\n",
       "1  catra’s hand    catra’s hand    4\n",
       "2  catra’s face    catra’s face    3\n",
       "3  catra’s back    catra’s back    2\n",
       "4  catra’s hands   catra’s hands   2\n",
       "5  catra’s head    catra’s head    2\n",
       "6  catra’s room    catra’s room    2\n",
       "7  catra’s wrists  catra’s wrists  2\n",
       "8  catra’s broken  catra’s broken  1\n",
       "9  catra’s chuckle catra’s chuckle 1\n",
       "10 catra’s claws   catra’s claws   1\n",
       "11 catra’s gaze    catra’s gaze    1\n",
       "12 catra’s hair    catra’s hair    1\n",
       "13 catra’s knees   catra’s knees   1\n",
       "14 catra’s looking catra’s looking 1\n",
       "15 catra’s mouth   catra’s mouth   1\n",
       "16 catra’s muscles catra’s muscles 1\n",
       "17 catra’s nails   catra’s nails   1\n",
       "18 catra’s naked   catra’s naked   1\n",
       "19 catra’s narrow  catra’s narrow  1\n",
       "20 catra’s only    catra’s only    1"
      ]
     },
     "metadata": {},
     "output_type": "display_data"
    }
   ],
   "source": [
    "bigrams %>%\n",
    "    filter(left==\"catra’s\") %>% \n",
    "    head(20)"
   ]
  },
  {
   "cell_type": "markdown",
   "id": "f11b7bf6",
   "metadata": {},
   "source": [
    "### Character-based features\n",
    "\n",
    "You can also split your text into character-based n-grams, (sometimes called \"shingles\" because they overlap like roof tiles). Character n-grams were proposed early in the 21st century as a \"language agnositic\" featureset, so that, for example, you could treat Modern Greek and Mandarin with the same algorithm as Latin-based languages.\n",
    "\n",
    "Meanwhile, character n-grams have also been useful in the study of poetry, where sound may have as significant a role to play as meaning in structuring the text. \n",
    "\n",
    "Character n-grams can have the effect of capturing abstract morphological as well as semantic units. In English, the 4-gram \"walk\" matches \"walk\", \"walks\", and \"walked\", while the ngrams \"ing\", and \"ly\", match abstract part-of-speech categories like *participle*, *adverb*. Note, again, that these different kinds of information are combined in the same channel—sound frequency—while a formal parser would separate them into different columns.\n",
    "\n",
    "Here we use `unnest_tokens()` to tokenize Annacharlier’s story into character 3-grams."
   ]
  },
  {
   "cell_type": "code",
   "execution_count": 21,
   "id": "15e3c05f",
   "metadata": {},
   "outputs": [],
   "source": [
    "shingles <- fan_fics %>%\n",
    "    unnest_tokens(output=ngram, input=text, token=\"character_shingles\", n=3)"
   ]
  },
  {
   "cell_type": "code",
   "execution_count": 22,
   "id": "e8a47799",
   "metadata": {},
   "outputs": [
    {
     "data": {
      "text/html": [
       "<table class=\"dataframe\">\n",
       "<caption>A tibble: 6 × 2</caption>\n",
       "<thead>\n",
       "\t<tr><th scope=col>ao3_id</th><th scope=col>ngram</th></tr>\n",
       "\t<tr><th scope=col>&lt;dbl&gt;</th><th scope=col>&lt;chr&gt;</th></tr>\n",
       "</thead>\n",
       "<tbody>\n",
       "\t<tr><td>24280306</td><td>the</td></tr>\n",
       "\t<tr><td>24280306</td><td>hey</td></tr>\n",
       "\t<tr><td>24280306</td><td>eys</td></tr>\n",
       "\t<tr><td>24280306</td><td>yst</td></tr>\n",
       "\t<tr><td>24280306</td><td>sta</td></tr>\n",
       "\t<tr><td>24280306</td><td>tay</td></tr>\n",
       "</tbody>\n",
       "</table>\n"
      ],
      "text/latex": [
       "A tibble: 6 × 2\n",
       "\\begin{tabular}{ll}\n",
       " ao3\\_id & ngram\\\\\n",
       " <dbl> & <chr>\\\\\n",
       "\\hline\n",
       "\t 24280306 & the\\\\\n",
       "\t 24280306 & hey\\\\\n",
       "\t 24280306 & eys\\\\\n",
       "\t 24280306 & yst\\\\\n",
       "\t 24280306 & sta\\\\\n",
       "\t 24280306 & tay\\\\\n",
       "\\end{tabular}\n"
      ],
      "text/markdown": [
       "\n",
       "A tibble: 6 × 2\n",
       "\n",
       "| ao3_id &lt;dbl&gt; | ngram &lt;chr&gt; |\n",
       "|---|---|\n",
       "| 24280306 | the |\n",
       "| 24280306 | hey |\n",
       "| 24280306 | eys |\n",
       "| 24280306 | yst |\n",
       "| 24280306 | sta |\n",
       "| 24280306 | tay |\n",
       "\n"
      ],
      "text/plain": [
       "  ao3_id   ngram\n",
       "1 24280306 the  \n",
       "2 24280306 hey  \n",
       "3 24280306 eys  \n",
       "4 24280306 yst  \n",
       "5 24280306 sta  \n",
       "6 24280306 tay  "
      ]
     },
     "metadata": {},
     "output_type": "display_data"
    }
   ],
   "source": [
    "head(shingles)"
   ]
  },
  {
   "cell_type": "code",
   "execution_count": 23,
   "id": "3657c2fb",
   "metadata": {},
   "outputs": [
    {
     "data": {
      "text/html": [
       "<table class=\"dataframe\">\n",
       "<caption>A tibble: 10 × 2</caption>\n",
       "<thead>\n",
       "\t<tr><th scope=col>ngram</th><th scope=col>n</th></tr>\n",
       "\t<tr><th scope=col>&lt;chr&gt;</th><th scope=col>&lt;int&gt;</th></tr>\n",
       "</thead>\n",
       "<tbody>\n",
       "\t<tr><td>the</td><td>356</td></tr>\n",
       "\t<tr><td>her</td><td>311</td></tr>\n",
       "\t<tr><td>she</td><td>299</td></tr>\n",
       "\t<tr><td>ing</td><td>229</td></tr>\n",
       "\t<tr><td>tra</td><td>194</td></tr>\n",
       "\t<tr><td>and</td><td>175</td></tr>\n",
       "\t<tr><td>atr</td><td>171</td></tr>\n",
       "\t<tr><td>cat</td><td>170</td></tr>\n",
       "\t<tr><td>ora</td><td>152</td></tr>\n",
       "\t<tr><td>ado</td><td>150</td></tr>\n",
       "</tbody>\n",
       "</table>\n"
      ],
      "text/latex": [
       "A tibble: 10 × 2\n",
       "\\begin{tabular}{ll}\n",
       " ngram & n\\\\\n",
       " <chr> & <int>\\\\\n",
       "\\hline\n",
       "\t the & 356\\\\\n",
       "\t her & 311\\\\\n",
       "\t she & 299\\\\\n",
       "\t ing & 229\\\\\n",
       "\t tra & 194\\\\\n",
       "\t and & 175\\\\\n",
       "\t atr & 171\\\\\n",
       "\t cat & 170\\\\\n",
       "\t ora & 152\\\\\n",
       "\t ado & 150\\\\\n",
       "\\end{tabular}\n"
      ],
      "text/markdown": [
       "\n",
       "A tibble: 10 × 2\n",
       "\n",
       "| ngram &lt;chr&gt; | n &lt;int&gt; |\n",
       "|---|---|\n",
       "| the | 356 |\n",
       "| her | 311 |\n",
       "| she | 299 |\n",
       "| ing | 229 |\n",
       "| tra | 194 |\n",
       "| and | 175 |\n",
       "| atr | 171 |\n",
       "| cat | 170 |\n",
       "| ora | 152 |\n",
       "| ado | 150 |\n",
       "\n"
      ],
      "text/plain": [
       "   ngram n  \n",
       "1  the   356\n",
       "2  her   311\n",
       "3  she   299\n",
       "4  ing   229\n",
       "5  tra   194\n",
       "6  and   175\n",
       "7  atr   171\n",
       "8  cat   170\n",
       "9  ora   152\n",
       "10 ado   150"
      ]
     },
     "metadata": {},
     "output_type": "display_data"
    }
   ],
   "source": [
    "shingles %>%\n",
    "    count(ngram, sort=TRUE) %>%\n",
    "    head(10)"
   ]
  },
  {
   "cell_type": "markdown",
   "id": "147de49d",
   "metadata": {},
   "source": [
    "## Parsing and annotating with language-specific models\n",
    "\n",
    "To extract more precise information about text, it helps to have a pre-trained, language-specific **model**. There are several **natural language processing** [packages available for R](https://cran.r-project.org/web/views/NaturalLanguageProcessing.html); to be honest, I’m not an expert in any of them. We can cover the basics here, but if you want to do NLP, you’ll need to work through a more specialized tutorial and figure out which tools best suit your research.\n",
    "\n",
    "Something that’s going to be true no matter which tools you use: their accuracy will depend upon the model, which in turn depends upon the training material. Results for English tend to be better than for other languages, because the models have been trained on more data. Likewise, results for newspaper articles, financial reports, and office emails will be better than for Early Modern novels, because the language of the training material is often newspapers and business documents.\n",
    "\n",
    "In addition to the annotation software, you will also have to download a model for the language you’re working with (or train your own—a task well beyond the scope of this workshop, but potentially rewarding if you happen to have an interesting corpus that’s already been annotated by hand). Often this is a bulky binary file that the NLP package will want to store somewhere on your computer—make sure you remember where it is, because you’ll need to load it each time you use the program. You might have a collection of models for different langauges.\n",
    "\n",
    "### Simple annotating with udpipe\n",
    "\n",
    "For this workshop, we’re going to do some simple parsing with **udpipe**, a package that I find relatively easy to get started with. It doesn’t produce tibbles by default, but it fits into tidyverse workflows with relatively little friction.\n",
    "\n",
    "First, we have to install the package:"
   ]
  },
  {
   "cell_type": "code",
   "execution_count": 24,
   "id": "cdc00b7b",
   "metadata": {},
   "outputs": [
    {
     "name": "stdout",
     "output_type": "stream",
     "text": [
      "\n",
      "The downloaded binary packages are in\n",
      "\t/var/folders/_k/nhmmjzg96r318bm9jvyvv7ph0000gn/T//RtmpcltZQa/downloaded_packages\n"
     ]
    }
   ],
   "source": [
    "# only need to do this once\n",
    "install.packages('udpipe')"
   ]
  },
  {
   "cell_type": "code",
   "execution_count": 25,
   "id": "7eb2caa7",
   "metadata": {},
   "outputs": [],
   "source": [
    "library(udpipe)"
   ]
  },
  {
   "cell_type": "markdown",
   "id": "fc676676",
   "metadata": {},
   "source": [
    "We also need to download the language model(s) we’re interested in. For this exercise, I’m using 'english'. If someone wants to test out the 'german-hdt' model later, let me know how it seems to perform for you."
   ]
  },
  {
   "cell_type": "code",
   "execution_count": 26,
   "id": "b670c5aa",
   "metadata": {},
   "outputs": [
    {
     "name": "stderr",
     "output_type": "stream",
     "text": [
      "Downloading udpipe model from https://raw.githubusercontent.com/jwijffels/udpipe.models.ud.2.5/master/inst/udpipe-ud-2.5-191206/english-ewt-ud-2.5-191206.udpipe to /Users/chris/Documents/git/rostock_r/english-ewt-ud-2.5-191206.udpipe\n",
      "\n",
      " - This model has been trained on version 2.5 of data from https://universaldependencies.org\n",
      "\n",
      " - The model is distributed under the CC-BY-SA-NC license: https://creativecommons.org/licenses/by-nc-sa/4.0\n",
      "\n",
      " - Visit https://github.com/jwijffels/udpipe.models.ud.2.5 for model license details.\n",
      "\n",
      " - For a list of all models and their licenses (most models you can download with this package have either a CC-BY-SA or a CC-BY-SA-NC license) read the documentation at ?udpipe_download_model. For building your own models: visit the documentation by typing vignette('udpipe-train', package = 'udpipe')\n",
      "\n",
      "Downloading finished, model stored at '/Users/chris/Documents/git/rostock_r/english-ewt-ud-2.5-191206.udpipe'\n",
      "\n"
     ]
    },
    {
     "data": {
      "text/html": [
       "<table class=\"dataframe\">\n",
       "<caption>A data.frame: 1 × 5</caption>\n",
       "<thead>\n",
       "\t<tr><th scope=col>language</th><th scope=col>file_model</th><th scope=col>url</th><th scope=col>download_failed</th><th scope=col>download_message</th></tr>\n",
       "\t<tr><th scope=col>&lt;chr&gt;</th><th scope=col>&lt;chr&gt;</th><th scope=col>&lt;chr&gt;</th><th scope=col>&lt;lgl&gt;</th><th scope=col>&lt;chr&gt;</th></tr>\n",
       "</thead>\n",
       "<tbody>\n",
       "\t<tr><td>english-ewt</td><td>/Users/chris/Documents/git/rostock_r/english-ewt-ud-2.5-191206.udpipe</td><td>https://raw.githubusercontent.com/jwijffels/udpipe.models.ud.2.5/master/inst/udpipe-ud-2.5-191206/english-ewt-ud-2.5-191206.udpipe</td><td>FALSE</td><td>OK</td></tr>\n",
       "</tbody>\n",
       "</table>\n"
      ],
      "text/latex": [
       "A data.frame: 1 × 5\n",
       "\\begin{tabular}{lllll}\n",
       " language & file\\_model & url & download\\_failed & download\\_message\\\\\n",
       " <chr> & <chr> & <chr> & <lgl> & <chr>\\\\\n",
       "\\hline\n",
       "\t english-ewt & /Users/chris/Documents/git/rostock\\_r/english-ewt-ud-2.5-191206.udpipe & https://raw.githubusercontent.com/jwijffels/udpipe.models.ud.2.5/master/inst/udpipe-ud-2.5-191206/english-ewt-ud-2.5-191206.udpipe & FALSE & OK\\\\\n",
       "\\end{tabular}\n"
      ],
      "text/markdown": [
       "\n",
       "A data.frame: 1 × 5\n",
       "\n",
       "| language &lt;chr&gt; | file_model &lt;chr&gt; | url &lt;chr&gt; | download_failed &lt;lgl&gt; | download_message &lt;chr&gt; |\n",
       "|---|---|---|---|---|\n",
       "| english-ewt | /Users/chris/Documents/git/rostock_r/english-ewt-ud-2.5-191206.udpipe | https://raw.githubusercontent.com/jwijffels/udpipe.models.ud.2.5/master/inst/udpipe-ud-2.5-191206/english-ewt-ud-2.5-191206.udpipe | FALSE | OK |\n",
       "\n"
      ],
      "text/plain": [
       "  language   \n",
       "1 english-ewt\n",
       "  file_model                                                           \n",
       "1 /Users/chris/Documents/git/rostock_r/english-ewt-ud-2.5-191206.udpipe\n",
       "  url                                                                                                                               \n",
       "1 https://raw.githubusercontent.com/jwijffels/udpipe.models.ud.2.5/master/inst/udpipe-ud-2.5-191206/english-ewt-ud-2.5-191206.udpipe\n",
       "  download_failed download_message\n",
       "1 FALSE           OK              "
      ]
     },
     "metadata": {},
     "output_type": "display_data"
    }
   ],
   "source": [
    "udpipe_download_model('english')"
   ]
  },
  {
   "cell_type": "markdown",
   "id": "b2b96ad4",
   "metadata": {},
   "source": [
    "The output from this download command contains the location where the model has been stored on your computer. On my computer, it’s in the project folder for this workshop. For this session, I’m just going to leave it there, but if I wanted to use it in several different projects, it might make sense to store it somewhere central.\n",
    "\n",
    "Wherever I keep the model file, I need to be able to pass a path to it when I instantiate a model object in R:"
   ]
  },
  {
   "cell_type": "code",
   "execution_count": 27,
   "id": "8a134f27",
   "metadata": {},
   "outputs": [],
   "source": [
    "model_en <- udpipe_load_model('english-ewt-ud-2.5-191206.udpipe')"
   ]
  },
  {
   "cell_type": "markdown",
   "id": "b08a0d19",
   "metadata": {},
   "source": [
    "The model needs to be loaded once per session. Then whenever I want to annotate some text, I have to pass it to the annotation function, `udpipe_annotate()`, along with the text itself. I’m going pass the whole story as a string (I’m pretty sure I still have it stored in the variable `text`).\n",
    "\n",
    "By default `udpipe_annotate()` returns a list, but it can be converted to a tibble with `as_tibble()`."
   ]
  },
  {
   "cell_type": "code",
   "execution_count": 28,
   "id": "43c68fdc",
   "metadata": {},
   "outputs": [],
   "source": [
    "tokens <- udpipe_annotate(model_en, text) %>%\n",
    "    as_tibble()"
   ]
  },
  {
   "cell_type": "code",
   "execution_count": 29,
   "id": "d002adb2",
   "metadata": {},
   "outputs": [
    {
     "name": "stdout",
     "output_type": "stream",
     "text": [
      "\u001b[90m# A tibble: 6,890 × 14\u001b[39m\n",
      "   doc_id paragraph_id sentence_id sentence     token_id token lemma upos  xpos \n",
      "   \u001b[3m\u001b[90m<chr>\u001b[39m\u001b[23m         \u001b[3m\u001b[90m<int>\u001b[39m\u001b[23m       \u001b[3m\u001b[90m<int>\u001b[39m\u001b[23m \u001b[3m\u001b[90m<chr>\u001b[39m\u001b[23m        \u001b[3m\u001b[90m<chr>\u001b[39m\u001b[23m    \u001b[3m\u001b[90m<chr>\u001b[39m\u001b[23m \u001b[3m\u001b[90m<chr>\u001b[39m\u001b[23m \u001b[3m\u001b[90m<chr>\u001b[39m\u001b[23m \u001b[3m\u001b[90m<chr>\u001b[39m\u001b[23m\n",
      "\u001b[90m 1\u001b[39m doc1              1           1 They stay t… 1        They  they  PRON  PRP  \n",
      "\u001b[90m 2\u001b[39m doc1              1           1 They stay t… 2        stay  stay  VERB  VBP  \n",
      "\u001b[90m 3\u001b[39m doc1              1           1 They stay t… 3        that  that  DET   DT   \n",
      "\u001b[90m 4\u001b[39m doc1              1           1 They stay t… 4        way   way   NOUN  NN   \n",
      "\u001b[90m 5\u001b[39m doc1              1           1 They stay t… 5        for   for   ADP   IN   \n",
      "\u001b[90m 6\u001b[39m doc1              1           1 They stay t… 6        a     a     DET   DT   \n",
      "\u001b[90m 7\u001b[39m doc1              1           1 They stay t… 7        long  long  ADJ   JJ   \n",
      "\u001b[90m 8\u001b[39m doc1              1           1 They stay t… 8        time  time  NOUN  NN   \n",
      "\u001b[90m 9\u001b[39m doc1              1           1 They stay t… 9        ,     ,     PUNCT ,    \n",
      "\u001b[90m10\u001b[39m doc1              1           1 They stay t… 10       Catra Catra PROPN NNP  \n",
      "\u001b[90m# … with 6,880 more rows, and 5 more variables: feats <chr>,\u001b[39m\n",
      "\u001b[90m#   head_token_id <chr>, dep_rel <chr>, deps <chr>, misc <chr>\u001b[39m\n"
     ]
    }
   ],
   "source": [
    "print(tokens)"
   ]
  },
  {
   "cell_type": "markdown",
   "id": "185d5c71",
   "metadata": {},
   "source": [
    "Each row in the tibble is a single token. We get ids for the document, paragraph, sentence, and token. We get the token itself, plus a lemmatized (stemmed) version. We get part-of-speech tags according to two different classification systems, and additional features for some parts of speech: e.g. mood, number. We also get information about the structure of the sentence according to dependency grammar.\n",
    "\n",
    "By default, we also get, for every single token, a full copy of the sentence to which it belongs. I’m going to remove that, because that’s a lot of extra text I’m not going to use today."
   ]
  },
  {
   "cell_type": "code",
   "execution_count": 30,
   "id": "f9af37fa",
   "metadata": {},
   "outputs": [],
   "source": [
    "tokens <- tokens %>% select(-sentence)"
   ]
  },
  {
   "cell_type": "code",
   "execution_count": 31,
   "id": "7df299bb",
   "metadata": {},
   "outputs": [
    {
     "data": {
      "text/html": [
       "<table class=\"dataframe\">\n",
       "<caption>A tibble: 6 × 13</caption>\n",
       "<thead>\n",
       "\t<tr><th scope=col>doc_id</th><th scope=col>paragraph_id</th><th scope=col>sentence_id</th><th scope=col>token_id</th><th scope=col>token</th><th scope=col>lemma</th><th scope=col>upos</th><th scope=col>xpos</th><th scope=col>feats</th><th scope=col>head_token_id</th><th scope=col>dep_rel</th><th scope=col>deps</th><th scope=col>misc</th></tr>\n",
       "\t<tr><th scope=col>&lt;chr&gt;</th><th scope=col>&lt;int&gt;</th><th scope=col>&lt;int&gt;</th><th scope=col>&lt;chr&gt;</th><th scope=col>&lt;chr&gt;</th><th scope=col>&lt;chr&gt;</th><th scope=col>&lt;chr&gt;</th><th scope=col>&lt;chr&gt;</th><th scope=col>&lt;chr&gt;</th><th scope=col>&lt;chr&gt;</th><th scope=col>&lt;chr&gt;</th><th scope=col>&lt;chr&gt;</th><th scope=col>&lt;chr&gt;</th></tr>\n",
       "</thead>\n",
       "<tbody>\n",
       "\t<tr><td>doc1</td><td>1</td><td>1</td><td>1</td><td>They</td><td>they</td><td>PRON</td><td>PRP</td><td>Case=Nom|Number=Plur|Person=3|PronType=Prs</td><td>2</td><td>nsubj</td><td>NA</td><td>NA</td></tr>\n",
       "\t<tr><td>doc1</td><td>1</td><td>1</td><td>2</td><td>stay</td><td>stay</td><td>VERB</td><td>VBP</td><td>Mood=Ind|Tense=Pres|VerbForm=Fin          </td><td>0</td><td>root </td><td>NA</td><td>NA</td></tr>\n",
       "\t<tr><td>doc1</td><td>1</td><td>1</td><td>3</td><td>that</td><td>that</td><td>DET </td><td>DT </td><td>Number=Sing|PronType=Dem                  </td><td>4</td><td>det  </td><td>NA</td><td>NA</td></tr>\n",
       "\t<tr><td>doc1</td><td>1</td><td>1</td><td>4</td><td>way </td><td>way </td><td>NOUN</td><td>NN </td><td>Number=Sing                               </td><td>2</td><td>obj  </td><td>NA</td><td>NA</td></tr>\n",
       "\t<tr><td>doc1</td><td>1</td><td>1</td><td>5</td><td>for </td><td>for </td><td>ADP </td><td>IN </td><td>NA                                        </td><td>8</td><td>case </td><td>NA</td><td>NA</td></tr>\n",
       "\t<tr><td>doc1</td><td>1</td><td>1</td><td>6</td><td>a   </td><td>a   </td><td>DET </td><td>DT </td><td>Definite=Ind|PronType=Art                 </td><td>8</td><td>det  </td><td>NA</td><td>NA</td></tr>\n",
       "</tbody>\n",
       "</table>\n"
      ],
      "text/latex": [
       "A tibble: 6 × 13\n",
       "\\begin{tabular}{lllllllllllll}\n",
       " doc\\_id & paragraph\\_id & sentence\\_id & token\\_id & token & lemma & upos & xpos & feats & head\\_token\\_id & dep\\_rel & deps & misc\\\\\n",
       " <chr> & <int> & <int> & <chr> & <chr> & <chr> & <chr> & <chr> & <chr> & <chr> & <chr> & <chr> & <chr>\\\\\n",
       "\\hline\n",
       "\t doc1 & 1 & 1 & 1 & They & they & PRON & PRP & Case=Nom\\textbar{}Number=Plur\\textbar{}Person=3\\textbar{}PronType=Prs & 2 & nsubj & NA & NA\\\\\n",
       "\t doc1 & 1 & 1 & 2 & stay & stay & VERB & VBP & Mood=Ind\\textbar{}Tense=Pres\\textbar{}VerbForm=Fin           & 0 & root  & NA & NA\\\\\n",
       "\t doc1 & 1 & 1 & 3 & that & that & DET  & DT  & Number=Sing\\textbar{}PronType=Dem                   & 4 & det   & NA & NA\\\\\n",
       "\t doc1 & 1 & 1 & 4 & way  & way  & NOUN & NN  & Number=Sing                                & 2 & obj   & NA & NA\\\\\n",
       "\t doc1 & 1 & 1 & 5 & for  & for  & ADP  & IN  & NA                                         & 8 & case  & NA & NA\\\\\n",
       "\t doc1 & 1 & 1 & 6 & a    & a    & DET  & DT  & Definite=Ind\\textbar{}PronType=Art                  & 8 & det   & NA & NA\\\\\n",
       "\\end{tabular}\n"
      ],
      "text/markdown": [
       "\n",
       "A tibble: 6 × 13\n",
       "\n",
       "| doc_id &lt;chr&gt; | paragraph_id &lt;int&gt; | sentence_id &lt;int&gt; | token_id &lt;chr&gt; | token &lt;chr&gt; | lemma &lt;chr&gt; | upos &lt;chr&gt; | xpos &lt;chr&gt; | feats &lt;chr&gt; | head_token_id &lt;chr&gt; | dep_rel &lt;chr&gt; | deps &lt;chr&gt; | misc &lt;chr&gt; |\n",
       "|---|---|---|---|---|---|---|---|---|---|---|---|---|\n",
       "| doc1 | 1 | 1 | 1 | They | they | PRON | PRP | Case=Nom|Number=Plur|Person=3|PronType=Prs | 2 | nsubj | NA | NA |\n",
       "| doc1 | 1 | 1 | 2 | stay | stay | VERB | VBP | Mood=Ind|Tense=Pres|VerbForm=Fin           | 0 | root  | NA | NA |\n",
       "| doc1 | 1 | 1 | 3 | that | that | DET  | DT  | Number=Sing|PronType=Dem                   | 4 | det   | NA | NA |\n",
       "| doc1 | 1 | 1 | 4 | way  | way  | NOUN | NN  | Number=Sing                                | 2 | obj   | NA | NA |\n",
       "| doc1 | 1 | 1 | 5 | for  | for  | ADP  | IN  | NA                                         | 8 | case  | NA | NA |\n",
       "| doc1 | 1 | 1 | 6 | a    | a    | DET  | DT  | Definite=Ind|PronType=Art                  | 8 | det   | NA | NA |\n",
       "\n"
      ],
      "text/plain": [
       "  doc_id paragraph_id sentence_id token_id token lemma upos xpos\n",
       "1 doc1   1            1           1        They  they  PRON PRP \n",
       "2 doc1   1            1           2        stay  stay  VERB VBP \n",
       "3 doc1   1            1           3        that  that  DET  DT  \n",
       "4 doc1   1            1           4        way   way   NOUN NN  \n",
       "5 doc1   1            1           5        for   for   ADP  IN  \n",
       "6 doc1   1            1           6        a     a     DET  DT  \n",
       "  feats                                      head_token_id dep_rel deps misc\n",
       "1 Case=Nom|Number=Plur|Person=3|PronType=Prs 2             nsubj   NA   NA  \n",
       "2 Mood=Ind|Tense=Pres|VerbForm=Fin           0             root    NA   NA  \n",
       "3 Number=Sing|PronType=Dem                   4             det     NA   NA  \n",
       "4 Number=Sing                                2             obj     NA   NA  \n",
       "5 NA                                         8             case    NA   NA  \n",
       "6 Definite=Ind|PronType=Art                  8             det     NA   NA  "
      ]
     },
     "metadata": {},
     "output_type": "display_data"
    }
   ],
   "source": [
    "head(tokens)"
   ]
  },
  {
   "cell_type": "markdown",
   "id": "eee88040",
   "metadata": {},
   "source": [
    "One simple form of analysis is to `filter()` the tibble according to information in the `upos` column. For example, let’s look at the most common adjectives:"
   ]
  },
  {
   "cell_type": "code",
   "execution_count": 32,
   "id": "0391dd1d",
   "metadata": {},
   "outputs": [
    {
     "data": {
      "text/html": [
       "<table class=\"dataframe\">\n",
       "<caption>A tibble: 10 × 2</caption>\n",
       "<thead>\n",
       "\t<tr><th scope=col>token</th><th scope=col>n</th></tr>\n",
       "\t<tr><th scope=col>&lt;chr&gt;</th><th scope=col>&lt;int&gt;</th></tr>\n",
       "</thead>\n",
       "<tbody>\n",
       "\t<tr><td>long  </td><td>10</td></tr>\n",
       "\t<tr><td>good  </td><td> 9</td></tr>\n",
       "\t<tr><td>small </td><td> 8</td></tr>\n",
       "\t<tr><td>okay  </td><td> 7</td></tr>\n",
       "\t<tr><td>little</td><td> 6</td></tr>\n",
       "\t<tr><td>only  </td><td> 6</td></tr>\n",
       "\t<tr><td>first </td><td> 5</td></tr>\n",
       "\t<tr><td>last  </td><td> 5</td></tr>\n",
       "\t<tr><td>more  </td><td> 5</td></tr>\n",
       "\t<tr><td>stupid</td><td> 5</td></tr>\n",
       "</tbody>\n",
       "</table>\n"
      ],
      "text/latex": [
       "A tibble: 10 × 2\n",
       "\\begin{tabular}{ll}\n",
       " token & n\\\\\n",
       " <chr> & <int>\\\\\n",
       "\\hline\n",
       "\t long   & 10\\\\\n",
       "\t good   &  9\\\\\n",
       "\t small  &  8\\\\\n",
       "\t okay   &  7\\\\\n",
       "\t little &  6\\\\\n",
       "\t only   &  6\\\\\n",
       "\t first  &  5\\\\\n",
       "\t last   &  5\\\\\n",
       "\t more   &  5\\\\\n",
       "\t stupid &  5\\\\\n",
       "\\end{tabular}\n"
      ],
      "text/markdown": [
       "\n",
       "A tibble: 10 × 2\n",
       "\n",
       "| token &lt;chr&gt; | n &lt;int&gt; |\n",
       "|---|---|\n",
       "| long   | 10 |\n",
       "| good   |  9 |\n",
       "| small  |  8 |\n",
       "| okay   |  7 |\n",
       "| little |  6 |\n",
       "| only   |  6 |\n",
       "| first  |  5 |\n",
       "| last   |  5 |\n",
       "| more   |  5 |\n",
       "| stupid |  5 |\n",
       "\n"
      ],
      "text/plain": [
       "   token  n \n",
       "1  long   10\n",
       "2  good    9\n",
       "3  small   8\n",
       "4  okay    7\n",
       "5  little  6\n",
       "6  only    6\n",
       "7  first   5\n",
       "8  last    5\n",
       "9  more    5\n",
       "10 stupid  5"
      ]
     },
     "metadata": {},
     "output_type": "display_data"
    }
   ],
   "source": [
    "tokens %>%\n",
    "    filter(upos=='ADJ') %>%\n",
    "    count(token, sort=TRUE) %>%\n",
    "    head(10)"
   ]
  },
  {
   "cell_type": "markdown",
   "id": "39ccc8f8",
   "metadata": {},
   "source": [
    "### Collocations\n",
    "\n",
    "We can use udpipe to search for word collocations, somewhat as we did with tidytext. But udpipe offers us the ability to sort collocations not based on raw frequency, but on how \"interesting\" the pairing is from an information-theoretical perspective. The function `keywords_collocation()` calculates counts for both the left and the right member of each ngram independently, and then scores the ngram according to how unlikely it is that the occurrences are independent of each other. This has the effect of surfacing ngrams whose members are closely related to each other as opposed to those simply made up of very common words.\n",
    "\n",
    "`keywords_collocation()` takes as input a table of tokens like that produced by `udpipe_annotate`. The mandatory parameter `term` tells it which column contains the words (you might choose either `token` or `lemma`, depending on whether you want e.g. 'walk' and 'walks' folded together). A second mandatory parameter, `group` indicates which column will define the scope within which collocations can occur (choose `sentence_id` to only see pairings within the same sentence, or `paragraph_id` to allow collocations across sentence boundaries). Note that because this function doesn’t play by all the tidyverse rules, we have to put quotation marks around these column names.\n",
    "\n",
    "For more details, see `help(keywords_collocation)`.\n",
    "\n",
    "Because udpipe, unlike tidytext, treats punctuation marks as tokens, I’m going to filter them out before checking collocations."
   ]
  },
  {
   "cell_type": "code",
   "execution_count": 33,
   "id": "559f74ba",
   "metadata": {},
   "outputs": [
    {
     "data": {
      "text/html": [
       "<table class=\"dataframe\">\n",
       "<caption>A data.frame: 10 × 10</caption>\n",
       "<thead>\n",
       "\t<tr><th></th><th scope=col>keyword</th><th scope=col>ngram</th><th scope=col>left</th><th scope=col>right</th><th scope=col>freq</th><th scope=col>freq_left</th><th scope=col>freq_right</th><th scope=col>pmi</th><th scope=col>md</th><th scope=col>lfmd</th></tr>\n",
       "\t<tr><th></th><th scope=col>&lt;chr&gt;</th><th scope=col>&lt;dbl&gt;</th><th scope=col>&lt;chr&gt;</th><th scope=col>&lt;chr&gt;</th><th scope=col>&lt;int&gt;</th><th scope=col>&lt;int&gt;</th><th scope=col>&lt;int&gt;</th><th scope=col>&lt;dbl&gt;</th><th scope=col>&lt;dbl&gt;</th><th scope=col>&lt;dbl&gt;</th></tr>\n",
       "</thead>\n",
       "<tbody>\n",
       "\t<tr><th scope=row>1</th><td>fall asleep  </td><td>2</td><td>fall   </td><td>asleep</td><td>4</td><td> 6</td><td> 5</td><td>9.571626</td><td>-0.9068906</td><td>-11.38541</td></tr>\n",
       "\t<tr><th scope=row>2</th><td>through space</td><td>2</td><td>through</td><td>space </td><td>3</td><td> 9</td><td> 5</td><td>8.571626</td><td>-2.3219281</td><td>-13.21548</td></tr>\n",
       "\t<tr><th scope=row>3</th><td>Horde Prime  </td><td>2</td><td>Horde  </td><td>Prime </td><td>6</td><td> 8</td><td>16</td><td>8.063479</td><td>-1.8300750</td><td>-11.72363</td></tr>\n",
       "\t<tr><th scope=row>4</th><td>right now    </td><td>2</td><td>right  </td><td>now   </td><td>3</td><td> 9</td><td> 9</td><td>7.723629</td><td>-3.1699250</td><td>-14.06348</td></tr>\n",
       "\t<tr><th scope=row>5</th><td>know how     </td><td>2</td><td>know   </td><td>how   </td><td>5</td><td>17</td><td> 8</td><td>7.712982</td><td>-2.4436067</td><td>-12.60020</td></tr>\n",
       "\t<tr><th scope=row>6</th><td>how ’d       </td><td>2</td><td>how    </td><td>’d    </td><td>4</td><td>17</td><td> 8</td><td>7.391054</td><td>-3.0874628</td><td>-13.56598</td></tr>\n",
       "\t<tr><th scope=row>7</th><td>at last      </td><td>2</td><td>at     </td><td>last  </td><td>3</td><td>32</td><td> 5</td><td>6.741551</td><td>-4.1520031</td><td>-15.04556</td></tr>\n",
       "\t<tr><th scope=row>8</th><td>long time    </td><td>2</td><td>long   </td><td>time  </td><td>5</td><td>15</td><td>18</td><td>6.723629</td><td>-3.4329594</td><td>-13.58955</td></tr>\n",
       "\t<tr><th scope=row>9</th><td>long moment  </td><td>2</td><td>long   </td><td>moment</td><td>3</td><td>15</td><td>11</td><td>6.697157</td><td>-4.1963972</td><td>-15.08995</td></tr>\n",
       "\t<tr><th scope=row>10</th><td>curl up      </td><td>2</td><td>curl   </td><td>up    </td><td>4</td><td> 8</td><td>28</td><td>6.671162</td><td>-3.8073549</td><td>-14.28587</td></tr>\n",
       "</tbody>\n",
       "</table>\n"
      ],
      "text/latex": [
       "A data.frame: 10 × 10\n",
       "\\begin{tabular}{r|llllllllll}\n",
       "  & keyword & ngram & left & right & freq & freq\\_left & freq\\_right & pmi & md & lfmd\\\\\n",
       "  & <chr> & <dbl> & <chr> & <chr> & <int> & <int> & <int> & <dbl> & <dbl> & <dbl>\\\\\n",
       "\\hline\n",
       "\t1 & fall asleep   & 2 & fall    & asleep & 4 &  6 &  5 & 9.571626 & -0.9068906 & -11.38541\\\\\n",
       "\t2 & through space & 2 & through & space  & 3 &  9 &  5 & 8.571626 & -2.3219281 & -13.21548\\\\\n",
       "\t3 & Horde Prime   & 2 & Horde   & Prime  & 6 &  8 & 16 & 8.063479 & -1.8300750 & -11.72363\\\\\n",
       "\t4 & right now     & 2 & right   & now    & 3 &  9 &  9 & 7.723629 & -3.1699250 & -14.06348\\\\\n",
       "\t5 & know how      & 2 & know    & how    & 5 & 17 &  8 & 7.712982 & -2.4436067 & -12.60020\\\\\n",
       "\t6 & how ’d        & 2 & how     & ’d     & 4 & 17 &  8 & 7.391054 & -3.0874628 & -13.56598\\\\\n",
       "\t7 & at last       & 2 & at      & last   & 3 & 32 &  5 & 6.741551 & -4.1520031 & -15.04556\\\\\n",
       "\t8 & long time     & 2 & long    & time   & 5 & 15 & 18 & 6.723629 & -3.4329594 & -13.58955\\\\\n",
       "\t9 & long moment   & 2 & long    & moment & 3 & 15 & 11 & 6.697157 & -4.1963972 & -15.08995\\\\\n",
       "\t10 & curl up       & 2 & curl    & up     & 4 &  8 & 28 & 6.671162 & -3.8073549 & -14.28587\\\\\n",
       "\\end{tabular}\n"
      ],
      "text/markdown": [
       "\n",
       "A data.frame: 10 × 10\n",
       "\n",
       "| <!--/--> | keyword &lt;chr&gt; | ngram &lt;dbl&gt; | left &lt;chr&gt; | right &lt;chr&gt; | freq &lt;int&gt; | freq_left &lt;int&gt; | freq_right &lt;int&gt; | pmi &lt;dbl&gt; | md &lt;dbl&gt; | lfmd &lt;dbl&gt; |\n",
       "|---|---|---|---|---|---|---|---|---|---|---|\n",
       "| 1 | fall asleep   | 2 | fall    | asleep | 4 |  6 |  5 | 9.571626 | -0.9068906 | -11.38541 |\n",
       "| 2 | through space | 2 | through | space  | 3 |  9 |  5 | 8.571626 | -2.3219281 | -13.21548 |\n",
       "| 3 | Horde Prime   | 2 | Horde   | Prime  | 6 |  8 | 16 | 8.063479 | -1.8300750 | -11.72363 |\n",
       "| 4 | right now     | 2 | right   | now    | 3 |  9 |  9 | 7.723629 | -3.1699250 | -14.06348 |\n",
       "| 5 | know how      | 2 | know    | how    | 5 | 17 |  8 | 7.712982 | -2.4436067 | -12.60020 |\n",
       "| 6 | how ’d        | 2 | how     | ’d     | 4 | 17 |  8 | 7.391054 | -3.0874628 | -13.56598 |\n",
       "| 7 | at last       | 2 | at      | last   | 3 | 32 |  5 | 6.741551 | -4.1520031 | -15.04556 |\n",
       "| 8 | long time     | 2 | long    | time   | 5 | 15 | 18 | 6.723629 | -3.4329594 | -13.58955 |\n",
       "| 9 | long moment   | 2 | long    | moment | 3 | 15 | 11 | 6.697157 | -4.1963972 | -15.08995 |\n",
       "| 10 | curl up       | 2 | curl    | up     | 4 |  8 | 28 | 6.671162 | -3.8073549 | -14.28587 |\n",
       "\n"
      ],
      "text/plain": [
       "   keyword       ngram left    right  freq freq_left freq_right pmi     \n",
       "1  fall asleep   2     fall    asleep 4     6         5         9.571626\n",
       "2  through space 2     through space  3     9         5         8.571626\n",
       "3  Horde Prime   2     Horde   Prime  6     8        16         8.063479\n",
       "4  right now     2     right   now    3     9         9         7.723629\n",
       "5  know how      2     know    how    5    17         8         7.712982\n",
       "6  how ’d        2     how     ’d     4    17         8         7.391054\n",
       "7  at last       2     at      last   3    32         5         6.741551\n",
       "8  long time     2     long    time   5    15        18         6.723629\n",
       "9  long moment   2     long    moment 3    15        11         6.697157\n",
       "10 curl up       2     curl    up     4     8        28         6.671162\n",
       "   md         lfmd     \n",
       "1  -0.9068906 -11.38541\n",
       "2  -2.3219281 -13.21548\n",
       "3  -1.8300750 -11.72363\n",
       "4  -3.1699250 -14.06348\n",
       "5  -2.4436067 -12.60020\n",
       "6  -3.0874628 -13.56598\n",
       "7  -4.1520031 -15.04556\n",
       "8  -3.4329594 -13.58955\n",
       "9  -4.1963972 -15.08995\n",
       "10 -3.8073549 -14.28587"
      ]
     },
     "metadata": {},
     "output_type": "display_data"
    }
   ],
   "source": [
    "tokens %>%\n",
    "    filter(upos != 'PUNCT') %>%\n",
    "    keywords_collocation(term='lemma', group='sentence_id') %>%\n",
    "    head(10)"
   ]
  },
  {
   "cell_type": "markdown",
   "id": "fc4443ed",
   "metadata": {},
   "source": [
    "The resulting table gives the count of the ngram, as well individual counts of the left and right members; the final three columns are alternative measures of how unlikely the words are to have cooccurred by chance. By default the table is sorted by `pmi`, or **pointwise mutual information**. For details, see help for the function."
   ]
  },
  {
   "cell_type": "markdown",
   "id": "92fec870",
   "metadata": {},
   "source": [
    "## Sentiment\n",
    "\n",
    "The final feature that we’re going to look at in this section is **sentiment**. So-called \"affective computing\" is a popular subject in commercial as well as academic research within digital humanities: the ability to accurately parse customer feedback, shareholder confidence, political feelings, etc., is of course potentially highly profitable, and we may expect machine learning in particular to make great advances in this domain in the coming years.\n",
    "\n",
    "For now, however, much sentiment analysis still depends on relatively simple dictionary approaches, in which a fixed lexicon has been hand-tagged with scores or with fixed categories. Several such dictionaries are available through tidytext.\n",
    "\n",
    "The function `get_sentiments()` can be used to retrieve four such dictionaries. The choices are \"afinn\", \"bing\", \"nrc\", or \"loughran\". Here are examples of each:"
   ]
  },
  {
   "cell_type": "code",
   "execution_count": 34,
   "id": "1eff081e",
   "metadata": {},
   "outputs": [
    {
     "name": "stdout",
     "output_type": "stream",
     "text": [
      "\u001b[90m# A tibble: 2,477 × 2\u001b[39m\n",
      "   word       value\n",
      "   \u001b[3m\u001b[90m<chr>\u001b[39m\u001b[23m      \u001b[3m\u001b[90m<dbl>\u001b[39m\u001b[23m\n",
      "\u001b[90m 1\u001b[39m abandon       -\u001b[31m2\u001b[39m\n",
      "\u001b[90m 2\u001b[39m abandoned     -\u001b[31m2\u001b[39m\n",
      "\u001b[90m 3\u001b[39m abandons      -\u001b[31m2\u001b[39m\n",
      "\u001b[90m 4\u001b[39m abducted      -\u001b[31m2\u001b[39m\n",
      "\u001b[90m 5\u001b[39m abduction     -\u001b[31m2\u001b[39m\n",
      "\u001b[90m 6\u001b[39m abductions    -\u001b[31m2\u001b[39m\n",
      "\u001b[90m 7\u001b[39m abhor         -\u001b[31m3\u001b[39m\n",
      "\u001b[90m 8\u001b[39m abhorred      -\u001b[31m3\u001b[39m\n",
      "\u001b[90m 9\u001b[39m abhorrent     -\u001b[31m3\u001b[39m\n",
      "\u001b[90m10\u001b[39m abhors        -\u001b[31m3\u001b[39m\n",
      "\u001b[90m# … with 2,467 more rows\u001b[39m\n"
     ]
    }
   ],
   "source": [
    "sent_afinn <- get_sentiments('afinn')\n",
    "print(sent_afinn)"
   ]
  },
  {
   "cell_type": "code",
   "execution_count": 35,
   "id": "3445e892",
   "metadata": {},
   "outputs": [
    {
     "name": "stdout",
     "output_type": "stream",
     "text": [
      "\u001b[90m# A tibble: 6,786 × 2\u001b[39m\n",
      "   word        sentiment\n",
      "   \u001b[3m\u001b[90m<chr>\u001b[39m\u001b[23m       \u001b[3m\u001b[90m<chr>\u001b[39m\u001b[23m    \n",
      "\u001b[90m 1\u001b[39m 2-faces     negative \n",
      "\u001b[90m 2\u001b[39m abnormal    negative \n",
      "\u001b[90m 3\u001b[39m abolish     negative \n",
      "\u001b[90m 4\u001b[39m abominable  negative \n",
      "\u001b[90m 5\u001b[39m abominably  negative \n",
      "\u001b[90m 6\u001b[39m abominate   negative \n",
      "\u001b[90m 7\u001b[39m abomination negative \n",
      "\u001b[90m 8\u001b[39m abort       negative \n",
      "\u001b[90m 9\u001b[39m aborted     negative \n",
      "\u001b[90m10\u001b[39m aborts      negative \n",
      "\u001b[90m# … with 6,776 more rows\u001b[39m\n"
     ]
    }
   ],
   "source": [
    "sent_bing <- get_sentiments('bing')\n",
    "print(sent_bing)"
   ]
  },
  {
   "cell_type": "code",
   "execution_count": 36,
   "id": "e2c8f33b",
   "metadata": {},
   "outputs": [
    {
     "name": "stdout",
     "output_type": "stream",
     "text": [
      "\u001b[90m# A tibble: 13,872 × 2\u001b[39m\n",
      "   word        sentiment\n",
      "   \u001b[3m\u001b[90m<chr>\u001b[39m\u001b[23m       \u001b[3m\u001b[90m<chr>\u001b[39m\u001b[23m    \n",
      "\u001b[90m 1\u001b[39m abacus      trust    \n",
      "\u001b[90m 2\u001b[39m abandon     fear     \n",
      "\u001b[90m 3\u001b[39m abandon     negative \n",
      "\u001b[90m 4\u001b[39m abandon     sadness  \n",
      "\u001b[90m 5\u001b[39m abandoned   anger    \n",
      "\u001b[90m 6\u001b[39m abandoned   fear     \n",
      "\u001b[90m 7\u001b[39m abandoned   negative \n",
      "\u001b[90m 8\u001b[39m abandoned   sadness  \n",
      "\u001b[90m 9\u001b[39m abandonment anger    \n",
      "\u001b[90m10\u001b[39m abandonment fear     \n",
      "\u001b[90m# … with 13,862 more rows\u001b[39m\n"
     ]
    }
   ],
   "source": [
    "sent_nrc <- get_sentiments('nrc')\n",
    "print(sent_nrc)"
   ]
  },
  {
   "cell_type": "code",
   "execution_count": 37,
   "id": "31b184a9",
   "metadata": {},
   "outputs": [
    {
     "name": "stdout",
     "output_type": "stream",
     "text": [
      "\u001b[90m# A tibble: 4,150 × 2\u001b[39m\n",
      "   word         sentiment\n",
      "   \u001b[3m\u001b[90m<chr>\u001b[39m\u001b[23m        \u001b[3m\u001b[90m<chr>\u001b[39m\u001b[23m    \n",
      "\u001b[90m 1\u001b[39m abandon      negative \n",
      "\u001b[90m 2\u001b[39m abandoned    negative \n",
      "\u001b[90m 3\u001b[39m abandoning   negative \n",
      "\u001b[90m 4\u001b[39m abandonment  negative \n",
      "\u001b[90m 5\u001b[39m abandonments negative \n",
      "\u001b[90m 6\u001b[39m abandons     negative \n",
      "\u001b[90m 7\u001b[39m abdicated    negative \n",
      "\u001b[90m 8\u001b[39m abdicates    negative \n",
      "\u001b[90m 9\u001b[39m abdicating   negative \n",
      "\u001b[90m10\u001b[39m abdication   negative \n",
      "\u001b[90m# … with 4,140 more rows\u001b[39m\n"
     ]
    }
   ],
   "source": [
    "sent_loughran <- get_sentiments('loughran')\n",
    "print(sent_loughran)"
   ]
  },
  {
   "cell_type": "markdown",
   "id": "777692b1",
   "metadata": {},
   "source": [
    "Let’s try adding some of these sentiment scores to the `tokens` table. We can use a join operation to match each word in `tokens` against the sentiment dictionary of our choice. \n",
    "\n",
    "- Not all the words will exist in the dictionary: a `left_join()` will preserve all rows in `tokens` and just match those that it can; `NA`s will be introduced for words it can’t find.\n",
    "- On the other hand, if a word has multiple rows in the dictionary (as 'abandon' does in `sent_nrc` above), we'll get multiple rows in `tokens`\n",
    "\n",
    "We need a column to join on: I’ll create column `word` in `tokens` that’s lowercased just like the `word` column in the dictionaries."
   ]
  },
  {
   "cell_type": "code",
   "execution_count": 38,
   "id": "64064ce3",
   "metadata": {},
   "outputs": [
    {
     "name": "stderr",
     "output_type": "stream",
     "text": [
      "\u001b[1m\u001b[22mJoining, by = \"word\"\n"
     ]
    }
   ],
   "source": [
    "tokens <- tokens %>% \n",
    "    mutate(word = str_to_lower(token)) %>%\n",
    "    left_join(sent_nrc) %>% \n",
    "    mutate(nrc=sentiment)"
   ]
  },
  {
   "cell_type": "markdown",
   "id": "ed1b0a20",
   "metadata": {},
   "source": [
    "Let’s see the results—we’ll filter to find only those rows with sentiment data."
   ]
  },
  {
   "cell_type": "code",
   "execution_count": 39,
   "id": "0dcaff85",
   "metadata": {},
   "outputs": [
    {
     "data": {
      "text/html": [
       "<table class=\"dataframe\">\n",
       "<caption>A tibble: 20 × 5</caption>\n",
       "<thead>\n",
       "\t<tr><th scope=col>sentence_id</th><th scope=col>token_id</th><th scope=col>token</th><th scope=col>upos</th><th scope=col>nrc</th></tr>\n",
       "\t<tr><th scope=col>&lt;int&gt;</th><th scope=col>&lt;chr&gt;</th><th scope=col>&lt;chr&gt;</th><th scope=col>&lt;chr&gt;</th><th scope=col>&lt;chr&gt;</th></tr>\n",
       "</thead>\n",
       "<tbody>\n",
       "\t<tr><td>1</td><td>7 </td><td>long      </td><td>ADJ </td><td>anticipation</td></tr>\n",
       "\t<tr><td>1</td><td>8 </td><td>time      </td><td>NOUN</td><td>anticipation</td></tr>\n",
       "\t<tr><td>1</td><td>17</td><td>shoulder  </td><td>NOUN</td><td>positive    </td></tr>\n",
       "\t<tr><td>1</td><td>17</td><td>shoulder  </td><td>NOUN</td><td>trust       </td></tr>\n",
       "\t<tr><td>2</td><td>3 </td><td>careful   </td><td>ADJ </td><td>positive    </td></tr>\n",
       "\t<tr><td>2</td><td>6 </td><td>hug       </td><td>VERB</td><td>joy         </td></tr>\n",
       "\t<tr><td>2</td><td>6 </td><td>hug       </td><td>VERB</td><td>positive    </td></tr>\n",
       "\t<tr><td>2</td><td>6 </td><td>hug       </td><td>VERB</td><td>trust       </td></tr>\n",
       "\t<tr><td>2</td><td>14</td><td>restrained</td><td>ADJ </td><td>fear        </td></tr>\n",
       "\t<tr><td>2</td><td>22</td><td>start     </td><td>VERB</td><td>anticipation</td></tr>\n",
       "\t<tr><td>2</td><td>24</td><td>pull      </td><td>VERB</td><td>positive    </td></tr>\n",
       "\t<tr><td>3</td><td>31</td><td>kitten    </td><td>NOUN</td><td>joy         </td></tr>\n",
       "\t<tr><td>3</td><td>31</td><td>kitten    </td><td>NOUN</td><td>positive    </td></tr>\n",
       "\t<tr><td>3</td><td>31</td><td>kitten    </td><td>NOUN</td><td>trust       </td></tr>\n",
       "\t<tr><td>3</td><td>41</td><td>hurt      </td><td>VERB</td><td>anger       </td></tr>\n",
       "\t<tr><td>3</td><td>41</td><td>hurt      </td><td>VERB</td><td>fear        </td></tr>\n",
       "\t<tr><td>3</td><td>41</td><td>hurt      </td><td>VERB</td><td>negative    </td></tr>\n",
       "\t<tr><td>3</td><td>41</td><td>hurt      </td><td>VERB</td><td>sadness     </td></tr>\n",
       "\t<tr><td>4</td><td>5 </td><td>wince     </td><td>VERB</td><td>anger       </td></tr>\n",
       "\t<tr><td>4</td><td>5 </td><td>wince     </td><td>VERB</td><td>disgust     </td></tr>\n",
       "</tbody>\n",
       "</table>\n"
      ],
      "text/latex": [
       "A tibble: 20 × 5\n",
       "\\begin{tabular}{lllll}\n",
       " sentence\\_id & token\\_id & token & upos & nrc\\\\\n",
       " <int> & <chr> & <chr> & <chr> & <chr>\\\\\n",
       "\\hline\n",
       "\t 1 & 7  & long       & ADJ  & anticipation\\\\\n",
       "\t 1 & 8  & time       & NOUN & anticipation\\\\\n",
       "\t 1 & 17 & shoulder   & NOUN & positive    \\\\\n",
       "\t 1 & 17 & shoulder   & NOUN & trust       \\\\\n",
       "\t 2 & 3  & careful    & ADJ  & positive    \\\\\n",
       "\t 2 & 6  & hug        & VERB & joy         \\\\\n",
       "\t 2 & 6  & hug        & VERB & positive    \\\\\n",
       "\t 2 & 6  & hug        & VERB & trust       \\\\\n",
       "\t 2 & 14 & restrained & ADJ  & fear        \\\\\n",
       "\t 2 & 22 & start      & VERB & anticipation\\\\\n",
       "\t 2 & 24 & pull       & VERB & positive    \\\\\n",
       "\t 3 & 31 & kitten     & NOUN & joy         \\\\\n",
       "\t 3 & 31 & kitten     & NOUN & positive    \\\\\n",
       "\t 3 & 31 & kitten     & NOUN & trust       \\\\\n",
       "\t 3 & 41 & hurt       & VERB & anger       \\\\\n",
       "\t 3 & 41 & hurt       & VERB & fear        \\\\\n",
       "\t 3 & 41 & hurt       & VERB & negative    \\\\\n",
       "\t 3 & 41 & hurt       & VERB & sadness     \\\\\n",
       "\t 4 & 5  & wince      & VERB & anger       \\\\\n",
       "\t 4 & 5  & wince      & VERB & disgust     \\\\\n",
       "\\end{tabular}\n"
      ],
      "text/markdown": [
       "\n",
       "A tibble: 20 × 5\n",
       "\n",
       "| sentence_id &lt;int&gt; | token_id &lt;chr&gt; | token &lt;chr&gt; | upos &lt;chr&gt; | nrc &lt;chr&gt; |\n",
       "|---|---|---|---|---|\n",
       "| 1 | 7  | long       | ADJ  | anticipation |\n",
       "| 1 | 8  | time       | NOUN | anticipation |\n",
       "| 1 | 17 | shoulder   | NOUN | positive     |\n",
       "| 1 | 17 | shoulder   | NOUN | trust        |\n",
       "| 2 | 3  | careful    | ADJ  | positive     |\n",
       "| 2 | 6  | hug        | VERB | joy          |\n",
       "| 2 | 6  | hug        | VERB | positive     |\n",
       "| 2 | 6  | hug        | VERB | trust        |\n",
       "| 2 | 14 | restrained | ADJ  | fear         |\n",
       "| 2 | 22 | start      | VERB | anticipation |\n",
       "| 2 | 24 | pull       | VERB | positive     |\n",
       "| 3 | 31 | kitten     | NOUN | joy          |\n",
       "| 3 | 31 | kitten     | NOUN | positive     |\n",
       "| 3 | 31 | kitten     | NOUN | trust        |\n",
       "| 3 | 41 | hurt       | VERB | anger        |\n",
       "| 3 | 41 | hurt       | VERB | fear         |\n",
       "| 3 | 41 | hurt       | VERB | negative     |\n",
       "| 3 | 41 | hurt       | VERB | sadness      |\n",
       "| 4 | 5  | wince      | VERB | anger        |\n",
       "| 4 | 5  | wince      | VERB | disgust      |\n",
       "\n"
      ],
      "text/plain": [
       "   sentence_id token_id token      upos nrc         \n",
       "1  1           7        long       ADJ  anticipation\n",
       "2  1           8        time       NOUN anticipation\n",
       "3  1           17       shoulder   NOUN positive    \n",
       "4  1           17       shoulder   NOUN trust       \n",
       "5  2           3        careful    ADJ  positive    \n",
       "6  2           6        hug        VERB joy         \n",
       "7  2           6        hug        VERB positive    \n",
       "8  2           6        hug        VERB trust       \n",
       "9  2           14       restrained ADJ  fear        \n",
       "10 2           22       start      VERB anticipation\n",
       "11 2           24       pull       VERB positive    \n",
       "12 3           31       kitten     NOUN joy         \n",
       "13 3           31       kitten     NOUN positive    \n",
       "14 3           31       kitten     NOUN trust       \n",
       "15 3           41       hurt       VERB anger       \n",
       "16 3           41       hurt       VERB fear        \n",
       "17 3           41       hurt       VERB negative    \n",
       "18 3           41       hurt       VERB sadness     \n",
       "19 4           5        wince      VERB anger       \n",
       "20 4           5        wince      VERB disgust     "
      ]
     },
     "metadata": {},
     "output_type": "display_data"
    }
   ],
   "source": [
    "tokens %>%\n",
    "    filter(! is.na(nrc)) %>%\n",
    "    select(sentence_id, token_id, token, upos, nrc) %>%\n",
    "    head(20)"
   ]
  },
  {
   "cell_type": "markdown",
   "id": "2fd9a55b",
   "metadata": {},
   "source": [
    "Now we’ll tally each sentiment by sentence:"
   ]
  },
  {
   "cell_type": "code",
   "execution_count": 40,
   "id": "b91d132b",
   "metadata": {},
   "outputs": [],
   "source": [
    "sentiment_tally <- tokens %>%\n",
    "    filter(! is.na(nrc)) %>%\n",
    "    count(sentence_id, nrc)"
   ]
  },
  {
   "cell_type": "code",
   "execution_count": 41,
   "id": "ac9d0c29",
   "metadata": {},
   "outputs": [
    {
     "data": {
      "text/html": [
       "<table class=\"dataframe\">\n",
       "<caption>A tibble: 10 × 3</caption>\n",
       "<thead>\n",
       "\t<tr><th scope=col>sentence_id</th><th scope=col>nrc</th><th scope=col>n</th></tr>\n",
       "\t<tr><th scope=col>&lt;int&gt;</th><th scope=col>&lt;chr&gt;</th><th scope=col>&lt;int&gt;</th></tr>\n",
       "</thead>\n",
       "<tbody>\n",
       "\t<tr><td>1</td><td>anticipation</td><td>2</td></tr>\n",
       "\t<tr><td>1</td><td>positive    </td><td>1</td></tr>\n",
       "\t<tr><td>1</td><td>trust       </td><td>1</td></tr>\n",
       "\t<tr><td>2</td><td>anticipation</td><td>1</td></tr>\n",
       "\t<tr><td>2</td><td>fear        </td><td>1</td></tr>\n",
       "\t<tr><td>2</td><td>joy         </td><td>1</td></tr>\n",
       "\t<tr><td>2</td><td>positive    </td><td>3</td></tr>\n",
       "\t<tr><td>2</td><td>trust       </td><td>1</td></tr>\n",
       "\t<tr><td>3</td><td>anger       </td><td>1</td></tr>\n",
       "\t<tr><td>3</td><td>fear        </td><td>1</td></tr>\n",
       "</tbody>\n",
       "</table>\n"
      ],
      "text/latex": [
       "A tibble: 10 × 3\n",
       "\\begin{tabular}{lll}\n",
       " sentence\\_id & nrc & n\\\\\n",
       " <int> & <chr> & <int>\\\\\n",
       "\\hline\n",
       "\t 1 & anticipation & 2\\\\\n",
       "\t 1 & positive     & 1\\\\\n",
       "\t 1 & trust        & 1\\\\\n",
       "\t 2 & anticipation & 1\\\\\n",
       "\t 2 & fear         & 1\\\\\n",
       "\t 2 & joy          & 1\\\\\n",
       "\t 2 & positive     & 3\\\\\n",
       "\t 2 & trust        & 1\\\\\n",
       "\t 3 & anger        & 1\\\\\n",
       "\t 3 & fear         & 1\\\\\n",
       "\\end{tabular}\n"
      ],
      "text/markdown": [
       "\n",
       "A tibble: 10 × 3\n",
       "\n",
       "| sentence_id &lt;int&gt; | nrc &lt;chr&gt; | n &lt;int&gt; |\n",
       "|---|---|---|\n",
       "| 1 | anticipation | 2 |\n",
       "| 1 | positive     | 1 |\n",
       "| 1 | trust        | 1 |\n",
       "| 2 | anticipation | 1 |\n",
       "| 2 | fear         | 1 |\n",
       "| 2 | joy          | 1 |\n",
       "| 2 | positive     | 3 |\n",
       "| 2 | trust        | 1 |\n",
       "| 3 | anger        | 1 |\n",
       "| 3 | fear         | 1 |\n",
       "\n"
      ],
      "text/plain": [
       "   sentence_id nrc          n\n",
       "1  1           anticipation 2\n",
       "2  1           positive     1\n",
       "3  1           trust        1\n",
       "4  2           anticipation 1\n",
       "5  2           fear         1\n",
       "6  2           joy          1\n",
       "7  2           positive     3\n",
       "8  2           trust        1\n",
       "9  3           anger        1\n",
       "10 3           fear         1"
      ]
     },
     "metadata": {},
     "output_type": "display_data"
    }
   ],
   "source": [
    "sentiment_tally %>% head(10)"
   ]
  },
  {
   "cell_type": "markdown",
   "id": "5ff06335",
   "metadata": {},
   "source": [
    "I’m going to plot the tallies by sentence number, so we can visualize how sentiments are distributed along the narrative. But \"negative\" and \"positive\" seem a little different from the other categories, so I’ll plot them separately."
   ]
  },
  {
   "cell_type": "code",
   "execution_count": 42,
   "id": "8fc9d7f2",
   "metadata": {},
   "outputs": [
    {
     "data": {
      "image/png": "[encoded data removed]",
      "text/plain": [
       "plot without title"
      ]
     },
     "metadata": {
      "image/png": {
       "height": 420,
       "width": 420
      }
     },
     "output_type": "display_data"
    }
   ],
   "source": [
    "sentiment_tally %>%\n",
    "    filter(! nrc %in% c('positive', 'negative')) %>%\n",
    "\n",
    "ggplot() +\n",
    "    aes(x=sentence_id, y=n, col=nrc) +\n",
    "    geom_line() +\n",
    "    facet_wrap(~nrc)"
   ]
  },
  {
   "cell_type": "code",
   "execution_count": 43,
   "id": "a3c8672f",
   "metadata": {},
   "outputs": [
    {
     "data": {
      "image/png": "[encoded data removed]",
      "text/plain": [
       "plot without title"
      ]
     },
     "metadata": {
      "image/png": {
       "height": 420,
       "width": 420
      }
     },
     "output_type": "display_data"
    }
   ],
   "source": [
    "sentiment_tally %>%\n",
    "    filter(nrc %in% c('positive', 'negative')) %>%\n",
    "\n",
    "ggplot() +\n",
    "    aes(x=sentence_id, y=n, col=nrc) +\n",
    "    geom_line() +\n",
    "    facet_wrap(~nrc, nrow=2)"
   ]
  }
 ],
 "metadata": {
  "kernelspec": {
   "display_name": "R",
   "language": "R",
   "name": "ir"
  },
  "language_info": {
   "codemirror_mode": "r",
   "file_extension": ".r",
   "mimetype": "text/x-r-source",
   "name": "R",
   "pygments_lexer": "r",
   "version": "4.2.0"
  }
 },
 "nbformat": 4,
 "nbformat_minor": 5
}
