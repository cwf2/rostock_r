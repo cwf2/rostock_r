{
 "cells": [
  {
   "cell_type": "markdown",
   "id": "57e83a6c",
   "metadata": {},
   "source": [
    "# Features beyond words\n",
    "\n",
    "To this point, we’ve looked at how to get capture the structure of text as tabular data in R. Words have been the atomic units of interest, or **features**, and the process of creating a table in which each feature is quantified for each text sample is often called **feature extraction**.\n",
    "\n",
    "In this section we’ll look at some alternative feature sets beyond words—although most of these are derived from words in some way. Sometimes we collapse words together, for example by **stemming** or **part of speech** tagging, resulting in a smaller feature set. Sometimes, by contrast, we look at word combinations, **n-grams**, and the feature set becomes even bigger. In either case, we will likely go through a process of **feature selection** later, where we mix and match the features most useful to our specific task.\n",
    "\n",
    "## Responsions between author and audience\n",
    "\n",
    "One of my favourite aspects of Homer’s poems is the evidence that their oral-formulaic origins has left in the text of an intimate feedback loop between the singer and the audience: the scenes that have been elaborated and adorned with formulas to luxuriate in the listeners’ attention; the concise way information can be condensed when the plot needs to more forward.\n",
    "\n",
    "But the feedback process is not limited to oral composition. Vergil showed the enomous originality that was possible in \"fan fiction\" when he turned the raw material of Homer to his own epic purposes. As he was still composing the *Aeneid*, he was already receiving \"comments\" from his audience, for example Propertius 2.34.66, *nescio quid maius nascitur Iliade*, \"Something greater than the Iliad is coming to birth.\" In particular, he seems to quote Vergil’s own preface to the second half of the Aeneid, which he calls a *maius opus*, \"a greater work\" (Aen. 7.45).\n",
    "\n",
    "## Fans and fan fiction\n",
    "\n",
    "In 2014, author Anna Todd composed the novel *After* largely on her phone, using the online self-publishing platform Wattpad. The novel was conceived as a fan fiction, not of a book or film, but of the real-life boy-band One Direction. The story became wildly popular, with readership topping 1,000,000,000 views even as she was writing. According to a contemporary interview with the *New York Times*, she would generate new content daily in response to reader’s comments, shaping the storyline in response to their own fantasies as well as her own. Despite the fact that the novel is [still available for free on Wattpad](https://www.wattpad.com/story/5095707-after), Todd went on to sign a \"six-figure\" book deal, including film rights. \n",
    "\n",
    "Not all authors experience this feedback loop so positively, however. George R. R. Martin, author of *A Game of Thrones* and its sequels, reported in an interview that he had been forced to stop reading the theories of his fans online. As he continued to develop the labyrinthine subplots and Tolstoy-sized cast of characters, he had found himself deliberately trying to outsmart the readers. When they correctly guessed the path of the plot, he would change it to foil them. But, he grimly noted, \"That way lies madness and disaster.\" As he fell victim to depression and writer’s block, some fans turned against him. In forums like [Finish the Book, George](https://grrrm.livejournal.com/), some goaded and provoked him. Eventually, the course of the novels was overcome by the television series.\n",
    "\n",
    "## Case study: Annacharlier’s *Don’t Go*\n",
    "\n",
    "<div style=\"float:right; width:250px; margin:1.5em\">\n",
    "    <figure>\n",
    "        <img src=\"https://upload.wikimedia.org/wikipedia/en/1/1c/She-Ra_comparison.png\" alt=\"image\">\n",
    "        <caption>She-Ra in 1985 and 2018. <br/>Source: wikipedia.org</caption>\n",
    "    </figure>\n",
    "</div>\n",
    "\n",
    "For the rest of this session, I want to look at an interesting convolution of fan-author feedback, drawn from the fan fiction web site [Archive of Our Own](https://archiveofourown.org/) (AO3). Annacharlier’s 5000-word *Don’t Go* is the most-read submission within the fandom dedicated to \"She-Ra and the Princesses of Power,\" a Netflix children’s cartoon. \"She-Ra\" is itself intertextual, being a 2018 reboot of an earlier children’s show from the 1980s, in part deliberately designed to subvert the original program’s messaging about gender norms, sexuality, and body image.\n",
    "\n",
    "Like many fan fictions, *Don’t Go* represents beloved characters, in this case the protagonist Adora and her principal antagonist Catra, in the \"downtime\" between episodes, allowing the audience to indulge in a [sense of immersion](https://en.wikipedia.org/wiki/Parasocial_interaction) in the character’s everyday lives. Also like many fan fictions (dating back at least to the revolutionary Kirk/Spock amateur fictions of the mid-twentieth century), this one develops a same-sex romantic relationship (or **ship**) between principal characters. (Unlike the Kirk/Spock relationship, the \"Catradora\" ship was established as canonical in the series finale, released a mere 5 days before this story was posted.)\n",
    " \n",
    "What makes the story interesting to me, however, is that not long after it appeared on the site, its pseudonymous author was revealed to be ND Stevenson, the show’s creater herself, granting quasi-canonical status to the events described along with enormous encouragement to other fan-fiction authors. In the examples below, we’ll practice downloading the story from AO3 and performing several different feature extraction techniques."
   ]
  },
  {
   "cell_type": "code",
   "execution_count": 1,
   "id": "677b858f",
   "metadata": {},
   "outputs": [
    {
     "name": "stdout",
     "output_type": "stream",
     "text": [
      "\n",
      "The downloaded binary packages are in\n",
      "\t/var/folders/_k/nhmmjzg96r318bm9jvyvv7ph0000gn/T//RtmpCxCe7u/downloaded_packages\n"
     ]
    }
   ],
   "source": [
    "# only need to do this once\n",
    "install.packages(c('rvest', 'polite'))"
   ]
  },
  {
   "cell_type": "markdown",
   "id": "6fc72f99",
   "metadata": {},
   "source": [
    "These packages are useful tools for tidy-compatible web-scraping. Specifically, the package **rvest** (apparently a pun on \"harvest\") can be used for downloading pages from the web and parsing their content using **xpath** or **css selectors**, while **polite** is a wrapper for parts of rvest that ensures your script complies with the crawling/scraping policies set out in a site’s `robots.txt` file.\n",
    "\n",
    "Abiding by the site’s limitations for automated downloads will make sure your script isn’t ruining the experience of human users. It also makes it less likely that you’ll be booted from the site in the middle of a long-running process."
   ]
  },
  {
   "cell_type": "code",
   "execution_count": 2,
   "id": "0db1616a",
   "metadata": {},
   "outputs": [
    {
     "name": "stderr",
     "output_type": "stream",
     "text": [
      "── \u001b[1mAttaching packages\u001b[22m ─────────────────────────────────────── tidyverse 1.3.1 ──\n",
      "\n",
      "\u001b[32m✔\u001b[39m \u001b[34mggplot2\u001b[39m 3.3.6     \u001b[32m✔\u001b[39m \u001b[34mpurrr  \u001b[39m 0.3.4\n",
      "\u001b[32m✔\u001b[39m \u001b[34mtibble \u001b[39m 3.1.7     \u001b[32m✔\u001b[39m \u001b[34mdplyr  \u001b[39m 1.0.9\n",
      "\u001b[32m✔\u001b[39m \u001b[34mtidyr  \u001b[39m 1.2.0     \u001b[32m✔\u001b[39m \u001b[34mstringr\u001b[39m 1.4.0\n",
      "\u001b[32m✔\u001b[39m \u001b[34mreadr  \u001b[39m 2.1.2     \u001b[32m✔\u001b[39m \u001b[34mforcats\u001b[39m 0.5.1\n",
      "\n",
      "── \u001b[1mConflicts\u001b[22m ────────────────────────────────────────── tidyverse_conflicts() ──\n",
      "\u001b[31m✖\u001b[39m \u001b[34mdplyr\u001b[39m::\u001b[32mfilter()\u001b[39m masks \u001b[34mstats\u001b[39m::filter()\n",
      "\u001b[31m✖\u001b[39m \u001b[34mdplyr\u001b[39m::\u001b[32mlag()\u001b[39m    masks \u001b[34mstats\u001b[39m::lag()\n",
      "\n",
      "\n",
      "Attaching package: ‘rvest’\n",
      "\n",
      "\n",
      "The following object is masked from ‘package:readr’:\n",
      "\n",
      "    guess_encoding\n",
      "\n",
      "\n"
     ]
    }
   ],
   "source": [
    "library(tidyverse)\n",
    "library(tidytext)\n",
    "library(rvest)\n",
    "library(polite)"
   ]
  },
  {
   "cell_type": "markdown",
   "id": "0d09e4da",
   "metadata": {},
   "source": [
    "### Create a session\n",
    "\n",
    "This opens our session with the website, announcing our intention and checking for rules pertaining to automated scripts."
   ]
  },
  {
   "cell_type": "code",
   "execution_count": 3,
   "id": "d67e8794",
   "metadata": {},
   "outputs": [],
   "source": [
    "url <- 'https://www.archiveofourown.org/works/24280306'\n",
    "session <- bow(url, force=TRUE)"
   ]
  },
  {
   "cell_type": "markdown",
   "id": "b84d6917",
   "metadata": {},
   "source": [
    "Let’s inspect the session object:"
   ]
  },
  {
   "cell_type": "code",
   "execution_count": 4,
   "id": "372e12f8",
   "metadata": {},
   "outputs": [
    {
     "data": {
      "text/plain": [
       "<polite session> https://www.archiveofourown.org/works/24280306\n",
       "    User-agent: polite R package - https://github.com/dmi3kno/polite\n",
       "    robots.txt: 23 rules are defined for 3 bots\n",
       "   Crawl delay: 5 sec\n",
       "  The path is scrapable for this user-agent"
      ]
     },
     "metadata": {},
     "output_type": "display_data"
    }
   ],
   "source": [
    "session"
   ]
  },
  {
   "cell_type": "markdown",
   "id": "779ed869",
   "metadata": {},
   "source": [
    "This says that we’re allowed to read the site using non-human agents, but they want us to introduce a five-second delay between requests.\n",
    "\n",
    "The `User-agent` line shows how we’ve identified ourselves to the site. If you want, you can specify something else by passing e.g. `user_agent='cforstall experiment number 1'` as an additional argument to `bow()`. For comparison, here is the equivalent field that my normal web browser reports to sites I’m visiting as a human:\n",
    "\n",
    "    User-Agent: Mozilla/5.0 (Macintosh; Intel Mac OS X 10.15; rv:101.0) Gecko/20100101 Firefox/101.0\n",
    "    \n",
    "    \n"
   ]
  },
  {
   "cell_type": "markdown",
   "id": "baacae8d",
   "metadata": {},
   "source": [
    "We can download a page using `scrape()`:"
   ]
  },
  {
   "cell_type": "code",
   "execution_count": 5,
   "id": "6afec4af",
   "metadata": {},
   "outputs": [],
   "source": [
    "html_doc <- session %>% scrape()"
   ]
  },
  {
   "cell_type": "markdown",
   "id": "e60ed8b6",
   "metadata": {},
   "source": [
    "The result is a complex object representing the structure of the HTML document. The easiest way to work with it is using rvest’s `html_*` functions: especially `html_elements()`, `html_attrs()`, `html_table()`, and `html_text2()`.\n",
    "\n",
    "These allow you to search for specific parts of the page using xpath or css expressions. For example, all the `<div>` nodes:"
   ]
  },
  {
   "cell_type": "code",
   "execution_count": 6,
   "id": "fbc9718b",
   "metadata": {},
   "outputs": [
    {
     "data": {
      "text/plain": [
       "{xml_nodeset (24)}\n",
       " [1] <div id=\"outer\" class=\"wrapper\">\\n      <ul id=\"skiplinks\"><li><a href=\" ...\n",
       " [2] <div id=\"header\" class=\"region\">\\n\\n  <h1 class=\"heading\">\\n    <a href= ...\n",
       " [3] <div id=\"login\" class=\"dropdown\">\\n      <p class=\"user actions\" role=\"m ...\n",
       " [4] <div id=\"small_login\" class=\"simple login\">\\n\\t<form class=\"new_user\" id ...\n",
       " [5] <div class=\"clear\"></div>\n",
       " [6] <div id=\"inner\" class=\"wrapper\">\\n        <!-- BEGIN sidebar -->\\n       ...\n",
       " [7] <div id=\"main\" class=\"works-show region\" role=\"main\">\\n          \\n      ...\n",
       " [8] <div class=\"flash\"></div>\n",
       " [9] <div class=\"wrapper\">\\n\\n  <dl class=\"work meta group\" role=\"complementa ...\n",
       "[10] <div id=\"workskin\">\\n  <div class=\"preface group\">\\n    <h2 class=\"title ...\n",
       "[11] <div class=\"preface group\">\\n    <h2 class=\"title heading\">\\n      Don't ...\n",
       "[12] <div class=\"summary module\" role=\"complementary\">\\n          <h3 class=\" ...\n",
       "[13] <div id=\"chapters\" role=\"article\">\\n        <h3 class=\"landmark heading\" ...\n",
       "[14] <div class=\"userstuff\">\\n<p class=\"p1\">They stay that way for a long tim ...\n",
       "[15] <div id=\"feedback\" class=\"feedback\" role=\"complementary\">\\n\\n  <h3 class ...\n",
       "[16] <div id=\"kudos_message\"></div>\n",
       "[17] <div id=\"kudos\">\\n      <p class=\"kudos\">\\n          <a href=\"/users/Kan ...\n",
       "[18] <div id=\"add_comment_placeholder\" title=\"top level comment\">\\n      <div ...\n",
       "[19] <div id=\"add_comment\">\\n        <!-- expects the local variables comment ...\n",
       "[20] <div class=\"post comment\" id=\"comment_form_for_24280306\">\\n  <form class ...\n",
       "..."
      ]
     },
     "metadata": {},
     "output_type": "display_data"
    }
   ],
   "source": [
    "html_doc %>% html_elements('div')"
   ]
  },
  {
   "cell_type": "markdown",
   "id": "40adac3b",
   "metadata": {},
   "source": [
    "Here, we use **css** selectors to look for the first `<div>` of class `summary`, then take the first `<blockquote>` from within that, to islote the \"Summary\" section at the top of Annacharlier’s story. Then we extract just the text:"
   ]
  },
  {
   "cell_type": "code",
   "execution_count": 7,
   "id": "0011923d",
   "metadata": {},
   "outputs": [
    {
     "data": {
      "text/html": [
       "'They stay that way for a long time, Catra’s face tucked into Adora’s shoulder, Adora gently cradling Catra’s head. Adora is careful not to hug Catra too hard or make her feel restrained, anticipating the moment that Catra will start to pull away — but Catra doesn’t. She hangs on so tightly it hurts, her claws digging through Adora’s jacket and into her back, latching into her like she did when she was a kitten and didn’t know how much her claws could hurt. Adora tries not to wince, tries not to move a single muscle, worried that if she does the spell will break and Catra will struggle away, appalled at having shown weakness.\\n\\nBut Catra doesn’t let go. And so neither does Adora.'"
      ],
      "text/latex": [
       "'They stay that way for a long time, Catra’s face tucked into Adora’s shoulder, Adora gently cradling Catra’s head. Adora is careful not to hug Catra too hard or make her feel restrained, anticipating the moment that Catra will start to pull away — but Catra doesn’t. She hangs on so tightly it hurts, her claws digging through Adora’s jacket and into her back, latching into her like she did when she was a kitten and didn’t know how much her claws could hurt. Adora tries not to wince, tries not to move a single muscle, worried that if she does the spell will break and Catra will struggle away, appalled at having shown weakness.\\textbackslash{}n\\textbackslash{}nBut Catra doesn’t let go. And so neither does Adora.'"
      ],
      "text/markdown": [
       "'They stay that way for a long time, Catra’s face tucked into Adora’s shoulder, Adora gently cradling Catra’s head. Adora is careful not to hug Catra too hard or make her feel restrained, anticipating the moment that Catra will start to pull away — but Catra doesn’t. She hangs on so tightly it hurts, her claws digging through Adora’s jacket and into her back, latching into her like she did when she was a kitten and didn’t know how much her claws could hurt. Adora tries not to wince, tries not to move a single muscle, worried that if she does the spell will break and Catra will struggle away, appalled at having shown weakness.\\n\\nBut Catra doesn’t let go. And so neither does Adora.'"
      ],
      "text/plain": [
       "[1] \"They stay that way for a long time, Catra’s face tucked into Adora’s shoulder, Adora gently cradling Catra’s head. Adora is careful not to hug Catra too hard or make her feel restrained, anticipating the moment that Catra will start to pull away — but Catra doesn’t. She hangs on so tightly it hurts, her claws digging through Adora’s jacket and into her back, latching into her like she did when she was a kitten and didn’t know how much her claws could hurt. Adora tries not to wince, tries not to move a single muscle, worried that if she does the spell will break and Catra will struggle away, appalled at having shown weakness.\\n\\nBut Catra doesn’t let go. And so neither does Adora.\""
      ]
     },
     "metadata": {},
     "output_type": "display_data"
    }
   ],
   "source": [
    "html_doc %>% \n",
    "    html_element('div.summary.module') %>%\n",
    "    html_element('blockquote') %>% \n",
    "    html_text2()"
   ]
  },
  {
   "cell_type": "markdown",
   "id": "eb022e28",
   "metadata": {},
   "source": [
    "### Manual inspection\n",
    "\n",
    "This part of your research demands a lot of time-consuming manual inspection of the web site you’re interested in. You need to understand how the underlying HTML is structured so that you can pick out the information you want. This almost always entails bespoke solutions and lots of trial and error.\n",
    "\n",
    "I like to use the \"Developer Tools\" feature of my web browser to examine the structure of the page. You might prefer to use your favourite text editor. There are also third-party plugins or extensions that you can add to your browser.\n",
    "\n",
    "Here’s what the site looks like in my browser:\n",
    "\n",
    "<div style=\"margin:1em; padding:1em\">\n",
    "<img src=\"img/annacharlier.png\">\n",
    "</div>\n",
    "    \n",
    "Here’s the underlying source HTML for the \"Summary\" section, also viewed in my browser:\n",
    "\n",
    "<div style=\"margin:1em; padding:1em\">\n",
    "<img src=\"img/annacharlier_source.png\">\n",
    "</div>\n",
    "    \n",
    "And here’s what it looks like using the browser’s \"inspector\" tool. I use Firefox, but the other major browsers have similar functionality. (Sometimes you have to check a box in \"Settings\" or \"Preferences\" to enable these tools.)\n",
    "\n",
    "<div style=\"margin:1em; padding:1em\">\n",
    "<img src=\"img/annacharlier_inspector.png\">\n",
    "</div>"
   ]
  },
  {
   "cell_type": "markdown",
   "id": "759f48e2",
   "metadata": {},
   "source": [
    "Let’s extract the main body of the text from this page so we can process it. It looks to me like the story is enclosed in `<div id=\"chapters\" role=\"article\">`, and then within `<div class=\"userstuff\">`. Let’s try that as a first attempt."
   ]
  },
  {
   "cell_type": "code",
   "execution_count": 8,
   "id": "2e839b6c",
   "metadata": {},
   "outputs": [],
   "source": [
    "text <- html_doc %>% \n",
    "    html_element('div#chapters div.userstuff') %>% \n",
    "    html_text2()"
   ]
  },
  {
   "cell_type": "code",
   "execution_count": 9,
   "id": "e265aeb6",
   "metadata": {},
   "outputs": [
    {
     "name": "stdout",
     "output_type": "stream",
     "text": [
      " chr \"They stay that way for a long time, Catra’s face tucked into Adora’s shoulder, Adora gently cradling Catra’s he\"| __truncated__\n"
     ]
    }
   ],
   "source": [
    "str(text)"
   ]
  },
  {
   "cell_type": "code",
   "execution_count": 10,
   "id": "10a1b79e",
   "metadata": {},
   "outputs": [
    {
     "data": {
      "text/html": [
       "30706"
      ],
      "text/latex": [
       "30706"
      ],
      "text/markdown": [
       "30706"
      ],
      "text/plain": [
       "[1] 30706"
      ]
     },
     "metadata": {},
     "output_type": "display_data"
    }
   ],
   "source": [
    "nchar(text)"
   ]
  },
  {
   "cell_type": "markdown",
   "id": "2e06aad7",
   "metadata": {},
   "source": [
    "Let’s tokenize into words with `unnest_tokens()`. But `unnest_tokens()` is expecting a tibble, so first we have to create a tibble with a single row:"
   ]
  },
  {
   "cell_type": "code",
   "execution_count": 11,
   "id": "a17b4982",
   "metadata": {},
   "outputs": [],
   "source": [
    "# create a one-row tibble for Annacharlier's story\n",
    "fan_fics <- tibble(\n",
    "    ao3_id = 24280306,\n",
    "    text = text\n",
    ")\n",
    "\n",
    "# tokenize\n",
    "tokens <- fan_fics %>%\n",
    "    unnest_tokens(output=word, input=text)"
   ]
  },
  {
   "cell_type": "code",
   "execution_count": 12,
   "id": "01b3cc92",
   "metadata": {},
   "outputs": [
    {
     "data": {
      "text/html": [
       "<table class=\"dataframe\">\n",
       "<caption>A tibble: 10 × 2</caption>\n",
       "<thead>\n",
       "\t<tr><th scope=col>ao3_id</th><th scope=col>word</th></tr>\n",
       "\t<tr><th scope=col>&lt;dbl&gt;</th><th scope=col>&lt;chr&gt;</th></tr>\n",
       "</thead>\n",
       "<tbody>\n",
       "\t<tr><td>24280306</td><td>they   </td></tr>\n",
       "\t<tr><td>24280306</td><td>stay   </td></tr>\n",
       "\t<tr><td>24280306</td><td>that   </td></tr>\n",
       "\t<tr><td>24280306</td><td>way    </td></tr>\n",
       "\t<tr><td>24280306</td><td>for    </td></tr>\n",
       "\t<tr><td>24280306</td><td>a      </td></tr>\n",
       "\t<tr><td>24280306</td><td>long   </td></tr>\n",
       "\t<tr><td>24280306</td><td>time   </td></tr>\n",
       "\t<tr><td>24280306</td><td>catra’s</td></tr>\n",
       "\t<tr><td>24280306</td><td>face   </td></tr>\n",
       "</tbody>\n",
       "</table>\n"
      ],
      "text/latex": [
       "A tibble: 10 × 2\n",
       "\\begin{tabular}{ll}\n",
       " ao3\\_id & word\\\\\n",
       " <dbl> & <chr>\\\\\n",
       "\\hline\n",
       "\t 24280306 & they   \\\\\n",
       "\t 24280306 & stay   \\\\\n",
       "\t 24280306 & that   \\\\\n",
       "\t 24280306 & way    \\\\\n",
       "\t 24280306 & for    \\\\\n",
       "\t 24280306 & a      \\\\\n",
       "\t 24280306 & long   \\\\\n",
       "\t 24280306 & time   \\\\\n",
       "\t 24280306 & catra’s\\\\\n",
       "\t 24280306 & face   \\\\\n",
       "\\end{tabular}\n"
      ],
      "text/markdown": [
       "\n",
       "A tibble: 10 × 2\n",
       "\n",
       "| ao3_id &lt;dbl&gt; | word &lt;chr&gt; |\n",
       "|---|---|\n",
       "| 24280306 | they    |\n",
       "| 24280306 | stay    |\n",
       "| 24280306 | that    |\n",
       "| 24280306 | way     |\n",
       "| 24280306 | for     |\n",
       "| 24280306 | a       |\n",
       "| 24280306 | long    |\n",
       "| 24280306 | time    |\n",
       "| 24280306 | catra’s |\n",
       "| 24280306 | face    |\n",
       "\n"
      ],
      "text/plain": [
       "   ao3_id   word   \n",
       "1  24280306 they   \n",
       "2  24280306 stay   \n",
       "3  24280306 that   \n",
       "4  24280306 way    \n",
       "5  24280306 for    \n",
       "6  24280306 a      \n",
       "7  24280306 long   \n",
       "8  24280306 time   \n",
       "9  24280306 catra’s\n",
       "10 24280306 face   "
      ]
     },
     "metadata": {},
     "output_type": "display_data"
    }
   ],
   "source": [
    "tokens %>% head(10)"
   ]
  },
  {
   "cell_type": "markdown",
   "id": "417eee7b",
   "metadata": {},
   "source": [
    "## n-grams\n",
    "\n",
    "Let’s examine some other tokenization options with `unnest_tokens()`. In addition to individual words, we can also break the text into **n-grams**, groups of successive words. Because word frequencies are highly dependent on each other, **bigrams** (pairs), **trigrams** (triples), or even larger groups of words are often more informative than single words (i.e. **unigrams**).\n",
    "\n",
    "To tokenize into ngrams, add the optional argument `token=\"ngrams\"` and specify a value for `n`:"
   ]
  },
  {
   "cell_type": "code",
   "execution_count": 13,
   "id": "ff88854f",
   "metadata": {},
   "outputs": [
    {
     "data": {
      "text/html": [
       "<table class=\"dataframe\">\n",
       "<caption>A tibble: 6 × 2</caption>\n",
       "<thead>\n",
       "\t<tr><th scope=col>ao3_id</th><th scope=col>bigram</th></tr>\n",
       "\t<tr><th scope=col>&lt;dbl&gt;</th><th scope=col>&lt;chr&gt;</th></tr>\n",
       "</thead>\n",
       "<tbody>\n",
       "\t<tr><td>24280306</td><td>they stay</td></tr>\n",
       "\t<tr><td>24280306</td><td>stay that</td></tr>\n",
       "\t<tr><td>24280306</td><td>that way </td></tr>\n",
       "\t<tr><td>24280306</td><td>way for  </td></tr>\n",
       "\t<tr><td>24280306</td><td>for a    </td></tr>\n",
       "\t<tr><td>24280306</td><td>a long   </td></tr>\n",
       "</tbody>\n",
       "</table>\n"
      ],
      "text/latex": [
       "A tibble: 6 × 2\n",
       "\\begin{tabular}{ll}\n",
       " ao3\\_id & bigram\\\\\n",
       " <dbl> & <chr>\\\\\n",
       "\\hline\n",
       "\t 24280306 & they stay\\\\\n",
       "\t 24280306 & stay that\\\\\n",
       "\t 24280306 & that way \\\\\n",
       "\t 24280306 & way for  \\\\\n",
       "\t 24280306 & for a    \\\\\n",
       "\t 24280306 & a long   \\\\\n",
       "\\end{tabular}\n"
      ],
      "text/markdown": [
       "\n",
       "A tibble: 6 × 2\n",
       "\n",
       "| ao3_id &lt;dbl&gt; | bigram &lt;chr&gt; |\n",
       "|---|---|\n",
       "| 24280306 | they stay |\n",
       "| 24280306 | stay that |\n",
       "| 24280306 | that way  |\n",
       "| 24280306 | way for   |\n",
       "| 24280306 | for a     |\n",
       "| 24280306 | a long    |\n",
       "\n"
      ],
      "text/plain": [
       "  ao3_id   bigram   \n",
       "1 24280306 they stay\n",
       "2 24280306 stay that\n",
       "3 24280306 that way \n",
       "4 24280306 way for  \n",
       "5 24280306 for a    \n",
       "6 24280306 a long   "
      ]
     },
     "metadata": {},
     "output_type": "display_data"
    }
   ],
   "source": [
    "# tokenize\n",
    "bigrams <- fan_fics %>%\n",
    "    unnest_tokens(output=bigram, input=text, token=\"ngrams\", n=2)\n",
    "\n",
    "head(bigrams)"
   ]
  },
  {
   "cell_type": "markdown",
   "id": "884fe79a",
   "metadata": {},
   "source": [
    "The two-word window slides along the text one word at a time, so each word (except the first) appears twice, once as the right-hand member and once as the left-hand member.\n",
    "\n",
    "Which bigrams are most common?"
   ]
  },
  {
   "cell_type": "code",
   "execution_count": 14,
   "id": "87fdcf40",
   "metadata": {},
   "outputs": [
    {
     "data": {
      "text/html": [
       "<table class=\"dataframe\">\n",
       "<caption>A tibble: 10 × 2</caption>\n",
       "<thead>\n",
       "\t<tr><th scope=col>bigram</th><th scope=col>n</th></tr>\n",
       "\t<tr><th scope=col>&lt;chr&gt;</th><th scope=col>&lt;int&gt;</th></tr>\n",
       "</thead>\n",
       "<tbody>\n",
       "\t<tr><td>in the     </td><td>18</td></tr>\n",
       "\t<tr><td>she doesn’t</td><td>18</td></tr>\n",
       "\t<tr><td>of the     </td><td>16</td></tr>\n",
       "\t<tr><td>as she     </td><td>15</td></tr>\n",
       "\t<tr><td>her eyes   </td><td>15</td></tr>\n",
       "\t<tr><td>in her     </td><td>15</td></tr>\n",
       "\t<tr><td>her head   </td><td>14</td></tr>\n",
       "\t<tr><td>she can    </td><td>14</td></tr>\n",
       "\t<tr><td>and she    </td><td>13</td></tr>\n",
       "\t<tr><td>on the     </td><td>13</td></tr>\n",
       "</tbody>\n",
       "</table>\n"
      ],
      "text/latex": [
       "A tibble: 10 × 2\n",
       "\\begin{tabular}{ll}\n",
       " bigram & n\\\\\n",
       " <chr> & <int>\\\\\n",
       "\\hline\n",
       "\t in the      & 18\\\\\n",
       "\t she doesn’t & 18\\\\\n",
       "\t of the      & 16\\\\\n",
       "\t as she      & 15\\\\\n",
       "\t her eyes    & 15\\\\\n",
       "\t in her      & 15\\\\\n",
       "\t her head    & 14\\\\\n",
       "\t she can     & 14\\\\\n",
       "\t and she     & 13\\\\\n",
       "\t on the      & 13\\\\\n",
       "\\end{tabular}\n"
      ],
      "text/markdown": [
       "\n",
       "A tibble: 10 × 2\n",
       "\n",
       "| bigram &lt;chr&gt; | n &lt;int&gt; |\n",
       "|---|---|\n",
       "| in the      | 18 |\n",
       "| she doesn’t | 18 |\n",
       "| of the      | 16 |\n",
       "| as she      | 15 |\n",
       "| her eyes    | 15 |\n",
       "| in her      | 15 |\n",
       "| her head    | 14 |\n",
       "| she can     | 14 |\n",
       "| and she     | 13 |\n",
       "| on the      | 13 |\n",
       "\n"
      ],
      "text/plain": [
       "   bigram      n \n",
       "1  in the      18\n",
       "2  she doesn’t 18\n",
       "3  of the      16\n",
       "4  as she      15\n",
       "5  her eyes    15\n",
       "6  in her      15\n",
       "7  her head    14\n",
       "8  she can     14\n",
       "9  and she     13\n",
       "10 on the      13"
      ]
     },
     "metadata": {},
     "output_type": "display_data"
    }
   ],
   "source": [
    "bigrams %>%\n",
    "    count(bigram, sort=TRUE) %>%\n",
    "    head(10)"
   ]
  },
  {
   "cell_type": "markdown",
   "id": "5ea44eaf",
   "metadata": {},
   "source": [
    "## Skip-grams\n",
    "\n",
    "Sometimes two or more words form a significant collocation but don’t appear exactly side-by-side. For this, we can use \"skip_ngrams\" as the value for `token`. In addition to passing `n`, we can also specify `k`, the maximum number of intervening words. \n",
    "\n",
    "For example, this should find all words that co-occur with no more than four words between them. I’m also using `n_min` to eliminate unigrams from the output."
   ]
  },
  {
   "cell_type": "code",
   "execution_count": 15,
   "id": "e300c116",
   "metadata": {},
   "outputs": [
    {
     "data": {
      "text/html": [
       "<table class=\"dataframe\">\n",
       "<caption>A tibble: 10 × 2</caption>\n",
       "<thead>\n",
       "\t<tr><th scope=col>skipgram</th><th scope=col>n</th></tr>\n",
       "\t<tr><th scope=col>&lt;chr&gt;</th><th scope=col>&lt;int&gt;</th></tr>\n",
       "</thead>\n",
       "<tbody>\n",
       "\t<tr><td>she the  </td><td>45</td></tr>\n",
       "\t<tr><td>to her   </td><td>44</td></tr>\n",
       "\t<tr><td>her her  </td><td>42</td></tr>\n",
       "\t<tr><td>her she  </td><td>42</td></tr>\n",
       "\t<tr><td>the the  </td><td>41</td></tr>\n",
       "\t<tr><td>her and  </td><td>40</td></tr>\n",
       "\t<tr><td>the her  </td><td>39</td></tr>\n",
       "\t<tr><td>and her  </td><td>38</td></tr>\n",
       "\t<tr><td>catra her</td><td>37</td></tr>\n",
       "\t<tr><td>her the  </td><td>35</td></tr>\n",
       "</tbody>\n",
       "</table>\n"
      ],
      "text/latex": [
       "A tibble: 10 × 2\n",
       "\\begin{tabular}{ll}\n",
       " skipgram & n\\\\\n",
       " <chr> & <int>\\\\\n",
       "\\hline\n",
       "\t she the   & 45\\\\\n",
       "\t to her    & 44\\\\\n",
       "\t her her   & 42\\\\\n",
       "\t her she   & 42\\\\\n",
       "\t the the   & 41\\\\\n",
       "\t her and   & 40\\\\\n",
       "\t the her   & 39\\\\\n",
       "\t and her   & 38\\\\\n",
       "\t catra her & 37\\\\\n",
       "\t her the   & 35\\\\\n",
       "\\end{tabular}\n"
      ],
      "text/markdown": [
       "\n",
       "A tibble: 10 × 2\n",
       "\n",
       "| skipgram &lt;chr&gt; | n &lt;int&gt; |\n",
       "|---|---|\n",
       "| she the   | 45 |\n",
       "| to her    | 44 |\n",
       "| her her   | 42 |\n",
       "| her she   | 42 |\n",
       "| the the   | 41 |\n",
       "| her and   | 40 |\n",
       "| the her   | 39 |\n",
       "| and her   | 38 |\n",
       "| catra her | 37 |\n",
       "| her the   | 35 |\n",
       "\n"
      ],
      "text/plain": [
       "   skipgram  n \n",
       "1  she the   45\n",
       "2  to her    44\n",
       "3  her her   42\n",
       "4  her she   42\n",
       "5  the the   41\n",
       "6  her and   40\n",
       "7  the her   39\n",
       "8  and her   38\n",
       "9  catra her 37\n",
       "10 her the   35"
      ]
     },
     "metadata": {},
     "output_type": "display_data"
    }
   ],
   "source": [
    "fan_fics %>%\n",
    "    unnest_tokens(output=skipgram, input=text, token=\"skip_ngrams\", n=2, n_min=2, k=4) %>%\n",
    "    count(skipgram, sort=TRUE) %>%\n",
    "    head(10)"
   ]
  },
  {
   "cell_type": "markdown",
   "id": "7a2c465c",
   "metadata": {},
   "source": [
    "### Separating n-grams for analysis\n",
    "\n",
    "It may be helpful, after you’ve tallied the n-grams, to split them back into their component words. For this, we can use the function `separate()`, which splits a single column as if it were a string, based on some separator pattern. By default, `unnest_tokens()` joins the words of an n-gram with a space, so we’ll split on spaces."
   ]
  },
  {
   "cell_type": "code",
   "execution_count": 16,
   "id": "26ca6957",
   "metadata": {},
   "outputs": [],
   "source": [
    "bigrams <- bigrams %>%\n",
    "    count(bigram, sort=TRUE) %>%\n",
    "    separate(bigram, into=c('left', 'right'), sep=' ', remove=FALSE)"
   ]
  },
  {
   "cell_type": "code",
   "execution_count": 17,
   "id": "3408bfbf",
   "metadata": {},
   "outputs": [
    {
     "data": {
      "text/html": [
       "<table class=\"dataframe\">\n",
       "<caption>A tibble: 6 × 4</caption>\n",
       "<thead>\n",
       "\t<tr><th scope=col>bigram</th><th scope=col>left</th><th scope=col>right</th><th scope=col>n</th></tr>\n",
       "\t<tr><th scope=col>&lt;chr&gt;</th><th scope=col>&lt;chr&gt;</th><th scope=col>&lt;chr&gt;</th><th scope=col>&lt;int&gt;</th></tr>\n",
       "</thead>\n",
       "<tbody>\n",
       "\t<tr><td>in the     </td><td>in </td><td>the    </td><td>18</td></tr>\n",
       "\t<tr><td>she doesn’t</td><td>she</td><td>doesn’t</td><td>18</td></tr>\n",
       "\t<tr><td>of the     </td><td>of </td><td>the    </td><td>16</td></tr>\n",
       "\t<tr><td>as she     </td><td>as </td><td>she    </td><td>15</td></tr>\n",
       "\t<tr><td>her eyes   </td><td>her</td><td>eyes   </td><td>15</td></tr>\n",
       "\t<tr><td>in her     </td><td>in </td><td>her    </td><td>15</td></tr>\n",
       "</tbody>\n",
       "</table>\n"
      ],
      "text/latex": [
       "A tibble: 6 × 4\n",
       "\\begin{tabular}{llll}\n",
       " bigram & left & right & n\\\\\n",
       " <chr> & <chr> & <chr> & <int>\\\\\n",
       "\\hline\n",
       "\t in the      & in  & the     & 18\\\\\n",
       "\t she doesn’t & she & doesn’t & 18\\\\\n",
       "\t of the      & of  & the     & 16\\\\\n",
       "\t as she      & as  & she     & 15\\\\\n",
       "\t her eyes    & her & eyes    & 15\\\\\n",
       "\t in her      & in  & her     & 15\\\\\n",
       "\\end{tabular}\n"
      ],
      "text/markdown": [
       "\n",
       "A tibble: 6 × 4\n",
       "\n",
       "| bigram &lt;chr&gt; | left &lt;chr&gt; | right &lt;chr&gt; | n &lt;int&gt; |\n",
       "|---|---|---|---|\n",
       "| in the      | in  | the     | 18 |\n",
       "| she doesn’t | she | doesn’t | 18 |\n",
       "| of the      | of  | the     | 16 |\n",
       "| as she      | as  | she     | 15 |\n",
       "| her eyes    | her | eyes    | 15 |\n",
       "| in her      | in  | her     | 15 |\n",
       "\n"
      ],
      "text/plain": [
       "  bigram      left right   n \n",
       "1 in the      in   the     18\n",
       "2 she doesn’t she  doesn’t 18\n",
       "3 of the      of   the     16\n",
       "4 as she      as   she     15\n",
       "5 her eyes    her  eyes    15\n",
       "6 in her      in   her     15"
      ]
     },
     "metadata": {},
     "output_type": "display_data"
    }
   ],
   "source": [
    "head(bigrams)"
   ]
  },
  {
   "cell_type": "code",
   "execution_count": 18,
   "id": "ab9d756b",
   "metadata": {},
   "outputs": [
    {
     "data": {
      "text/html": [
       "<table class=\"dataframe\">\n",
       "<caption>A tibble: 12 × 4</caption>\n",
       "<thead>\n",
       "\t<tr><th scope=col>bigram</th><th scope=col>left</th><th scope=col>right</th><th scope=col>n</th></tr>\n",
       "\t<tr><th scope=col>&lt;chr&gt;</th><th scope=col>&lt;chr&gt;</th><th scope=col>&lt;chr&gt;</th><th scope=col>&lt;int&gt;</th></tr>\n",
       "</thead>\n",
       "<tbody>\n",
       "\t<tr><td>her eyes       </td><td>her       </td><td>eyes</td><td>15</td></tr>\n",
       "\t<tr><td>adora’s eyes   </td><td>adora’s   </td><td>eyes</td><td> 2</td></tr>\n",
       "\t<tr><td>catra eyes     </td><td>catra     </td><td>eyes</td><td> 1</td></tr>\n",
       "\t<tr><td>clone eyes     </td><td>clone     </td><td>eyes</td><td> 1</td></tr>\n",
       "\t<tr><td>door eyes      </td><td>door      </td><td>eyes</td><td> 1</td></tr>\n",
       "\t<tr><td>entrapta’s eyes</td><td>entrapta’s</td><td>eyes</td><td> 1</td></tr>\n",
       "\t<tr><td>gold eyes      </td><td>gold      </td><td>eyes</td><td> 1</td></tr>\n",
       "\t<tr><td>other’s eyes   </td><td>other’s   </td><td>eyes</td><td> 1</td></tr>\n",
       "\t<tr><td>over eyes      </td><td>over      </td><td>eyes</td><td> 1</td></tr>\n",
       "\t<tr><td>slowly eyes    </td><td>slowly    </td><td>eyes</td><td> 1</td></tr>\n",
       "\t<tr><td>teary eyes     </td><td>teary     </td><td>eyes</td><td> 1</td></tr>\n",
       "\t<tr><td>the eyes       </td><td>the       </td><td>eyes</td><td> 1</td></tr>\n",
       "</tbody>\n",
       "</table>\n"
      ],
      "text/latex": [
       "A tibble: 12 × 4\n",
       "\\begin{tabular}{llll}\n",
       " bigram & left & right & n\\\\\n",
       " <chr> & <chr> & <chr> & <int>\\\\\n",
       "\\hline\n",
       "\t her eyes        & her        & eyes & 15\\\\\n",
       "\t adora’s eyes    & adora’s    & eyes &  2\\\\\n",
       "\t catra eyes      & catra      & eyes &  1\\\\\n",
       "\t clone eyes      & clone      & eyes &  1\\\\\n",
       "\t door eyes       & door       & eyes &  1\\\\\n",
       "\t entrapta’s eyes & entrapta’s & eyes &  1\\\\\n",
       "\t gold eyes       & gold       & eyes &  1\\\\\n",
       "\t other’s eyes    & other’s    & eyes &  1\\\\\n",
       "\t over eyes       & over       & eyes &  1\\\\\n",
       "\t slowly eyes     & slowly     & eyes &  1\\\\\n",
       "\t teary eyes      & teary      & eyes &  1\\\\\n",
       "\t the eyes        & the        & eyes &  1\\\\\n",
       "\\end{tabular}\n"
      ],
      "text/markdown": [
       "\n",
       "A tibble: 12 × 4\n",
       "\n",
       "| bigram &lt;chr&gt; | left &lt;chr&gt; | right &lt;chr&gt; | n &lt;int&gt; |\n",
       "|---|---|---|---|\n",
       "| her eyes        | her        | eyes | 15 |\n",
       "| adora’s eyes    | adora’s    | eyes |  2 |\n",
       "| catra eyes      | catra      | eyes |  1 |\n",
       "| clone eyes      | clone      | eyes |  1 |\n",
       "| door eyes       | door       | eyes |  1 |\n",
       "| entrapta’s eyes | entrapta’s | eyes |  1 |\n",
       "| gold eyes       | gold       | eyes |  1 |\n",
       "| other’s eyes    | other’s    | eyes |  1 |\n",
       "| over eyes       | over       | eyes |  1 |\n",
       "| slowly eyes     | slowly     | eyes |  1 |\n",
       "| teary eyes      | teary      | eyes |  1 |\n",
       "| the eyes        | the        | eyes |  1 |\n",
       "\n"
      ],
      "text/plain": [
       "   bigram          left       right n \n",
       "1  her eyes        her        eyes  15\n",
       "2  adora’s eyes    adora’s    eyes   2\n",
       "3  catra eyes      catra      eyes   1\n",
       "4  clone eyes      clone      eyes   1\n",
       "5  door eyes       door       eyes   1\n",
       "6  entrapta’s eyes entrapta’s eyes   1\n",
       "7  gold eyes       gold       eyes   1\n",
       "8  other’s eyes    other’s    eyes   1\n",
       "9  over eyes       over       eyes   1\n",
       "10 slowly eyes     slowly     eyes   1\n",
       "11 teary eyes      teary      eyes   1\n",
       "12 the eyes        the        eyes   1"
      ]
     },
     "metadata": {},
     "output_type": "display_data"
    }
   ],
   "source": [
    "bigrams %>%\n",
    "    filter(right=='eyes')"
   ]
  },
  {
   "cell_type": "code",
   "execution_count": 19,
   "id": "4eb29ef7",
   "metadata": {},
   "outputs": [
    {
     "data": {
      "text/html": [
       "<table class=\"dataframe\">\n",
       "<caption>A tibble: 20 × 4</caption>\n",
       "<thead>\n",
       "\t<tr><th scope=col>bigram</th><th scope=col>left</th><th scope=col>right</th><th scope=col>n</th></tr>\n",
       "\t<tr><th scope=col>&lt;chr&gt;</th><th scope=col>&lt;chr&gt;</th><th scope=col>&lt;chr&gt;</th><th scope=col>&lt;int&gt;</th></tr>\n",
       "</thead>\n",
       "<tbody>\n",
       "\t<tr><td>catra’s hand   </td><td>catra’s</td><td>hand   </td><td>4</td></tr>\n",
       "\t<tr><td>catra’s face   </td><td>catra’s</td><td>face   </td><td>3</td></tr>\n",
       "\t<tr><td>catra’s back   </td><td>catra’s</td><td>back   </td><td>2</td></tr>\n",
       "\t<tr><td>catra’s hands  </td><td>catra’s</td><td>hands  </td><td>2</td></tr>\n",
       "\t<tr><td>catra’s head   </td><td>catra’s</td><td>head   </td><td>2</td></tr>\n",
       "\t<tr><td>catra’s room   </td><td>catra’s</td><td>room   </td><td>2</td></tr>\n",
       "\t<tr><td>catra’s wrists </td><td>catra’s</td><td>wrists </td><td>2</td></tr>\n",
       "\t<tr><td>catra’s broken </td><td>catra’s</td><td>broken </td><td>1</td></tr>\n",
       "\t<tr><td>catra’s chuckle</td><td>catra’s</td><td>chuckle</td><td>1</td></tr>\n",
       "\t<tr><td>catra’s claws  </td><td>catra’s</td><td>claws  </td><td>1</td></tr>\n",
       "\t<tr><td>catra’s gaze   </td><td>catra’s</td><td>gaze   </td><td>1</td></tr>\n",
       "\t<tr><td>catra’s hair   </td><td>catra’s</td><td>hair   </td><td>1</td></tr>\n",
       "\t<tr><td>catra’s knees  </td><td>catra’s</td><td>knees  </td><td>1</td></tr>\n",
       "\t<tr><td>catra’s looking</td><td>catra’s</td><td>looking</td><td>1</td></tr>\n",
       "\t<tr><td>catra’s mouth  </td><td>catra’s</td><td>mouth  </td><td>1</td></tr>\n",
       "\t<tr><td>catra’s muscles</td><td>catra’s</td><td>muscles</td><td>1</td></tr>\n",
       "\t<tr><td>catra’s nails  </td><td>catra’s</td><td>nails  </td><td>1</td></tr>\n",
       "\t<tr><td>catra’s naked  </td><td>catra’s</td><td>naked  </td><td>1</td></tr>\n",
       "\t<tr><td>catra’s narrow </td><td>catra’s</td><td>narrow </td><td>1</td></tr>\n",
       "\t<tr><td>catra’s only   </td><td>catra’s</td><td>only   </td><td>1</td></tr>\n",
       "</tbody>\n",
       "</table>\n"
      ],
      "text/latex": [
       "A tibble: 20 × 4\n",
       "\\begin{tabular}{llll}\n",
       " bigram & left & right & n\\\\\n",
       " <chr> & <chr> & <chr> & <int>\\\\\n",
       "\\hline\n",
       "\t catra’s hand    & catra’s & hand    & 4\\\\\n",
       "\t catra’s face    & catra’s & face    & 3\\\\\n",
       "\t catra’s back    & catra’s & back    & 2\\\\\n",
       "\t catra’s hands   & catra’s & hands   & 2\\\\\n",
       "\t catra’s head    & catra’s & head    & 2\\\\\n",
       "\t catra’s room    & catra’s & room    & 2\\\\\n",
       "\t catra’s wrists  & catra’s & wrists  & 2\\\\\n",
       "\t catra’s broken  & catra’s & broken  & 1\\\\\n",
       "\t catra’s chuckle & catra’s & chuckle & 1\\\\\n",
       "\t catra’s claws   & catra’s & claws   & 1\\\\\n",
       "\t catra’s gaze    & catra’s & gaze    & 1\\\\\n",
       "\t catra’s hair    & catra’s & hair    & 1\\\\\n",
       "\t catra’s knees   & catra’s & knees   & 1\\\\\n",
       "\t catra’s looking & catra’s & looking & 1\\\\\n",
       "\t catra’s mouth   & catra’s & mouth   & 1\\\\\n",
       "\t catra’s muscles & catra’s & muscles & 1\\\\\n",
       "\t catra’s nails   & catra’s & nails   & 1\\\\\n",
       "\t catra’s naked   & catra’s & naked   & 1\\\\\n",
       "\t catra’s narrow  & catra’s & narrow  & 1\\\\\n",
       "\t catra’s only    & catra’s & only    & 1\\\\\n",
       "\\end{tabular}\n"
      ],
      "text/markdown": [
       "\n",
       "A tibble: 20 × 4\n",
       "\n",
       "| bigram &lt;chr&gt; | left &lt;chr&gt; | right &lt;chr&gt; | n &lt;int&gt; |\n",
       "|---|---|---|---|\n",
       "| catra’s hand    | catra’s | hand    | 4 |\n",
       "| catra’s face    | catra’s | face    | 3 |\n",
       "| catra’s back    | catra’s | back    | 2 |\n",
       "| catra’s hands   | catra’s | hands   | 2 |\n",
       "| catra’s head    | catra’s | head    | 2 |\n",
       "| catra’s room    | catra’s | room    | 2 |\n",
       "| catra’s wrists  | catra’s | wrists  | 2 |\n",
       "| catra’s broken  | catra’s | broken  | 1 |\n",
       "| catra’s chuckle | catra’s | chuckle | 1 |\n",
       "| catra’s claws   | catra’s | claws   | 1 |\n",
       "| catra’s gaze    | catra’s | gaze    | 1 |\n",
       "| catra’s hair    | catra’s | hair    | 1 |\n",
       "| catra’s knees   | catra’s | knees   | 1 |\n",
       "| catra’s looking | catra’s | looking | 1 |\n",
       "| catra’s mouth   | catra’s | mouth   | 1 |\n",
       "| catra’s muscles | catra’s | muscles | 1 |\n",
       "| catra’s nails   | catra’s | nails   | 1 |\n",
       "| catra’s naked   | catra’s | naked   | 1 |\n",
       "| catra’s narrow  | catra’s | narrow  | 1 |\n",
       "| catra’s only    | catra’s | only    | 1 |\n",
       "\n"
      ],
      "text/plain": [
       "   bigram          left    right   n\n",
       "1  catra’s hand    catra’s hand    4\n",
       "2  catra’s face    catra’s face    3\n",
       "3  catra’s back    catra’s back    2\n",
       "4  catra’s hands   catra’s hands   2\n",
       "5  catra’s head    catra’s head    2\n",
       "6  catra’s room    catra’s room    2\n",
       "7  catra’s wrists  catra’s wrists  2\n",
       "8  catra’s broken  catra’s broken  1\n",
       "9  catra’s chuckle catra’s chuckle 1\n",
       "10 catra’s claws   catra’s claws   1\n",
       "11 catra’s gaze    catra’s gaze    1\n",
       "12 catra’s hair    catra’s hair    1\n",
       "13 catra’s knees   catra’s knees   1\n",
       "14 catra’s looking catra’s looking 1\n",
       "15 catra’s mouth   catra’s mouth   1\n",
       "16 catra’s muscles catra’s muscles 1\n",
       "17 catra’s nails   catra’s nails   1\n",
       "18 catra’s naked   catra’s naked   1\n",
       "19 catra’s narrow  catra’s narrow  1\n",
       "20 catra’s only    catra’s only    1"
      ]
     },
     "metadata": {},
     "output_type": "display_data"
    }
   ],
   "source": [
    "bigrams %>%\n",
    "    filter(left==\"catra’s\") %>% \n",
    "    head(20)"
   ]
  }
 ],
 "metadata": {
  "kernelspec": {
   "display_name": "R",
   "language": "R",
   "name": "ir"
  },
  "language_info": {
   "codemirror_mode": "r",
   "file_extension": ".r",
   "mimetype": "text/x-r-source",
   "name": "R",
   "pygments_lexer": "r",
   "version": "4.2.0"
  }
 },
 "nbformat": 4,
 "nbformat_minor": 5
}
