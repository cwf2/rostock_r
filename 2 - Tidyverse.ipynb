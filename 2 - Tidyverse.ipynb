{
 "cells": [
  {
   "cell_type": "markdown",
   "id": "8babf56e",
   "metadata": {},
   "source": [
    "# Tidyverse\n",
    "\n",
    "And now for something completely different. Having invested all that time in learning the rudiments of base R, we’re now going to look at a sort of specialized idiom has recently come to prominence in the community of R users.\n",
    "\n",
    "R has always been somewhat heterogeneous, and there are often different, competing ways of doing the same task, each with its partisans. Tidyverse is the name of a set of interoperable **packages**, or extensions to base R, that share a common idiom (or \"philosophy\").\n",
    "\n",
    "## More information\n",
    "\n",
    "The definitive guide is [R For Data Science](https://r4ds.had.co.nz/) by Hadley Wickham and Garrett Grolemund. You can read it for free online, but I like having a paper copy, too.\n",
    "\n",
    "\n",
    "## Packages\n",
    "\n",
    "First, about packages more generally. R is open source, and lots of its functionality comes from user-contributed packages designed to solve specific problems. The home of R’s packages is [CRAN](https://cran.r-project.org/), the Comprehensive R Archive Network, although you can also find R code on [GitHub](https://github.com) and other places.\n",
    "\n",
    "R has a built-in package management system. From the console, you can:\n",
    "\n",
    "- see what packages are already installed with `installed.packages()`\n",
    "- see what packages are available to install with `available.packages()`\n",
    "- install packages by name with `install.packages()`\n",
    "\n",
    "You can also use RStudio’s graphical interface to the package management system. Look under \"Tools\" → \"Install Packages...\"\n",
    "\n",
    "Once you’ve installed a package, it will be available for subsequent R projects as well, but each time you want to use it in an R session or script, you have to **attach** it with the `library()` function."
   ]
  },
  {
   "cell_type": "markdown",
   "id": "2acb006b",
   "metadata": {},
   "source": [
    "### Installing Tidyverse\n",
    "\n",
    "You'll only have to do this step once; if you already have tidyverse installed, you can skip it. Since I already have it, my output here will look different from yours. Actually, \"tidyverse\" is the name of a collection of packages which you'll see being installed individually."
   ]
  },
  {
   "cell_type": "code",
   "execution_count": 1,
   "id": "0a806fc0",
   "metadata": {},
   "outputs": [
    {
     "name": "stdout",
     "output_type": "stream",
     "text": [
      "\n",
      "The downloaded binary packages are in\n",
      "\t/var/folders/_k/nhmmjzg96r318bm9jvyvv7ph0000gn/T//RtmpYNMSGy/downloaded_packages\n"
     ]
    }
   ],
   "source": [
    "install.packages('tidyverse')"
   ]
  },
  {
   "cell_type": "markdown",
   "id": "e8e41ff2",
   "metadata": {},
   "source": [
    "### Attaching the packages\n",
    "\n",
    "This has to be done in every new R session. One reason is that these packages introduce a bunch of new objects into R’s search path, sometimes obscuring elements of base R that have the same name. (R will warn you of such overlaps, but they’re not fatal.) There's no point in cluttering up our environment with things that aren’t going to be used in a given session.\n",
    "\n",
    "You might want to attach only one or two of the tidyverse packages, depending on what you’re doing. If you, you can name them specifically. Or use `tidyverse` to get the entire collection."
   ]
  },
  {
   "cell_type": "code",
   "execution_count": 2,
   "id": "6762bcb9",
   "metadata": {},
   "outputs": [
    {
     "name": "stderr",
     "output_type": "stream",
     "text": [
      "── \u001b[1mAttaching packages\u001b[22m ─────────────────────────────────────── tidyverse 1.3.1 ──\n",
      "\n",
      "\u001b[32m✔\u001b[39m \u001b[34mggplot2\u001b[39m 3.3.6     \u001b[32m✔\u001b[39m \u001b[34mpurrr  \u001b[39m 0.3.4\n",
      "\u001b[32m✔\u001b[39m \u001b[34mtibble \u001b[39m 3.1.7     \u001b[32m✔\u001b[39m \u001b[34mdplyr  \u001b[39m 1.0.9\n",
      "\u001b[32m✔\u001b[39m \u001b[34mtidyr  \u001b[39m 1.2.0     \u001b[32m✔\u001b[39m \u001b[34mstringr\u001b[39m 1.4.0\n",
      "\u001b[32m✔\u001b[39m \u001b[34mreadr  \u001b[39m 2.1.2     \u001b[32m✔\u001b[39m \u001b[34mforcats\u001b[39m 0.5.1\n",
      "\n",
      "── \u001b[1mConflicts\u001b[22m ────────────────────────────────────────── tidyverse_conflicts() ──\n",
      "\u001b[31m✖\u001b[39m \u001b[34mdplyr\u001b[39m::\u001b[32mfilter()\u001b[39m masks \u001b[34mstats\u001b[39m::filter()\n",
      "\u001b[31m✖\u001b[39m \u001b[34mdplyr\u001b[39m::\u001b[32mlag()\u001b[39m    masks \u001b[34mstats\u001b[39m::lag()\n",
      "\n"
     ]
    }
   ],
   "source": [
    "library(tidyverse)"
   ]
  },
  {
   "cell_type": "markdown",
   "id": "1464e490",
   "metadata": {},
   "source": [
    "How has this changed our R session? We now have access to all the objects defined by these packages. For example, `dplyr` happens to provide a table of example data on characters from the \"Star Wars\" universe. If the following works for you, then you’ve successfully attached the package."
   ]
  },
  {
   "cell_type": "code",
   "execution_count": 3,
   "id": "fde7fdb4",
   "metadata": {},
   "outputs": [
    {
     "data": {
      "text/html": [
       "<table class=\"dataframe\">\n",
       "<caption>A tibble: 6 × 14</caption>\n",
       "<thead>\n",
       "\t<tr><th scope=col>name</th><th scope=col>height</th><th scope=col>mass</th><th scope=col>hair_color</th><th scope=col>skin_color</th><th scope=col>eye_color</th><th scope=col>birth_year</th><th scope=col>sex</th><th scope=col>gender</th><th scope=col>homeworld</th><th scope=col>species</th><th scope=col>films</th><th scope=col>vehicles</th><th scope=col>starships</th></tr>\n",
       "\t<tr><th scope=col>&lt;chr&gt;</th><th scope=col>&lt;int&gt;</th><th scope=col>&lt;dbl&gt;</th><th scope=col>&lt;chr&gt;</th><th scope=col>&lt;chr&gt;</th><th scope=col>&lt;chr&gt;</th><th scope=col>&lt;dbl&gt;</th><th scope=col>&lt;chr&gt;</th><th scope=col>&lt;chr&gt;</th><th scope=col>&lt;chr&gt;</th><th scope=col>&lt;chr&gt;</th><th scope=col>&lt;list&gt;</th><th scope=col>&lt;list&gt;</th><th scope=col>&lt;list&gt;</th></tr>\n",
       "</thead>\n",
       "<tbody>\n",
       "\t<tr><td>Luke Skywalker</td><td>172</td><td> 77</td><td>blond      </td><td>fair       </td><td>blue  </td><td> 19.0</td><td>male  </td><td>masculine</td><td>Tatooine</td><td>Human</td><td>The Empire Strikes Back, Revenge of the Sith    , Return of the Jedi     , A New Hope             , The Force Awakens      </td><td>Snowspeeder          , Imperial Speeder Bike</td><td>X-wing          , Imperial shuttle</td></tr>\n",
       "\t<tr><td>C-3PO         </td><td>167</td><td> 75</td><td>NA         </td><td>gold       </td><td>yellow</td><td>112.0</td><td>none  </td><td>masculine</td><td>Tatooine</td><td>Droid</td><td>The Empire Strikes Back, Attack of the Clones   , The Phantom Menace     , Revenge of the Sith    , Return of the Jedi     , A New Hope             </td><td></td><td></td></tr>\n",
       "\t<tr><td>R2-D2         </td><td> 96</td><td> 32</td><td>NA         </td><td>white, blue</td><td>red   </td><td> 33.0</td><td>none  </td><td>masculine</td><td>Naboo   </td><td>Droid</td><td>The Empire Strikes Back, Attack of the Clones   , The Phantom Menace     , Revenge of the Sith    , Return of the Jedi     , A New Hope             , The Force Awakens      </td><td></td><td></td></tr>\n",
       "\t<tr><td>Darth Vader   </td><td>202</td><td>136</td><td>none       </td><td>white      </td><td>yellow</td><td> 41.9</td><td>male  </td><td>masculine</td><td>Tatooine</td><td>Human</td><td>The Empire Strikes Back, Revenge of the Sith    , Return of the Jedi     , A New Hope             </td><td></td><td>TIE Advanced x1</td></tr>\n",
       "\t<tr><td>Leia Organa   </td><td>150</td><td> 49</td><td>brown      </td><td>light      </td><td>brown </td><td> 19.0</td><td>female</td><td>feminine </td><td>Alderaan</td><td>Human</td><td>The Empire Strikes Back, Revenge of the Sith    , Return of the Jedi     , A New Hope             , The Force Awakens      </td><td>Imperial Speeder Bike</td><td></td></tr>\n",
       "\t<tr><td>Owen Lars     </td><td>178</td><td>120</td><td>brown, grey</td><td>light      </td><td>blue  </td><td> 52.0</td><td>male  </td><td>masculine</td><td>Tatooine</td><td>Human</td><td>Attack of the Clones, Revenge of the Sith , A New Hope          </td><td></td><td></td></tr>\n",
       "</tbody>\n",
       "</table>\n"
      ],
      "text/latex": [
       "A tibble: 6 × 14\n",
       "\\begin{tabular}{llllllllllllll}\n",
       " name & height & mass & hair\\_color & skin\\_color & eye\\_color & birth\\_year & sex & gender & homeworld & species & films & vehicles & starships\\\\\n",
       " <chr> & <int> & <dbl> & <chr> & <chr> & <chr> & <dbl> & <chr> & <chr> & <chr> & <chr> & <list> & <list> & <list>\\\\\n",
       "\\hline\n",
       "\t Luke Skywalker & 172 &  77 & blond       & fair        & blue   &  19.0 & male   & masculine & Tatooine & Human & The Empire Strikes Back, Revenge of the Sith    , Return of the Jedi     , A New Hope             , The Force Awakens       & Snowspeeder          , Imperial Speeder Bike & X-wing          , Imperial shuttle\\\\\n",
       "\t C-3PO          & 167 &  75 & NA          & gold        & yellow & 112.0 & none   & masculine & Tatooine & Droid & The Empire Strikes Back, Attack of the Clones   , The Phantom Menace     , Revenge of the Sith    , Return of the Jedi     , A New Hope              &  & \\\\\n",
       "\t R2-D2          &  96 &  32 & NA          & white, blue & red    &  33.0 & none   & masculine & Naboo    & Droid & The Empire Strikes Back, Attack of the Clones   , The Phantom Menace     , Revenge of the Sith    , Return of the Jedi     , A New Hope             , The Force Awakens       &  & \\\\\n",
       "\t Darth Vader    & 202 & 136 & none        & white       & yellow &  41.9 & male   & masculine & Tatooine & Human & The Empire Strikes Back, Revenge of the Sith    , Return of the Jedi     , A New Hope              &  & TIE Advanced x1\\\\\n",
       "\t Leia Organa    & 150 &  49 & brown       & light       & brown  &  19.0 & female & feminine  & Alderaan & Human & The Empire Strikes Back, Revenge of the Sith    , Return of the Jedi     , A New Hope             , The Force Awakens       & Imperial Speeder Bike & \\\\\n",
       "\t Owen Lars      & 178 & 120 & brown, grey & light       & blue   &  52.0 & male   & masculine & Tatooine & Human & Attack of the Clones, Revenge of the Sith , A New Hope           &  & \\\\\n",
       "\\end{tabular}\n"
      ],
      "text/markdown": [
       "\n",
       "A tibble: 6 × 14\n",
       "\n",
       "| name &lt;chr&gt; | height &lt;int&gt; | mass &lt;dbl&gt; | hair_color &lt;chr&gt; | skin_color &lt;chr&gt; | eye_color &lt;chr&gt; | birth_year &lt;dbl&gt; | sex &lt;chr&gt; | gender &lt;chr&gt; | homeworld &lt;chr&gt; | species &lt;chr&gt; | films &lt;list&gt; | vehicles &lt;list&gt; | starships &lt;list&gt; |\n",
       "|---|---|---|---|---|---|---|---|---|---|---|---|---|---|\n",
       "| Luke Skywalker | 172 |  77 | blond       | fair        | blue   |  19.0 | male   | masculine | Tatooine | Human | The Empire Strikes Back, Revenge of the Sith    , Return of the Jedi     , A New Hope             , The Force Awakens       | Snowspeeder          , Imperial Speeder Bike | X-wing          , Imperial shuttle |\n",
       "| C-3PO          | 167 |  75 | NA          | gold        | yellow | 112.0 | none   | masculine | Tatooine | Droid | The Empire Strikes Back, Attack of the Clones   , The Phantom Menace     , Revenge of the Sith    , Return of the Jedi     , A New Hope              | <!----> | <!----> |\n",
       "| R2-D2          |  96 |  32 | NA          | white, blue | red    |  33.0 | none   | masculine | Naboo    | Droid | The Empire Strikes Back, Attack of the Clones   , The Phantom Menace     , Revenge of the Sith    , Return of the Jedi     , A New Hope             , The Force Awakens       | <!----> | <!----> |\n",
       "| Darth Vader    | 202 | 136 | none        | white       | yellow |  41.9 | male   | masculine | Tatooine | Human | The Empire Strikes Back, Revenge of the Sith    , Return of the Jedi     , A New Hope              | <!----> | TIE Advanced x1 |\n",
       "| Leia Organa    | 150 |  49 | brown       | light       | brown  |  19.0 | female | feminine  | Alderaan | Human | The Empire Strikes Back, Revenge of the Sith    , Return of the Jedi     , A New Hope             , The Force Awakens       | Imperial Speeder Bike | <!----> |\n",
       "| Owen Lars      | 178 | 120 | brown, grey | light       | blue   |  52.0 | male   | masculine | Tatooine | Human | Attack of the Clones, Revenge of the Sith , A New Hope           | <!----> | <!----> |\n",
       "\n"
      ],
      "text/plain": [
       "  name           height mass hair_color  skin_color  eye_color birth_year\n",
       "1 Luke Skywalker 172     77  blond       fair        blue       19.0     \n",
       "2 C-3PO          167     75  NA          gold        yellow    112.0     \n",
       "3 R2-D2           96     32  NA          white, blue red        33.0     \n",
       "4 Darth Vader    202    136  none        white       yellow     41.9     \n",
       "5 Leia Organa    150     49  brown       light       brown      19.0     \n",
       "6 Owen Lars      178    120  brown, grey light       blue       52.0     \n",
       "  sex    gender    homeworld species\n",
       "1 male   masculine Tatooine  Human  \n",
       "2 none   masculine Tatooine  Droid  \n",
       "3 none   masculine Naboo     Droid  \n",
       "4 male   masculine Tatooine  Human  \n",
       "5 female feminine  Alderaan  Human  \n",
       "6 male   masculine Tatooine  Human  \n",
       "  films                                                                                                                                                                        \n",
       "1 The Empire Strikes Back, Revenge of the Sith    , Return of the Jedi     , A New Hope             , The Force Awakens                                                        \n",
       "2 The Empire Strikes Back, Attack of the Clones   , The Phantom Menace     , Revenge of the Sith    , Return of the Jedi     , A New Hope                                      \n",
       "3 The Empire Strikes Back, Attack of the Clones   , The Phantom Menace     , Revenge of the Sith    , Return of the Jedi     , A New Hope             , The Force Awakens      \n",
       "4 The Empire Strikes Back, Revenge of the Sith    , Return of the Jedi     , A New Hope                                                                                        \n",
       "5 The Empire Strikes Back, Revenge of the Sith    , Return of the Jedi     , A New Hope             , The Force Awakens                                                        \n",
       "6 Attack of the Clones, Revenge of the Sith , A New Hope                                                                                                                       \n",
       "  vehicles                                    \n",
       "1 Snowspeeder          , Imperial Speeder Bike\n",
       "2                                             \n",
       "3                                             \n",
       "4                                             \n",
       "5 Imperial Speeder Bike                       \n",
       "6                                             \n",
       "  starships                         \n",
       "1 X-wing          , Imperial shuttle\n",
       "2                                   \n",
       "3                                   \n",
       "4 TIE Advanced x1                   \n",
       "5                                   \n",
       "6                                   "
      ]
     },
     "metadata": {},
     "output_type": "display_data"
    }
   ],
   "source": [
    "head(starwars)"
   ]
  },
  {
   "cell_type": "markdown",
   "id": "de5ef46d",
   "metadata": {},
   "source": [
    "## Life in the tidyverse\n",
    "\n",
    "For the purposes of this tutorial, working with tidyverse packages introduces a couple of new features that expand what we can do with R:\n",
    "\n",
    " - a more powerful tabular data structure, the **tibble**\n",
    " - a coherent suite of text processing tools, **stringr**\n",
    " - a suite of visualization tools, **ggplot2**\n",
    " - a useful programming construct, the **pipe** `%>%`\n",
    " \n",
    "You can pick and choose among these and other tidyverse features. Some may be just what you never knew you always needed, and others may be flummoxing. Some may be both!\n",
    "\n",
    "Tidyverse also brings along a coherent worldview: the [home page](https://www.tidyverse.org/) of the project describes it as \"an *opinionated* collection of R packages designed for data science\" \\[emphasis added\\]. In particular, tidy R tends to favour:\n",
    "\n",
    " - **tidy data**: every column is a variable and every row is an observation\n",
    " - **functional programming**: code focuses on verbs, not nouns\n",
    " \n",
    "Again, you can take or leave these attitudes, but you’ll certainly encounter them in the literature.\n",
    "\n",
    "### Tibbles\n",
    "\n",
    "Tibbles are more or less a drop-in replacement for data frames that are specially designed for transforming and re-shaping tidy data.\n",
    "\n",
    "Let’s load the *Iliad* speech data from our previous example, this time as a tibble."
   ]
  },
  {
   "cell_type": "code",
   "execution_count": 4,
   "id": "d3193323",
   "metadata": {},
   "outputs": [
    {
     "name": "stderr",
     "output_type": "stream",
     "text": [
      "\u001b[1mRows: \u001b[22m\u001b[34m698\u001b[39m \u001b[1mColumns: \u001b[22m\u001b[34m12\u001b[39m\n",
      "\u001b[36m──\u001b[39m \u001b[1mColumn specification\u001b[22m \u001b[36m────────────────────────────────────────────────────────\u001b[39m\n",
      "\u001b[1mDelimiter:\u001b[22m \",\"\n",
      "\u001b[31mchr\u001b[39m (5): work, speaker, addressee, simple_cluster_type, spkr_type\n",
      "\u001b[32mdbl\u001b[39m (7): book, from_line, to_line, cluster_id, cluster_part, length, embedde...\n",
      "\n",
      "\u001b[36mℹ\u001b[39m Use `spec()` to retrieve the full column specification for this data.\n",
      "\u001b[36mℹ\u001b[39m Specify the column types or set `show_col_types = FALSE` to quiet this message.\n"
     ]
    }
   ],
   "source": [
    "filename <- 'https://raw.githubusercontent.com/cwf2/rostock_r/main/data/iliad_speeches.csv'\n",
    "speeches <- read_csv(filename)"
   ]
  },
  {
   "cell_type": "markdown",
   "id": "bc5f18b9",
   "metadata": {},
   "source": [
    "⚠️ The function used here is `read_csv()`, provided by the package **readr**, and *not* `read.csv()` from base R.\n",
    "\n"
   ]
  },
  {
   "cell_type": "code",
   "execution_count": 5,
   "id": "61fd1889",
   "metadata": {},
   "outputs": [
    {
     "name": "stdout",
     "output_type": "stream",
     "text": [
      "\u001b[90m# A tibble: 698 × 12\u001b[39m\n",
      "   work   book from_line to_line speaker   addressee     cluster_id cluster_part\n",
      "   \u001b[3m\u001b[90m<chr>\u001b[39m\u001b[23m \u001b[3m\u001b[90m<dbl>\u001b[39m\u001b[23m     \u001b[3m\u001b[90m<dbl>\u001b[39m\u001b[23m   \u001b[3m\u001b[90m<dbl>\u001b[39m\u001b[23m \u001b[3m\u001b[90m<chr>\u001b[39m\u001b[23m     \u001b[3m\u001b[90m<chr>\u001b[39m\u001b[23m              \u001b[3m\u001b[90m<dbl>\u001b[39m\u001b[23m        \u001b[3m\u001b[90m<dbl>\u001b[39m\u001b[23m\n",
      "\u001b[90m 1\u001b[39m Iliad     1        17      21 Chryses   Agamemnon an…          1            1\n",
      "\u001b[90m 2\u001b[39m Iliad     1        26      32 Agamemnon Chryses                1            2\n",
      "\u001b[90m 3\u001b[39m Iliad     1        37      42 Chryses   Apollo                 2            1\n",
      "\u001b[90m 4\u001b[39m Iliad     1        59      67 Achilles  Agamemnon              3            1\n",
      "\u001b[90m 5\u001b[39m Iliad     1        74      83 Calchas   Achilles               3            2\n",
      "\u001b[90m 6\u001b[39m Iliad     1        85      91 Achilles  Calchas                3            3\n",
      "\u001b[90m 7\u001b[39m Iliad     1        93     100 Calchas   Achilles               3            4\n",
      "\u001b[90m 8\u001b[39m Iliad     1       106     120 Agamemnon Calchas                3            5\n",
      "\u001b[90m 9\u001b[39m Iliad     1       122     129 Achilles  Agamemnon              3            6\n",
      "\u001b[90m10\u001b[39m Iliad     1       131     147 Agamemnon Achilles               3            7\n",
      "\u001b[90m# … with 688 more rows, and 4 more variables: simple_cluster_type <chr>,\u001b[39m\n",
      "\u001b[90m#   length <dbl>, embedded_level <dbl>, spkr_type <chr>\u001b[39m\n"
     ]
    }
   ],
   "source": [
    "print(speeches)"
   ]
  },
  {
   "cell_type": "markdown",
   "id": "d5c419fe",
   "metadata": {},
   "source": [
    "### Subsetting data in a tibble\n",
    "\n",
    "You can index a tibble in the same way you do a data frame:"
   ]
  },
  {
   "cell_type": "code",
   "execution_count": 6,
   "id": "5dbbeeb0",
   "metadata": {},
   "outputs": [
    {
     "data": {
      "text/html": [
       "<table class=\"dataframe\">\n",
       "<caption>A tibble: 5 × 12</caption>\n",
       "<thead>\n",
       "\t<tr><th scope=col>work</th><th scope=col>book</th><th scope=col>from_line</th><th scope=col>to_line</th><th scope=col>speaker</th><th scope=col>addressee</th><th scope=col>cluster_id</th><th scope=col>cluster_part</th><th scope=col>simple_cluster_type</th><th scope=col>length</th><th scope=col>embedded_level</th><th scope=col>spkr_type</th></tr>\n",
       "\t<tr><th scope=col>&lt;chr&gt;</th><th scope=col>&lt;dbl&gt;</th><th scope=col>&lt;dbl&gt;</th><th scope=col>&lt;dbl&gt;</th><th scope=col>&lt;chr&gt;</th><th scope=col>&lt;chr&gt;</th><th scope=col>&lt;dbl&gt;</th><th scope=col>&lt;dbl&gt;</th><th scope=col>&lt;chr&gt;</th><th scope=col>&lt;dbl&gt;</th><th scope=col>&lt;dbl&gt;</th><th scope=col>&lt;chr&gt;</th></tr>\n",
       "</thead>\n",
       "<tbody>\n",
       "\t<tr><td>Iliad</td><td>1</td><td>17</td><td>21</td><td>Chryses  </td><td>Agamemnon and Greeks</td><td>1</td><td>1</td><td>general interlocution</td><td> 5</td><td>0</td><td>mortal</td></tr>\n",
       "\t<tr><td>Iliad</td><td>1</td><td>26</td><td>32</td><td>Agamemnon</td><td>Chryses             </td><td>1</td><td>2</td><td>general interlocution</td><td> 7</td><td>0</td><td>mortal</td></tr>\n",
       "\t<tr><td>Iliad</td><td>1</td><td>37</td><td>42</td><td>Chryses  </td><td>Apollo              </td><td>2</td><td>1</td><td>monologue            </td><td> 6</td><td>0</td><td>mortal</td></tr>\n",
       "\t<tr><td>Iliad</td><td>1</td><td>59</td><td>67</td><td>Achilles </td><td>Agamemnon           </td><td>3</td><td>1</td><td>general interlocution</td><td> 9</td><td>0</td><td>mortal</td></tr>\n",
       "\t<tr><td>Iliad</td><td>1</td><td>74</td><td>83</td><td>Calchas  </td><td>Achilles            </td><td>3</td><td>2</td><td>general interlocution</td><td>10</td><td>0</td><td>mortal</td></tr>\n",
       "</tbody>\n",
       "</table>\n"
      ],
      "text/latex": [
       "A tibble: 5 × 12\n",
       "\\begin{tabular}{llllllllllll}\n",
       " work & book & from\\_line & to\\_line & speaker & addressee & cluster\\_id & cluster\\_part & simple\\_cluster\\_type & length & embedded\\_level & spkr\\_type\\\\\n",
       " <chr> & <dbl> & <dbl> & <dbl> & <chr> & <chr> & <dbl> & <dbl> & <chr> & <dbl> & <dbl> & <chr>\\\\\n",
       "\\hline\n",
       "\t Iliad & 1 & 17 & 21 & Chryses   & Agamemnon and Greeks & 1 & 1 & general interlocution &  5 & 0 & mortal\\\\\n",
       "\t Iliad & 1 & 26 & 32 & Agamemnon & Chryses              & 1 & 2 & general interlocution &  7 & 0 & mortal\\\\\n",
       "\t Iliad & 1 & 37 & 42 & Chryses   & Apollo               & 2 & 1 & monologue             &  6 & 0 & mortal\\\\\n",
       "\t Iliad & 1 & 59 & 67 & Achilles  & Agamemnon            & 3 & 1 & general interlocution &  9 & 0 & mortal\\\\\n",
       "\t Iliad & 1 & 74 & 83 & Calchas   & Achilles             & 3 & 2 & general interlocution & 10 & 0 & mortal\\\\\n",
       "\\end{tabular}\n"
      ],
      "text/markdown": [
       "\n",
       "A tibble: 5 × 12\n",
       "\n",
       "| work &lt;chr&gt; | book &lt;dbl&gt; | from_line &lt;dbl&gt; | to_line &lt;dbl&gt; | speaker &lt;chr&gt; | addressee &lt;chr&gt; | cluster_id &lt;dbl&gt; | cluster_part &lt;dbl&gt; | simple_cluster_type &lt;chr&gt; | length &lt;dbl&gt; | embedded_level &lt;dbl&gt; | spkr_type &lt;chr&gt; |\n",
       "|---|---|---|---|---|---|---|---|---|---|---|---|\n",
       "| Iliad | 1 | 17 | 21 | Chryses   | Agamemnon and Greeks | 1 | 1 | general interlocution |  5 | 0 | mortal |\n",
       "| Iliad | 1 | 26 | 32 | Agamemnon | Chryses              | 1 | 2 | general interlocution |  7 | 0 | mortal |\n",
       "| Iliad | 1 | 37 | 42 | Chryses   | Apollo               | 2 | 1 | monologue             |  6 | 0 | mortal |\n",
       "| Iliad | 1 | 59 | 67 | Achilles  | Agamemnon            | 3 | 1 | general interlocution |  9 | 0 | mortal |\n",
       "| Iliad | 1 | 74 | 83 | Calchas   | Achilles             | 3 | 2 | general interlocution | 10 | 0 | mortal |\n",
       "\n"
      ],
      "text/plain": [
       "  work  book from_line to_line speaker   addressee            cluster_id\n",
       "1 Iliad 1    17        21      Chryses   Agamemnon and Greeks 1         \n",
       "2 Iliad 1    26        32      Agamemnon Chryses              1         \n",
       "3 Iliad 1    37        42      Chryses   Apollo               2         \n",
       "4 Iliad 1    59        67      Achilles  Agamemnon            3         \n",
       "5 Iliad 1    74        83      Calchas   Achilles             3         \n",
       "  cluster_part simple_cluster_type   length embedded_level spkr_type\n",
       "1 1            general interlocution  5     0              mortal   \n",
       "2 2            general interlocution  7     0              mortal   \n",
       "3 1            monologue              6     0              mortal   \n",
       "4 1            general interlocution  9     0              mortal   \n",
       "5 2            general interlocution 10     0              mortal   "
      ]
     },
     "metadata": {},
     "output_type": "display_data"
    }
   ],
   "source": [
    "speeches[1:5,]"
   ]
  },
  {
   "cell_type": "code",
   "execution_count": 7,
   "id": "aea128b5",
   "metadata": {},
   "outputs": [
    {
     "data": {
      "text/html": [
       "<table class=\"dataframe\">\n",
       "<caption>A tibble: 7 × 3</caption>\n",
       "<thead>\n",
       "\t<tr><th scope=col>speaker</th><th scope=col>addressee</th><th scope=col>length</th></tr>\n",
       "\t<tr><th scope=col>&lt;chr&gt;</th><th scope=col>&lt;chr&gt;</th><th scope=col>&lt;dbl&gt;</th></tr>\n",
       "</thead>\n",
       "<tbody>\n",
       "\t<tr><td>Aphrodite</td><td>Helena</td><td>5</td></tr>\n",
       "\t<tr><td>Aphrodite</td><td>Helena</td><td>4</td></tr>\n",
       "\t<tr><td>Aphrodite</td><td>Ares  </td><td>4</td></tr>\n",
       "\t<tr><td>Aphrodite</td><td>Dione </td><td>5</td></tr>\n",
       "\t<tr><td>Aphrodite</td><td>Hera  </td><td>3</td></tr>\n",
       "\t<tr><td>Aphrodite</td><td>Hera  </td><td>2</td></tr>\n",
       "\t<tr><td>Aphrodite</td><td>Hera  </td><td>3</td></tr>\n",
       "</tbody>\n",
       "</table>\n"
      ],
      "text/latex": [
       "A tibble: 7 × 3\n",
       "\\begin{tabular}{lll}\n",
       " speaker & addressee & length\\\\\n",
       " <chr> & <chr> & <dbl>\\\\\n",
       "\\hline\n",
       "\t Aphrodite & Helena & 5\\\\\n",
       "\t Aphrodite & Helena & 4\\\\\n",
       "\t Aphrodite & Ares   & 4\\\\\n",
       "\t Aphrodite & Dione  & 5\\\\\n",
       "\t Aphrodite & Hera   & 3\\\\\n",
       "\t Aphrodite & Hera   & 2\\\\\n",
       "\t Aphrodite & Hera   & 3\\\\\n",
       "\\end{tabular}\n"
      ],
      "text/markdown": [
       "\n",
       "A tibble: 7 × 3\n",
       "\n",
       "| speaker &lt;chr&gt; | addressee &lt;chr&gt; | length &lt;dbl&gt; |\n",
       "|---|---|---|\n",
       "| Aphrodite | Helena | 5 |\n",
       "| Aphrodite | Helena | 4 |\n",
       "| Aphrodite | Ares   | 4 |\n",
       "| Aphrodite | Dione  | 5 |\n",
       "| Aphrodite | Hera   | 3 |\n",
       "| Aphrodite | Hera   | 2 |\n",
       "| Aphrodite | Hera   | 3 |\n",
       "\n"
      ],
      "text/plain": [
       "  speaker   addressee length\n",
       "1 Aphrodite Helena    5     \n",
       "2 Aphrodite Helena    4     \n",
       "3 Aphrodite Ares      4     \n",
       "4 Aphrodite Dione     5     \n",
       "5 Aphrodite Hera      3     \n",
       "6 Aphrodite Hera      2     \n",
       "7 Aphrodite Hera      3     "
      ]
     },
     "metadata": {},
     "output_type": "display_data"
    }
   ],
   "source": [
    "speeches[speeches$speaker == 'Aphrodite', c('speaker', 'addressee', 'length')]"
   ]
  },
  {
   "cell_type": "markdown",
   "id": "3d1b6499",
   "metadata": {},
   "source": [
    "But the preferred method for accessing a subset of tibble data is with two new functions:\n",
    "- `filter()`, for subsetting rows\n",
    "- `select()`, for subsetting columns"
   ]
  },
  {
   "cell_type": "code",
   "execution_count": 8,
   "id": "73446182",
   "metadata": {},
   "outputs": [
    {
     "data": {
      "text/html": [
       "<table class=\"dataframe\">\n",
       "<caption>A spec_tbl_df: 7 × 12</caption>\n",
       "<thead>\n",
       "\t<tr><th scope=col>work</th><th scope=col>book</th><th scope=col>from_line</th><th scope=col>to_line</th><th scope=col>speaker</th><th scope=col>addressee</th><th scope=col>cluster_id</th><th scope=col>cluster_part</th><th scope=col>simple_cluster_type</th><th scope=col>length</th><th scope=col>embedded_level</th><th scope=col>spkr_type</th></tr>\n",
       "\t<tr><th scope=col>&lt;chr&gt;</th><th scope=col>&lt;dbl&gt;</th><th scope=col>&lt;dbl&gt;</th><th scope=col>&lt;dbl&gt;</th><th scope=col>&lt;chr&gt;</th><th scope=col>&lt;chr&gt;</th><th scope=col>&lt;dbl&gt;</th><th scope=col>&lt;dbl&gt;</th><th scope=col>&lt;chr&gt;</th><th scope=col>&lt;dbl&gt;</th><th scope=col>&lt;dbl&gt;</th><th scope=col>&lt;chr&gt;</th></tr>\n",
       "</thead>\n",
       "<tbody>\n",
       "\t<tr><td>Iliad</td><td> 3</td><td>390</td><td>394</td><td>Aphrodite</td><td>Helena</td><td> 43</td><td>1</td><td>dialogue </td><td>5</td><td>0</td><td>god</td></tr>\n",
       "\t<tr><td>Iliad</td><td> 3</td><td>414</td><td>417</td><td>Aphrodite</td><td>Helena</td><td> 43</td><td>3</td><td>dialogue </td><td>4</td><td>0</td><td>god</td></tr>\n",
       "\t<tr><td>Iliad</td><td> 5</td><td>359</td><td>362</td><td>Aphrodite</td><td>Ares  </td><td> 70</td><td>1</td><td>monologue</td><td>4</td><td>0</td><td>god</td></tr>\n",
       "\t<tr><td>Iliad</td><td> 5</td><td>376</td><td>380</td><td>Aphrodite</td><td>Dione </td><td> 71</td><td>2</td><td>dialogue </td><td>5</td><td>0</td><td>god</td></tr>\n",
       "\t<tr><td>Iliad</td><td>14</td><td>194</td><td>196</td><td>Aphrodite</td><td>Hera  </td><td>200</td><td>2</td><td>dialogue </td><td>3</td><td>0</td><td>god</td></tr>\n",
       "\t<tr><td>Iliad</td><td>14</td><td>212</td><td>213</td><td>Aphrodite</td><td>Hera  </td><td>200</td><td>4</td><td>dialogue </td><td>2</td><td>0</td><td>god</td></tr>\n",
       "\t<tr><td>Iliad</td><td>14</td><td>219</td><td>221</td><td>Aphrodite</td><td>Hera  </td><td>200</td><td>5</td><td>dialogue </td><td>3</td><td>0</td><td>god</td></tr>\n",
       "</tbody>\n",
       "</table>\n"
      ],
      "text/latex": [
       "A spec\\_tbl\\_df: 7 × 12\n",
       "\\begin{tabular}{llllllllllll}\n",
       " work & book & from\\_line & to\\_line & speaker & addressee & cluster\\_id & cluster\\_part & simple\\_cluster\\_type & length & embedded\\_level & spkr\\_type\\\\\n",
       " <chr> & <dbl> & <dbl> & <dbl> & <chr> & <chr> & <dbl> & <dbl> & <chr> & <dbl> & <dbl> & <chr>\\\\\n",
       "\\hline\n",
       "\t Iliad &  3 & 390 & 394 & Aphrodite & Helena &  43 & 1 & dialogue  & 5 & 0 & god\\\\\n",
       "\t Iliad &  3 & 414 & 417 & Aphrodite & Helena &  43 & 3 & dialogue  & 4 & 0 & god\\\\\n",
       "\t Iliad &  5 & 359 & 362 & Aphrodite & Ares   &  70 & 1 & monologue & 4 & 0 & god\\\\\n",
       "\t Iliad &  5 & 376 & 380 & Aphrodite & Dione  &  71 & 2 & dialogue  & 5 & 0 & god\\\\\n",
       "\t Iliad & 14 & 194 & 196 & Aphrodite & Hera   & 200 & 2 & dialogue  & 3 & 0 & god\\\\\n",
       "\t Iliad & 14 & 212 & 213 & Aphrodite & Hera   & 200 & 4 & dialogue  & 2 & 0 & god\\\\\n",
       "\t Iliad & 14 & 219 & 221 & Aphrodite & Hera   & 200 & 5 & dialogue  & 3 & 0 & god\\\\\n",
       "\\end{tabular}\n"
      ],
      "text/markdown": [
       "\n",
       "A spec_tbl_df: 7 × 12\n",
       "\n",
       "| work &lt;chr&gt; | book &lt;dbl&gt; | from_line &lt;dbl&gt; | to_line &lt;dbl&gt; | speaker &lt;chr&gt; | addressee &lt;chr&gt; | cluster_id &lt;dbl&gt; | cluster_part &lt;dbl&gt; | simple_cluster_type &lt;chr&gt; | length &lt;dbl&gt; | embedded_level &lt;dbl&gt; | spkr_type &lt;chr&gt; |\n",
       "|---|---|---|---|---|---|---|---|---|---|---|---|\n",
       "| Iliad |  3 | 390 | 394 | Aphrodite | Helena |  43 | 1 | dialogue  | 5 | 0 | god |\n",
       "| Iliad |  3 | 414 | 417 | Aphrodite | Helena |  43 | 3 | dialogue  | 4 | 0 | god |\n",
       "| Iliad |  5 | 359 | 362 | Aphrodite | Ares   |  70 | 1 | monologue | 4 | 0 | god |\n",
       "| Iliad |  5 | 376 | 380 | Aphrodite | Dione  |  71 | 2 | dialogue  | 5 | 0 | god |\n",
       "| Iliad | 14 | 194 | 196 | Aphrodite | Hera   | 200 | 2 | dialogue  | 3 | 0 | god |\n",
       "| Iliad | 14 | 212 | 213 | Aphrodite | Hera   | 200 | 4 | dialogue  | 2 | 0 | god |\n",
       "| Iliad | 14 | 219 | 221 | Aphrodite | Hera   | 200 | 5 | dialogue  | 3 | 0 | god |\n",
       "\n"
      ],
      "text/plain": [
       "  work  book from_line to_line speaker   addressee cluster_id cluster_part\n",
       "1 Iliad  3   390       394     Aphrodite Helena     43        1           \n",
       "2 Iliad  3   414       417     Aphrodite Helena     43        3           \n",
       "3 Iliad  5   359       362     Aphrodite Ares       70        1           \n",
       "4 Iliad  5   376       380     Aphrodite Dione      71        2           \n",
       "5 Iliad 14   194       196     Aphrodite Hera      200        2           \n",
       "6 Iliad 14   212       213     Aphrodite Hera      200        4           \n",
       "7 Iliad 14   219       221     Aphrodite Hera      200        5           \n",
       "  simple_cluster_type length embedded_level spkr_type\n",
       "1 dialogue            5      0              god      \n",
       "2 dialogue            4      0              god      \n",
       "3 monologue           4      0              god      \n",
       "4 dialogue            5      0              god      \n",
       "5 dialogue            3      0              god      \n",
       "6 dialogue            2      0              god      \n",
       "7 dialogue            3      0              god      "
      ]
     },
     "metadata": {},
     "output_type": "display_data"
    }
   ],
   "source": [
    "filter(speeches, speaker=='Aphrodite')"
   ]
  },
  {
   "cell_type": "code",
   "execution_count": 9,
   "id": "0683bc92",
   "metadata": {},
   "outputs": [
    {
     "data": {
      "text/html": [
       "<table class=\"dataframe\">\n",
       "<caption>A tibble: 698 × 2</caption>\n",
       "<thead>\n",
       "\t<tr><th scope=col>speaker</th><th scope=col>addressee</th></tr>\n",
       "\t<tr><th scope=col>&lt;chr&gt;</th><th scope=col>&lt;chr&gt;</th></tr>\n",
       "</thead>\n",
       "<tbody>\n",
       "\t<tr><td>Chryses  </td><td>Agamemnon and Greeks                  </td></tr>\n",
       "\t<tr><td>Agamemnon</td><td>Chryses                               </td></tr>\n",
       "\t<tr><td>Chryses  </td><td>Apollo                                </td></tr>\n",
       "\t<tr><td>Achilles </td><td>Agamemnon                             </td></tr>\n",
       "\t<tr><td>Calchas  </td><td>Achilles                              </td></tr>\n",
       "\t<tr><td>Achilles </td><td>Calchas                               </td></tr>\n",
       "\t<tr><td>Calchas  </td><td>Achilles                              </td></tr>\n",
       "\t<tr><td>Agamemnon</td><td>Calchas                               </td></tr>\n",
       "\t<tr><td>Achilles </td><td>Agamemnon                             </td></tr>\n",
       "\t<tr><td>Agamemnon</td><td>Achilles                              </td></tr>\n",
       "\t<tr><td>Achilles </td><td>Agamemnon                             </td></tr>\n",
       "\t<tr><td>Agamemnon</td><td>Achilles                              </td></tr>\n",
       "\t<tr><td>Achilles </td><td>Athena                                </td></tr>\n",
       "\t<tr><td>Athena   </td><td>Achilles                              </td></tr>\n",
       "\t<tr><td>Achilles </td><td>Athena                                </td></tr>\n",
       "\t<tr><td>Achilles </td><td>Agamemnon                             </td></tr>\n",
       "\t<tr><td>Nestor   </td><td>Agamemnon and Achilles                </td></tr>\n",
       "\t<tr><td>Agamemnon</td><td>Nestor                                </td></tr>\n",
       "\t<tr><td>Achilles </td><td>Agamemnon                             </td></tr>\n",
       "\t<tr><td>Agamemnon</td><td>Talthybius and Eurybates              </td></tr>\n",
       "\t<tr><td>Achilles </td><td>Talthybius and Eurybates and Patroclus</td></tr>\n",
       "\t<tr><td>Achilles </td><td>Thetis                                </td></tr>\n",
       "\t<tr><td>Thetis   </td><td>Achilles                              </td></tr>\n",
       "\t<tr><td>Achilles </td><td>Thetis                                </td></tr>\n",
       "\t<tr><td>Thetis   </td><td>Achilles                              </td></tr>\n",
       "\t<tr><td>Odysseus </td><td>Chryses                               </td></tr>\n",
       "\t<tr><td>Chryses  </td><td>Apollo                                </td></tr>\n",
       "\t<tr><td>Thetis   </td><td>Zeus                                  </td></tr>\n",
       "\t<tr><td>Thetis   </td><td>Zeus                                  </td></tr>\n",
       "\t<tr><td>Zeus     </td><td>Thetis                                </td></tr>\n",
       "\t<tr><td>⋮</td><td>⋮</td></tr>\n",
       "\t<tr><td>Priam     </td><td>Zeus     </td></tr>\n",
       "\t<tr><td>Zeus      </td><td>Hermes   </td></tr>\n",
       "\t<tr><td>Idaeus    </td><td>Priam    </td></tr>\n",
       "\t<tr><td>Hermes    </td><td>Priam    </td></tr>\n",
       "\t<tr><td>Priam     </td><td>Hermes   </td></tr>\n",
       "\t<tr><td>Hermes    </td><td>Priam    </td></tr>\n",
       "\t<tr><td>Priam     </td><td>Hermes   </td></tr>\n",
       "\t<tr><td>Hermes    </td><td>Priam    </td></tr>\n",
       "\t<tr><td>Priam     </td><td>Hermes   </td></tr>\n",
       "\t<tr><td>Hermes    </td><td>Priam    </td></tr>\n",
       "\t<tr><td>Priam     </td><td>Hermes   </td></tr>\n",
       "\t<tr><td>Hermes    </td><td>Priam    </td></tr>\n",
       "\t<tr><td>Hermes    </td><td>Priam    </td></tr>\n",
       "\t<tr><td>Priam     </td><td>Achilles </td></tr>\n",
       "\t<tr><td>Achilles  </td><td>Priam    </td></tr>\n",
       "\t<tr><td>Priam     </td><td>Achilles </td></tr>\n",
       "\t<tr><td>Achilles  </td><td>Priam    </td></tr>\n",
       "\t<tr><td>Achilles  </td><td>Patroclus</td></tr>\n",
       "\t<tr><td>Achilles  </td><td>Priam    </td></tr>\n",
       "\t<tr><td>Priam     </td><td>Achilles </td></tr>\n",
       "\t<tr><td>Achilles  </td><td>Priam    </td></tr>\n",
       "\t<tr><td>Priam     </td><td>Achilles </td></tr>\n",
       "\t<tr><td>Achilles  </td><td>Priam    </td></tr>\n",
       "\t<tr><td>Hermes    </td><td>Priam    </td></tr>\n",
       "\t<tr><td>Cassandra </td><td>Trojans  </td></tr>\n",
       "\t<tr><td>Priam     </td><td>Trojans  </td></tr>\n",
       "\t<tr><td>Andromache</td><td>Hector   </td></tr>\n",
       "\t<tr><td>Hecuba    </td><td>Hector   </td></tr>\n",
       "\t<tr><td>Helena    </td><td>Hector   </td></tr>\n",
       "\t<tr><td>Priam     </td><td>Trojans  </td></tr>\n",
       "</tbody>\n",
       "</table>\n"
      ],
      "text/latex": [
       "A tibble: 698 × 2\n",
       "\\begin{tabular}{ll}\n",
       " speaker & addressee\\\\\n",
       " <chr> & <chr>\\\\\n",
       "\\hline\n",
       "\t Chryses   & Agamemnon and Greeks                  \\\\\n",
       "\t Agamemnon & Chryses                               \\\\\n",
       "\t Chryses   & Apollo                                \\\\\n",
       "\t Achilles  & Agamemnon                             \\\\\n",
       "\t Calchas   & Achilles                              \\\\\n",
       "\t Achilles  & Calchas                               \\\\\n",
       "\t Calchas   & Achilles                              \\\\\n",
       "\t Agamemnon & Calchas                               \\\\\n",
       "\t Achilles  & Agamemnon                             \\\\\n",
       "\t Agamemnon & Achilles                              \\\\\n",
       "\t Achilles  & Agamemnon                             \\\\\n",
       "\t Agamemnon & Achilles                              \\\\\n",
       "\t Achilles  & Athena                                \\\\\n",
       "\t Athena    & Achilles                              \\\\\n",
       "\t Achilles  & Athena                                \\\\\n",
       "\t Achilles  & Agamemnon                             \\\\\n",
       "\t Nestor    & Agamemnon and Achilles                \\\\\n",
       "\t Agamemnon & Nestor                                \\\\\n",
       "\t Achilles  & Agamemnon                             \\\\\n",
       "\t Agamemnon & Talthybius and Eurybates              \\\\\n",
       "\t Achilles  & Talthybius and Eurybates and Patroclus\\\\\n",
       "\t Achilles  & Thetis                                \\\\\n",
       "\t Thetis    & Achilles                              \\\\\n",
       "\t Achilles  & Thetis                                \\\\\n",
       "\t Thetis    & Achilles                              \\\\\n",
       "\t Odysseus  & Chryses                               \\\\\n",
       "\t Chryses   & Apollo                                \\\\\n",
       "\t Thetis    & Zeus                                  \\\\\n",
       "\t Thetis    & Zeus                                  \\\\\n",
       "\t Zeus      & Thetis                                \\\\\n",
       "\t ⋮ & ⋮\\\\\n",
       "\t Priam      & Zeus     \\\\\n",
       "\t Zeus       & Hermes   \\\\\n",
       "\t Idaeus     & Priam    \\\\\n",
       "\t Hermes     & Priam    \\\\\n",
       "\t Priam      & Hermes   \\\\\n",
       "\t Hermes     & Priam    \\\\\n",
       "\t Priam      & Hermes   \\\\\n",
       "\t Hermes     & Priam    \\\\\n",
       "\t Priam      & Hermes   \\\\\n",
       "\t Hermes     & Priam    \\\\\n",
       "\t Priam      & Hermes   \\\\\n",
       "\t Hermes     & Priam    \\\\\n",
       "\t Hermes     & Priam    \\\\\n",
       "\t Priam      & Achilles \\\\\n",
       "\t Achilles   & Priam    \\\\\n",
       "\t Priam      & Achilles \\\\\n",
       "\t Achilles   & Priam    \\\\\n",
       "\t Achilles   & Patroclus\\\\\n",
       "\t Achilles   & Priam    \\\\\n",
       "\t Priam      & Achilles \\\\\n",
       "\t Achilles   & Priam    \\\\\n",
       "\t Priam      & Achilles \\\\\n",
       "\t Achilles   & Priam    \\\\\n",
       "\t Hermes     & Priam    \\\\\n",
       "\t Cassandra  & Trojans  \\\\\n",
       "\t Priam      & Trojans  \\\\\n",
       "\t Andromache & Hector   \\\\\n",
       "\t Hecuba     & Hector   \\\\\n",
       "\t Helena     & Hector   \\\\\n",
       "\t Priam      & Trojans  \\\\\n",
       "\\end{tabular}\n"
      ],
      "text/markdown": [
       "\n",
       "A tibble: 698 × 2\n",
       "\n",
       "| speaker &lt;chr&gt; | addressee &lt;chr&gt; |\n",
       "|---|---|\n",
       "| Chryses   | Agamemnon and Greeks                   |\n",
       "| Agamemnon | Chryses                                |\n",
       "| Chryses   | Apollo                                 |\n",
       "| Achilles  | Agamemnon                              |\n",
       "| Calchas   | Achilles                               |\n",
       "| Achilles  | Calchas                                |\n",
       "| Calchas   | Achilles                               |\n",
       "| Agamemnon | Calchas                                |\n",
       "| Achilles  | Agamemnon                              |\n",
       "| Agamemnon | Achilles                               |\n",
       "| Achilles  | Agamemnon                              |\n",
       "| Agamemnon | Achilles                               |\n",
       "| Achilles  | Athena                                 |\n",
       "| Athena    | Achilles                               |\n",
       "| Achilles  | Athena                                 |\n",
       "| Achilles  | Agamemnon                              |\n",
       "| Nestor    | Agamemnon and Achilles                 |\n",
       "| Agamemnon | Nestor                                 |\n",
       "| Achilles  | Agamemnon                              |\n",
       "| Agamemnon | Talthybius and Eurybates               |\n",
       "| Achilles  | Talthybius and Eurybates and Patroclus |\n",
       "| Achilles  | Thetis                                 |\n",
       "| Thetis    | Achilles                               |\n",
       "| Achilles  | Thetis                                 |\n",
       "| Thetis    | Achilles                               |\n",
       "| Odysseus  | Chryses                                |\n",
       "| Chryses   | Apollo                                 |\n",
       "| Thetis    | Zeus                                   |\n",
       "| Thetis    | Zeus                                   |\n",
       "| Zeus      | Thetis                                 |\n",
       "| ⋮ | ⋮ |\n",
       "| Priam      | Zeus      |\n",
       "| Zeus       | Hermes    |\n",
       "| Idaeus     | Priam     |\n",
       "| Hermes     | Priam     |\n",
       "| Priam      | Hermes    |\n",
       "| Hermes     | Priam     |\n",
       "| Priam      | Hermes    |\n",
       "| Hermes     | Priam     |\n",
       "| Priam      | Hermes    |\n",
       "| Hermes     | Priam     |\n",
       "| Priam      | Hermes    |\n",
       "| Hermes     | Priam     |\n",
       "| Hermes     | Priam     |\n",
       "| Priam      | Achilles  |\n",
       "| Achilles   | Priam     |\n",
       "| Priam      | Achilles  |\n",
       "| Achilles   | Priam     |\n",
       "| Achilles   | Patroclus |\n",
       "| Achilles   | Priam     |\n",
       "| Priam      | Achilles  |\n",
       "| Achilles   | Priam     |\n",
       "| Priam      | Achilles  |\n",
       "| Achilles   | Priam     |\n",
       "| Hermes     | Priam     |\n",
       "| Cassandra  | Trojans   |\n",
       "| Priam      | Trojans   |\n",
       "| Andromache | Hector    |\n",
       "| Hecuba     | Hector    |\n",
       "| Helena     | Hector    |\n",
       "| Priam      | Trojans   |\n",
       "\n"
      ],
      "text/plain": [
       "    speaker    addressee                             \n",
       "1   Chryses    Agamemnon and Greeks                  \n",
       "2   Agamemnon  Chryses                               \n",
       "3   Chryses    Apollo                                \n",
       "4   Achilles   Agamemnon                             \n",
       "5   Calchas    Achilles                              \n",
       "6   Achilles   Calchas                               \n",
       "7   Calchas    Achilles                              \n",
       "8   Agamemnon  Calchas                               \n",
       "9   Achilles   Agamemnon                             \n",
       "10  Agamemnon  Achilles                              \n",
       "11  Achilles   Agamemnon                             \n",
       "12  Agamemnon  Achilles                              \n",
       "13  Achilles   Athena                                \n",
       "14  Athena     Achilles                              \n",
       "15  Achilles   Athena                                \n",
       "16  Achilles   Agamemnon                             \n",
       "17  Nestor     Agamemnon and Achilles                \n",
       "18  Agamemnon  Nestor                                \n",
       "19  Achilles   Agamemnon                             \n",
       "20  Agamemnon  Talthybius and Eurybates              \n",
       "21  Achilles   Talthybius and Eurybates and Patroclus\n",
       "22  Achilles   Thetis                                \n",
       "23  Thetis     Achilles                              \n",
       "24  Achilles   Thetis                                \n",
       "25  Thetis     Achilles                              \n",
       "26  Odysseus   Chryses                               \n",
       "27  Chryses    Apollo                                \n",
       "28  Thetis     Zeus                                  \n",
       "29  Thetis     Zeus                                  \n",
       "30  Zeus       Thetis                                \n",
       "⋮   ⋮          ⋮                                     \n",
       "669 Priam      Zeus                                  \n",
       "670 Zeus       Hermes                                \n",
       "671 Idaeus     Priam                                 \n",
       "672 Hermes     Priam                                 \n",
       "673 Priam      Hermes                                \n",
       "674 Hermes     Priam                                 \n",
       "675 Priam      Hermes                                \n",
       "676 Hermes     Priam                                 \n",
       "677 Priam      Hermes                                \n",
       "678 Hermes     Priam                                 \n",
       "679 Priam      Hermes                                \n",
       "680 Hermes     Priam                                 \n",
       "681 Hermes     Priam                                 \n",
       "682 Priam      Achilles                              \n",
       "683 Achilles   Priam                                 \n",
       "684 Priam      Achilles                              \n",
       "685 Achilles   Priam                                 \n",
       "686 Achilles   Patroclus                             \n",
       "687 Achilles   Priam                                 \n",
       "688 Priam      Achilles                              \n",
       "689 Achilles   Priam                                 \n",
       "690 Priam      Achilles                              \n",
       "691 Achilles   Priam                                 \n",
       "692 Hermes     Priam                                 \n",
       "693 Cassandra  Trojans                               \n",
       "694 Priam      Trojans                               \n",
       "695 Andromache Hector                                \n",
       "696 Hecuba     Hector                                \n",
       "697 Helena     Hector                                \n",
       "698 Priam      Trojans                               "
      ]
     },
     "metadata": {},
     "output_type": "display_data"
    }
   ],
   "source": [
    "select(speeches, c(speaker, addressee))"
   ]
  },
  {
   "cell_type": "markdown",
   "id": "7e1da296",
   "metadata": {},
   "source": [
    "Why functions? Because tidyverse likes verbs. But the elegance of this system will become apparent as soon as we introduce the pipe. The **pipe**, written `%>%` and pronounced (\"and then\"), is a way of chaining functions together. It takes whatever is on the right and calls it as a function, supplying whatever is on the left as the first argument.\n",
    "\n",
    "You use it like this:"
   ]
  },
  {
   "cell_type": "code",
   "execution_count": 10,
   "id": "6abceb7d",
   "metadata": {},
   "outputs": [
    {
     "data": {
      "text/html": [
       "<table class=\"dataframe\">\n",
       "<caption>A tibble: 7 × 2</caption>\n",
       "<thead>\n",
       "\t<tr><th scope=col>speaker</th><th scope=col>addressee</th></tr>\n",
       "\t<tr><th scope=col>&lt;chr&gt;</th><th scope=col>&lt;chr&gt;</th></tr>\n",
       "</thead>\n",
       "<tbody>\n",
       "\t<tr><td>Aphrodite</td><td>Helena</td></tr>\n",
       "\t<tr><td>Aphrodite</td><td>Helena</td></tr>\n",
       "\t<tr><td>Aphrodite</td><td>Ares  </td></tr>\n",
       "\t<tr><td>Aphrodite</td><td>Dione </td></tr>\n",
       "\t<tr><td>Aphrodite</td><td>Hera  </td></tr>\n",
       "\t<tr><td>Aphrodite</td><td>Hera  </td></tr>\n",
       "\t<tr><td>Aphrodite</td><td>Hera  </td></tr>\n",
       "</tbody>\n",
       "</table>\n"
      ],
      "text/latex": [
       "A tibble: 7 × 2\n",
       "\\begin{tabular}{ll}\n",
       " speaker & addressee\\\\\n",
       " <chr> & <chr>\\\\\n",
       "\\hline\n",
       "\t Aphrodite & Helena\\\\\n",
       "\t Aphrodite & Helena\\\\\n",
       "\t Aphrodite & Ares  \\\\\n",
       "\t Aphrodite & Dione \\\\\n",
       "\t Aphrodite & Hera  \\\\\n",
       "\t Aphrodite & Hera  \\\\\n",
       "\t Aphrodite & Hera  \\\\\n",
       "\\end{tabular}\n"
      ],
      "text/markdown": [
       "\n",
       "A tibble: 7 × 2\n",
       "\n",
       "| speaker &lt;chr&gt; | addressee &lt;chr&gt; |\n",
       "|---|---|\n",
       "| Aphrodite | Helena |\n",
       "| Aphrodite | Helena |\n",
       "| Aphrodite | Ares   |\n",
       "| Aphrodite | Dione  |\n",
       "| Aphrodite | Hera   |\n",
       "| Aphrodite | Hera   |\n",
       "| Aphrodite | Hera   |\n",
       "\n"
      ],
      "text/plain": [
       "  speaker   addressee\n",
       "1 Aphrodite Helena   \n",
       "2 Aphrodite Helena   \n",
       "3 Aphrodite Ares     \n",
       "4 Aphrodite Dione    \n",
       "5 Aphrodite Hera     \n",
       "6 Aphrodite Hera     \n",
       "7 Aphrodite Hera     "
      ]
     },
     "metadata": {},
     "output_type": "display_data"
    }
   ],
   "source": [
    "speeches %>% filter(speaker=='Aphrodite') %>% select(speaker, addressee)"
   ]
  },
  {
   "cell_type": "markdown",
   "id": "5f3f3b6c",
   "metadata": {},
   "source": [
    "That is,\n",
    "\n",
    "- start with speeches\n",
    "- *and then* filter by speaker\n",
    "- *and then* select speaker and addressee\n",
    "\n",
    "You could write this without the pipe as well:"
   ]
  },
  {
   "cell_type": "code",
   "execution_count": 11,
   "id": "7265bcc7",
   "metadata": {},
   "outputs": [
    {
     "data": {
      "text/html": [
       "<table class=\"dataframe\">\n",
       "<caption>A tibble: 7 × 2</caption>\n",
       "<thead>\n",
       "\t<tr><th scope=col>speaker</th><th scope=col>addressee</th></tr>\n",
       "\t<tr><th scope=col>&lt;chr&gt;</th><th scope=col>&lt;chr&gt;</th></tr>\n",
       "</thead>\n",
       "<tbody>\n",
       "\t<tr><td>Aphrodite</td><td>Helena</td></tr>\n",
       "\t<tr><td>Aphrodite</td><td>Helena</td></tr>\n",
       "\t<tr><td>Aphrodite</td><td>Ares  </td></tr>\n",
       "\t<tr><td>Aphrodite</td><td>Dione </td></tr>\n",
       "\t<tr><td>Aphrodite</td><td>Hera  </td></tr>\n",
       "\t<tr><td>Aphrodite</td><td>Hera  </td></tr>\n",
       "\t<tr><td>Aphrodite</td><td>Hera  </td></tr>\n",
       "</tbody>\n",
       "</table>\n"
      ],
      "text/latex": [
       "A tibble: 7 × 2\n",
       "\\begin{tabular}{ll}\n",
       " speaker & addressee\\\\\n",
       " <chr> & <chr>\\\\\n",
       "\\hline\n",
       "\t Aphrodite & Helena\\\\\n",
       "\t Aphrodite & Helena\\\\\n",
       "\t Aphrodite & Ares  \\\\\n",
       "\t Aphrodite & Dione \\\\\n",
       "\t Aphrodite & Hera  \\\\\n",
       "\t Aphrodite & Hera  \\\\\n",
       "\t Aphrodite & Hera  \\\\\n",
       "\\end{tabular}\n"
      ],
      "text/markdown": [
       "\n",
       "A tibble: 7 × 2\n",
       "\n",
       "| speaker &lt;chr&gt; | addressee &lt;chr&gt; |\n",
       "|---|---|\n",
       "| Aphrodite | Helena |\n",
       "| Aphrodite | Helena |\n",
       "| Aphrodite | Ares   |\n",
       "| Aphrodite | Dione  |\n",
       "| Aphrodite | Hera   |\n",
       "| Aphrodite | Hera   |\n",
       "| Aphrodite | Hera   |\n",
       "\n"
      ],
      "text/plain": [
       "  speaker   addressee\n",
       "1 Aphrodite Helena   \n",
       "2 Aphrodite Helena   \n",
       "3 Aphrodite Ares     \n",
       "4 Aphrodite Dione    \n",
       "5 Aphrodite Hera     \n",
       "6 Aphrodite Hera     \n",
       "7 Aphrodite Hera     "
      ]
     },
     "metadata": {},
     "output_type": "display_data"
    }
   ],
   "source": [
    "select(\n",
    "    filter(speeches, speaker=='Aphrodite'),\n",
    "    speaker, addressee\n",
    ")"
   ]
  },
  {
   "cell_type": "markdown",
   "id": "8ca575fb",
   "metadata": {},
   "source": [
    "But the pipe lets you write the functions in the order that you want things to happen, rather than \"inside-out\".\n",
    "\n",
    "### Sorting\n",
    "\n",
    "We can change the order of rows with `arrange()`:"
   ]
  },
  {
   "cell_type": "code",
   "execution_count": 12,
   "id": "02221d2b",
   "metadata": {},
   "outputs": [
    {
     "data": {
      "text/html": [
       "<table class=\"dataframe\">\n",
       "<caption>A tibble: 7 × 2</caption>\n",
       "<thead>\n",
       "\t<tr><th scope=col>speaker</th><th scope=col>addressee</th></tr>\n",
       "\t<tr><th scope=col>&lt;chr&gt;</th><th scope=col>&lt;chr&gt;</th></tr>\n",
       "</thead>\n",
       "<tbody>\n",
       "\t<tr><td>Aphrodite</td><td>Ares  </td></tr>\n",
       "\t<tr><td>Aphrodite</td><td>Dione </td></tr>\n",
       "\t<tr><td>Aphrodite</td><td>Helena</td></tr>\n",
       "\t<tr><td>Aphrodite</td><td>Helena</td></tr>\n",
       "\t<tr><td>Aphrodite</td><td>Hera  </td></tr>\n",
       "\t<tr><td>Aphrodite</td><td>Hera  </td></tr>\n",
       "\t<tr><td>Aphrodite</td><td>Hera  </td></tr>\n",
       "</tbody>\n",
       "</table>\n"
      ],
      "text/latex": [
       "A tibble: 7 × 2\n",
       "\\begin{tabular}{ll}\n",
       " speaker & addressee\\\\\n",
       " <chr> & <chr>\\\\\n",
       "\\hline\n",
       "\t Aphrodite & Ares  \\\\\n",
       "\t Aphrodite & Dione \\\\\n",
       "\t Aphrodite & Helena\\\\\n",
       "\t Aphrodite & Helena\\\\\n",
       "\t Aphrodite & Hera  \\\\\n",
       "\t Aphrodite & Hera  \\\\\n",
       "\t Aphrodite & Hera  \\\\\n",
       "\\end{tabular}\n"
      ],
      "text/markdown": [
       "\n",
       "A tibble: 7 × 2\n",
       "\n",
       "| speaker &lt;chr&gt; | addressee &lt;chr&gt; |\n",
       "|---|---|\n",
       "| Aphrodite | Ares   |\n",
       "| Aphrodite | Dione  |\n",
       "| Aphrodite | Helena |\n",
       "| Aphrodite | Helena |\n",
       "| Aphrodite | Hera   |\n",
       "| Aphrodite | Hera   |\n",
       "| Aphrodite | Hera   |\n",
       "\n"
      ],
      "text/plain": [
       "  speaker   addressee\n",
       "1 Aphrodite Ares     \n",
       "2 Aphrodite Dione    \n",
       "3 Aphrodite Helena   \n",
       "4 Aphrodite Helena   \n",
       "5 Aphrodite Hera     \n",
       "6 Aphrodite Hera     \n",
       "7 Aphrodite Hera     "
      ]
     },
     "metadata": {},
     "output_type": "display_data"
    }
   ],
   "source": [
    "speeches %>% \n",
    "    filter(speaker=='Aphrodite') %>% \n",
    "    select(speaker, addressee) %>%\n",
    "    arrange(addressee)"
   ]
  },
  {
   "cell_type": "markdown",
   "id": "71e849c9",
   "metadata": {},
   "source": [
    "### Creating columns\n",
    "\n",
    "A common task with tabular data is creating new columns, calculated from existing ones. Think of your workflow in an Excel spreadsheet. For example, maybe we want to create a new column `calc_len` which calculates the length of speeches based on the `from_line` and `to_line` values.\n",
    "\n",
    "Two functions can do this task:\n",
    "\n",
    "- `mutate()` will create a new column and add it to the table\n",
    "- `transmute()` will create a new column and throw away everything else\n",
    "\n",
    "Let's continue to work just with Aphrodite's speeches, so we can see the pipe in action. I'm going to include the original `length` column, as well, just to check my work."
   ]
  },
  {
   "cell_type": "code",
   "execution_count": 13,
   "id": "d1e75b2b",
   "metadata": {},
   "outputs": [
    {
     "data": {
      "text/html": [
       "<table class=\"dataframe\">\n",
       "<caption>A tibble: 7 × 6</caption>\n",
       "<thead>\n",
       "\t<tr><th scope=col>from_line</th><th scope=col>to_line</th><th scope=col>speaker</th><th scope=col>addressee</th><th scope=col>length</th><th scope=col>calc_len</th></tr>\n",
       "\t<tr><th scope=col>&lt;dbl&gt;</th><th scope=col>&lt;dbl&gt;</th><th scope=col>&lt;chr&gt;</th><th scope=col>&lt;chr&gt;</th><th scope=col>&lt;dbl&gt;</th><th scope=col>&lt;dbl&gt;</th></tr>\n",
       "</thead>\n",
       "<tbody>\n",
       "\t<tr><td>390</td><td>394</td><td>Aphrodite</td><td>Helena</td><td>5</td><td>4</td></tr>\n",
       "\t<tr><td>414</td><td>417</td><td>Aphrodite</td><td>Helena</td><td>4</td><td>3</td></tr>\n",
       "\t<tr><td>359</td><td>362</td><td>Aphrodite</td><td>Ares  </td><td>4</td><td>3</td></tr>\n",
       "\t<tr><td>376</td><td>380</td><td>Aphrodite</td><td>Dione </td><td>5</td><td>4</td></tr>\n",
       "\t<tr><td>194</td><td>196</td><td>Aphrodite</td><td>Hera  </td><td>3</td><td>2</td></tr>\n",
       "\t<tr><td>212</td><td>213</td><td>Aphrodite</td><td>Hera  </td><td>2</td><td>1</td></tr>\n",
       "\t<tr><td>219</td><td>221</td><td>Aphrodite</td><td>Hera  </td><td>3</td><td>2</td></tr>\n",
       "</tbody>\n",
       "</table>\n"
      ],
      "text/latex": [
       "A tibble: 7 × 6\n",
       "\\begin{tabular}{llllll}\n",
       " from\\_line & to\\_line & speaker & addressee & length & calc\\_len\\\\\n",
       " <dbl> & <dbl> & <chr> & <chr> & <dbl> & <dbl>\\\\\n",
       "\\hline\n",
       "\t 390 & 394 & Aphrodite & Helena & 5 & 4\\\\\n",
       "\t 414 & 417 & Aphrodite & Helena & 4 & 3\\\\\n",
       "\t 359 & 362 & Aphrodite & Ares   & 4 & 3\\\\\n",
       "\t 376 & 380 & Aphrodite & Dione  & 5 & 4\\\\\n",
       "\t 194 & 196 & Aphrodite & Hera   & 3 & 2\\\\\n",
       "\t 212 & 213 & Aphrodite & Hera   & 2 & 1\\\\\n",
       "\t 219 & 221 & Aphrodite & Hera   & 3 & 2\\\\\n",
       "\\end{tabular}\n"
      ],
      "text/markdown": [
       "\n",
       "A tibble: 7 × 6\n",
       "\n",
       "| from_line &lt;dbl&gt; | to_line &lt;dbl&gt; | speaker &lt;chr&gt; | addressee &lt;chr&gt; | length &lt;dbl&gt; | calc_len &lt;dbl&gt; |\n",
       "|---|---|---|---|---|---|\n",
       "| 390 | 394 | Aphrodite | Helena | 5 | 4 |\n",
       "| 414 | 417 | Aphrodite | Helena | 4 | 3 |\n",
       "| 359 | 362 | Aphrodite | Ares   | 4 | 3 |\n",
       "| 376 | 380 | Aphrodite | Dione  | 5 | 4 |\n",
       "| 194 | 196 | Aphrodite | Hera   | 3 | 2 |\n",
       "| 212 | 213 | Aphrodite | Hera   | 2 | 1 |\n",
       "| 219 | 221 | Aphrodite | Hera   | 3 | 2 |\n",
       "\n"
      ],
      "text/plain": [
       "  from_line to_line speaker   addressee length calc_len\n",
       "1 390       394     Aphrodite Helena    5      4       \n",
       "2 414       417     Aphrodite Helena    4      3       \n",
       "3 359       362     Aphrodite Ares      4      3       \n",
       "4 376       380     Aphrodite Dione     5      4       \n",
       "5 194       196     Aphrodite Hera      3      2       \n",
       "6 212       213     Aphrodite Hera      2      1       \n",
       "7 219       221     Aphrodite Hera      3      2       "
      ]
     },
     "metadata": {},
     "output_type": "display_data"
    }
   ],
   "source": [
    "speeches %>%\n",
    "   filter(speaker=='Aphrodite') %>%\n",
    "   select(from_line, to_line, speaker, addressee, length) %>%\n",
    "   mutate(calc_len = to_line-from_line)"
   ]
  },
  {
   "cell_type": "markdown",
   "id": "b6af4638",
   "metadata": {},
   "source": [
    "🤭 Ooops! I forgot that the line counts are inclusive of both ends. Let's fix that:"
   ]
  },
  {
   "cell_type": "code",
   "execution_count": 14,
   "id": "1606e8b9",
   "metadata": {},
   "outputs": [
    {
     "data": {
      "text/html": [
       "<table class=\"dataframe\">\n",
       "<caption>A tibble: 7 × 6</caption>\n",
       "<thead>\n",
       "\t<tr><th scope=col>from_line</th><th scope=col>to_line</th><th scope=col>speaker</th><th scope=col>addressee</th><th scope=col>length</th><th scope=col>calc_len</th></tr>\n",
       "\t<tr><th scope=col>&lt;dbl&gt;</th><th scope=col>&lt;dbl&gt;</th><th scope=col>&lt;chr&gt;</th><th scope=col>&lt;chr&gt;</th><th scope=col>&lt;dbl&gt;</th><th scope=col>&lt;dbl&gt;</th></tr>\n",
       "</thead>\n",
       "<tbody>\n",
       "\t<tr><td>390</td><td>394</td><td>Aphrodite</td><td>Helena</td><td>5</td><td>5</td></tr>\n",
       "\t<tr><td>414</td><td>417</td><td>Aphrodite</td><td>Helena</td><td>4</td><td>4</td></tr>\n",
       "\t<tr><td>359</td><td>362</td><td>Aphrodite</td><td>Ares  </td><td>4</td><td>4</td></tr>\n",
       "\t<tr><td>376</td><td>380</td><td>Aphrodite</td><td>Dione </td><td>5</td><td>5</td></tr>\n",
       "\t<tr><td>194</td><td>196</td><td>Aphrodite</td><td>Hera  </td><td>3</td><td>3</td></tr>\n",
       "\t<tr><td>212</td><td>213</td><td>Aphrodite</td><td>Hera  </td><td>2</td><td>2</td></tr>\n",
       "\t<tr><td>219</td><td>221</td><td>Aphrodite</td><td>Hera  </td><td>3</td><td>3</td></tr>\n",
       "</tbody>\n",
       "</table>\n"
      ],
      "text/latex": [
       "A tibble: 7 × 6\n",
       "\\begin{tabular}{llllll}\n",
       " from\\_line & to\\_line & speaker & addressee & length & calc\\_len\\\\\n",
       " <dbl> & <dbl> & <chr> & <chr> & <dbl> & <dbl>\\\\\n",
       "\\hline\n",
       "\t 390 & 394 & Aphrodite & Helena & 5 & 5\\\\\n",
       "\t 414 & 417 & Aphrodite & Helena & 4 & 4\\\\\n",
       "\t 359 & 362 & Aphrodite & Ares   & 4 & 4\\\\\n",
       "\t 376 & 380 & Aphrodite & Dione  & 5 & 5\\\\\n",
       "\t 194 & 196 & Aphrodite & Hera   & 3 & 3\\\\\n",
       "\t 212 & 213 & Aphrodite & Hera   & 2 & 2\\\\\n",
       "\t 219 & 221 & Aphrodite & Hera   & 3 & 3\\\\\n",
       "\\end{tabular}\n"
      ],
      "text/markdown": [
       "\n",
       "A tibble: 7 × 6\n",
       "\n",
       "| from_line &lt;dbl&gt; | to_line &lt;dbl&gt; | speaker &lt;chr&gt; | addressee &lt;chr&gt; | length &lt;dbl&gt; | calc_len &lt;dbl&gt; |\n",
       "|---|---|---|---|---|---|\n",
       "| 390 | 394 | Aphrodite | Helena | 5 | 5 |\n",
       "| 414 | 417 | Aphrodite | Helena | 4 | 4 |\n",
       "| 359 | 362 | Aphrodite | Ares   | 4 | 4 |\n",
       "| 376 | 380 | Aphrodite | Dione  | 5 | 5 |\n",
       "| 194 | 196 | Aphrodite | Hera   | 3 | 3 |\n",
       "| 212 | 213 | Aphrodite | Hera   | 2 | 2 |\n",
       "| 219 | 221 | Aphrodite | Hera   | 3 | 3 |\n",
       "\n"
      ],
      "text/plain": [
       "  from_line to_line speaker   addressee length calc_len\n",
       "1 390       394     Aphrodite Helena    5      5       \n",
       "2 414       417     Aphrodite Helena    4      4       \n",
       "3 359       362     Aphrodite Ares      4      4       \n",
       "4 376       380     Aphrodite Dione     5      5       \n",
       "5 194       196     Aphrodite Hera      3      3       \n",
       "6 212       213     Aphrodite Hera      2      2       \n",
       "7 219       221     Aphrodite Hera      3      3       "
      ]
     },
     "metadata": {},
     "output_type": "display_data"
    }
   ],
   "source": [
    "speeches %>%\n",
    "   filter(speaker=='Aphrodite') %>%\n",
    "   select(from_line, to_line, speaker, addressee, length) %>%\n",
    "   mutate(calc_len = to_line-from_line+1)"
   ]
  },
  {
   "cell_type": "markdown",
   "id": "0c2edfa5",
   "metadata": {},
   "source": [
    "Here’s how we might do it with `transmute()` which drops any columns whose values aren’t specified. While we’re at it, let’s sort by length with the longest speeches at the top."
   ]
  },
  {
   "cell_type": "code",
   "execution_count": 15,
   "id": "ab1d9ded",
   "metadata": {},
   "outputs": [
    {
     "data": {
      "text/html": [
       "<table class=\"dataframe\">\n",
       "<caption>A tibble: 7 × 3</caption>\n",
       "<thead>\n",
       "\t<tr><th scope=col>speaker</th><th scope=col>addressee</th><th scope=col>calc_len</th></tr>\n",
       "\t<tr><th scope=col>&lt;chr&gt;</th><th scope=col>&lt;chr&gt;</th><th scope=col>&lt;dbl&gt;</th></tr>\n",
       "</thead>\n",
       "<tbody>\n",
       "\t<tr><td>Aphrodite</td><td>Helena</td><td>5</td></tr>\n",
       "\t<tr><td>Aphrodite</td><td>Dione </td><td>5</td></tr>\n",
       "\t<tr><td>Aphrodite</td><td>Helena</td><td>4</td></tr>\n",
       "\t<tr><td>Aphrodite</td><td>Ares  </td><td>4</td></tr>\n",
       "\t<tr><td>Aphrodite</td><td>Hera  </td><td>3</td></tr>\n",
       "\t<tr><td>Aphrodite</td><td>Hera  </td><td>3</td></tr>\n",
       "\t<tr><td>Aphrodite</td><td>Hera  </td><td>2</td></tr>\n",
       "</tbody>\n",
       "</table>\n"
      ],
      "text/latex": [
       "A tibble: 7 × 3\n",
       "\\begin{tabular}{lll}\n",
       " speaker & addressee & calc\\_len\\\\\n",
       " <chr> & <chr> & <dbl>\\\\\n",
       "\\hline\n",
       "\t Aphrodite & Helena & 5\\\\\n",
       "\t Aphrodite & Dione  & 5\\\\\n",
       "\t Aphrodite & Helena & 4\\\\\n",
       "\t Aphrodite & Ares   & 4\\\\\n",
       "\t Aphrodite & Hera   & 3\\\\\n",
       "\t Aphrodite & Hera   & 3\\\\\n",
       "\t Aphrodite & Hera   & 2\\\\\n",
       "\\end{tabular}\n"
      ],
      "text/markdown": [
       "\n",
       "A tibble: 7 × 3\n",
       "\n",
       "| speaker &lt;chr&gt; | addressee &lt;chr&gt; | calc_len &lt;dbl&gt; |\n",
       "|---|---|---|\n",
       "| Aphrodite | Helena | 5 |\n",
       "| Aphrodite | Dione  | 5 |\n",
       "| Aphrodite | Helena | 4 |\n",
       "| Aphrodite | Ares   | 4 |\n",
       "| Aphrodite | Hera   | 3 |\n",
       "| Aphrodite | Hera   | 3 |\n",
       "| Aphrodite | Hera   | 2 |\n",
       "\n"
      ],
      "text/plain": [
       "  speaker   addressee calc_len\n",
       "1 Aphrodite Helena    5       \n",
       "2 Aphrodite Dione     5       \n",
       "3 Aphrodite Helena    4       \n",
       "4 Aphrodite Ares      4       \n",
       "5 Aphrodite Hera      3       \n",
       "6 Aphrodite Hera      3       \n",
       "7 Aphrodite Hera      2       "
      ]
     },
     "metadata": {},
     "output_type": "display_data"
    }
   ],
   "source": [
    "speeches %>%\n",
    "   filter(speaker=='Aphrodite') %>%\n",
    "   transmute(\n",
    "       speaker = speaker,\n",
    "       addressee = addressee,\n",
    "       calc_len = to_line-from_line+1) %>%\n",
    "   arrange(desc(calc_len))"
   ]
  },
  {
   "cell_type": "markdown",
   "id": "9beaa2aa",
   "metadata": {},
   "source": [
    "### Summarizing\n",
    "\n",
    "We can group and summarise data in tibbles using two more helper functions:\n",
    "\n",
    "- `group_by()`\n",
    "- `summarise()`\n",
    "\n",
    "This is a lot like creating a pivot table in Excel. The `summarise()` function collapses columns to single values using an aggregating function that you choose. Some common examples are `sum()` which adds all the values, `mean()` which takes their average, and `n()` which simply counts them. But other options include `first()`, `last()`, `min()`, `max()`, etc. See further discussion [here](https://r4ds.had.co.nz/transform.html?q=aggregate#summarise-funs).\n",
    "\n",
    "Meanwhile, `group_by()` lets you choose variables along which you want your agregation to take place. This is like adding a column to the \"rows\" pane of a pivot table in Excel.\n",
    "\n",
    "First, let me change `simple_cluster_type` and `spkr_type` to factors again."
   ]
  },
  {
   "cell_type": "code",
   "execution_count": 16,
   "id": "e070570d",
   "metadata": {},
   "outputs": [],
   "source": [
    "speeches <- speeches %>%\n",
    "    mutate(\n",
    "        simple_cluster_type = factor(simple_cluster_type),\n",
    "        spkr_type = factor(spkr_type)\n",
    "    )"
   ]
  },
  {
   "cell_type": "markdown",
   "id": "dbd377bf",
   "metadata": {},
   "source": [
    "Now let’s re-create the summary table we made earlier. We’ll group by `spkr_type` and `simple_cluster_type`, then summarise by `n()`, i.e., the count of observations."
   ]
  },
  {
   "cell_type": "code",
   "execution_count": 17,
   "id": "2507edc8",
   "metadata": {},
   "outputs": [
    {
     "name": "stderr",
     "output_type": "stream",
     "text": [
      "\u001b[1m\u001b[22m`summarise()` has grouped output by 'spkr_type'. You can override using the\n",
      "`.groups` argument.\n"
     ]
    },
    {
     "data": {
      "text/html": [
       "<table class=\"dataframe\">\n",
       "<caption>A grouped_df: 10 × 3</caption>\n",
       "<thead>\n",
       "\t<tr><th scope=col>spkr_type</th><th scope=col>simple_cluster_type</th><th scope=col>speeches</th></tr>\n",
       "\t<tr><th scope=col>&lt;fct&gt;</th><th scope=col>&lt;fct&gt;</th><th scope=col>&lt;int&gt;</th></tr>\n",
       "</thead>\n",
       "<tbody>\n",
       "\t<tr><td>animals   </td><td>dialogue             </td><td>  1</td></tr>\n",
       "\t<tr><td>collective</td><td>monologue            </td><td>  1</td></tr>\n",
       "\t<tr><td>god       </td><td>dialogue             </td><td>100</td></tr>\n",
       "\t<tr><td>god       </td><td>general interlocution</td><td> 30</td></tr>\n",
       "\t<tr><td>god       </td><td>monologue            </td><td> 62</td></tr>\n",
       "\t<tr><td>god       </td><td>soliloquy            </td><td>  1</td></tr>\n",
       "\t<tr><td>mortal    </td><td>dialogue             </td><td>168</td></tr>\n",
       "\t<tr><td>mortal    </td><td>general interlocution</td><td>136</td></tr>\n",
       "\t<tr><td>mortal    </td><td>monologue            </td><td>167</td></tr>\n",
       "\t<tr><td>mortal    </td><td>soliloquy            </td><td> 32</td></tr>\n",
       "</tbody>\n",
       "</table>\n"
      ],
      "text/latex": [
       "A grouped\\_df: 10 × 3\n",
       "\\begin{tabular}{lll}\n",
       " spkr\\_type & simple\\_cluster\\_type & speeches\\\\\n",
       " <fct> & <fct> & <int>\\\\\n",
       "\\hline\n",
       "\t animals    & dialogue              &   1\\\\\n",
       "\t collective & monologue             &   1\\\\\n",
       "\t god        & dialogue              & 100\\\\\n",
       "\t god        & general interlocution &  30\\\\\n",
       "\t god        & monologue             &  62\\\\\n",
       "\t god        & soliloquy             &   1\\\\\n",
       "\t mortal     & dialogue              & 168\\\\\n",
       "\t mortal     & general interlocution & 136\\\\\n",
       "\t mortal     & monologue             & 167\\\\\n",
       "\t mortal     & soliloquy             &  32\\\\\n",
       "\\end{tabular}\n"
      ],
      "text/markdown": [
       "\n",
       "A grouped_df: 10 × 3\n",
       "\n",
       "| spkr_type &lt;fct&gt; | simple_cluster_type &lt;fct&gt; | speeches &lt;int&gt; |\n",
       "|---|---|---|\n",
       "| animals    | dialogue              |   1 |\n",
       "| collective | monologue             |   1 |\n",
       "| god        | dialogue              | 100 |\n",
       "| god        | general interlocution |  30 |\n",
       "| god        | monologue             |  62 |\n",
       "| god        | soliloquy             |   1 |\n",
       "| mortal     | dialogue              | 168 |\n",
       "| mortal     | general interlocution | 136 |\n",
       "| mortal     | monologue             | 167 |\n",
       "| mortal     | soliloquy             |  32 |\n",
       "\n"
      ],
      "text/plain": [
       "   spkr_type  simple_cluster_type   speeches\n",
       "1  animals    dialogue                1     \n",
       "2  collective monologue               1     \n",
       "3  god        dialogue              100     \n",
       "4  god        general interlocution  30     \n",
       "5  god        monologue              62     \n",
       "6  god        soliloquy               1     \n",
       "7  mortal     dialogue              168     \n",
       "8  mortal     general interlocution 136     \n",
       "9  mortal     monologue             167     \n",
       "10 mortal     soliloquy              32     "
      ]
     },
     "metadata": {},
     "output_type": "display_data"
    }
   ],
   "source": [
    "speeches %>%\n",
    "    group_by(spkr_type, simple_cluster_type) %>%\n",
    "    summarise(speeches=n())"
   ]
  },
  {
   "cell_type": "markdown",
   "id": "68a748d7",
   "metadata": {},
   "source": [
    "In fact, I don’t really care about the single instances of animals and collectives. I’m going to filter them out."
   ]
  },
  {
   "cell_type": "code",
   "execution_count": 18,
   "id": "5197db45",
   "metadata": {},
   "outputs": [
    {
     "name": "stderr",
     "output_type": "stream",
     "text": [
      "\u001b[1m\u001b[22m`summarise()` has grouped output by 'spkr_type'. You can override using the\n",
      "`.groups` argument.\n"
     ]
    },
    {
     "data": {
      "text/html": [
       "<table class=\"dataframe\">\n",
       "<caption>A grouped_df: 8 × 3</caption>\n",
       "<thead>\n",
       "\t<tr><th scope=col>spkr_type</th><th scope=col>simple_cluster_type</th><th scope=col>speeches</th></tr>\n",
       "\t<tr><th scope=col>&lt;fct&gt;</th><th scope=col>&lt;fct&gt;</th><th scope=col>&lt;int&gt;</th></tr>\n",
       "</thead>\n",
       "<tbody>\n",
       "\t<tr><td>god   </td><td>dialogue             </td><td>100</td></tr>\n",
       "\t<tr><td>god   </td><td>general interlocution</td><td> 30</td></tr>\n",
       "\t<tr><td>god   </td><td>monologue            </td><td> 62</td></tr>\n",
       "\t<tr><td>god   </td><td>soliloquy            </td><td>  1</td></tr>\n",
       "\t<tr><td>mortal</td><td>dialogue             </td><td>168</td></tr>\n",
       "\t<tr><td>mortal</td><td>general interlocution</td><td>136</td></tr>\n",
       "\t<tr><td>mortal</td><td>monologue            </td><td>167</td></tr>\n",
       "\t<tr><td>mortal</td><td>soliloquy            </td><td> 32</td></tr>\n",
       "</tbody>\n",
       "</table>\n"
      ],
      "text/latex": [
       "A grouped\\_df: 8 × 3\n",
       "\\begin{tabular}{lll}\n",
       " spkr\\_type & simple\\_cluster\\_type & speeches\\\\\n",
       " <fct> & <fct> & <int>\\\\\n",
       "\\hline\n",
       "\t god    & dialogue              & 100\\\\\n",
       "\t god    & general interlocution &  30\\\\\n",
       "\t god    & monologue             &  62\\\\\n",
       "\t god    & soliloquy             &   1\\\\\n",
       "\t mortal & dialogue              & 168\\\\\n",
       "\t mortal & general interlocution & 136\\\\\n",
       "\t mortal & monologue             & 167\\\\\n",
       "\t mortal & soliloquy             &  32\\\\\n",
       "\\end{tabular}\n"
      ],
      "text/markdown": [
       "\n",
       "A grouped_df: 8 × 3\n",
       "\n",
       "| spkr_type &lt;fct&gt; | simple_cluster_type &lt;fct&gt; | speeches &lt;int&gt; |\n",
       "|---|---|---|\n",
       "| god    | dialogue              | 100 |\n",
       "| god    | general interlocution |  30 |\n",
       "| god    | monologue             |  62 |\n",
       "| god    | soliloquy             |   1 |\n",
       "| mortal | dialogue              | 168 |\n",
       "| mortal | general interlocution | 136 |\n",
       "| mortal | monologue             | 167 |\n",
       "| mortal | soliloquy             |  32 |\n",
       "\n"
      ],
      "text/plain": [
       "  spkr_type simple_cluster_type   speeches\n",
       "1 god       dialogue              100     \n",
       "2 god       general interlocution  30     \n",
       "3 god       monologue              62     \n",
       "4 god       soliloquy               1     \n",
       "5 mortal    dialogue              168     \n",
       "6 mortal    general interlocution 136     \n",
       "7 mortal    monologue             167     \n",
       "8 mortal    soliloquy              32     "
      ]
     },
     "metadata": {},
     "output_type": "display_data"
    }
   ],
   "source": [
    "speeches %>%\n",
    "    filter(spkr_type == 'mortal' | spkr_type == 'god') %>%\n",
    "    group_by(spkr_type, simple_cluster_type) %>%\n",
    "    summarise(speeches=n())"
   ]
  },
  {
   "cell_type": "markdown",
   "id": "961a2178",
   "metadata": {},
   "source": [
    "Here's a quick visualization using **ggplot2**. We’ll have to spend some time later to explain the details of how the graph is created."
   ]
  },
  {
   "cell_type": "code",
   "execution_count": 19,
   "id": "3e501c6f",
   "metadata": {},
   "outputs": [
    {
     "name": "stderr",
     "output_type": "stream",
     "text": [
      "\u001b[1m\u001b[22m`summarise()` has grouped output by 'spkr_type'. You can override using the\n",
      "`.groups` argument.\n"
     ]
    },
    {
     "data": {
      "image/png": "[encoded data removed]",
      "text/plain": [
       "plot without title"
      ]
     },
     "metadata": {
      "image/png": {
       "height": 420,
       "width": 420
      }
     },
     "output_type": "display_data"
    }
   ],
   "source": [
    "speech_counts <- speeches %>%\n",
    "    filter(spkr_type == 'mortal' | spkr_type == 'god') %>%\n",
    "    group_by(spkr_type, simple_cluster_type) %>%\n",
    "    summarise(speeches=n())\n",
    "\n",
    "ggplot(speech_counts) + \n",
    "    aes(x=spkr_type, y=speeches, fill=simple_cluster_type) +\n",
    "    geom_bar(stat='identity', position=position_dodge(), color='black') +\n",
    "    scale_fill_brewer(palette = \"Blues\")"
   ]
  },
  {
   "cell_type": "markdown",
   "id": "52c91368",
   "metadata": {},
   "source": [
    "Let’s break here and spend some time exploring our own data individually."
   ]
  }
 ],
 "metadata": {
  "kernelspec": {
   "display_name": "R",
   "language": "R",
   "name": "ir"
  },
  "language_info": {
   "codemirror_mode": "r",
   "file_extension": ".r",
   "mimetype": "text/x-r-source",
   "name": "R",
   "pygments_lexer": "r",
   "version": "4.2.0"
  }
 },
 "nbformat": 4,
 "nbformat_minor": 5
}
