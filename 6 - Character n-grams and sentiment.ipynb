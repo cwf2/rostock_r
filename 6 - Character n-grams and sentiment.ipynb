{
 "cells": [
  {
   "cell_type": "markdown",
   "id": "85c787a7",
   "metadata": {},
   "source": [
    "# Feature extraction, continued\n",
    "\n",
    "This notebook begins with Friday morning, carrying on with the fan-fiction case study we began on Thursday afternoon.\n",
    "\n",
    "Assuming we’re starting with a new R session, the code below will fast-forward to where we left off."
   ]
  },
  {
   "cell_type": "code",
   "execution_count": 1,
   "id": "4eb29ef7",
   "metadata": {},
   "outputs": [
    {
     "name": "stderr",
     "output_type": "stream",
     "text": [
      "── \u001b[1mAttaching packages\u001b[22m ─────────────────────────────────────── tidyverse 1.3.1 ──\n",
      "\n",
      "\u001b[32m✔\u001b[39m \u001b[34mggplot2\u001b[39m 3.3.6     \u001b[32m✔\u001b[39m \u001b[34mpurrr  \u001b[39m 0.3.4\n",
      "\u001b[32m✔\u001b[39m \u001b[34mtibble \u001b[39m 3.1.7     \u001b[32m✔\u001b[39m \u001b[34mdplyr  \u001b[39m 1.0.9\n",
      "\u001b[32m✔\u001b[39m \u001b[34mtidyr  \u001b[39m 1.2.0     \u001b[32m✔\u001b[39m \u001b[34mstringr\u001b[39m 1.4.0\n",
      "\u001b[32m✔\u001b[39m \u001b[34mreadr  \u001b[39m 2.1.2     \u001b[32m✔\u001b[39m \u001b[34mforcats\u001b[39m 0.5.1\n",
      "\n",
      "── \u001b[1mConflicts\u001b[22m ────────────────────────────────────────── tidyverse_conflicts() ──\n",
      "\u001b[31m✖\u001b[39m \u001b[34mdplyr\u001b[39m::\u001b[32mfilter()\u001b[39m masks \u001b[34mstats\u001b[39m::filter()\n",
      "\u001b[31m✖\u001b[39m \u001b[34mdplyr\u001b[39m::\u001b[32mlag()\u001b[39m    masks \u001b[34mstats\u001b[39m::lag()\n",
      "\n",
      "\n",
      "Attaching package: ‘rvest’\n",
      "\n",
      "\n",
      "The following object is masked from ‘package:readr’:\n",
      "\n",
      "    guess_encoding\n",
      "\n",
      "\n"
     ]
    }
   ],
   "source": [
    "# attach necessary packages\n",
    "library(tidyverse)\n",
    "library(tidytext)\n",
    "library(rvest)\n",
    "library(polite)\n",
    "\n",
    "# connect to ao3 and download annacharlier's story\n",
    "session <- bow('https://www.archiveofourown.org/works/24280306')\n",
    "html_doc <- session %>% scrape()\n",
    "\n",
    "# extract the text of the story\n",
    "text <- html_doc %>%\n",
    "    html_element('div#chapters div.userstuff') %>%\n",
    "    html_text2()\n",
    "\n",
    "# create a one-row tibble\n",
    "fan_fics <- tibble(\n",
    "    ao3_id = 24280306,\n",
    "    text = text\n",
    ")"
   ]
  },
  {
   "cell_type": "markdown",
   "id": "f11b7bf6",
   "metadata": {},
   "source": [
    "### Character-based features\n",
    "\n",
    "You can also split your text into character-based n-grams, (sometimes called \"shingles\" because they overlap like roof tiles). Character n-grams were proposed early in the 21st century as a \"language agnositic\" featureset, so that, for example, you could treat Modern Greek and Mandarin with the same algorithm as Latin-based languages.\n",
    "\n",
    "Meanwhile, character n-grams have also been useful in the study of poetry, where sound may have as significant a role to play as meaning in structuring the text. \n",
    "\n",
    "Character n-grams can have the effect of capturing abstract morphological as well as semantic units. In English, the 4-gram \"walk\" matches \"walk\", \"walks\", and \"walked\", while the ngrams \"ing\", and \"ly\", match abstract part-of-speech categories like *participle*, *adverb*. Note, again, that these different kinds of information are combined in the same channel—sound frequency—while a formal parser would separate them into different columns.\n",
    "\n",
    "Here we use `unnest_tokens()` to tokenize Annacharlier’s story into character 3-grams."
   ]
  },
  {
   "cell_type": "code",
   "execution_count": 2,
   "id": "15e3c05f",
   "metadata": {},
   "outputs": [],
   "source": [
    "shingles <- fan_fics %>%\n",
    "    unnest_tokens(output=ngram, input=text, token=\"character_shingles\", n=3)"
   ]
  },
  {
   "cell_type": "code",
   "execution_count": 3,
   "id": "e8a47799",
   "metadata": {},
   "outputs": [
    {
     "data": {
      "text/html": [
       "<table class=\"dataframe\">\n",
       "<caption>A tibble: 6 × 2</caption>\n",
       "<thead>\n",
       "\t<tr><th scope=col>ao3_id</th><th scope=col>ngram</th></tr>\n",
       "\t<tr><th scope=col>&lt;dbl&gt;</th><th scope=col>&lt;chr&gt;</th></tr>\n",
       "</thead>\n",
       "<tbody>\n",
       "\t<tr><td>24280306</td><td>the</td></tr>\n",
       "\t<tr><td>24280306</td><td>hey</td></tr>\n",
       "\t<tr><td>24280306</td><td>eys</td></tr>\n",
       "\t<tr><td>24280306</td><td>yst</td></tr>\n",
       "\t<tr><td>24280306</td><td>sta</td></tr>\n",
       "\t<tr><td>24280306</td><td>tay</td></tr>\n",
       "</tbody>\n",
       "</table>\n"
      ],
      "text/latex": [
       "A tibble: 6 × 2\n",
       "\\begin{tabular}{ll}\n",
       " ao3\\_id & ngram\\\\\n",
       " <dbl> & <chr>\\\\\n",
       "\\hline\n",
       "\t 24280306 & the\\\\\n",
       "\t 24280306 & hey\\\\\n",
       "\t 24280306 & eys\\\\\n",
       "\t 24280306 & yst\\\\\n",
       "\t 24280306 & sta\\\\\n",
       "\t 24280306 & tay\\\\\n",
       "\\end{tabular}\n"
      ],
      "text/markdown": [
       "\n",
       "A tibble: 6 × 2\n",
       "\n",
       "| ao3_id &lt;dbl&gt; | ngram &lt;chr&gt; |\n",
       "|---|---|\n",
       "| 24280306 | the |\n",
       "| 24280306 | hey |\n",
       "| 24280306 | eys |\n",
       "| 24280306 | yst |\n",
       "| 24280306 | sta |\n",
       "| 24280306 | tay |\n",
       "\n"
      ],
      "text/plain": [
       "  ao3_id   ngram\n",
       "1 24280306 the  \n",
       "2 24280306 hey  \n",
       "3 24280306 eys  \n",
       "4 24280306 yst  \n",
       "5 24280306 sta  \n",
       "6 24280306 tay  "
      ]
     },
     "metadata": {},
     "output_type": "display_data"
    }
   ],
   "source": [
    "head(shingles)"
   ]
  },
  {
   "cell_type": "code",
   "execution_count": 4,
   "id": "3657c2fb",
   "metadata": {},
   "outputs": [
    {
     "data": {
      "text/html": [
       "<table class=\"dataframe\">\n",
       "<caption>A tibble: 10 × 2</caption>\n",
       "<thead>\n",
       "\t<tr><th scope=col>ngram</th><th scope=col>n</th></tr>\n",
       "\t<tr><th scope=col>&lt;chr&gt;</th><th scope=col>&lt;int&gt;</th></tr>\n",
       "</thead>\n",
       "<tbody>\n",
       "\t<tr><td>the</td><td>356</td></tr>\n",
       "\t<tr><td>her</td><td>311</td></tr>\n",
       "\t<tr><td>she</td><td>299</td></tr>\n",
       "\t<tr><td>ing</td><td>229</td></tr>\n",
       "\t<tr><td>tra</td><td>194</td></tr>\n",
       "\t<tr><td>and</td><td>175</td></tr>\n",
       "\t<tr><td>atr</td><td>171</td></tr>\n",
       "\t<tr><td>cat</td><td>170</td></tr>\n",
       "\t<tr><td>ora</td><td>152</td></tr>\n",
       "\t<tr><td>ado</td><td>150</td></tr>\n",
       "</tbody>\n",
       "</table>\n"
      ],
      "text/latex": [
       "A tibble: 10 × 2\n",
       "\\begin{tabular}{ll}\n",
       " ngram & n\\\\\n",
       " <chr> & <int>\\\\\n",
       "\\hline\n",
       "\t the & 356\\\\\n",
       "\t her & 311\\\\\n",
       "\t she & 299\\\\\n",
       "\t ing & 229\\\\\n",
       "\t tra & 194\\\\\n",
       "\t and & 175\\\\\n",
       "\t atr & 171\\\\\n",
       "\t cat & 170\\\\\n",
       "\t ora & 152\\\\\n",
       "\t ado & 150\\\\\n",
       "\\end{tabular}\n"
      ],
      "text/markdown": [
       "\n",
       "A tibble: 10 × 2\n",
       "\n",
       "| ngram &lt;chr&gt; | n &lt;int&gt; |\n",
       "|---|---|\n",
       "| the | 356 |\n",
       "| her | 311 |\n",
       "| she | 299 |\n",
       "| ing | 229 |\n",
       "| tra | 194 |\n",
       "| and | 175 |\n",
       "| atr | 171 |\n",
       "| cat | 170 |\n",
       "| ora | 152 |\n",
       "| ado | 150 |\n",
       "\n"
      ],
      "text/plain": [
       "   ngram n  \n",
       "1  the   356\n",
       "2  her   311\n",
       "3  she   299\n",
       "4  ing   229\n",
       "5  tra   194\n",
       "6  and   175\n",
       "7  atr   171\n",
       "8  cat   170\n",
       "9  ora   152\n",
       "10 ado   150"
      ]
     },
     "metadata": {},
     "output_type": "display_data"
    }
   ],
   "source": [
    "shingles %>%\n",
    "    count(ngram, sort=TRUE) %>%\n",
    "    head(10)"
   ]
  },
  {
   "cell_type": "markdown",
   "id": "147de49d",
   "metadata": {},
   "source": [
    "## Parsing and annotating with language-specific models\n",
    "\n",
    "To extract more precise information about text, it helps to have a pre-trained, language-specific **model**. There are several **natural language processing** [packages available for R](https://cran.r-project.org/web/views/NaturalLanguageProcessing.html); to be honest, I’m not an expert in any of them. We can cover the basics here, but if you want to do NLP, you’ll need to work through a more specialized tutorial and figure out which tools best suit your research.\n",
    "\n",
    "Something that’s going to be true no matter which tools you use: their accuracy will depend upon the model, which in turn depends upon the training material. Results for English tend to be better than for other languages, because the models have been trained on more data. Likewise, results for newspaper articles, financial reports, and office emails will be better than for Early Modern novels, because the language of the training material is often newspapers and business documents.\n",
    "\n",
    "In addition to the annotation software, you will also have to download a model for the language you’re working with (or train your own—a task well beyond the scope of this workshop, but potentially rewarding if you happen to have an interesting corpus that’s already been annotated by hand). Often this is a bulky binary file that the NLP package will want to store somewhere on your computer—make sure you remember where it is, because you’ll need to load it each time you use the program. You might have a collection of models for different langauges.\n",
    "\n",
    "### Simple annotating with udpipe\n",
    "\n",
    "For this workshop, we’re going to do some simple parsing with **udpipe**, a package that I find relatively easy to get started with. It doesn’t produce tibbles by default, but it fits into tidyverse workflows with relatively little friction.\n",
    "\n",
    "First, we have to install the package:"
   ]
  },
  {
   "cell_type": "code",
   "execution_count": 5,
   "id": "cdc00b7b",
   "metadata": {},
   "outputs": [
    {
     "name": "stdout",
     "output_type": "stream",
     "text": [
      "\n",
      "The downloaded binary packages are in\n",
      "\t/var/folders/_k/nhmmjzg96r318bm9jvyvv7ph0000gn/T//Rtmp2ABfmJ/downloaded_packages\n"
     ]
    }
   ],
   "source": [
    "# only need to do this once\n",
    "install.packages('udpipe')"
   ]
  },
  {
   "cell_type": "code",
   "execution_count": 6,
   "id": "7eb2caa7",
   "metadata": {},
   "outputs": [],
   "source": [
    "library(udpipe)"
   ]
  },
  {
   "cell_type": "markdown",
   "id": "fc676676",
   "metadata": {},
   "source": [
    "We also need to download the language model(s) we’re interested in. For this exercise, I’m using 'english'. If someone wants to test out the 'german-hdt' model later, let me know how it seems to perform for you."
   ]
  },
  {
   "cell_type": "code",
   "execution_count": 7,
   "id": "b670c5aa",
   "metadata": {},
   "outputs": [
    {
     "name": "stderr",
     "output_type": "stream",
     "text": [
      "Downloading udpipe model from https://raw.githubusercontent.com/jwijffels/udpipe.models.ud.2.5/master/inst/udpipe-ud-2.5-191206/english-ewt-ud-2.5-191206.udpipe to /Users/chris/Documents/git/rostock_r/english-ewt-ud-2.5-191206.udpipe\n",
      "\n",
      " - This model has been trained on version 2.5 of data from https://universaldependencies.org\n",
      "\n",
      " - The model is distributed under the CC-BY-SA-NC license: https://creativecommons.org/licenses/by-nc-sa/4.0\n",
      "\n",
      " - Visit https://github.com/jwijffels/udpipe.models.ud.2.5 for model license details.\n",
      "\n",
      " - For a list of all models and their licenses (most models you can download with this package have either a CC-BY-SA or a CC-BY-SA-NC license) read the documentation at ?udpipe_download_model. For building your own models: visit the documentation by typing vignette('udpipe-train', package = 'udpipe')\n",
      "\n",
      "Downloading finished, model stored at '/Users/chris/Documents/git/rostock_r/english-ewt-ud-2.5-191206.udpipe'\n",
      "\n"
     ]
    },
    {
     "data": {
      "text/html": [
       "<table class=\"dataframe\">\n",
       "<caption>A data.frame: 1 × 5</caption>\n",
       "<thead>\n",
       "\t<tr><th scope=col>language</th><th scope=col>file_model</th><th scope=col>url</th><th scope=col>download_failed</th><th scope=col>download_message</th></tr>\n",
       "\t<tr><th scope=col>&lt;chr&gt;</th><th scope=col>&lt;chr&gt;</th><th scope=col>&lt;chr&gt;</th><th scope=col>&lt;lgl&gt;</th><th scope=col>&lt;chr&gt;</th></tr>\n",
       "</thead>\n",
       "<tbody>\n",
       "\t<tr><td>english-ewt</td><td>/Users/chris/Documents/git/rostock_r/english-ewt-ud-2.5-191206.udpipe</td><td>https://raw.githubusercontent.com/jwijffels/udpipe.models.ud.2.5/master/inst/udpipe-ud-2.5-191206/english-ewt-ud-2.5-191206.udpipe</td><td>FALSE</td><td>OK</td></tr>\n",
       "</tbody>\n",
       "</table>\n"
      ],
      "text/latex": [
       "A data.frame: 1 × 5\n",
       "\\begin{tabular}{lllll}\n",
       " language & file\\_model & url & download\\_failed & download\\_message\\\\\n",
       " <chr> & <chr> & <chr> & <lgl> & <chr>\\\\\n",
       "\\hline\n",
       "\t english-ewt & /Users/chris/Documents/git/rostock\\_r/english-ewt-ud-2.5-191206.udpipe & https://raw.githubusercontent.com/jwijffels/udpipe.models.ud.2.5/master/inst/udpipe-ud-2.5-191206/english-ewt-ud-2.5-191206.udpipe & FALSE & OK\\\\\n",
       "\\end{tabular}\n"
      ],
      "text/markdown": [
       "\n",
       "A data.frame: 1 × 5\n",
       "\n",
       "| language &lt;chr&gt; | file_model &lt;chr&gt; | url &lt;chr&gt; | download_failed &lt;lgl&gt; | download_message &lt;chr&gt; |\n",
       "|---|---|---|---|---|\n",
       "| english-ewt | /Users/chris/Documents/git/rostock_r/english-ewt-ud-2.5-191206.udpipe | https://raw.githubusercontent.com/jwijffels/udpipe.models.ud.2.5/master/inst/udpipe-ud-2.5-191206/english-ewt-ud-2.5-191206.udpipe | FALSE | OK |\n",
       "\n"
      ],
      "text/plain": [
       "  language   \n",
       "1 english-ewt\n",
       "  file_model                                                           \n",
       "1 /Users/chris/Documents/git/rostock_r/english-ewt-ud-2.5-191206.udpipe\n",
       "  url                                                                                                                               \n",
       "1 https://raw.githubusercontent.com/jwijffels/udpipe.models.ud.2.5/master/inst/udpipe-ud-2.5-191206/english-ewt-ud-2.5-191206.udpipe\n",
       "  download_failed download_message\n",
       "1 FALSE           OK              "
      ]
     },
     "metadata": {},
     "output_type": "display_data"
    }
   ],
   "source": [
    "udpipe_download_model('english')"
   ]
  },
  {
   "cell_type": "markdown",
   "id": "b2b96ad4",
   "metadata": {},
   "source": [
    "The output from this download command contains the location where the model has been stored on your computer. On my computer, it’s in the project folder for this workshop. For this session, I’m just going to leave it there, but if I wanted to use it in several different projects, it might make sense to store it somewhere central.\n",
    "\n",
    "Wherever I keep the model file, I need to be able to pass a path to it when I instantiate a model object in R:"
   ]
  },
  {
   "cell_type": "code",
   "execution_count": 8,
   "id": "8a134f27",
   "metadata": {},
   "outputs": [],
   "source": [
    "model_en <- udpipe_load_model('english-ewt-ud-2.5-191206.udpipe')"
   ]
  },
  {
   "cell_type": "markdown",
   "id": "b08a0d19",
   "metadata": {},
   "source": [
    "The model needs to be loaded once per session. Then whenever I want to annotate some text, I have to pass it to the annotation function, `udpipe_annotate()`, along with the text itself. I’m going pass the whole story as a string (I’m pretty sure I still have it stored in the variable `text`).\n",
    "\n",
    "By default `udpipe_annotate()` returns a list, but it can be converted to a tibble with `as_tibble()`."
   ]
  },
  {
   "cell_type": "code",
   "execution_count": 9,
   "id": "43c68fdc",
   "metadata": {},
   "outputs": [],
   "source": [
    "tokens <- udpipe_annotate(model_en, text) %>%\n",
    "    as_tibble()"
   ]
  },
  {
   "cell_type": "code",
   "execution_count": 10,
   "id": "d002adb2",
   "metadata": {},
   "outputs": [
    {
     "name": "stdout",
     "output_type": "stream",
     "text": [
      "\u001b[90m# A tibble: 6,890 × 14\u001b[39m\n",
      "   doc_id paragraph_id sentence_id sentence     token_id token lemma upos  xpos \n",
      "   \u001b[3m\u001b[90m<chr>\u001b[39m\u001b[23m         \u001b[3m\u001b[90m<int>\u001b[39m\u001b[23m       \u001b[3m\u001b[90m<int>\u001b[39m\u001b[23m \u001b[3m\u001b[90m<chr>\u001b[39m\u001b[23m        \u001b[3m\u001b[90m<chr>\u001b[39m\u001b[23m    \u001b[3m\u001b[90m<chr>\u001b[39m\u001b[23m \u001b[3m\u001b[90m<chr>\u001b[39m\u001b[23m \u001b[3m\u001b[90m<chr>\u001b[39m\u001b[23m \u001b[3m\u001b[90m<chr>\u001b[39m\u001b[23m\n",
      "\u001b[90m 1\u001b[39m doc1              1           1 They stay t… 1        They  they  PRON  PRP  \n",
      "\u001b[90m 2\u001b[39m doc1              1           1 They stay t… 2        stay  stay  VERB  VBP  \n",
      "\u001b[90m 3\u001b[39m doc1              1           1 They stay t… 3        that  that  DET   DT   \n",
      "\u001b[90m 4\u001b[39m doc1              1           1 They stay t… 4        way   way   NOUN  NN   \n",
      "\u001b[90m 5\u001b[39m doc1              1           1 They stay t… 5        for   for   ADP   IN   \n",
      "\u001b[90m 6\u001b[39m doc1              1           1 They stay t… 6        a     a     DET   DT   \n",
      "\u001b[90m 7\u001b[39m doc1              1           1 They stay t… 7        long  long  ADJ   JJ   \n",
      "\u001b[90m 8\u001b[39m doc1              1           1 They stay t… 8        time  time  NOUN  NN   \n",
      "\u001b[90m 9\u001b[39m doc1              1           1 They stay t… 9        ,     ,     PUNCT ,    \n",
      "\u001b[90m10\u001b[39m doc1              1           1 They stay t… 10       Catra Catra PROPN NNP  \n",
      "\u001b[90m# … with 6,880 more rows, and 5 more variables: feats <chr>,\u001b[39m\n",
      "\u001b[90m#   head_token_id <chr>, dep_rel <chr>, deps <chr>, misc <chr>\u001b[39m\n"
     ]
    }
   ],
   "source": [
    "print(tokens)"
   ]
  },
  {
   "cell_type": "markdown",
   "id": "185d5c71",
   "metadata": {},
   "source": [
    "Each row in the tibble is a single token. We get ids for the document, paragraph, sentence, and token. We get the token itself, plus a lemmatized (stemmed) version. We get part-of-speech tags according to two different classification systems, and additional features for some parts of speech: e.g. mood, number. We also get information about the structure of the sentence according to dependency grammar.\n",
    "\n",
    "By default, we also get, for every single token, a full copy of the sentence to which it belongs. I’m going to save that information in a separate tibble and then remove it."
   ]
  },
  {
   "cell_type": "code",
   "execution_count": 11,
   "id": "37348f14",
   "metadata": {},
   "outputs": [],
   "source": [
    "sentences <- tokens %>%\n",
    "    group_by(sentence_id) %>%\n",
    "    summarize(sentence=first(sentence))"
   ]
  },
  {
   "cell_type": "code",
   "execution_count": 12,
   "id": "357f1a11",
   "metadata": {},
   "outputs": [
    {
     "data": {
      "text/html": [
       "<table class=\"dataframe\">\n",
       "<caption>A tibble: 6 × 2</caption>\n",
       "<thead>\n",
       "\t<tr><th scope=col>sentence_id</th><th scope=col>sentence</th></tr>\n",
       "\t<tr><th scope=col>&lt;int&gt;</th><th scope=col>&lt;chr&gt;</th></tr>\n",
       "</thead>\n",
       "<tbody>\n",
       "\t<tr><td>1</td><td>They stay that way for a long time, Catra’s face tucked into Adora’s shoulder, Adora gently cradling Catra’s head.                                                                               </td></tr>\n",
       "\t<tr><td>2</td><td>Adora is careful not to hug Catra too hard or make her feel restrained, anticipating the moment that Catra will start to pull away — but Catra doesn’t.                                          </td></tr>\n",
       "\t<tr><td>3</td><td>She hangs on so tightly it hurts, her claws digging through Adora’s jacket and into her back, latching into her like she did when she was a kitten and didn’t know how much her claws could hurt.</td></tr>\n",
       "\t<tr><td>4</td><td>Adora tries not to wince, tries not to move a single muscle, worried that if she does the spell will break and Catra will struggle away, appalled at having shown weakness.                      </td></tr>\n",
       "\t<tr><td>5</td><td>But Catra doesn’t let go.                                                                                                                                                                        </td></tr>\n",
       "\t<tr><td>6</td><td>And so neither does Adora.                                                                                                                                                                       </td></tr>\n",
       "</tbody>\n",
       "</table>\n"
      ],
      "text/latex": [
       "A tibble: 6 × 2\n",
       "\\begin{tabular}{ll}\n",
       " sentence\\_id & sentence\\\\\n",
       " <int> & <chr>\\\\\n",
       "\\hline\n",
       "\t 1 & They stay that way for a long time, Catra’s face tucked into Adora’s shoulder, Adora gently cradling Catra’s head.                                                                               \\\\\n",
       "\t 2 & Adora is careful not to hug Catra too hard or make her feel restrained, anticipating the moment that Catra will start to pull away — but Catra doesn’t.                                          \\\\\n",
       "\t 3 & She hangs on so tightly it hurts, her claws digging through Adora’s jacket and into her back, latching into her like she did when she was a kitten and didn’t know how much her claws could hurt.\\\\\n",
       "\t 4 & Adora tries not to wince, tries not to move a single muscle, worried that if she does the spell will break and Catra will struggle away, appalled at having shown weakness.                      \\\\\n",
       "\t 5 & But Catra doesn’t let go.                                                                                                                                                                        \\\\\n",
       "\t 6 & And so neither does Adora.                                                                                                                                                                       \\\\\n",
       "\\end{tabular}\n"
      ],
      "text/markdown": [
       "\n",
       "A tibble: 6 × 2\n",
       "\n",
       "| sentence_id &lt;int&gt; | sentence &lt;chr&gt; |\n",
       "|---|---|\n",
       "| 1 | They stay that way for a long time, Catra’s face tucked into Adora’s shoulder, Adora gently cradling Catra’s head.                                                                                |\n",
       "| 2 | Adora is careful not to hug Catra too hard or make her feel restrained, anticipating the moment that Catra will start to pull away — but Catra doesn’t.                                           |\n",
       "| 3 | She hangs on so tightly it hurts, her claws digging through Adora’s jacket and into her back, latching into her like she did when she was a kitten and didn’t know how much her claws could hurt. |\n",
       "| 4 | Adora tries not to wince, tries not to move a single muscle, worried that if she does the spell will break and Catra will struggle away, appalled at having shown weakness.                       |\n",
       "| 5 | But Catra doesn’t let go.                                                                                                                                                                         |\n",
       "| 6 | And so neither does Adora.                                                                                                                                                                        |\n",
       "\n"
      ],
      "text/plain": [
       "  sentence_id\n",
       "1 1          \n",
       "2 2          \n",
       "3 3          \n",
       "4 4          \n",
       "5 5          \n",
       "6 6          \n",
       "  sentence                                                                                                                                                                                         \n",
       "1 They stay that way for a long time, Catra’s face tucked into Adora’s shoulder, Adora gently cradling Catra’s head.                                                                               \n",
       "2 Adora is careful not to hug Catra too hard or make her feel restrained, anticipating the moment that Catra will start to pull away — but Catra doesn’t.                                          \n",
       "3 She hangs on so tightly it hurts, her claws digging through Adora’s jacket and into her back, latching into her like she did when she was a kitten and didn’t know how much her claws could hurt.\n",
       "4 Adora tries not to wince, tries not to move a single muscle, worried that if she does the spell will break and Catra will struggle away, appalled at having shown weakness.                      \n",
       "5 But Catra doesn’t let go.                                                                                                                                                                        \n",
       "6 And so neither does Adora.                                                                                                                                                                       "
      ]
     },
     "metadata": {},
     "output_type": "display_data"
    }
   ],
   "source": [
    "head(sentences)"
   ]
  },
  {
   "cell_type": "markdown",
   "id": "2b5699cf",
   "metadata": {},
   "source": [
    "Ok, we have one copy of each sentence now, associated with its sentence id. We can refer to this later if we want to figure out where something is in the story. We no longer need the `sentence` column in `tokens`."
   ]
  },
  {
   "cell_type": "code",
   "execution_count": 13,
   "id": "f9af37fa",
   "metadata": {},
   "outputs": [],
   "source": [
    "tokens <- tokens %>% select(-sentence)"
   ]
  },
  {
   "cell_type": "code",
   "execution_count": 14,
   "id": "7df299bb",
   "metadata": {},
   "outputs": [
    {
     "data": {
      "text/html": [
       "<table class=\"dataframe\">\n",
       "<caption>A tibble: 6 × 13</caption>\n",
       "<thead>\n",
       "\t<tr><th scope=col>doc_id</th><th scope=col>paragraph_id</th><th scope=col>sentence_id</th><th scope=col>token_id</th><th scope=col>token</th><th scope=col>lemma</th><th scope=col>upos</th><th scope=col>xpos</th><th scope=col>feats</th><th scope=col>head_token_id</th><th scope=col>dep_rel</th><th scope=col>deps</th><th scope=col>misc</th></tr>\n",
       "\t<tr><th scope=col>&lt;chr&gt;</th><th scope=col>&lt;int&gt;</th><th scope=col>&lt;int&gt;</th><th scope=col>&lt;chr&gt;</th><th scope=col>&lt;chr&gt;</th><th scope=col>&lt;chr&gt;</th><th scope=col>&lt;chr&gt;</th><th scope=col>&lt;chr&gt;</th><th scope=col>&lt;chr&gt;</th><th scope=col>&lt;chr&gt;</th><th scope=col>&lt;chr&gt;</th><th scope=col>&lt;chr&gt;</th><th scope=col>&lt;chr&gt;</th></tr>\n",
       "</thead>\n",
       "<tbody>\n",
       "\t<tr><td>doc1</td><td>1</td><td>1</td><td>1</td><td>They</td><td>they</td><td>PRON</td><td>PRP</td><td>Case=Nom|Number=Plur|Person=3|PronType=Prs</td><td>2</td><td>nsubj</td><td>NA</td><td>NA</td></tr>\n",
       "\t<tr><td>doc1</td><td>1</td><td>1</td><td>2</td><td>stay</td><td>stay</td><td>VERB</td><td>VBP</td><td>Mood=Ind|Tense=Pres|VerbForm=Fin          </td><td>0</td><td>root </td><td>NA</td><td>NA</td></tr>\n",
       "\t<tr><td>doc1</td><td>1</td><td>1</td><td>3</td><td>that</td><td>that</td><td>DET </td><td>DT </td><td>Number=Sing|PronType=Dem                  </td><td>4</td><td>det  </td><td>NA</td><td>NA</td></tr>\n",
       "\t<tr><td>doc1</td><td>1</td><td>1</td><td>4</td><td>way </td><td>way </td><td>NOUN</td><td>NN </td><td>Number=Sing                               </td><td>2</td><td>obj  </td><td>NA</td><td>NA</td></tr>\n",
       "\t<tr><td>doc1</td><td>1</td><td>1</td><td>5</td><td>for </td><td>for </td><td>ADP </td><td>IN </td><td>NA                                        </td><td>8</td><td>case </td><td>NA</td><td>NA</td></tr>\n",
       "\t<tr><td>doc1</td><td>1</td><td>1</td><td>6</td><td>a   </td><td>a   </td><td>DET </td><td>DT </td><td>Definite=Ind|PronType=Art                 </td><td>8</td><td>det  </td><td>NA</td><td>NA</td></tr>\n",
       "</tbody>\n",
       "</table>\n"
      ],
      "text/latex": [
       "A tibble: 6 × 13\n",
       "\\begin{tabular}{lllllllllllll}\n",
       " doc\\_id & paragraph\\_id & sentence\\_id & token\\_id & token & lemma & upos & xpos & feats & head\\_token\\_id & dep\\_rel & deps & misc\\\\\n",
       " <chr> & <int> & <int> & <chr> & <chr> & <chr> & <chr> & <chr> & <chr> & <chr> & <chr> & <chr> & <chr>\\\\\n",
       "\\hline\n",
       "\t doc1 & 1 & 1 & 1 & They & they & PRON & PRP & Case=Nom\\textbar{}Number=Plur\\textbar{}Person=3\\textbar{}PronType=Prs & 2 & nsubj & NA & NA\\\\\n",
       "\t doc1 & 1 & 1 & 2 & stay & stay & VERB & VBP & Mood=Ind\\textbar{}Tense=Pres\\textbar{}VerbForm=Fin           & 0 & root  & NA & NA\\\\\n",
       "\t doc1 & 1 & 1 & 3 & that & that & DET  & DT  & Number=Sing\\textbar{}PronType=Dem                   & 4 & det   & NA & NA\\\\\n",
       "\t doc1 & 1 & 1 & 4 & way  & way  & NOUN & NN  & Number=Sing                                & 2 & obj   & NA & NA\\\\\n",
       "\t doc1 & 1 & 1 & 5 & for  & for  & ADP  & IN  & NA                                         & 8 & case  & NA & NA\\\\\n",
       "\t doc1 & 1 & 1 & 6 & a    & a    & DET  & DT  & Definite=Ind\\textbar{}PronType=Art                  & 8 & det   & NA & NA\\\\\n",
       "\\end{tabular}\n"
      ],
      "text/markdown": [
       "\n",
       "A tibble: 6 × 13\n",
       "\n",
       "| doc_id &lt;chr&gt; | paragraph_id &lt;int&gt; | sentence_id &lt;int&gt; | token_id &lt;chr&gt; | token &lt;chr&gt; | lemma &lt;chr&gt; | upos &lt;chr&gt; | xpos &lt;chr&gt; | feats &lt;chr&gt; | head_token_id &lt;chr&gt; | dep_rel &lt;chr&gt; | deps &lt;chr&gt; | misc &lt;chr&gt; |\n",
       "|---|---|---|---|---|---|---|---|---|---|---|---|---|\n",
       "| doc1 | 1 | 1 | 1 | They | they | PRON | PRP | Case=Nom|Number=Plur|Person=3|PronType=Prs | 2 | nsubj | NA | NA |\n",
       "| doc1 | 1 | 1 | 2 | stay | stay | VERB | VBP | Mood=Ind|Tense=Pres|VerbForm=Fin           | 0 | root  | NA | NA |\n",
       "| doc1 | 1 | 1 | 3 | that | that | DET  | DT  | Number=Sing|PronType=Dem                   | 4 | det   | NA | NA |\n",
       "| doc1 | 1 | 1 | 4 | way  | way  | NOUN | NN  | Number=Sing                                | 2 | obj   | NA | NA |\n",
       "| doc1 | 1 | 1 | 5 | for  | for  | ADP  | IN  | NA                                         | 8 | case  | NA | NA |\n",
       "| doc1 | 1 | 1 | 6 | a    | a    | DET  | DT  | Definite=Ind|PronType=Art                  | 8 | det   | NA | NA |\n",
       "\n"
      ],
      "text/plain": [
       "  doc_id paragraph_id sentence_id token_id token lemma upos xpos\n",
       "1 doc1   1            1           1        They  they  PRON PRP \n",
       "2 doc1   1            1           2        stay  stay  VERB VBP \n",
       "3 doc1   1            1           3        that  that  DET  DT  \n",
       "4 doc1   1            1           4        way   way   NOUN NN  \n",
       "5 doc1   1            1           5        for   for   ADP  IN  \n",
       "6 doc1   1            1           6        a     a     DET  DT  \n",
       "  feats                                      head_token_id dep_rel deps misc\n",
       "1 Case=Nom|Number=Plur|Person=3|PronType=Prs 2             nsubj   NA   NA  \n",
       "2 Mood=Ind|Tense=Pres|VerbForm=Fin           0             root    NA   NA  \n",
       "3 Number=Sing|PronType=Dem                   4             det     NA   NA  \n",
       "4 Number=Sing                                2             obj     NA   NA  \n",
       "5 NA                                         8             case    NA   NA  \n",
       "6 Definite=Ind|PronType=Art                  8             det     NA   NA  "
      ]
     },
     "metadata": {},
     "output_type": "display_data"
    }
   ],
   "source": [
    "head(tokens)"
   ]
  },
  {
   "cell_type": "markdown",
   "id": "eee88040",
   "metadata": {},
   "source": [
    "One simple form of analysis is to `filter()` the tibble according to part of speech information. Column `upos` contains tags from the [Universal POS tagset](https://universaldependencies.org/u/pos/index.html). Column `xpos` theoretically contains language-specific tags if they’re available. For now, let’s use `upos` to select adjectives and produce a count of the most common:"
   ]
  },
  {
   "cell_type": "code",
   "execution_count": 15,
   "id": "0391dd1d",
   "metadata": {},
   "outputs": [
    {
     "data": {
      "text/html": [
       "<table class=\"dataframe\">\n",
       "<caption>A tibble: 10 × 2</caption>\n",
       "<thead>\n",
       "\t<tr><th scope=col>token</th><th scope=col>n</th></tr>\n",
       "\t<tr><th scope=col>&lt;chr&gt;</th><th scope=col>&lt;int&gt;</th></tr>\n",
       "</thead>\n",
       "<tbody>\n",
       "\t<tr><td>long  </td><td>10</td></tr>\n",
       "\t<tr><td>good  </td><td> 9</td></tr>\n",
       "\t<tr><td>small </td><td> 8</td></tr>\n",
       "\t<tr><td>okay  </td><td> 7</td></tr>\n",
       "\t<tr><td>little</td><td> 6</td></tr>\n",
       "\t<tr><td>only  </td><td> 6</td></tr>\n",
       "\t<tr><td>first </td><td> 5</td></tr>\n",
       "\t<tr><td>last  </td><td> 5</td></tr>\n",
       "\t<tr><td>more  </td><td> 5</td></tr>\n",
       "\t<tr><td>stupid</td><td> 5</td></tr>\n",
       "</tbody>\n",
       "</table>\n"
      ],
      "text/latex": [
       "A tibble: 10 × 2\n",
       "\\begin{tabular}{ll}\n",
       " token & n\\\\\n",
       " <chr> & <int>\\\\\n",
       "\\hline\n",
       "\t long   & 10\\\\\n",
       "\t good   &  9\\\\\n",
       "\t small  &  8\\\\\n",
       "\t okay   &  7\\\\\n",
       "\t little &  6\\\\\n",
       "\t only   &  6\\\\\n",
       "\t first  &  5\\\\\n",
       "\t last   &  5\\\\\n",
       "\t more   &  5\\\\\n",
       "\t stupid &  5\\\\\n",
       "\\end{tabular}\n"
      ],
      "text/markdown": [
       "\n",
       "A tibble: 10 × 2\n",
       "\n",
       "| token &lt;chr&gt; | n &lt;int&gt; |\n",
       "|---|---|\n",
       "| long   | 10 |\n",
       "| good   |  9 |\n",
       "| small  |  8 |\n",
       "| okay   |  7 |\n",
       "| little |  6 |\n",
       "| only   |  6 |\n",
       "| first  |  5 |\n",
       "| last   |  5 |\n",
       "| more   |  5 |\n",
       "| stupid |  5 |\n",
       "\n"
      ],
      "text/plain": [
       "   token  n \n",
       "1  long   10\n",
       "2  good    9\n",
       "3  small   8\n",
       "4  okay    7\n",
       "5  little  6\n",
       "6  only    6\n",
       "7  first   5\n",
       "8  last    5\n",
       "9  more    5\n",
       "10 stupid  5"
      ]
     },
     "metadata": {},
     "output_type": "display_data"
    }
   ],
   "source": [
    "tokens %>%\n",
    "    filter(upos=='ADJ') %>%\n",
    "    count(token, sort=TRUE) %>%\n",
    "    head(10)"
   ]
  },
  {
   "cell_type": "markdown",
   "id": "3508db1d",
   "metadata": {},
   "source": [
    "Here’s a slightly more complicated example. I’m going to see which sentence contain the most imperative verbs.\n",
    "\n",
    "I’ve noticed that the `feats` column includes information about the mood of finite verbs. Although there aren’t any examples in the rows that we’ve looked at so far, I bet that imperatives have the string `Mood=Imp` in this column. To test for that, I can use `str_detect()` with a `filter()`."
   ]
  },
  {
   "cell_type": "code",
   "execution_count": 16,
   "id": "b5eec146",
   "metadata": {},
   "outputs": [
    {
     "data": {
      "text/html": [
       "<table class=\"dataframe\">\n",
       "<caption>A tibble: 10 × 13</caption>\n",
       "<thead>\n",
       "\t<tr><th scope=col>doc_id</th><th scope=col>paragraph_id</th><th scope=col>sentence_id</th><th scope=col>token_id</th><th scope=col>token</th><th scope=col>lemma</th><th scope=col>upos</th><th scope=col>xpos</th><th scope=col>feats</th><th scope=col>head_token_id</th><th scope=col>dep_rel</th><th scope=col>deps</th><th scope=col>misc</th></tr>\n",
       "\t<tr><th scope=col>&lt;chr&gt;</th><th scope=col>&lt;int&gt;</th><th scope=col>&lt;int&gt;</th><th scope=col>&lt;chr&gt;</th><th scope=col>&lt;chr&gt;</th><th scope=col>&lt;chr&gt;</th><th scope=col>&lt;chr&gt;</th><th scope=col>&lt;chr&gt;</th><th scope=col>&lt;chr&gt;</th><th scope=col>&lt;chr&gt;</th><th scope=col>&lt;chr&gt;</th><th scope=col>&lt;chr&gt;</th><th scope=col>&lt;chr&gt;</th></tr>\n",
       "</thead>\n",
       "<tbody>\n",
       "\t<tr><td>doc1</td><td> 6</td><td> 15</td><td>1 </td><td>Bow  </td><td>Bow  </td><td>VERB</td><td>VB</td><td>Mood=Imp|VerbForm=Fin</td><td>0</td><td>root     </td><td>NA</td><td>NA           </td></tr>\n",
       "\t<tr><td>doc1</td><td>18</td><td> 65</td><td>2 </td><td>Get  </td><td>get  </td><td>VERB</td><td>VB</td><td>Mood=Imp|VerbForm=Fin</td><td>0</td><td>root     </td><td>NA</td><td>NA           </td></tr>\n",
       "\t<tr><td>doc1</td><td>18</td><td> 66</td><td>3 </td><td>leave</td><td>leave</td><td>VERB</td><td>VB</td><td>Mood=Imp|VerbForm=Fin</td><td>0</td><td>root     </td><td>NA</td><td>NA           </td></tr>\n",
       "\t<tr><td>doc1</td><td>22</td><td> 77</td><td>12</td><td>let  </td><td>let  </td><td>VERB</td><td>VB</td><td>Mood=Imp|VerbForm=Fin</td><td>8</td><td>parataxis</td><td>NA</td><td>NA           </td></tr>\n",
       "\t<tr><td>doc1</td><td>25</td><td> 87</td><td>1 </td><td>Stop </td><td>stop </td><td>VERB</td><td>VB</td><td>Mood=Imp|VerbForm=Fin</td><td>0</td><td>root     </td><td>NA</td><td>SpaceAfter=No</td></tr>\n",
       "\t<tr><td>doc1</td><td>33</td><td>121</td><td>4 </td><td>stop </td><td>stop </td><td>VERB</td><td>VB</td><td>Mood=Imp|VerbForm=Fin</td><td>0</td><td>root     </td><td>NA</td><td>SpaceAfter=No</td></tr>\n",
       "\t<tr><td>doc1</td><td>33</td><td>122</td><td>1 </td><td>Stop </td><td>stop </td><td>VERB</td><td>VB</td><td>Mood=Imp|VerbForm=Fin</td><td>0</td><td>root     </td><td>NA</td><td>NA           </td></tr>\n",
       "\t<tr><td>doc1</td><td>33</td><td>125</td><td>2 </td><td>Let  </td><td>let  </td><td>VERB</td><td>VB</td><td>Mood=Imp|VerbForm=Fin</td><td>0</td><td>root     </td><td>NA</td><td>NA           </td></tr>\n",
       "\t<tr><td>doc1</td><td>33</td><td>125</td><td>3 </td><td>go   </td><td>go   </td><td>VERB</td><td>VB</td><td>Mood=Imp|VerbForm=Fin</td><td>2</td><td>xcomp    </td><td>NA</td><td>SpaceAfter=No</td></tr>\n",
       "\t<tr><td>doc1</td><td>34</td><td>126</td><td>2 </td><td>Look </td><td>look </td><td>VERB</td><td>VB</td><td>Mood=Imp|VerbForm=Fin</td><td>0</td><td>root     </td><td>NA</td><td>NA           </td></tr>\n",
       "</tbody>\n",
       "</table>\n"
      ],
      "text/latex": [
       "A tibble: 10 × 13\n",
       "\\begin{tabular}{lllllllllllll}\n",
       " doc\\_id & paragraph\\_id & sentence\\_id & token\\_id & token & lemma & upos & xpos & feats & head\\_token\\_id & dep\\_rel & deps & misc\\\\\n",
       " <chr> & <int> & <int> & <chr> & <chr> & <chr> & <chr> & <chr> & <chr> & <chr> & <chr> & <chr> & <chr>\\\\\n",
       "\\hline\n",
       "\t doc1 &  6 &  15 & 1  & Bow   & Bow   & VERB & VB & Mood=Imp\\textbar{}VerbForm=Fin & 0 & root      & NA & NA           \\\\\n",
       "\t doc1 & 18 &  65 & 2  & Get   & get   & VERB & VB & Mood=Imp\\textbar{}VerbForm=Fin & 0 & root      & NA & NA           \\\\\n",
       "\t doc1 & 18 &  66 & 3  & leave & leave & VERB & VB & Mood=Imp\\textbar{}VerbForm=Fin & 0 & root      & NA & NA           \\\\\n",
       "\t doc1 & 22 &  77 & 12 & let   & let   & VERB & VB & Mood=Imp\\textbar{}VerbForm=Fin & 8 & parataxis & NA & NA           \\\\\n",
       "\t doc1 & 25 &  87 & 1  & Stop  & stop  & VERB & VB & Mood=Imp\\textbar{}VerbForm=Fin & 0 & root      & NA & SpaceAfter=No\\\\\n",
       "\t doc1 & 33 & 121 & 4  & stop  & stop  & VERB & VB & Mood=Imp\\textbar{}VerbForm=Fin & 0 & root      & NA & SpaceAfter=No\\\\\n",
       "\t doc1 & 33 & 122 & 1  & Stop  & stop  & VERB & VB & Mood=Imp\\textbar{}VerbForm=Fin & 0 & root      & NA & NA           \\\\\n",
       "\t doc1 & 33 & 125 & 2  & Let   & let   & VERB & VB & Mood=Imp\\textbar{}VerbForm=Fin & 0 & root      & NA & NA           \\\\\n",
       "\t doc1 & 33 & 125 & 3  & go    & go    & VERB & VB & Mood=Imp\\textbar{}VerbForm=Fin & 2 & xcomp     & NA & SpaceAfter=No\\\\\n",
       "\t doc1 & 34 & 126 & 2  & Look  & look  & VERB & VB & Mood=Imp\\textbar{}VerbForm=Fin & 0 & root      & NA & NA           \\\\\n",
       "\\end{tabular}\n"
      ],
      "text/markdown": [
       "\n",
       "A tibble: 10 × 13\n",
       "\n",
       "| doc_id &lt;chr&gt; | paragraph_id &lt;int&gt; | sentence_id &lt;int&gt; | token_id &lt;chr&gt; | token &lt;chr&gt; | lemma &lt;chr&gt; | upos &lt;chr&gt; | xpos &lt;chr&gt; | feats &lt;chr&gt; | head_token_id &lt;chr&gt; | dep_rel &lt;chr&gt; | deps &lt;chr&gt; | misc &lt;chr&gt; |\n",
       "|---|---|---|---|---|---|---|---|---|---|---|---|---|\n",
       "| doc1 |  6 |  15 | 1  | Bow   | Bow   | VERB | VB | Mood=Imp|VerbForm=Fin | 0 | root      | NA | NA            |\n",
       "| doc1 | 18 |  65 | 2  | Get   | get   | VERB | VB | Mood=Imp|VerbForm=Fin | 0 | root      | NA | NA            |\n",
       "| doc1 | 18 |  66 | 3  | leave | leave | VERB | VB | Mood=Imp|VerbForm=Fin | 0 | root      | NA | NA            |\n",
       "| doc1 | 22 |  77 | 12 | let   | let   | VERB | VB | Mood=Imp|VerbForm=Fin | 8 | parataxis | NA | NA            |\n",
       "| doc1 | 25 |  87 | 1  | Stop  | stop  | VERB | VB | Mood=Imp|VerbForm=Fin | 0 | root      | NA | SpaceAfter=No |\n",
       "| doc1 | 33 | 121 | 4  | stop  | stop  | VERB | VB | Mood=Imp|VerbForm=Fin | 0 | root      | NA | SpaceAfter=No |\n",
       "| doc1 | 33 | 122 | 1  | Stop  | stop  | VERB | VB | Mood=Imp|VerbForm=Fin | 0 | root      | NA | NA            |\n",
       "| doc1 | 33 | 125 | 2  | Let   | let   | VERB | VB | Mood=Imp|VerbForm=Fin | 0 | root      | NA | NA            |\n",
       "| doc1 | 33 | 125 | 3  | go    | go    | VERB | VB | Mood=Imp|VerbForm=Fin | 2 | xcomp     | NA | SpaceAfter=No |\n",
       "| doc1 | 34 | 126 | 2  | Look  | look  | VERB | VB | Mood=Imp|VerbForm=Fin | 0 | root      | NA | NA            |\n",
       "\n"
      ],
      "text/plain": [
       "   doc_id paragraph_id sentence_id token_id token lemma upos xpos\n",
       "1  doc1    6            15         1        Bow   Bow   VERB VB  \n",
       "2  doc1   18            65         2        Get   get   VERB VB  \n",
       "3  doc1   18            66         3        leave leave VERB VB  \n",
       "4  doc1   22            77         12       let   let   VERB VB  \n",
       "5  doc1   25            87         1        Stop  stop  VERB VB  \n",
       "6  doc1   33           121         4        stop  stop  VERB VB  \n",
       "7  doc1   33           122         1        Stop  stop  VERB VB  \n",
       "8  doc1   33           125         2        Let   let   VERB VB  \n",
       "9  doc1   33           125         3        go    go    VERB VB  \n",
       "10 doc1   34           126         2        Look  look  VERB VB  \n",
       "   feats                 head_token_id dep_rel   deps misc         \n",
       "1  Mood=Imp|VerbForm=Fin 0             root      NA   NA           \n",
       "2  Mood=Imp|VerbForm=Fin 0             root      NA   NA           \n",
       "3  Mood=Imp|VerbForm=Fin 0             root      NA   NA           \n",
       "4  Mood=Imp|VerbForm=Fin 8             parataxis NA   NA           \n",
       "5  Mood=Imp|VerbForm=Fin 0             root      NA   SpaceAfter=No\n",
       "6  Mood=Imp|VerbForm=Fin 0             root      NA   SpaceAfter=No\n",
       "7  Mood=Imp|VerbForm=Fin 0             root      NA   NA           \n",
       "8  Mood=Imp|VerbForm=Fin 0             root      NA   NA           \n",
       "9  Mood=Imp|VerbForm=Fin 2             xcomp     NA   SpaceAfter=No\n",
       "10 Mood=Imp|VerbForm=Fin 0             root      NA   NA           "
      ]
     },
     "metadata": {},
     "output_type": "display_data"
    }
   ],
   "source": [
    "tokens %>%\n",
    "    filter(str_detect(feats, 'Mood=Imp')) %>%\n",
    "    head(10)"
   ]
  },
  {
   "cell_type": "markdown",
   "id": "75756e41",
   "metadata": {},
   "source": [
    "Aha! I was right! Now, what remains is to `group_by()` sentence and count the results. But I think I’d also like to retain a list of the matching verbs in each case. For that, I can do a custom `summarise()` instead of the usual `count()`. In addition to using the aggregation function `n()` to count the results, I can use `str_c()` to actually paste together the tokens themselves.\n",
    "\n",
    "Even though some sentences might have more than one row in the `tokens` table, `str_c()` can create a single string with all the tokens concatenated together. See `help(str_c)` for more details on how the optional parameter `collapse` works."
   ]
  },
  {
   "cell_type": "code",
   "execution_count": 17,
   "id": "c3aa151c",
   "metadata": {},
   "outputs": [
    {
     "data": {
      "text/html": [
       "<table class=\"dataframe\">\n",
       "<caption>A tibble: 21 × 3</caption>\n",
       "<thead>\n",
       "\t<tr><th scope=col>sentence_id</th><th scope=col>n</th><th scope=col>tokens</th></tr>\n",
       "\t<tr><th scope=col>&lt;int&gt;</th><th scope=col>&lt;int&gt;</th><th scope=col>&lt;chr&gt;</th></tr>\n",
       "</thead>\n",
       "<tbody>\n",
       "\t<tr><td>125</td><td>2</td><td>Let, go</td></tr>\n",
       "\t<tr><td>352</td><td>2</td><td>go, get</td></tr>\n",
       "\t<tr><td>424</td><td>2</td><td>Do, be </td></tr>\n",
       "\t<tr><td> 15</td><td>1</td><td>Bow    </td></tr>\n",
       "\t<tr><td> 65</td><td>1</td><td>Get    </td></tr>\n",
       "\t<tr><td> 66</td><td>1</td><td>leave  </td></tr>\n",
       "\t<tr><td> 77</td><td>1</td><td>let    </td></tr>\n",
       "\t<tr><td> 87</td><td>1</td><td>Stop   </td></tr>\n",
       "\t<tr><td>121</td><td>1</td><td>stop   </td></tr>\n",
       "\t<tr><td>122</td><td>1</td><td>Stop   </td></tr>\n",
       "\t<tr><td>126</td><td>1</td><td>Look   </td></tr>\n",
       "\t<tr><td>133</td><td>1</td><td>Take   </td></tr>\n",
       "\t<tr><td>138</td><td>1</td><td>Take   </td></tr>\n",
       "\t<tr><td>139</td><td>1</td><td>take   </td></tr>\n",
       "\t<tr><td>173</td><td>1</td><td>Take   </td></tr>\n",
       "\t<tr><td>217</td><td>1</td><td>call   </td></tr>\n",
       "\t<tr><td>277</td><td>1</td><td>Stay   </td></tr>\n",
       "\t<tr><td>328</td><td>1</td><td>be     </td></tr>\n",
       "\t<tr><td>431</td><td>1</td><td>Take   </td></tr>\n",
       "\t<tr><td>436</td><td>1</td><td>look   </td></tr>\n",
       "\t<tr><td>493</td><td>1</td><td>lull   </td></tr>\n",
       "</tbody>\n",
       "</table>\n"
      ],
      "text/latex": [
       "A tibble: 21 × 3\n",
       "\\begin{tabular}{lll}\n",
       " sentence\\_id & n & tokens\\\\\n",
       " <int> & <int> & <chr>\\\\\n",
       "\\hline\n",
       "\t 125 & 2 & Let, go\\\\\n",
       "\t 352 & 2 & go, get\\\\\n",
       "\t 424 & 2 & Do, be \\\\\n",
       "\t  15 & 1 & Bow    \\\\\n",
       "\t  65 & 1 & Get    \\\\\n",
       "\t  66 & 1 & leave  \\\\\n",
       "\t  77 & 1 & let    \\\\\n",
       "\t  87 & 1 & Stop   \\\\\n",
       "\t 121 & 1 & stop   \\\\\n",
       "\t 122 & 1 & Stop   \\\\\n",
       "\t 126 & 1 & Look   \\\\\n",
       "\t 133 & 1 & Take   \\\\\n",
       "\t 138 & 1 & Take   \\\\\n",
       "\t 139 & 1 & take   \\\\\n",
       "\t 173 & 1 & Take   \\\\\n",
       "\t 217 & 1 & call   \\\\\n",
       "\t 277 & 1 & Stay   \\\\\n",
       "\t 328 & 1 & be     \\\\\n",
       "\t 431 & 1 & Take   \\\\\n",
       "\t 436 & 1 & look   \\\\\n",
       "\t 493 & 1 & lull   \\\\\n",
       "\\end{tabular}\n"
      ],
      "text/markdown": [
       "\n",
       "A tibble: 21 × 3\n",
       "\n",
       "| sentence_id &lt;int&gt; | n &lt;int&gt; | tokens &lt;chr&gt; |\n",
       "|---|---|---|\n",
       "| 125 | 2 | Let, go |\n",
       "| 352 | 2 | go, get |\n",
       "| 424 | 2 | Do, be  |\n",
       "|  15 | 1 | Bow     |\n",
       "|  65 | 1 | Get     |\n",
       "|  66 | 1 | leave   |\n",
       "|  77 | 1 | let     |\n",
       "|  87 | 1 | Stop    |\n",
       "| 121 | 1 | stop    |\n",
       "| 122 | 1 | Stop    |\n",
       "| 126 | 1 | Look    |\n",
       "| 133 | 1 | Take    |\n",
       "| 138 | 1 | Take    |\n",
       "| 139 | 1 | take    |\n",
       "| 173 | 1 | Take    |\n",
       "| 217 | 1 | call    |\n",
       "| 277 | 1 | Stay    |\n",
       "| 328 | 1 | be      |\n",
       "| 431 | 1 | Take    |\n",
       "| 436 | 1 | look    |\n",
       "| 493 | 1 | lull    |\n",
       "\n"
      ],
      "text/plain": [
       "   sentence_id n tokens \n",
       "1  125         2 Let, go\n",
       "2  352         2 go, get\n",
       "3  424         2 Do, be \n",
       "4   15         1 Bow    \n",
       "5   65         1 Get    \n",
       "6   66         1 leave  \n",
       "7   77         1 let    \n",
       "8   87         1 Stop   \n",
       "9  121         1 stop   \n",
       "10 122         1 Stop   \n",
       "11 126         1 Look   \n",
       "12 133         1 Take   \n",
       "13 138         1 Take   \n",
       "14 139         1 take   \n",
       "15 173         1 Take   \n",
       "16 217         1 call   \n",
       "17 277         1 Stay   \n",
       "18 328         1 be     \n",
       "19 431         1 Take   \n",
       "20 436         1 look   \n",
       "21 493         1 lull   "
      ]
     },
     "metadata": {},
     "output_type": "display_data"
    }
   ],
   "source": [
    "tokens %>%\n",
    "    filter(str_detect(feats, 'Mood=Imp')) %>%\n",
    "    group_by(sentence_id) %>%\n",
    "    summarise(n=n(), tokens=str_c(token, collapse=', ')) %>%\n",
    "    arrange(desc(n))"
   ]
  },
  {
   "cell_type": "markdown",
   "id": "39ccc8f8",
   "metadata": {},
   "source": [
    "### Collocations\n",
    "\n",
    "We can use udpipe to search for word collocations, somewhat as we did with tidytext. But udpipe offers us the ability to sort collocations not based on raw frequency, but on how \"interesting\" the pairing is from an information-theoretical perspective. The function `keywords_collocation()` calculates counts for both the left and the right member of each ngram independently, and then scores the ngram according to how unlikely it is that the occurrences are independent of each other. This has the effect of surfacing ngrams whose members are closely related to each other as opposed to those simply made up of very common words.\n",
    "\n",
    "`keywords_collocation()` takes as input a table of tokens like that produced by `udpipe_annotate`. The mandatory parameter `term` tells it which column contains the words (you might choose either `token` or `lemma`, depending on whether you want e.g. 'walk' and 'walks' folded together). A second mandatory parameter, `group` indicates which column will define the scope within which collocations can occur (choose `sentence_id` to only see pairings within the same sentence, or `paragraph_id` to allow collocations across sentence boundaries). Note that because this function doesn’t play by all the tidyverse rules, we have to put quotation marks around these column names.\n",
    "\n",
    "For more details, see `help(keywords_collocation)`.\n",
    "\n",
    "Because udpipe, unlike tidytext, treats punctuation marks as tokens, I’m going to filter them out before checking collocations."
   ]
  },
  {
   "cell_type": "code",
   "execution_count": 18,
   "id": "559f74ba",
   "metadata": {},
   "outputs": [
    {
     "data": {
      "text/html": [
       "<table class=\"dataframe\">\n",
       "<caption>A data.frame: 10 × 10</caption>\n",
       "<thead>\n",
       "\t<tr><th></th><th scope=col>keyword</th><th scope=col>ngram</th><th scope=col>left</th><th scope=col>right</th><th scope=col>freq</th><th scope=col>freq_left</th><th scope=col>freq_right</th><th scope=col>pmi</th><th scope=col>md</th><th scope=col>lfmd</th></tr>\n",
       "\t<tr><th></th><th scope=col>&lt;chr&gt;</th><th scope=col>&lt;dbl&gt;</th><th scope=col>&lt;chr&gt;</th><th scope=col>&lt;chr&gt;</th><th scope=col>&lt;int&gt;</th><th scope=col>&lt;int&gt;</th><th scope=col>&lt;int&gt;</th><th scope=col>&lt;dbl&gt;</th><th scope=col>&lt;dbl&gt;</th><th scope=col>&lt;dbl&gt;</th></tr>\n",
       "</thead>\n",
       "<tbody>\n",
       "\t<tr><th scope=row>1</th><td>fall asleep  </td><td>2</td><td>fall   </td><td>asleep</td><td>4</td><td> 6</td><td> 5</td><td>9.571626</td><td>-0.9068906</td><td>-11.38541</td></tr>\n",
       "\t<tr><th scope=row>2</th><td>through space</td><td>2</td><td>through</td><td>space </td><td>3</td><td> 9</td><td> 5</td><td>8.571626</td><td>-2.3219281</td><td>-13.21548</td></tr>\n",
       "\t<tr><th scope=row>3</th><td>Horde Prime  </td><td>2</td><td>Horde  </td><td>Prime </td><td>6</td><td> 8</td><td>16</td><td>8.063479</td><td>-1.8300750</td><td>-11.72363</td></tr>\n",
       "\t<tr><th scope=row>4</th><td>right now    </td><td>2</td><td>right  </td><td>now   </td><td>3</td><td> 9</td><td> 9</td><td>7.723629</td><td>-3.1699250</td><td>-14.06348</td></tr>\n",
       "\t<tr><th scope=row>5</th><td>know how     </td><td>2</td><td>know   </td><td>how   </td><td>5</td><td>17</td><td> 8</td><td>7.712982</td><td>-2.4436067</td><td>-12.60020</td></tr>\n",
       "\t<tr><th scope=row>6</th><td>how ’d       </td><td>2</td><td>how    </td><td>’d    </td><td>4</td><td>17</td><td> 8</td><td>7.391054</td><td>-3.0874628</td><td>-13.56598</td></tr>\n",
       "\t<tr><th scope=row>7</th><td>at last      </td><td>2</td><td>at     </td><td>last  </td><td>3</td><td>32</td><td> 5</td><td>6.741551</td><td>-4.1520031</td><td>-15.04556</td></tr>\n",
       "\t<tr><th scope=row>8</th><td>long time    </td><td>2</td><td>long   </td><td>time  </td><td>5</td><td>15</td><td>18</td><td>6.723629</td><td>-3.4329594</td><td>-13.58955</td></tr>\n",
       "\t<tr><th scope=row>9</th><td>long moment  </td><td>2</td><td>long   </td><td>moment</td><td>3</td><td>15</td><td>11</td><td>6.697157</td><td>-4.1963972</td><td>-15.08995</td></tr>\n",
       "\t<tr><th scope=row>10</th><td>curl up      </td><td>2</td><td>curl   </td><td>up    </td><td>4</td><td> 8</td><td>28</td><td>6.671162</td><td>-3.8073549</td><td>-14.28587</td></tr>\n",
       "</tbody>\n",
       "</table>\n"
      ],
      "text/latex": [
       "A data.frame: 10 × 10\n",
       "\\begin{tabular}{r|llllllllll}\n",
       "  & keyword & ngram & left & right & freq & freq\\_left & freq\\_right & pmi & md & lfmd\\\\\n",
       "  & <chr> & <dbl> & <chr> & <chr> & <int> & <int> & <int> & <dbl> & <dbl> & <dbl>\\\\\n",
       "\\hline\n",
       "\t1 & fall asleep   & 2 & fall    & asleep & 4 &  6 &  5 & 9.571626 & -0.9068906 & -11.38541\\\\\n",
       "\t2 & through space & 2 & through & space  & 3 &  9 &  5 & 8.571626 & -2.3219281 & -13.21548\\\\\n",
       "\t3 & Horde Prime   & 2 & Horde   & Prime  & 6 &  8 & 16 & 8.063479 & -1.8300750 & -11.72363\\\\\n",
       "\t4 & right now     & 2 & right   & now    & 3 &  9 &  9 & 7.723629 & -3.1699250 & -14.06348\\\\\n",
       "\t5 & know how      & 2 & know    & how    & 5 & 17 &  8 & 7.712982 & -2.4436067 & -12.60020\\\\\n",
       "\t6 & how ’d        & 2 & how     & ’d     & 4 & 17 &  8 & 7.391054 & -3.0874628 & -13.56598\\\\\n",
       "\t7 & at last       & 2 & at      & last   & 3 & 32 &  5 & 6.741551 & -4.1520031 & -15.04556\\\\\n",
       "\t8 & long time     & 2 & long    & time   & 5 & 15 & 18 & 6.723629 & -3.4329594 & -13.58955\\\\\n",
       "\t9 & long moment   & 2 & long    & moment & 3 & 15 & 11 & 6.697157 & -4.1963972 & -15.08995\\\\\n",
       "\t10 & curl up       & 2 & curl    & up     & 4 &  8 & 28 & 6.671162 & -3.8073549 & -14.28587\\\\\n",
       "\\end{tabular}\n"
      ],
      "text/markdown": [
       "\n",
       "A data.frame: 10 × 10\n",
       "\n",
       "| <!--/--> | keyword &lt;chr&gt; | ngram &lt;dbl&gt; | left &lt;chr&gt; | right &lt;chr&gt; | freq &lt;int&gt; | freq_left &lt;int&gt; | freq_right &lt;int&gt; | pmi &lt;dbl&gt; | md &lt;dbl&gt; | lfmd &lt;dbl&gt; |\n",
       "|---|---|---|---|---|---|---|---|---|---|---|\n",
       "| 1 | fall asleep   | 2 | fall    | asleep | 4 |  6 |  5 | 9.571626 | -0.9068906 | -11.38541 |\n",
       "| 2 | through space | 2 | through | space  | 3 |  9 |  5 | 8.571626 | -2.3219281 | -13.21548 |\n",
       "| 3 | Horde Prime   | 2 | Horde   | Prime  | 6 |  8 | 16 | 8.063479 | -1.8300750 | -11.72363 |\n",
       "| 4 | right now     | 2 | right   | now    | 3 |  9 |  9 | 7.723629 | -3.1699250 | -14.06348 |\n",
       "| 5 | know how      | 2 | know    | how    | 5 | 17 |  8 | 7.712982 | -2.4436067 | -12.60020 |\n",
       "| 6 | how ’d        | 2 | how     | ’d     | 4 | 17 |  8 | 7.391054 | -3.0874628 | -13.56598 |\n",
       "| 7 | at last       | 2 | at      | last   | 3 | 32 |  5 | 6.741551 | -4.1520031 | -15.04556 |\n",
       "| 8 | long time     | 2 | long    | time   | 5 | 15 | 18 | 6.723629 | -3.4329594 | -13.58955 |\n",
       "| 9 | long moment   | 2 | long    | moment | 3 | 15 | 11 | 6.697157 | -4.1963972 | -15.08995 |\n",
       "| 10 | curl up       | 2 | curl    | up     | 4 |  8 | 28 | 6.671162 | -3.8073549 | -14.28587 |\n",
       "\n"
      ],
      "text/plain": [
       "   keyword       ngram left    right  freq freq_left freq_right pmi     \n",
       "1  fall asleep   2     fall    asleep 4     6         5         9.571626\n",
       "2  through space 2     through space  3     9         5         8.571626\n",
       "3  Horde Prime   2     Horde   Prime  6     8        16         8.063479\n",
       "4  right now     2     right   now    3     9         9         7.723629\n",
       "5  know how      2     know    how    5    17         8         7.712982\n",
       "6  how ’d        2     how     ’d     4    17         8         7.391054\n",
       "7  at last       2     at      last   3    32         5         6.741551\n",
       "8  long time     2     long    time   5    15        18         6.723629\n",
       "9  long moment   2     long    moment 3    15        11         6.697157\n",
       "10 curl up       2     curl    up     4     8        28         6.671162\n",
       "   md         lfmd     \n",
       "1  -0.9068906 -11.38541\n",
       "2  -2.3219281 -13.21548\n",
       "3  -1.8300750 -11.72363\n",
       "4  -3.1699250 -14.06348\n",
       "5  -2.4436067 -12.60020\n",
       "6  -3.0874628 -13.56598\n",
       "7  -4.1520031 -15.04556\n",
       "8  -3.4329594 -13.58955\n",
       "9  -4.1963972 -15.08995\n",
       "10 -3.8073549 -14.28587"
      ]
     },
     "metadata": {},
     "output_type": "display_data"
    }
   ],
   "source": [
    "tokens %>%\n",
    "    filter(upos != 'PUNCT') %>%\n",
    "    keywords_collocation(term='lemma', group='sentence_id') %>%\n",
    "    head(10)"
   ]
  },
  {
   "cell_type": "markdown",
   "id": "fc4443ed",
   "metadata": {},
   "source": [
    "The resulting table gives the count of the ngram, as well individual counts of the left and right members; the final three columns are alternative measures of how unlikely the words are to have cooccurred by chance. By default the table is sorted by `pmi`, or **pointwise mutual information**. For details, see `help(keywords_collocation)`."
   ]
  },
  {
   "cell_type": "markdown",
   "id": "ec1e9fc8",
   "metadata": {},
   "source": [
    "## Sentiment\n",
    "\n",
    "The final feature that we’re going to look at in this section is **sentiment**. So-called \"affective computing\" is a popular subject in commercial as well as academic research within digital humanities: the ability to accurately parse customer feedback, shareholder confidence, political feelings, etc., is of course potentially highly profitable, and we may expect machine learning in particular to make great advances in this domain in the coming years.\n",
    "\n",
    "For now, however, much sentiment analysis still depends on relatively simple dictionary approaches, in which a fixed lexicon has been hand-tagged with scores or with fixed categories. Several such dictionaries are available through tidytext.\n",
    "\n",
    "The function `get_sentiments()` can be used to retrieve four such dictionaries. The choices are \"afinn\", \"bing\", \"nrc\", or \"loughran\". Here are few quick examples of each.\n",
    "\n",
    "### Binary classifier\n",
    "\n",
    "The \"bing\" lexicon simply classifies each word as \"positive\" or \"negative\". How many words does it have?"
   ]
  },
  {
   "cell_type": "code",
   "execution_count": 19,
   "id": "b574bf7f",
   "metadata": {},
   "outputs": [
    {
     "name": "stdout",
     "output_type": "stream",
     "text": [
      "tibble [6,786 × 2] (S3: tbl_df/tbl/data.frame)\n",
      " $ word     : chr [1:6786] \"2-faces\" \"abnormal\" \"abolish\" \"abominable\" ...\n",
      " $ sentiment: chr [1:6786] \"negative\" \"negative\" \"negative\" \"negative\" ...\n"
     ]
    }
   ],
   "source": [
    "sent_bing <- get_sentiments('bing')\n",
    "str(sent_bing)"
   ]
  },
  {
   "cell_type": "markdown",
   "id": "9d66f798",
   "metadata": {},
   "source": [
    "What are some examples of \"positive\" words?"
   ]
  },
  {
   "cell_type": "code",
   "execution_count": 20,
   "id": "1c28f1ad",
   "metadata": {},
   "outputs": [
    {
     "data": {
      "text/html": [
       "<table class=\"dataframe\">\n",
       "<caption>A tibble: 10 × 2</caption>\n",
       "<thead>\n",
       "\t<tr><th scope=col>word</th><th scope=col>sentiment</th></tr>\n",
       "\t<tr><th scope=col>&lt;chr&gt;</th><th scope=col>&lt;chr&gt;</th></tr>\n",
       "</thead>\n",
       "<tbody>\n",
       "\t<tr><td>abound     </td><td>positive</td></tr>\n",
       "\t<tr><td>abounds    </td><td>positive</td></tr>\n",
       "\t<tr><td>abundance  </td><td>positive</td></tr>\n",
       "\t<tr><td>abundant   </td><td>positive</td></tr>\n",
       "\t<tr><td>accessable </td><td>positive</td></tr>\n",
       "\t<tr><td>accessible </td><td>positive</td></tr>\n",
       "\t<tr><td>acclaim    </td><td>positive</td></tr>\n",
       "\t<tr><td>acclaimed  </td><td>positive</td></tr>\n",
       "\t<tr><td>acclamation</td><td>positive</td></tr>\n",
       "\t<tr><td>accolade   </td><td>positive</td></tr>\n",
       "</tbody>\n",
       "</table>\n"
      ],
      "text/latex": [
       "A tibble: 10 × 2\n",
       "\\begin{tabular}{ll}\n",
       " word & sentiment\\\\\n",
       " <chr> & <chr>\\\\\n",
       "\\hline\n",
       "\t abound      & positive\\\\\n",
       "\t abounds     & positive\\\\\n",
       "\t abundance   & positive\\\\\n",
       "\t abundant    & positive\\\\\n",
       "\t accessable  & positive\\\\\n",
       "\t accessible  & positive\\\\\n",
       "\t acclaim     & positive\\\\\n",
       "\t acclaimed   & positive\\\\\n",
       "\t acclamation & positive\\\\\n",
       "\t accolade    & positive\\\\\n",
       "\\end{tabular}\n"
      ],
      "text/markdown": [
       "\n",
       "A tibble: 10 × 2\n",
       "\n",
       "| word &lt;chr&gt; | sentiment &lt;chr&gt; |\n",
       "|---|---|\n",
       "| abound      | positive |\n",
       "| abounds     | positive |\n",
       "| abundance   | positive |\n",
       "| abundant    | positive |\n",
       "| accessable  | positive |\n",
       "| accessible  | positive |\n",
       "| acclaim     | positive |\n",
       "| acclaimed   | positive |\n",
       "| acclamation | positive |\n",
       "| accolade    | positive |\n",
       "\n"
      ],
      "text/plain": [
       "   word        sentiment\n",
       "1  abound      positive \n",
       "2  abounds     positive \n",
       "3  abundance   positive \n",
       "4  abundant    positive \n",
       "5  accessable  positive \n",
       "6  accessible  positive \n",
       "7  acclaim     positive \n",
       "8  acclaimed   positive \n",
       "9  acclamation positive \n",
       "10 accolade    positive "
      ]
     },
     "metadata": {},
     "output_type": "display_data"
    }
   ],
   "source": [
    "sent_bing %>%\n",
    "    filter(sentiment=='positive') %>%\n",
    "    head(10)"
   ]
  },
  {
   "cell_type": "markdown",
   "id": "1e3c03f5",
   "metadata": {},
   "source": [
    "And \"negative\" words?"
   ]
  },
  {
   "cell_type": "code",
   "execution_count": 21,
   "id": "f112d299",
   "metadata": {},
   "outputs": [
    {
     "data": {
      "text/html": [
       "<table class=\"dataframe\">\n",
       "<caption>A tibble: 10 × 2</caption>\n",
       "<thead>\n",
       "\t<tr><th scope=col>word</th><th scope=col>sentiment</th></tr>\n",
       "\t<tr><th scope=col>&lt;chr&gt;</th><th scope=col>&lt;chr&gt;</th></tr>\n",
       "</thead>\n",
       "<tbody>\n",
       "\t<tr><td>2-faces    </td><td>negative</td></tr>\n",
       "\t<tr><td>abnormal   </td><td>negative</td></tr>\n",
       "\t<tr><td>abolish    </td><td>negative</td></tr>\n",
       "\t<tr><td>abominable </td><td>negative</td></tr>\n",
       "\t<tr><td>abominably </td><td>negative</td></tr>\n",
       "\t<tr><td>abominate  </td><td>negative</td></tr>\n",
       "\t<tr><td>abomination</td><td>negative</td></tr>\n",
       "\t<tr><td>abort      </td><td>negative</td></tr>\n",
       "\t<tr><td>aborted    </td><td>negative</td></tr>\n",
       "\t<tr><td>aborts     </td><td>negative</td></tr>\n",
       "</tbody>\n",
       "</table>\n"
      ],
      "text/latex": [
       "A tibble: 10 × 2\n",
       "\\begin{tabular}{ll}\n",
       " word & sentiment\\\\\n",
       " <chr> & <chr>\\\\\n",
       "\\hline\n",
       "\t 2-faces     & negative\\\\\n",
       "\t abnormal    & negative\\\\\n",
       "\t abolish     & negative\\\\\n",
       "\t abominable  & negative\\\\\n",
       "\t abominably  & negative\\\\\n",
       "\t abominate   & negative\\\\\n",
       "\t abomination & negative\\\\\n",
       "\t abort       & negative\\\\\n",
       "\t aborted     & negative\\\\\n",
       "\t aborts      & negative\\\\\n",
       "\\end{tabular}\n"
      ],
      "text/markdown": [
       "\n",
       "A tibble: 10 × 2\n",
       "\n",
       "| word &lt;chr&gt; | sentiment &lt;chr&gt; |\n",
       "|---|---|\n",
       "| 2-faces     | negative |\n",
       "| abnormal    | negative |\n",
       "| abolish     | negative |\n",
       "| abominable  | negative |\n",
       "| abominably  | negative |\n",
       "| abominate   | negative |\n",
       "| abomination | negative |\n",
       "| abort       | negative |\n",
       "| aborted     | negative |\n",
       "| aborts      | negative |\n",
       "\n"
      ],
      "text/plain": [
       "   word        sentiment\n",
       "1  2-faces     negative \n",
       "2  abnormal    negative \n",
       "3  abolish     negative \n",
       "4  abominable  negative \n",
       "5  abominably  negative \n",
       "6  abominate   negative \n",
       "7  abomination negative \n",
       "8  abort       negative \n",
       "9  aborted     negative \n",
       "10 aborts      negative "
      ]
     },
     "metadata": {},
     "output_type": "display_data"
    }
   ],
   "source": [
    "sent_bing %>%\n",
    "    filter(sentiment=='negative') %>%\n",
    "    head(10)"
   ]
  },
  {
   "cell_type": "markdown",
   "id": "13aac4a0",
   "metadata": {},
   "source": [
    "### Adding sentiment data to `tokens`\n",
    "\n",
    "Let’s try adding the sentiment tags to our `tokens` table. We can use a join operation to match each word in `tokens` against the sentiment dictionary. \n",
    "\n",
    "- Not all the words will exist in the dictionary: a `left_join()` will preserve all rows in `tokens` and just match those that it can; `NA`s will be introduced for words it can’t find.\n",
    "\n",
    "We need a column to join on: I’ll create column `word` in `tokens` that’s lowercased just like the `word` column in the dictionaries."
   ]
  },
  {
   "cell_type": "code",
   "execution_count": 22,
   "id": "0f55fc3b",
   "metadata": {},
   "outputs": [
    {
     "name": "stderr",
     "output_type": "stream",
     "text": [
      "\u001b[1m\u001b[22mJoining, by = \"word\"\n"
     ]
    }
   ],
   "source": [
    "tokens_bing <- tokens %>% \n",
    "    mutate(word = str_to_lower(token)) %>%\n",
    "    left_join(sent_bing)"
   ]
  },
  {
   "cell_type": "code",
   "execution_count": 23,
   "id": "733ccbaa",
   "metadata": {},
   "outputs": [
    {
     "data": {
      "text/html": [
       "<table class=\"dataframe\">\n",
       "<caption>A tibble: 6 × 15</caption>\n",
       "<thead>\n",
       "\t<tr><th scope=col>doc_id</th><th scope=col>paragraph_id</th><th scope=col>sentence_id</th><th scope=col>token_id</th><th scope=col>token</th><th scope=col>lemma</th><th scope=col>upos</th><th scope=col>xpos</th><th scope=col>feats</th><th scope=col>head_token_id</th><th scope=col>dep_rel</th><th scope=col>deps</th><th scope=col>misc</th><th scope=col>word</th><th scope=col>sentiment</th></tr>\n",
       "\t<tr><th scope=col>&lt;chr&gt;</th><th scope=col>&lt;int&gt;</th><th scope=col>&lt;int&gt;</th><th scope=col>&lt;chr&gt;</th><th scope=col>&lt;chr&gt;</th><th scope=col>&lt;chr&gt;</th><th scope=col>&lt;chr&gt;</th><th scope=col>&lt;chr&gt;</th><th scope=col>&lt;chr&gt;</th><th scope=col>&lt;chr&gt;</th><th scope=col>&lt;chr&gt;</th><th scope=col>&lt;chr&gt;</th><th scope=col>&lt;chr&gt;</th><th scope=col>&lt;chr&gt;</th><th scope=col>&lt;chr&gt;</th></tr>\n",
       "</thead>\n",
       "<tbody>\n",
       "\t<tr><td>doc1</td><td>1</td><td>2</td><td>6 </td><td>hug  </td><td>hug </td><td>VERB </td><td>VB </td><td>VerbForm=Inf                                         </td><td>3 </td><td>conj  </td><td>NA</td><td>NA           </td><td>hug  </td><td>positive</td></tr>\n",
       "\t<tr><td>doc1</td><td>1</td><td>2</td><td>9 </td><td>hard </td><td>hard</td><td>ADV  </td><td>RB </td><td>Degree=Pos                                           </td><td>6 </td><td>advmod</td><td>NA</td><td>NA           </td><td>hard </td><td>negative</td></tr>\n",
       "\t<tr><td>doc1</td><td>1</td><td>3</td><td>2 </td><td>hangs</td><td>hang</td><td>VERB </td><td>VBZ</td><td>Mood=Ind|Number=Sing|Person=3|Tense=Pres|VerbForm=Fin</td><td>0 </td><td>root  </td><td>NA</td><td>NA           </td><td>hangs</td><td>negative</td></tr>\n",
       "\t<tr><td>doc1</td><td>1</td><td>3</td><td>7 </td><td>hurts</td><td>hurt</td><td>VERB </td><td>VBZ</td><td>Mood=Ind|Number=Sing|Person=3|Tense=Pres|VerbForm=Fin</td><td>2 </td><td>ccomp </td><td>NA</td><td>SpaceAfter=No</td><td>hurts</td><td>negative</td></tr>\n",
       "\t<tr><td>doc1</td><td>1</td><td>3</td><td>24</td><td>like </td><td>like</td><td>SCONJ</td><td>IN </td><td>NA                                                   </td><td>26</td><td>mark  </td><td>NA</td><td>NA           </td><td>like </td><td>positive</td></tr>\n",
       "\t<tr><td>doc1</td><td>1</td><td>3</td><td>41</td><td>hurt </td><td>hurt</td><td>VERB </td><td>VB </td><td>VerbForm=Inf                                         </td><td>35</td><td>ccomp </td><td>NA</td><td>SpaceAfter=No</td><td>hurt </td><td>negative</td></tr>\n",
       "</tbody>\n",
       "</table>\n"
      ],
      "text/latex": [
       "A tibble: 6 × 15\n",
       "\\begin{tabular}{lllllllllllllll}\n",
       " doc\\_id & paragraph\\_id & sentence\\_id & token\\_id & token & lemma & upos & xpos & feats & head\\_token\\_id & dep\\_rel & deps & misc & word & sentiment\\\\\n",
       " <chr> & <int> & <int> & <chr> & <chr> & <chr> & <chr> & <chr> & <chr> & <chr> & <chr> & <chr> & <chr> & <chr> & <chr>\\\\\n",
       "\\hline\n",
       "\t doc1 & 1 & 2 & 6  & hug   & hug  & VERB  & VB  & VerbForm=Inf                                          & 3  & conj   & NA & NA            & hug   & positive\\\\\n",
       "\t doc1 & 1 & 2 & 9  & hard  & hard & ADV   & RB  & Degree=Pos                                            & 6  & advmod & NA & NA            & hard  & negative\\\\\n",
       "\t doc1 & 1 & 3 & 2  & hangs & hang & VERB  & VBZ & Mood=Ind\\textbar{}Number=Sing\\textbar{}Person=3\\textbar{}Tense=Pres\\textbar{}VerbForm=Fin & 0  & root   & NA & NA            & hangs & negative\\\\\n",
       "\t doc1 & 1 & 3 & 7  & hurts & hurt & VERB  & VBZ & Mood=Ind\\textbar{}Number=Sing\\textbar{}Person=3\\textbar{}Tense=Pres\\textbar{}VerbForm=Fin & 2  & ccomp  & NA & SpaceAfter=No & hurts & negative\\\\\n",
       "\t doc1 & 1 & 3 & 24 & like  & like & SCONJ & IN  & NA                                                    & 26 & mark   & NA & NA            & like  & positive\\\\\n",
       "\t doc1 & 1 & 3 & 41 & hurt  & hurt & VERB  & VB  & VerbForm=Inf                                          & 35 & ccomp  & NA & SpaceAfter=No & hurt  & negative\\\\\n",
       "\\end{tabular}\n"
      ],
      "text/markdown": [
       "\n",
       "A tibble: 6 × 15\n",
       "\n",
       "| doc_id &lt;chr&gt; | paragraph_id &lt;int&gt; | sentence_id &lt;int&gt; | token_id &lt;chr&gt; | token &lt;chr&gt; | lemma &lt;chr&gt; | upos &lt;chr&gt; | xpos &lt;chr&gt; | feats &lt;chr&gt; | head_token_id &lt;chr&gt; | dep_rel &lt;chr&gt; | deps &lt;chr&gt; | misc &lt;chr&gt; | word &lt;chr&gt; | sentiment &lt;chr&gt; |\n",
       "|---|---|---|---|---|---|---|---|---|---|---|---|---|---|---|\n",
       "| doc1 | 1 | 2 | 6  | hug   | hug  | VERB  | VB  | VerbForm=Inf                                          | 3  | conj   | NA | NA            | hug   | positive |\n",
       "| doc1 | 1 | 2 | 9  | hard  | hard | ADV   | RB  | Degree=Pos                                            | 6  | advmod | NA | NA            | hard  | negative |\n",
       "| doc1 | 1 | 3 | 2  | hangs | hang | VERB  | VBZ | Mood=Ind|Number=Sing|Person=3|Tense=Pres|VerbForm=Fin | 0  | root   | NA | NA            | hangs | negative |\n",
       "| doc1 | 1 | 3 | 7  | hurts | hurt | VERB  | VBZ | Mood=Ind|Number=Sing|Person=3|Tense=Pres|VerbForm=Fin | 2  | ccomp  | NA | SpaceAfter=No | hurts | negative |\n",
       "| doc1 | 1 | 3 | 24 | like  | like | SCONJ | IN  | NA                                                    | 26 | mark   | NA | NA            | like  | positive |\n",
       "| doc1 | 1 | 3 | 41 | hurt  | hurt | VERB  | VB  | VerbForm=Inf                                          | 35 | ccomp  | NA | SpaceAfter=No | hurt  | negative |\n",
       "\n"
      ],
      "text/plain": [
       "  doc_id paragraph_id sentence_id token_id token lemma upos  xpos\n",
       "1 doc1   1            2           6        hug   hug   VERB  VB  \n",
       "2 doc1   1            2           9        hard  hard  ADV   RB  \n",
       "3 doc1   1            3           2        hangs hang  VERB  VBZ \n",
       "4 doc1   1            3           7        hurts hurt  VERB  VBZ \n",
       "5 doc1   1            3           24       like  like  SCONJ IN  \n",
       "6 doc1   1            3           41       hurt  hurt  VERB  VB  \n",
       "  feats                                                 head_token_id dep_rel\n",
       "1 VerbForm=Inf                                          3             conj   \n",
       "2 Degree=Pos                                            6             advmod \n",
       "3 Mood=Ind|Number=Sing|Person=3|Tense=Pres|VerbForm=Fin 0             root   \n",
       "4 Mood=Ind|Number=Sing|Person=3|Tense=Pres|VerbForm=Fin 2             ccomp  \n",
       "5 NA                                                    26            mark   \n",
       "6 VerbForm=Inf                                          35            ccomp  \n",
       "  deps misc          word  sentiment\n",
       "1 NA   NA            hug   positive \n",
       "2 NA   NA            hard  negative \n",
       "3 NA   NA            hangs negative \n",
       "4 NA   SpaceAfter=No hurts negative \n",
       "5 NA   NA            like  positive \n",
       "6 NA   SpaceAfter=No hurt  negative "
      ]
     },
     "metadata": {},
     "output_type": "display_data"
    }
   ],
   "source": [
    "tokens_bing %>%\n",
    "    filter(! is.na(sentiment)) %>%\n",
    "    head()"
   ]
  },
  {
   "cell_type": "markdown",
   "id": "e7562de9",
   "metadata": {},
   "source": [
    "### Working with sentiment tags\n",
    "\n",
    "We can use the sentiment tags to filter the token data, for example to create counts of the most frequent \"positive\" and \"negative\" words."
   ]
  },
  {
   "cell_type": "code",
   "execution_count": 24,
   "id": "038623a4",
   "metadata": {},
   "outputs": [
    {
     "data": {
      "text/html": [
       "<table class=\"dataframe\">\n",
       "<caption>A tibble: 10 × 2</caption>\n",
       "<thead>\n",
       "\t<tr><th scope=col>word</th><th scope=col>n</th></tr>\n",
       "\t<tr><th scope=col>&lt;chr&gt;</th><th scope=col>&lt;int&gt;</th></tr>\n",
       "</thead>\n",
       "<tbody>\n",
       "\t<tr><td>like   </td><td>24</td></tr>\n",
       "\t<tr><td>glimmer</td><td>12</td></tr>\n",
       "\t<tr><td>good   </td><td> 9</td></tr>\n",
       "\t<tr><td>right  </td><td> 9</td></tr>\n",
       "\t<tr><td>bright </td><td> 5</td></tr>\n",
       "\t<tr><td>enough </td><td> 5</td></tr>\n",
       "\t<tr><td>better </td><td> 4</td></tr>\n",
       "\t<tr><td>clearly</td><td> 4</td></tr>\n",
       "\t<tr><td>safe   </td><td> 4</td></tr>\n",
       "\t<tr><td>soft   </td><td> 4</td></tr>\n",
       "</tbody>\n",
       "</table>\n"
      ],
      "text/latex": [
       "A tibble: 10 × 2\n",
       "\\begin{tabular}{ll}\n",
       " word & n\\\\\n",
       " <chr> & <int>\\\\\n",
       "\\hline\n",
       "\t like    & 24\\\\\n",
       "\t glimmer & 12\\\\\n",
       "\t good    &  9\\\\\n",
       "\t right   &  9\\\\\n",
       "\t bright  &  5\\\\\n",
       "\t enough  &  5\\\\\n",
       "\t better  &  4\\\\\n",
       "\t clearly &  4\\\\\n",
       "\t safe    &  4\\\\\n",
       "\t soft    &  4\\\\\n",
       "\\end{tabular}\n"
      ],
      "text/markdown": [
       "\n",
       "A tibble: 10 × 2\n",
       "\n",
       "| word &lt;chr&gt; | n &lt;int&gt; |\n",
       "|---|---|\n",
       "| like    | 24 |\n",
       "| glimmer | 12 |\n",
       "| good    |  9 |\n",
       "| right   |  9 |\n",
       "| bright  |  5 |\n",
       "| enough  |  5 |\n",
       "| better  |  4 |\n",
       "| clearly |  4 |\n",
       "| safe    |  4 |\n",
       "| soft    |  4 |\n",
       "\n"
      ],
      "text/plain": [
       "   word    n \n",
       "1  like    24\n",
       "2  glimmer 12\n",
       "3  good     9\n",
       "4  right    9\n",
       "5  bright   5\n",
       "6  enough   5\n",
       "7  better   4\n",
       "8  clearly  4\n",
       "9  safe     4\n",
       "10 soft     4"
      ]
     },
     "metadata": {},
     "output_type": "display_data"
    }
   ],
   "source": [
    "tokens_bing %>%\n",
    "    filter(sentiment == 'positive') %>%\n",
    "    count(word, sort=TRUE) %>%\n",
    "    head(10)"
   ]
  },
  {
   "cell_type": "code",
   "execution_count": 25,
   "id": "c49fea37",
   "metadata": {},
   "outputs": [
    {
     "data": {
      "text/html": [
       "<table class=\"dataframe\">\n",
       "<caption>A tibble: 10 × 2</caption>\n",
       "<thead>\n",
       "\t<tr><th scope=col>word</th><th scope=col>n</th></tr>\n",
       "\t<tr><th scope=col>&lt;chr&gt;</th><th scope=col>&lt;int&gt;</th></tr>\n",
       "</thead>\n",
       "<tbody>\n",
       "\t<tr><td>horde </td><td>8</td></tr>\n",
       "\t<tr><td>hurt  </td><td>8</td></tr>\n",
       "\t<tr><td>pain  </td><td>5</td></tr>\n",
       "\t<tr><td>sorry </td><td>5</td></tr>\n",
       "\t<tr><td>stupid</td><td>5</td></tr>\n",
       "\t<tr><td>cold  </td><td>4</td></tr>\n",
       "\t<tr><td>falls </td><td>4</td></tr>\n",
       "\t<tr><td>hard  </td><td>4</td></tr>\n",
       "\t<tr><td>rage  </td><td>4</td></tr>\n",
       "\t<tr><td>tired </td><td>4</td></tr>\n",
       "</tbody>\n",
       "</table>\n"
      ],
      "text/latex": [
       "A tibble: 10 × 2\n",
       "\\begin{tabular}{ll}\n",
       " word & n\\\\\n",
       " <chr> & <int>\\\\\n",
       "\\hline\n",
       "\t horde  & 8\\\\\n",
       "\t hurt   & 8\\\\\n",
       "\t pain   & 5\\\\\n",
       "\t sorry  & 5\\\\\n",
       "\t stupid & 5\\\\\n",
       "\t cold   & 4\\\\\n",
       "\t falls  & 4\\\\\n",
       "\t hard   & 4\\\\\n",
       "\t rage   & 4\\\\\n",
       "\t tired  & 4\\\\\n",
       "\\end{tabular}\n"
      ],
      "text/markdown": [
       "\n",
       "A tibble: 10 × 2\n",
       "\n",
       "| word &lt;chr&gt; | n &lt;int&gt; |\n",
       "|---|---|\n",
       "| horde  | 8 |\n",
       "| hurt   | 8 |\n",
       "| pain   | 5 |\n",
       "| sorry  | 5 |\n",
       "| stupid | 5 |\n",
       "| cold   | 4 |\n",
       "| falls  | 4 |\n",
       "| hard   | 4 |\n",
       "| rage   | 4 |\n",
       "| tired  | 4 |\n",
       "\n"
      ],
      "text/plain": [
       "   word   n\n",
       "1  horde  8\n",
       "2  hurt   8\n",
       "3  pain   5\n",
       "4  sorry  5\n",
       "5  stupid 5\n",
       "6  cold   4\n",
       "7  falls  4\n",
       "8  hard   4\n",
       "9  rage   4\n",
       "10 tired  4"
      ]
     },
     "metadata": {},
     "output_type": "display_data"
    }
   ],
   "source": [
    "tokens_bing %>%\n",
    "    filter(sentiment == 'negative') %>%\n",
    "    count(word, sort=TRUE) %>%\n",
    "    head(10)"
   ]
  },
  {
   "cell_type": "markdown",
   "id": "3d97fde6",
   "metadata": {},
   "source": [
    "After consulting the cheat sheets, we can visualize these top words with ggplot2:"
   ]
  },
  {
   "cell_type": "code",
   "execution_count": 26,
   "id": "bf4f8f7b",
   "metadata": {},
   "outputs": [
    {
     "data": {
      "image/png": "[encoded data removed]",
      "text/plain": [
       "plot without title"
      ]
     },
     "metadata": {
      "image/png": {
       "height": 420,
       "width": 420
      }
     },
     "output_type": "display_data"
    }
   ],
   "source": [
    "tokens_bing %>%\n",
    "    filter(! is.na(sentiment)) %>%\n",
    "    group_by(sentiment) %>%\n",
    "    count(word, sort=TRUE) %>%\n",
    "    filter(row_number()<10) %>%\n",
    "\n",
    "ggplot() +\n",
    "    aes(n, word, fill=sentiment) +\n",
    "    geom_col(show.legend = FALSE) +\n",
    "    facet_wrap(~sentiment, scales=\"free\")"
   ]
  },
  {
   "cell_type": "markdown",
   "id": "69e8811c",
   "metadata": {},
   "source": [
    "### Multi-category tags\n",
    "\n",
    "The \"nrc\" lexicon includes, in addition to \"positive\" and \"negative\", eight named sentiment tags:\n",
    "\n",
    " - \"anger\"\n",
    " - \"anticipation\"\n",
    " - \"disgust\"\n",
    " - \"fear\"\n",
    " - \"joy\"\n",
    " - \"sadness\"\n",
    " - \"surprise\"\n",
    " - \"trust\""
   ]
  },
  {
   "cell_type": "code",
   "execution_count": 27,
   "id": "6f382c60",
   "metadata": {},
   "outputs": [
    {
     "name": "stdout",
     "output_type": "stream",
     "text": [
      "\u001b[90m# A tibble: 13,872 × 2\u001b[39m\n",
      "   word        sentiment\n",
      "   \u001b[3m\u001b[90m<chr>\u001b[39m\u001b[23m       \u001b[3m\u001b[90m<chr>\u001b[39m\u001b[23m    \n",
      "\u001b[90m 1\u001b[39m abacus      trust    \n",
      "\u001b[90m 2\u001b[39m abandon     fear     \n",
      "\u001b[90m 3\u001b[39m abandon     negative \n",
      "\u001b[90m 4\u001b[39m abandon     sadness  \n",
      "\u001b[90m 5\u001b[39m abandoned   anger    \n",
      "\u001b[90m 6\u001b[39m abandoned   fear     \n",
      "\u001b[90m 7\u001b[39m abandoned   negative \n",
      "\u001b[90m 8\u001b[39m abandoned   sadness  \n",
      "\u001b[90m 9\u001b[39m abandonment anger    \n",
      "\u001b[90m10\u001b[39m abandonment fear     \n",
      "\u001b[90m# … with 13,862 more rows\u001b[39m\n"
     ]
    }
   ],
   "source": [
    "sent_nrc <- get_sentiments('nrc')\n",
    "print(sent_nrc)"
   ]
  },
  {
   "cell_type": "markdown",
   "id": "40ecf693",
   "metadata": {},
   "source": [
    "Some words are tagged with more than one sentiment, so the number of rows is greater than the number of words in the lexicon. How many unique words does this lexicon have? About the same as \"bing\", it turns out."
   ]
  },
  {
   "cell_type": "code",
   "execution_count": 28,
   "id": "67f1c991",
   "metadata": {},
   "outputs": [
    {
     "data": {
      "text/html": [
       "<table class=\"dataframe\">\n",
       "<caption>A tibble: 1 × 1</caption>\n",
       "<thead>\n",
       "\t<tr><th scope=col>n_distinct(word)</th></tr>\n",
       "\t<tr><th scope=col>&lt;int&gt;</th></tr>\n",
       "</thead>\n",
       "<tbody>\n",
       "\t<tr><td>6453</td></tr>\n",
       "</tbody>\n",
       "</table>\n"
      ],
      "text/latex": [
       "A tibble: 1 × 1\n",
       "\\begin{tabular}{l}\n",
       " n\\_distinct(word)\\\\\n",
       " <int>\\\\\n",
       "\\hline\n",
       "\t 6453\\\\\n",
       "\\end{tabular}\n"
      ],
      "text/markdown": [
       "\n",
       "A tibble: 1 × 1\n",
       "\n",
       "| n_distinct(word) &lt;int&gt; |\n",
       "|---|\n",
       "| 6453 |\n",
       "\n"
      ],
      "text/plain": [
       "  n_distinct(word)\n",
       "1 6453            "
      ]
     },
     "metadata": {},
     "output_type": "display_data"
    }
   ],
   "source": [
    "sent_nrc %>% summarise(n_distinct(word))"
   ]
  },
  {
   "cell_type": "markdown",
   "id": "efe133ce",
   "metadata": {},
   "source": [
    "#### Joining against words with multiple tags\n",
    "\n",
    "We’ll add the tags to our token table with `left_join()` as we did above. But this time, a row in `tokens` may match against multiple rows in `sent_nrc` if one word has multiple tags in the dictionary (e.g. 'abandon' above). When that happens, we'll get multiple row for the same token in our result, and the tokens table will be longer than when we started."
   ]
  },
  {
   "cell_type": "code",
   "execution_count": 29,
   "id": "c45b69a9",
   "metadata": {},
   "outputs": [
    {
     "name": "stderr",
     "output_type": "stream",
     "text": [
      "\u001b[1m\u001b[22mJoining, by = \"word\"\n"
     ]
    }
   ],
   "source": [
    "tokens_nrc <- tokens %>% \n",
    "    mutate(word = str_to_lower(token)) %>%\n",
    "    left_join(sent_nrc)"
   ]
  },
  {
   "cell_type": "markdown",
   "id": "18596960",
   "metadata": {},
   "source": [
    "Let’s see the results—we’ll filter to find only those rows with sentiment data."
   ]
  },
  {
   "cell_type": "code",
   "execution_count": 30,
   "id": "7999df47",
   "metadata": {},
   "outputs": [
    {
     "data": {
      "text/html": [
       "<table class=\"dataframe\">\n",
       "<caption>A tibble: 20 × 5</caption>\n",
       "<thead>\n",
       "\t<tr><th scope=col>sentence_id</th><th scope=col>token_id</th><th scope=col>token</th><th scope=col>upos</th><th scope=col>sentiment</th></tr>\n",
       "\t<tr><th scope=col>&lt;int&gt;</th><th scope=col>&lt;chr&gt;</th><th scope=col>&lt;chr&gt;</th><th scope=col>&lt;chr&gt;</th><th scope=col>&lt;chr&gt;</th></tr>\n",
       "</thead>\n",
       "<tbody>\n",
       "\t<tr><td>1</td><td>7 </td><td>long      </td><td>ADJ </td><td>anticipation</td></tr>\n",
       "\t<tr><td>1</td><td>8 </td><td>time      </td><td>NOUN</td><td>anticipation</td></tr>\n",
       "\t<tr><td>1</td><td>17</td><td>shoulder  </td><td>NOUN</td><td>positive    </td></tr>\n",
       "\t<tr><td>1</td><td>17</td><td>shoulder  </td><td>NOUN</td><td>trust       </td></tr>\n",
       "\t<tr><td>2</td><td>3 </td><td>careful   </td><td>ADJ </td><td>positive    </td></tr>\n",
       "\t<tr><td>2</td><td>6 </td><td>hug       </td><td>VERB</td><td>joy         </td></tr>\n",
       "\t<tr><td>2</td><td>6 </td><td>hug       </td><td>VERB</td><td>positive    </td></tr>\n",
       "\t<tr><td>2</td><td>6 </td><td>hug       </td><td>VERB</td><td>trust       </td></tr>\n",
       "\t<tr><td>2</td><td>14</td><td>restrained</td><td>ADJ </td><td>fear        </td></tr>\n",
       "\t<tr><td>2</td><td>22</td><td>start     </td><td>VERB</td><td>anticipation</td></tr>\n",
       "\t<tr><td>2</td><td>24</td><td>pull      </td><td>VERB</td><td>positive    </td></tr>\n",
       "\t<tr><td>3</td><td>31</td><td>kitten    </td><td>NOUN</td><td>joy         </td></tr>\n",
       "\t<tr><td>3</td><td>31</td><td>kitten    </td><td>NOUN</td><td>positive    </td></tr>\n",
       "\t<tr><td>3</td><td>31</td><td>kitten    </td><td>NOUN</td><td>trust       </td></tr>\n",
       "\t<tr><td>3</td><td>41</td><td>hurt      </td><td>VERB</td><td>anger       </td></tr>\n",
       "\t<tr><td>3</td><td>41</td><td>hurt      </td><td>VERB</td><td>fear        </td></tr>\n",
       "\t<tr><td>3</td><td>41</td><td>hurt      </td><td>VERB</td><td>negative    </td></tr>\n",
       "\t<tr><td>3</td><td>41</td><td>hurt      </td><td>VERB</td><td>sadness     </td></tr>\n",
       "\t<tr><td>4</td><td>5 </td><td>wince     </td><td>VERB</td><td>anger       </td></tr>\n",
       "\t<tr><td>4</td><td>5 </td><td>wince     </td><td>VERB</td><td>disgust     </td></tr>\n",
       "</tbody>\n",
       "</table>\n"
      ],
      "text/latex": [
       "A tibble: 20 × 5\n",
       "\\begin{tabular}{lllll}\n",
       " sentence\\_id & token\\_id & token & upos & sentiment\\\\\n",
       " <int> & <chr> & <chr> & <chr> & <chr>\\\\\n",
       "\\hline\n",
       "\t 1 & 7  & long       & ADJ  & anticipation\\\\\n",
       "\t 1 & 8  & time       & NOUN & anticipation\\\\\n",
       "\t 1 & 17 & shoulder   & NOUN & positive    \\\\\n",
       "\t 1 & 17 & shoulder   & NOUN & trust       \\\\\n",
       "\t 2 & 3  & careful    & ADJ  & positive    \\\\\n",
       "\t 2 & 6  & hug        & VERB & joy         \\\\\n",
       "\t 2 & 6  & hug        & VERB & positive    \\\\\n",
       "\t 2 & 6  & hug        & VERB & trust       \\\\\n",
       "\t 2 & 14 & restrained & ADJ  & fear        \\\\\n",
       "\t 2 & 22 & start      & VERB & anticipation\\\\\n",
       "\t 2 & 24 & pull       & VERB & positive    \\\\\n",
       "\t 3 & 31 & kitten     & NOUN & joy         \\\\\n",
       "\t 3 & 31 & kitten     & NOUN & positive    \\\\\n",
       "\t 3 & 31 & kitten     & NOUN & trust       \\\\\n",
       "\t 3 & 41 & hurt       & VERB & anger       \\\\\n",
       "\t 3 & 41 & hurt       & VERB & fear        \\\\\n",
       "\t 3 & 41 & hurt       & VERB & negative    \\\\\n",
       "\t 3 & 41 & hurt       & VERB & sadness     \\\\\n",
       "\t 4 & 5  & wince      & VERB & anger       \\\\\n",
       "\t 4 & 5  & wince      & VERB & disgust     \\\\\n",
       "\\end{tabular}\n"
      ],
      "text/markdown": [
       "\n",
       "A tibble: 20 × 5\n",
       "\n",
       "| sentence_id &lt;int&gt; | token_id &lt;chr&gt; | token &lt;chr&gt; | upos &lt;chr&gt; | sentiment &lt;chr&gt; |\n",
       "|---|---|---|---|---|\n",
       "| 1 | 7  | long       | ADJ  | anticipation |\n",
       "| 1 | 8  | time       | NOUN | anticipation |\n",
       "| 1 | 17 | shoulder   | NOUN | positive     |\n",
       "| 1 | 17 | shoulder   | NOUN | trust        |\n",
       "| 2 | 3  | careful    | ADJ  | positive     |\n",
       "| 2 | 6  | hug        | VERB | joy          |\n",
       "| 2 | 6  | hug        | VERB | positive     |\n",
       "| 2 | 6  | hug        | VERB | trust        |\n",
       "| 2 | 14 | restrained | ADJ  | fear         |\n",
       "| 2 | 22 | start      | VERB | anticipation |\n",
       "| 2 | 24 | pull       | VERB | positive     |\n",
       "| 3 | 31 | kitten     | NOUN | joy          |\n",
       "| 3 | 31 | kitten     | NOUN | positive     |\n",
       "| 3 | 31 | kitten     | NOUN | trust        |\n",
       "| 3 | 41 | hurt       | VERB | anger        |\n",
       "| 3 | 41 | hurt       | VERB | fear         |\n",
       "| 3 | 41 | hurt       | VERB | negative     |\n",
       "| 3 | 41 | hurt       | VERB | sadness      |\n",
       "| 4 | 5  | wince      | VERB | anger        |\n",
       "| 4 | 5  | wince      | VERB | disgust      |\n",
       "\n"
      ],
      "text/plain": [
       "   sentence_id token_id token      upos sentiment   \n",
       "1  1           7        long       ADJ  anticipation\n",
       "2  1           8        time       NOUN anticipation\n",
       "3  1           17       shoulder   NOUN positive    \n",
       "4  1           17       shoulder   NOUN trust       \n",
       "5  2           3        careful    ADJ  positive    \n",
       "6  2           6        hug        VERB joy         \n",
       "7  2           6        hug        VERB positive    \n",
       "8  2           6        hug        VERB trust       \n",
       "9  2           14       restrained ADJ  fear        \n",
       "10 2           22       start      VERB anticipation\n",
       "11 2           24       pull       VERB positive    \n",
       "12 3           31       kitten     NOUN joy         \n",
       "13 3           31       kitten     NOUN positive    \n",
       "14 3           31       kitten     NOUN trust       \n",
       "15 3           41       hurt       VERB anger       \n",
       "16 3           41       hurt       VERB fear        \n",
       "17 3           41       hurt       VERB negative    \n",
       "18 3           41       hurt       VERB sadness     \n",
       "19 4           5        wince      VERB anger       \n",
       "20 4           5        wince      VERB disgust     "
      ]
     },
     "metadata": {},
     "output_type": "display_data"
    }
   ],
   "source": [
    "tokens_nrc %>%\n",
    "    filter(! is.na(sentiment)) %>%\n",
    "    select(sentence_id, token_id, token, upos, sentiment) %>%\n",
    "    head(20)"
   ]
  },
  {
   "cell_type": "markdown",
   "id": "652c969f",
   "metadata": {},
   "source": [
    "Now we’ll tally each sentiment by sentence:"
   ]
  },
  {
   "cell_type": "code",
   "execution_count": 31,
   "id": "ea67f524",
   "metadata": {},
   "outputs": [],
   "source": [
    "sentiment_tally <- tokens_nrc %>%\n",
    "    filter(! is.na(sentiment)) %>%\n",
    "    count(sentence_id, sentiment)"
   ]
  },
  {
   "cell_type": "code",
   "execution_count": 32,
   "id": "2387e6be",
   "metadata": {},
   "outputs": [
    {
     "data": {
      "text/html": [
       "<table class=\"dataframe\">\n",
       "<caption>A tibble: 10 × 3</caption>\n",
       "<thead>\n",
       "\t<tr><th scope=col>sentence_id</th><th scope=col>sentiment</th><th scope=col>n</th></tr>\n",
       "\t<tr><th scope=col>&lt;int&gt;</th><th scope=col>&lt;chr&gt;</th><th scope=col>&lt;int&gt;</th></tr>\n",
       "</thead>\n",
       "<tbody>\n",
       "\t<tr><td>1</td><td>anticipation</td><td>2</td></tr>\n",
       "\t<tr><td>1</td><td>positive    </td><td>1</td></tr>\n",
       "\t<tr><td>1</td><td>trust       </td><td>1</td></tr>\n",
       "\t<tr><td>2</td><td>anticipation</td><td>1</td></tr>\n",
       "\t<tr><td>2</td><td>fear        </td><td>1</td></tr>\n",
       "\t<tr><td>2</td><td>joy         </td><td>1</td></tr>\n",
       "\t<tr><td>2</td><td>positive    </td><td>3</td></tr>\n",
       "\t<tr><td>2</td><td>trust       </td><td>1</td></tr>\n",
       "\t<tr><td>3</td><td>anger       </td><td>1</td></tr>\n",
       "\t<tr><td>3</td><td>fear        </td><td>1</td></tr>\n",
       "</tbody>\n",
       "</table>\n"
      ],
      "text/latex": [
       "A tibble: 10 × 3\n",
       "\\begin{tabular}{lll}\n",
       " sentence\\_id & sentiment & n\\\\\n",
       " <int> & <chr> & <int>\\\\\n",
       "\\hline\n",
       "\t 1 & anticipation & 2\\\\\n",
       "\t 1 & positive     & 1\\\\\n",
       "\t 1 & trust        & 1\\\\\n",
       "\t 2 & anticipation & 1\\\\\n",
       "\t 2 & fear         & 1\\\\\n",
       "\t 2 & joy          & 1\\\\\n",
       "\t 2 & positive     & 3\\\\\n",
       "\t 2 & trust        & 1\\\\\n",
       "\t 3 & anger        & 1\\\\\n",
       "\t 3 & fear         & 1\\\\\n",
       "\\end{tabular}\n"
      ],
      "text/markdown": [
       "\n",
       "A tibble: 10 × 3\n",
       "\n",
       "| sentence_id &lt;int&gt; | sentiment &lt;chr&gt; | n &lt;int&gt; |\n",
       "|---|---|---|\n",
       "| 1 | anticipation | 2 |\n",
       "| 1 | positive     | 1 |\n",
       "| 1 | trust        | 1 |\n",
       "| 2 | anticipation | 1 |\n",
       "| 2 | fear         | 1 |\n",
       "| 2 | joy          | 1 |\n",
       "| 2 | positive     | 3 |\n",
       "| 2 | trust        | 1 |\n",
       "| 3 | anger        | 1 |\n",
       "| 3 | fear         | 1 |\n",
       "\n"
      ],
      "text/plain": [
       "   sentence_id sentiment    n\n",
       "1  1           anticipation 2\n",
       "2  1           positive     1\n",
       "3  1           trust        1\n",
       "4  2           anticipation 1\n",
       "5  2           fear         1\n",
       "6  2           joy          1\n",
       "7  2           positive     3\n",
       "8  2           trust        1\n",
       "9  3           anger        1\n",
       "10 3           fear         1"
      ]
     },
     "metadata": {},
     "output_type": "display_data"
    }
   ],
   "source": [
    "sentiment_tally %>% head(10)"
   ]
  },
  {
   "cell_type": "markdown",
   "id": "323afbec",
   "metadata": {},
   "source": [
    "I’m going to plot the tallies by sentence number, so we can visualize how sentiments are distributed along the narrative. But \"negative\" and \"positive\" seem a little different from the other categories, so I’ll plot them separately."
   ]
  },
  {
   "cell_type": "code",
   "execution_count": 33,
   "id": "b36807ef",
   "metadata": {},
   "outputs": [
    {
     "data": {
      "image/png": "[encoded data removed]",
      "text/plain": [
       "plot without title"
      ]
     },
     "metadata": {
      "image/png": {
       "height": 420,
       "width": 420
      }
     },
     "output_type": "display_data"
    }
   ],
   "source": [
    "sentiment_tally %>%\n",
    "    filter(! sentiment %in% c('positive', 'negative')) %>%\n",
    "\n",
    "ggplot() +\n",
    "    aes(x=sentence_id, y=n, col=sentiment) +\n",
    "    geom_col(show.legend = FALSE) +\n",
    "    facet_wrap(~sentiment, ncol=2)"
   ]
  },
  {
   "cell_type": "code",
   "execution_count": 34,
   "id": "48154d0f",
   "metadata": {},
   "outputs": [
    {
     "data": {
      "image/png": "[encoded data removed]",
      "text/plain": [
       "plot without title"
      ]
     },
     "metadata": {
      "image/png": {
       "height": 420,
       "width": 420
      }
     },
     "output_type": "display_data"
    }
   ],
   "source": [
    "sentiment_tally %>%\n",
    "    filter(sentiment %in% c('positive', 'negative')) %>%\n",
    "\n",
    "ggplot() +\n",
    "    aes(x=sentence_id, y=n, col=sentiment) +\n",
    "    geom_col(show.legend = FALSE, size=1) +\n",
    "    facet_wrap(~sentiment, ncol=1)"
   ]
  },
  {
   "cell_type": "markdown",
   "id": "92fec870",
   "metadata": {},
   "source": [
    "### Numeric sentiment values\n",
    "\n",
    "The \"afinn\" lexicon gives each word a score between +5 and -5:"
   ]
  },
  {
   "cell_type": "code",
   "execution_count": 35,
   "id": "1eff081e",
   "metadata": {},
   "outputs": [
    {
     "name": "stdout",
     "output_type": "stream",
     "text": [
      "\u001b[90m# A tibble: 2,477 × 2\u001b[39m\n",
      "   word       value\n",
      "   \u001b[3m\u001b[90m<chr>\u001b[39m\u001b[23m      \u001b[3m\u001b[90m<dbl>\u001b[39m\u001b[23m\n",
      "\u001b[90m 1\u001b[39m abandon       -\u001b[31m2\u001b[39m\n",
      "\u001b[90m 2\u001b[39m abandoned     -\u001b[31m2\u001b[39m\n",
      "\u001b[90m 3\u001b[39m abandons      -\u001b[31m2\u001b[39m\n",
      "\u001b[90m 4\u001b[39m abducted      -\u001b[31m2\u001b[39m\n",
      "\u001b[90m 5\u001b[39m abduction     -\u001b[31m2\u001b[39m\n",
      "\u001b[90m 6\u001b[39m abductions    -\u001b[31m2\u001b[39m\n",
      "\u001b[90m 7\u001b[39m abhor         -\u001b[31m3\u001b[39m\n",
      "\u001b[90m 8\u001b[39m abhorred      -\u001b[31m3\u001b[39m\n",
      "\u001b[90m 9\u001b[39m abhorrent     -\u001b[31m3\u001b[39m\n",
      "\u001b[90m10\u001b[39m abhors        -\u001b[31m3\u001b[39m\n",
      "\u001b[90m# … with 2,467 more rows\u001b[39m\n"
     ]
    }
   ],
   "source": [
    "sent_afinn <- get_sentiments('afinn')\n",
    "print(sent_afinn)"
   ]
  },
  {
   "cell_type": "markdown",
   "id": "b663519c",
   "metadata": {},
   "source": [
    "What are the most \"positive\" words?"
   ]
  },
  {
   "cell_type": "code",
   "execution_count": 36,
   "id": "aa38fd55",
   "metadata": {},
   "outputs": [
    {
     "data": {
      "text/html": [
       "<table class=\"dataframe\">\n",
       "<caption>A tibble: 10 × 2</caption>\n",
       "<thead>\n",
       "\t<tr><th scope=col>word</th><th scope=col>value</th></tr>\n",
       "\t<tr><th scope=col>&lt;chr&gt;</th><th scope=col>&lt;dbl&gt;</th></tr>\n",
       "</thead>\n",
       "<tbody>\n",
       "\t<tr><td>breathtaking</td><td>5</td></tr>\n",
       "\t<tr><td>hurrah      </td><td>5</td></tr>\n",
       "\t<tr><td>outstanding </td><td>5</td></tr>\n",
       "\t<tr><td>superb      </td><td>5</td></tr>\n",
       "\t<tr><td>thrilled    </td><td>5</td></tr>\n",
       "\t<tr><td>amazing     </td><td>4</td></tr>\n",
       "\t<tr><td>awesome     </td><td>4</td></tr>\n",
       "\t<tr><td>brilliant   </td><td>4</td></tr>\n",
       "\t<tr><td>ecstatic    </td><td>4</td></tr>\n",
       "\t<tr><td>euphoric    </td><td>4</td></tr>\n",
       "</tbody>\n",
       "</table>\n"
      ],
      "text/latex": [
       "A tibble: 10 × 2\n",
       "\\begin{tabular}{ll}\n",
       " word & value\\\\\n",
       " <chr> & <dbl>\\\\\n",
       "\\hline\n",
       "\t breathtaking & 5\\\\\n",
       "\t hurrah       & 5\\\\\n",
       "\t outstanding  & 5\\\\\n",
       "\t superb       & 5\\\\\n",
       "\t thrilled     & 5\\\\\n",
       "\t amazing      & 4\\\\\n",
       "\t awesome      & 4\\\\\n",
       "\t brilliant    & 4\\\\\n",
       "\t ecstatic     & 4\\\\\n",
       "\t euphoric     & 4\\\\\n",
       "\\end{tabular}\n"
      ],
      "text/markdown": [
       "\n",
       "A tibble: 10 × 2\n",
       "\n",
       "| word &lt;chr&gt; | value &lt;dbl&gt; |\n",
       "|---|---|\n",
       "| breathtaking | 5 |\n",
       "| hurrah       | 5 |\n",
       "| outstanding  | 5 |\n",
       "| superb       | 5 |\n",
       "| thrilled     | 5 |\n",
       "| amazing      | 4 |\n",
       "| awesome      | 4 |\n",
       "| brilliant    | 4 |\n",
       "| ecstatic     | 4 |\n",
       "| euphoric     | 4 |\n",
       "\n"
      ],
      "text/plain": [
       "   word         value\n",
       "1  breathtaking 5    \n",
       "2  hurrah       5    \n",
       "3  outstanding  5    \n",
       "4  superb       5    \n",
       "5  thrilled     5    \n",
       "6  amazing      4    \n",
       "7  awesome      4    \n",
       "8  brilliant    4    \n",
       "9  ecstatic     4    \n",
       "10 euphoric     4    "
      ]
     },
     "metadata": {},
     "output_type": "display_data"
    }
   ],
   "source": [
    "sent_afinn %>% \n",
    "    arrange(desc(value)) %>%\n",
    "    head(10)"
   ]
  },
  {
   "cell_type": "markdown",
   "id": "e18aa7c4",
   "metadata": {},
   "source": [
    "Let’s add the afinn sentiment values to our token data:"
   ]
  },
  {
   "cell_type": "code",
   "execution_count": 37,
   "id": "3445e892",
   "metadata": {},
   "outputs": [
    {
     "name": "stderr",
     "output_type": "stream",
     "text": [
      "\u001b[1m\u001b[22mJoining, by = \"word\"\n"
     ]
    }
   ],
   "source": [
    "tokens_afinn <- tokens %>%\n",
    "    mutate(word = str_to_lower(token)) %>%\n",
    "    left_join(sent_afinn) %>%\n",
    "    rename(sentiment=value)"
   ]
  },
  {
   "cell_type": "code",
   "execution_count": 38,
   "id": "e2c8f33b",
   "metadata": {},
   "outputs": [
    {
     "data": {
      "text/html": [
       "<table class=\"dataframe\">\n",
       "<caption>A tibble: 10 × 15</caption>\n",
       "<thead>\n",
       "\t<tr><th scope=col>doc_id</th><th scope=col>paragraph_id</th><th scope=col>sentence_id</th><th scope=col>token_id</th><th scope=col>token</th><th scope=col>lemma</th><th scope=col>upos</th><th scope=col>xpos</th><th scope=col>feats</th><th scope=col>head_token_id</th><th scope=col>dep_rel</th><th scope=col>deps</th><th scope=col>misc</th><th scope=col>word</th><th scope=col>sentiment</th></tr>\n",
       "\t<tr><th scope=col>&lt;chr&gt;</th><th scope=col>&lt;int&gt;</th><th scope=col>&lt;int&gt;</th><th scope=col>&lt;chr&gt;</th><th scope=col>&lt;chr&gt;</th><th scope=col>&lt;chr&gt;</th><th scope=col>&lt;chr&gt;</th><th scope=col>&lt;chr&gt;</th><th scope=col>&lt;chr&gt;</th><th scope=col>&lt;chr&gt;</th><th scope=col>&lt;chr&gt;</th><th scope=col>&lt;chr&gt;</th><th scope=col>&lt;chr&gt;</th><th scope=col>&lt;chr&gt;</th><th scope=col>&lt;dbl&gt;</th></tr>\n",
       "</thead>\n",
       "<tbody>\n",
       "\t<tr><td>doc1</td><td>1</td><td>2</td><td>3 </td><td>careful </td><td>careful </td><td>ADJ  </td><td>JJ </td><td>Degree=Pos                                           </td><td>0 </td><td>root  </td><td>NA</td><td>NA           </td><td>careful </td><td> 2</td></tr>\n",
       "\t<tr><td>doc1</td><td>1</td><td>2</td><td>6 </td><td>hug     </td><td>hug     </td><td>VERB </td><td>VB </td><td>VerbForm=Inf                                         </td><td>3 </td><td>conj  </td><td>NA</td><td>NA           </td><td>hug     </td><td> 2</td></tr>\n",
       "\t<tr><td>doc1</td><td>1</td><td>2</td><td>9 </td><td>hard    </td><td>hard    </td><td>ADV  </td><td>RB </td><td>Degree=Pos                                           </td><td>6 </td><td>advmod</td><td>NA</td><td>NA           </td><td>hard    </td><td>-1</td></tr>\n",
       "\t<tr><td>doc1</td><td>1</td><td>3</td><td>7 </td><td>hurts   </td><td>hurt    </td><td>VERB </td><td>VBZ</td><td>Mood=Ind|Number=Sing|Person=3|Tense=Pres|VerbForm=Fin</td><td>2 </td><td>ccomp </td><td>NA</td><td>SpaceAfter=No</td><td>hurts   </td><td>-2</td></tr>\n",
       "\t<tr><td>doc1</td><td>1</td><td>3</td><td>24</td><td>like    </td><td>like    </td><td>SCONJ</td><td>IN </td><td>NA                                                   </td><td>26</td><td>mark  </td><td>NA</td><td>NA           </td><td>like    </td><td> 2</td></tr>\n",
       "\t<tr><td>doc1</td><td>1</td><td>3</td><td>41</td><td>hurt    </td><td>hurt    </td><td>VERB </td><td>VB </td><td>VerbForm=Inf                                         </td><td>35</td><td>ccomp </td><td>NA</td><td>SpaceAfter=No</td><td>hurt    </td><td>-2</td></tr>\n",
       "\t<tr><td>doc1</td><td>1</td><td>4</td><td>15</td><td>worried </td><td>worried </td><td>ADJ  </td><td>JJ </td><td>Degree=Pos                                           </td><td>7 </td><td>advcl </td><td>NA</td><td>NA           </td><td>worried </td><td>-3</td></tr>\n",
       "\t<tr><td>doc1</td><td>1</td><td>4</td><td>27</td><td>struggle</td><td>struggle</td><td>VERB </td><td>VB </td><td>VerbForm=Inf                                         </td><td>23</td><td>conj  </td><td>NA</td><td>NA           </td><td>struggle</td><td>-2</td></tr>\n",
       "\t<tr><td>doc1</td><td>1</td><td>4</td><td>30</td><td>appalled</td><td>appal   </td><td>ADJ  </td><td>JJ </td><td>Degree=Pos                                           </td><td>15</td><td>ccomp </td><td>NA</td><td>NA           </td><td>appalled</td><td>-2</td></tr>\n",
       "\t<tr><td>doc1</td><td>1</td><td>4</td><td>34</td><td>weakness</td><td>weakness</td><td>NOUN </td><td>NN </td><td>Number=Sing                                          </td><td>33</td><td>obj   </td><td>NA</td><td>SpaceAfter=No</td><td>weakness</td><td>-2</td></tr>\n",
       "</tbody>\n",
       "</table>\n"
      ],
      "text/latex": [
       "A tibble: 10 × 15\n",
       "\\begin{tabular}{lllllllllllllll}\n",
       " doc\\_id & paragraph\\_id & sentence\\_id & token\\_id & token & lemma & upos & xpos & feats & head\\_token\\_id & dep\\_rel & deps & misc & word & sentiment\\\\\n",
       " <chr> & <int> & <int> & <chr> & <chr> & <chr> & <chr> & <chr> & <chr> & <chr> & <chr> & <chr> & <chr> & <chr> & <dbl>\\\\\n",
       "\\hline\n",
       "\t doc1 & 1 & 2 & 3  & careful  & careful  & ADJ   & JJ  & Degree=Pos                                            & 0  & root   & NA & NA            & careful  &  2\\\\\n",
       "\t doc1 & 1 & 2 & 6  & hug      & hug      & VERB  & VB  & VerbForm=Inf                                          & 3  & conj   & NA & NA            & hug      &  2\\\\\n",
       "\t doc1 & 1 & 2 & 9  & hard     & hard     & ADV   & RB  & Degree=Pos                                            & 6  & advmod & NA & NA            & hard     & -1\\\\\n",
       "\t doc1 & 1 & 3 & 7  & hurts    & hurt     & VERB  & VBZ & Mood=Ind\\textbar{}Number=Sing\\textbar{}Person=3\\textbar{}Tense=Pres\\textbar{}VerbForm=Fin & 2  & ccomp  & NA & SpaceAfter=No & hurts    & -2\\\\\n",
       "\t doc1 & 1 & 3 & 24 & like     & like     & SCONJ & IN  & NA                                                    & 26 & mark   & NA & NA            & like     &  2\\\\\n",
       "\t doc1 & 1 & 3 & 41 & hurt     & hurt     & VERB  & VB  & VerbForm=Inf                                          & 35 & ccomp  & NA & SpaceAfter=No & hurt     & -2\\\\\n",
       "\t doc1 & 1 & 4 & 15 & worried  & worried  & ADJ   & JJ  & Degree=Pos                                            & 7  & advcl  & NA & NA            & worried  & -3\\\\\n",
       "\t doc1 & 1 & 4 & 27 & struggle & struggle & VERB  & VB  & VerbForm=Inf                                          & 23 & conj   & NA & NA            & struggle & -2\\\\\n",
       "\t doc1 & 1 & 4 & 30 & appalled & appal    & ADJ   & JJ  & Degree=Pos                                            & 15 & ccomp  & NA & NA            & appalled & -2\\\\\n",
       "\t doc1 & 1 & 4 & 34 & weakness & weakness & NOUN  & NN  & Number=Sing                                           & 33 & obj    & NA & SpaceAfter=No & weakness & -2\\\\\n",
       "\\end{tabular}\n"
      ],
      "text/markdown": [
       "\n",
       "A tibble: 10 × 15\n",
       "\n",
       "| doc_id &lt;chr&gt; | paragraph_id &lt;int&gt; | sentence_id &lt;int&gt; | token_id &lt;chr&gt; | token &lt;chr&gt; | lemma &lt;chr&gt; | upos &lt;chr&gt; | xpos &lt;chr&gt; | feats &lt;chr&gt; | head_token_id &lt;chr&gt; | dep_rel &lt;chr&gt; | deps &lt;chr&gt; | misc &lt;chr&gt; | word &lt;chr&gt; | sentiment &lt;dbl&gt; |\n",
       "|---|---|---|---|---|---|---|---|---|---|---|---|---|---|---|\n",
       "| doc1 | 1 | 2 | 3  | careful  | careful  | ADJ   | JJ  | Degree=Pos                                            | 0  | root   | NA | NA            | careful  |  2 |\n",
       "| doc1 | 1 | 2 | 6  | hug      | hug      | VERB  | VB  | VerbForm=Inf                                          | 3  | conj   | NA | NA            | hug      |  2 |\n",
       "| doc1 | 1 | 2 | 9  | hard     | hard     | ADV   | RB  | Degree=Pos                                            | 6  | advmod | NA | NA            | hard     | -1 |\n",
       "| doc1 | 1 | 3 | 7  | hurts    | hurt     | VERB  | VBZ | Mood=Ind|Number=Sing|Person=3|Tense=Pres|VerbForm=Fin | 2  | ccomp  | NA | SpaceAfter=No | hurts    | -2 |\n",
       "| doc1 | 1 | 3 | 24 | like     | like     | SCONJ | IN  | NA                                                    | 26 | mark   | NA | NA            | like     |  2 |\n",
       "| doc1 | 1 | 3 | 41 | hurt     | hurt     | VERB  | VB  | VerbForm=Inf                                          | 35 | ccomp  | NA | SpaceAfter=No | hurt     | -2 |\n",
       "| doc1 | 1 | 4 | 15 | worried  | worried  | ADJ   | JJ  | Degree=Pos                                            | 7  | advcl  | NA | NA            | worried  | -3 |\n",
       "| doc1 | 1 | 4 | 27 | struggle | struggle | VERB  | VB  | VerbForm=Inf                                          | 23 | conj   | NA | NA            | struggle | -2 |\n",
       "| doc1 | 1 | 4 | 30 | appalled | appal    | ADJ   | JJ  | Degree=Pos                                            | 15 | ccomp  | NA | NA            | appalled | -2 |\n",
       "| doc1 | 1 | 4 | 34 | weakness | weakness | NOUN  | NN  | Number=Sing                                           | 33 | obj    | NA | SpaceAfter=No | weakness | -2 |\n",
       "\n"
      ],
      "text/plain": [
       "   doc_id paragraph_id sentence_id token_id token    lemma    upos  xpos\n",
       "1  doc1   1            2           3        careful  careful  ADJ   JJ  \n",
       "2  doc1   1            2           6        hug      hug      VERB  VB  \n",
       "3  doc1   1            2           9        hard     hard     ADV   RB  \n",
       "4  doc1   1            3           7        hurts    hurt     VERB  VBZ \n",
       "5  doc1   1            3           24       like     like     SCONJ IN  \n",
       "6  doc1   1            3           41       hurt     hurt     VERB  VB  \n",
       "7  doc1   1            4           15       worried  worried  ADJ   JJ  \n",
       "8  doc1   1            4           27       struggle struggle VERB  VB  \n",
       "9  doc1   1            4           30       appalled appal    ADJ   JJ  \n",
       "10 doc1   1            4           34       weakness weakness NOUN  NN  \n",
       "   feats                                                 head_token_id dep_rel\n",
       "1  Degree=Pos                                            0             root   \n",
       "2  VerbForm=Inf                                          3             conj   \n",
       "3  Degree=Pos                                            6             advmod \n",
       "4  Mood=Ind|Number=Sing|Person=3|Tense=Pres|VerbForm=Fin 2             ccomp  \n",
       "5  NA                                                    26            mark   \n",
       "6  VerbForm=Inf                                          35            ccomp  \n",
       "7  Degree=Pos                                            7             advcl  \n",
       "8  VerbForm=Inf                                          23            conj   \n",
       "9  Degree=Pos                                            15            ccomp  \n",
       "10 Number=Sing                                           33            obj    \n",
       "   deps misc          word     sentiment\n",
       "1  NA   NA            careful   2       \n",
       "2  NA   NA            hug       2       \n",
       "3  NA   NA            hard     -1       \n",
       "4  NA   SpaceAfter=No hurts    -2       \n",
       "5  NA   NA            like      2       \n",
       "6  NA   SpaceAfter=No hurt     -2       \n",
       "7  NA   NA            worried  -3       \n",
       "8  NA   NA            struggle -2       \n",
       "9  NA   NA            appalled -2       \n",
       "10 NA   SpaceAfter=No weakness -2       "
      ]
     },
     "metadata": {},
     "output_type": "display_data"
    }
   ],
   "source": [
    "tokens_afinn %>% \n",
    "    filter(! is.na(sentiment)) %>%\n",
    "    head(10)"
   ]
  },
  {
   "cell_type": "markdown",
   "id": "3424687f",
   "metadata": {},
   "source": [
    "### Aggregating numeric sentiment values\n",
    "\n",
    "For a given unit of text, we’ll potentially have both positive and negative words. We have the option of adding them to get an overall \"average\" sentiment for the passage. This is something we can’t do with categorical data. Let’s calculate this metric for each sentence of *Don’t Go*."
   ]
  },
  {
   "cell_type": "code",
   "execution_count": 39,
   "id": "1c26e021",
   "metadata": {},
   "outputs": [],
   "source": [
    "afinn_sum <- tokens_afinn %>%\n",
    "    filter(! is.na(sentiment)) %>%\n",
    "    group_by(sentence_id) %>%\n",
    "    summarise(sentiment=sum(sentiment))"
   ]
  },
  {
   "cell_type": "code",
   "execution_count": 40,
   "id": "b6f1ed19",
   "metadata": {},
   "outputs": [
    {
     "data": {
      "text/html": [
       "<table class=\"dataframe\">\n",
       "<caption>A tibble: 10 × 2</caption>\n",
       "<thead>\n",
       "\t<tr><th scope=col>sentence_id</th><th scope=col>sentiment</th></tr>\n",
       "\t<tr><th scope=col>&lt;int&gt;</th><th scope=col>&lt;dbl&gt;</th></tr>\n",
       "</thead>\n",
       "<tbody>\n",
       "\t<tr><td> 2</td><td> 3</td></tr>\n",
       "\t<tr><td> 3</td><td>-2</td></tr>\n",
       "\t<tr><td> 4</td><td>-9</td></tr>\n",
       "\t<tr><td> 9</td><td> 1</td></tr>\n",
       "\t<tr><td>10</td><td> 1</td></tr>\n",
       "\t<tr><td>11</td><td> 2</td></tr>\n",
       "\t<tr><td>12</td><td> 2</td></tr>\n",
       "\t<tr><td>15</td><td>-2</td></tr>\n",
       "\t<tr><td>19</td><td> 0</td></tr>\n",
       "\t<tr><td>23</td><td> 1</td></tr>\n",
       "</tbody>\n",
       "</table>\n"
      ],
      "text/latex": [
       "A tibble: 10 × 2\n",
       "\\begin{tabular}{ll}\n",
       " sentence\\_id & sentiment\\\\\n",
       " <int> & <dbl>\\\\\n",
       "\\hline\n",
       "\t  2 &  3\\\\\n",
       "\t  3 & -2\\\\\n",
       "\t  4 & -9\\\\\n",
       "\t  9 &  1\\\\\n",
       "\t 10 &  1\\\\\n",
       "\t 11 &  2\\\\\n",
       "\t 12 &  2\\\\\n",
       "\t 15 & -2\\\\\n",
       "\t 19 &  0\\\\\n",
       "\t 23 &  1\\\\\n",
       "\\end{tabular}\n"
      ],
      "text/markdown": [
       "\n",
       "A tibble: 10 × 2\n",
       "\n",
       "| sentence_id &lt;int&gt; | sentiment &lt;dbl&gt; |\n",
       "|---|---|\n",
       "|  2 |  3 |\n",
       "|  3 | -2 |\n",
       "|  4 | -9 |\n",
       "|  9 |  1 |\n",
       "| 10 |  1 |\n",
       "| 11 |  2 |\n",
       "| 12 |  2 |\n",
       "| 15 | -2 |\n",
       "| 19 |  0 |\n",
       "| 23 |  1 |\n",
       "\n"
      ],
      "text/plain": [
       "   sentence_id sentiment\n",
       "1   2           3       \n",
       "2   3          -2       \n",
       "3   4          -9       \n",
       "4   9           1       \n",
       "5  10           1       \n",
       "6  11           2       \n",
       "7  12           2       \n",
       "8  15          -2       \n",
       "9  19           0       \n",
       "10 23           1       "
      ]
     },
     "metadata": {},
     "output_type": "display_data"
    }
   ],
   "source": [
    "afinn_sum %>% head(10)"
   ]
  },
  {
   "cell_type": "code",
   "execution_count": 41,
   "id": "428392c3",
   "metadata": {},
   "outputs": [
    {
     "data": {
      "image/png": "[encoded data removed]",
      "text/plain": [
       "plot without title"
      ]
     },
     "metadata": {
      "image/png": {
       "height": 420,
       "width": 420
      }
     },
     "output_type": "display_data"
    }
   ],
   "source": [
    "ggplot(afinn_sum) +\n",
    "    aes(x=sentence_id, y=sentiment, col=sentiment) +\n",
    "    geom_col()"
   ]
  }
 ],
 "metadata": {
  "kernelspec": {
   "display_name": "R",
   "language": "R",
   "name": "ir"
  },
  "language_info": {
   "codemirror_mode": "r",
   "file_extension": ".r",
   "mimetype": "text/x-r-source",
   "name": "R",
   "pygments_lexer": "r",
   "version": "4.2.0"
  }
 },
 "nbformat": 4,
 "nbformat_minor": 5
}
