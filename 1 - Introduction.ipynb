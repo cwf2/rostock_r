{
 "cells": [
  {
   "cell_type": "markdown",
   "id": "b4de9215",
   "metadata": {},
   "source": [
    "# Rudiments of programming in R\n",
    "\n",
    "Let’s begin with a basic introduction to working with R.\n",
    "\n",
    "If you don't already have R installed on your computer, you can get it [here](https://cran.rstudio.com/).\n",
    "\n",
    "You probably don't need to concern yourself with this, but just to ensure reproducibility and for my own info if I reuse some of these exercises later, here's what I'm working with:"
   ]
  },
  {
   "cell_type": "code",
   "execution_count": 1,
   "id": "5c288868",
   "metadata": {
    "scrolled": true
   },
   "outputs": [
    {
     "name": "stdout",
     "output_type": "stream",
     "text": [
      "               _                           \n",
      "platform       x86_64-apple-darwin17.0     \n",
      "arch           x86_64                      \n",
      "os             darwin17.0                  \n",
      "system         x86_64, darwin17.0          \n",
      "status                                     \n",
      "major          4                           \n",
      "minor          2.0                         \n",
      "year           2022                        \n",
      "month          04                          \n",
      "day            22                          \n",
      "svn rev        82229                       \n",
      "language       R                           \n",
      "version.string R version 4.2.0 (2022-04-22)\n",
      "nickname       Vigorous Calisthenics       \n"
     ]
    }
   ],
   "source": [
    "print(R.version)"
   ]
  },
  {
   "cell_type": "markdown",
   "id": "c17acbb4",
   "metadata": {},
   "source": [
    "## RStudio\n",
    "\n",
    "For this workshop we’re going to be using [RStudio](https://www.rstudio.com), a popular integrated development environment for R. RStudio is a separate application layered on top of R that gives you a nice, organized workspace in which to manage your projects. \n",
    "\n",
    "If you don't have RStudio already, you can download it for free [here](https://www.rstudio.com/products/rstudio/download/#download).\n",
    "\n",
    "### Finding your way around RStudio\n",
    "\n",
    "Here's an example of an open session in RStudio:\n",
    "\n",
    "![RStudio Overview](img/rstudio_overview.png)\n",
    "\n",
    "The screen here is divided into four panes. You have a lot of flexibility, but here's how I'm using them:\n",
    "\n",
    "### Console\n",
    "\n",
    "In the lower-left, I have the **console** open. This is my direct connection to R: any expressions I enter here will be evaluated right away and the results will be printed out.\n",
    "\n",
    "![RStudio Console](img/rstudio_console.png)\n",
    "\n",
    "### Editor\n",
    "\n",
    "In the upper-left, I have an **editor**. This pane lets me work on and save R scripts that I want to run later. I can use shortcuts to run short sections of my code right now in the console, to see how they work, or to run the whole script at once.\n",
    "\n",
    "![RStudio Editor](img/rstudio_editor.png)\n",
    "\n",
    "### Environment\n",
    "\n",
    "In the upper-right, I like to have the **environment** pane open. This shows me what's stored in R’s memory as I’m working: for examples any functions I’ve defined or the values of variables. If I want to inspect something a bit more complicated, like a table of values, it will be shown in the upper-left pane.\n",
    "\n",
    "![RStudio Environment](img/rstudio_environment.png)\n",
    "\n",
    "### Plots & Help\n",
    "\n",
    "In the lower-right is a space for displaying plots that you might draw of your data. If you look up the built-in help for a function, it will be displayed here as well. I use this feature a lot!\n",
    "\n",
    "![RStudio Plots](img/rstudio_plots.png)"
   ]
  },
  {
   "cell_type": "markdown",
   "id": "8fc73031",
   "metadata": {},
   "source": [
    "## Workflow\n",
    "\n",
    "When I’m working on a project in R, I generally start by creating a folder to contain everything to do with the project. Often I’ll organize data, scripts, and documentation in separate subfolders. When I start RStudio, I’ll select the project folder using \"File\"  →\n",
    "\"Open Project\". \n",
    "\n",
    "I usually create a new script for each stage or step of the work, often with filenames like `0_preprocessing.R`, `1_data_analysis.R`, `2_plots.R`, etc., that help me remember what order the tasks are supposed to be run in.\n",
    "\n",
    "I’ll have these files open in the editor, and as I’m writing the code there, I’m simultaneously trying it out over and over in the console to fix the bugs. Every so often, when I’ve reached a checkpoint I’ve set myself and things seem to be working, I’ll re-start R or wipe the enivornment clean (look for the broom icon) and try running my script from the beginning. Eventually, I hit a snag and have to pick up where I left off, with trial and error.\n",
    "\n",
    "With this process, I incrementally build up the project in stages, frequently confirming that my results are reproducible.\n",
    "\n",
    "When I’ve reached a good stopping point, ideally one where things work, I’ll back up my work using a [git](https://git-scm.com/) commit. Version control is a bit beyond the scope of this workshop, but it’s built into RStudio if you want to use it (look under the \"Tools\" menu)."
   ]
  },
  {
   "cell_type": "markdown",
   "id": "cf5849bd",
   "metadata": {},
   "source": [
    "## First steps with R\n",
    "\n",
    "Let's get started with some code! Type the following statements into the console and press enter to make R evaluate them:"
   ]
  },
  {
   "cell_type": "code",
   "execution_count": 2,
   "id": "675ca010",
   "metadata": {},
   "outputs": [
    {
     "data": {
      "text/html": [
       "6"
      ],
      "text/latex": [
       "6"
      ],
      "text/markdown": [
       "6"
      ],
      "text/plain": [
       "[1] 6"
      ]
     },
     "metadata": {},
     "output_type": "display_data"
    }
   ],
   "source": [
    "5 + 1"
   ]
  },
  {
   "cell_type": "code",
   "execution_count": 3,
   "id": "2cf571c7",
   "metadata": {},
   "outputs": [
    {
     "data": {
      "text/html": [
       "81"
      ],
      "text/latex": [
       "81"
      ],
      "text/markdown": [
       "81"
      ],
      "text/plain": [
       "[1] 81"
      ]
     },
     "metadata": {},
     "output_type": "display_data"
    }
   ],
   "source": [
    "9 * 9"
   ]
  },
  {
   "cell_type": "code",
   "execution_count": 4,
   "id": "a5186b8d",
   "metadata": {},
   "outputs": [
    {
     "data": {
      "text/html": [
       "<style>\n",
       ".list-inline {list-style: none; margin:0; padding: 0}\n",
       ".list-inline>li {display: inline-block}\n",
       ".list-inline>li:not(:last-child)::after {content: \"\\00b7\"; padding: 0 .5ex}\n",
       "</style>\n",
       "<ol class=list-inline><li>1</li><li>2</li><li>3</li><li>4</li><li>5</li><li>6</li><li>7</li><li>8</li><li>9</li><li>10</li></ol>\n"
      ],
      "text/latex": [
       "\\begin{enumerate*}\n",
       "\\item 1\n",
       "\\item 2\n",
       "\\item 3\n",
       "\\item 4\n",
       "\\item 5\n",
       "\\item 6\n",
       "\\item 7\n",
       "\\item 8\n",
       "\\item 9\n",
       "\\item 10\n",
       "\\end{enumerate*}\n"
      ],
      "text/markdown": [
       "1. 1\n",
       "2. 2\n",
       "3. 3\n",
       "4. 4\n",
       "5. 5\n",
       "6. 6\n",
       "7. 7\n",
       "8. 8\n",
       "9. 9\n",
       "10. 10\n",
       "\n",
       "\n"
      ],
      "text/plain": [
       " [1]  1  2  3  4  5  6  7  8  9 10"
      ]
     },
     "metadata": {},
     "output_type": "display_data"
    }
   ],
   "source": [
    "1:10"
   ]
  },
  {
   "cell_type": "code",
   "execution_count": 5,
   "id": "008bf9c9",
   "metadata": {},
   "outputs": [
    {
     "data": {
      "text/html": [
       "<style>\n",
       ".list-inline {list-style: none; margin:0; padding: 0}\n",
       ".list-inline>li {display: inline-block}\n",
       ".list-inline>li:not(:last-child)::after {content: \"\\00b7\"; padding: 0 .5ex}\n",
       "</style>\n",
       "<ol class=list-inline><li>0</li><li>2</li><li>4</li><li>6</li><li>8</li><li>10</li></ol>\n"
      ],
      "text/latex": [
       "\\begin{enumerate*}\n",
       "\\item 0\n",
       "\\item 2\n",
       "\\item 4\n",
       "\\item 6\n",
       "\\item 8\n",
       "\\item 10\n",
       "\\end{enumerate*}\n"
      ],
      "text/markdown": [
       "1. 0\n",
       "2. 2\n",
       "3. 4\n",
       "4. 6\n",
       "5. 8\n",
       "6. 10\n",
       "\n",
       "\n"
      ],
      "text/plain": [
       "[1]  0  2  4  6  8 10"
      ]
     },
     "metadata": {},
     "output_type": "display_data"
    }
   ],
   "source": [
    "seq(from=0, to=10, by=2)"
   ]
  },
  {
   "cell_type": "code",
   "execution_count": 6,
   "id": "8c2048a9",
   "metadata": {},
   "outputs": [
    {
     "data": {
      "text/html": [
       "<style>\n",
       ".list-inline {list-style: none; margin:0; padding: 0}\n",
       ".list-inline>li {display: inline-block}\n",
       ".list-inline>li:not(:last-child)::after {content: \"\\00b7\"; padding: 0 .5ex}\n",
       "</style>\n",
       "<ol class=list-inline><li>5</li><li>7</li><li>9</li><li>11</li><li>13</li><li>15</li></ol>\n"
      ],
      "text/latex": [
       "\\begin{enumerate*}\n",
       "\\item 5\n",
       "\\item 7\n",
       "\\item 9\n",
       "\\item 11\n",
       "\\item 13\n",
       "\\item 15\n",
       "\\end{enumerate*}\n"
      ],
      "text/markdown": [
       "1. 5\n",
       "2. 7\n",
       "3. 9\n",
       "4. 11\n",
       "5. 13\n",
       "6. 15\n",
       "\n",
       "\n"
      ],
      "text/plain": [
       "[1]  5  7  9 11 13 15"
      ]
     },
     "metadata": {},
     "output_type": "display_data"
    }
   ],
   "source": [
    "seq(from=0, to=10, by=2) + 5"
   ]
  },
  {
   "cell_type": "markdown",
   "id": "b0014903",
   "metadata": {},
   "source": [
    "Ok, let’s stop for a second to look at what happened with that last one. We’ve hit on one of the principal strengths of R, here: **vector operations**.\n",
    "\n",
    "R is really good at working with sequences and tables of data, often making it simple to express operations that in other languages would need some kind of explicit loop. In the line above, `seq(from=0, to=10, by=2)` produces a **vector**, a sequence of data all having the same type, in this case, a sequence of integers. (Actually, `5` is a vector, too, a sequence of length 1.)\n",
    "\n",
    "When tell R to add these two vectors together, it assumes we want to add them element by element along their entire length. The shorter vector, `5`, is **recycled** along the length of the longer vector.\n",
    "\n",
    "So we end up with\n",
    "\n",
    "`0, 2, 4, 6, 8, 10` + `5, 5, 5, 5, 5, 5`,\n",
    "\n",
    "that is,\n",
    "\n",
    "`0 + 5`, `2 + 5`, `4 + 5`, `6 + 5`, `8 + 5`, `10 + 5`\n",
    "\n",
    "which evaluates to\n",
    "\n",
    "`5, 7, 9, 11, 13, 15`"
   ]
  },
  {
   "cell_type": "markdown",
   "id": "4305e652",
   "metadata": {},
   "source": [
    "### More examples:"
   ]
  },
  {
   "cell_type": "code",
   "execution_count": 7,
   "id": "1e8a454f",
   "metadata": {},
   "outputs": [
    {
     "data": {
      "text/html": [
       "<style>\n",
       ".list-inline {list-style: none; margin:0; padding: 0}\n",
       ".list-inline>li {display: inline-block}\n",
       ".list-inline>li:not(:last-child)::after {content: \"\\00b7\"; padding: 0 .5ex}\n",
       "</style>\n",
       "<ol class=list-inline><li>2</li><li>4</li><li>6</li><li>8</li><li>10</li><li>12</li><li>14</li><li>16</li><li>18</li><li>20</li></ol>\n"
      ],
      "text/latex": [
       "\\begin{enumerate*}\n",
       "\\item 2\n",
       "\\item 4\n",
       "\\item 6\n",
       "\\item 8\n",
       "\\item 10\n",
       "\\item 12\n",
       "\\item 14\n",
       "\\item 16\n",
       "\\item 18\n",
       "\\item 20\n",
       "\\end{enumerate*}\n"
      ],
      "text/markdown": [
       "1. 2\n",
       "2. 4\n",
       "3. 6\n",
       "4. 8\n",
       "5. 10\n",
       "6. 12\n",
       "7. 14\n",
       "8. 16\n",
       "9. 18\n",
       "10. 20\n",
       "\n",
       "\n"
      ],
      "text/plain": [
       " [1]  2  4  6  8 10 12 14 16 18 20"
      ]
     },
     "metadata": {},
     "output_type": "display_data"
    }
   ],
   "source": [
    "1:10 * 2"
   ]
  },
  {
   "cell_type": "code",
   "execution_count": 8,
   "id": "add43837",
   "metadata": {},
   "outputs": [
    {
     "data": {
      "text/html": [
       "<style>\n",
       ".list-inline {list-style: none; margin:0; padding: 0}\n",
       ".list-inline>li {display: inline-block}\n",
       ".list-inline>li:not(:last-child)::after {content: \"\\00b7\"; padding: 0 .5ex}\n",
       "</style>\n",
       "<ol class=list-inline><li>10</li><li>10</li><li>10</li><li>10</li><li>10</li><li>10</li><li>10</li><li>10</li><li>10</li><li>10</li><li>10</li></ol>\n"
      ],
      "text/latex": [
       "\\begin{enumerate*}\n",
       "\\item 10\n",
       "\\item 10\n",
       "\\item 10\n",
       "\\item 10\n",
       "\\item 10\n",
       "\\item 10\n",
       "\\item 10\n",
       "\\item 10\n",
       "\\item 10\n",
       "\\item 10\n",
       "\\item 10\n",
       "\\end{enumerate*}\n"
      ],
      "text/markdown": [
       "1. 10\n",
       "2. 10\n",
       "3. 10\n",
       "4. 10\n",
       "5. 10\n",
       "6. 10\n",
       "7. 10\n",
       "8. 10\n",
       "9. 10\n",
       "10. 10\n",
       "11. 10\n",
       "\n",
       "\n"
      ],
      "text/plain": [
       " [1] 10 10 10 10 10 10 10 10 10 10 10"
      ]
     },
     "metadata": {},
     "output_type": "display_data"
    }
   ],
   "source": [
    "seq(from=0, to=10, by=1) + seq(from=10, to=0, by=-1)"
   ]
  },
  {
   "cell_type": "markdown",
   "id": "f7be3839",
   "metadata": {},
   "source": [
    "### Create your own vector\n",
    "\n",
    "You can generate sequences of numbers in a couple of different ways.\n",
    "\n",
    "`seq()` allows you to specify start, end, and step values, as we saw above. The colon notation (e.g. `5:10`) is a handy shortcut if you're counting by ones.\n",
    "\n",
    "For repeating sequences, use `rep()`:"
   ]
  },
  {
   "cell_type": "code",
   "execution_count": 9,
   "id": "34f74812",
   "metadata": {},
   "outputs": [
    {
     "data": {
      "text/html": [
       "<style>\n",
       ".list-inline {list-style: none; margin:0; padding: 0}\n",
       ".list-inline>li {display: inline-block}\n",
       ".list-inline>li:not(:last-child)::after {content: \"\\00b7\"; padding: 0 .5ex}\n",
       "</style>\n",
       "<ol class=list-inline><li>0</li><li>0</li><li>0</li><li>0</li><li>0</li><li>0</li><li>0</li><li>0</li><li>0</li><li>0</li><li>0</li><li>0</li><li>0</li><li>0</li><li>0</li><li>0</li><li>0</li><li>0</li><li>0</li><li>0</li></ol>\n"
      ],
      "text/latex": [
       "\\begin{enumerate*}\n",
       "\\item 0\n",
       "\\item 0\n",
       "\\item 0\n",
       "\\item 0\n",
       "\\item 0\n",
       "\\item 0\n",
       "\\item 0\n",
       "\\item 0\n",
       "\\item 0\n",
       "\\item 0\n",
       "\\item 0\n",
       "\\item 0\n",
       "\\item 0\n",
       "\\item 0\n",
       "\\item 0\n",
       "\\item 0\n",
       "\\item 0\n",
       "\\item 0\n",
       "\\item 0\n",
       "\\item 0\n",
       "\\end{enumerate*}\n"
      ],
      "text/markdown": [
       "1. 0\n",
       "2. 0\n",
       "3. 0\n",
       "4. 0\n",
       "5. 0\n",
       "6. 0\n",
       "7. 0\n",
       "8. 0\n",
       "9. 0\n",
       "10. 0\n",
       "11. 0\n",
       "12. 0\n",
       "13. 0\n",
       "14. 0\n",
       "15. 0\n",
       "16. 0\n",
       "17. 0\n",
       "18. 0\n",
       "19. 0\n",
       "20. 0\n",
       "\n",
       "\n"
      ],
      "text/plain": [
       " [1] 0 0 0 0 0 0 0 0 0 0 0 0 0 0 0 0 0 0 0 0"
      ]
     },
     "metadata": {},
     "output_type": "display_data"
    }
   ],
   "source": [
    "rep(0, times=20)"
   ]
  },
  {
   "cell_type": "markdown",
   "id": "54a5eb90",
   "metadata": {},
   "source": [
    "You can create arbitrary vectors by joining a sequence of values using the **combine** function, `c()`."
   ]
  },
  {
   "cell_type": "code",
   "execution_count": 10,
   "id": "a78f65c9",
   "metadata": {},
   "outputs": [
    {
     "data": {
      "text/html": [
       "<style>\n",
       ".list-inline {list-style: none; margin:0; padding: 0}\n",
       ".list-inline>li {display: inline-block}\n",
       ".list-inline>li:not(:last-child)::after {content: \"\\00b7\"; padding: 0 .5ex}\n",
       "</style>\n",
       "<ol class=list-inline><li>1</li><li>0</li><li>9</li><li>4</li><li>3</li><li>2</li><li>5</li><li>7</li></ol>\n"
      ],
      "text/latex": [
       "\\begin{enumerate*}\n",
       "\\item 1\n",
       "\\item 0\n",
       "\\item 9\n",
       "\\item 4\n",
       "\\item 3\n",
       "\\item 2\n",
       "\\item 5\n",
       "\\item 7\n",
       "\\end{enumerate*}\n"
      ],
      "text/markdown": [
       "1. 1\n",
       "2. 0\n",
       "3. 9\n",
       "4. 4\n",
       "5. 3\n",
       "6. 2\n",
       "7. 5\n",
       "8. 7\n",
       "\n",
       "\n"
      ],
      "text/plain": [
       "[1] 1 0 9 4 3 2 5 7"
      ]
     },
     "metadata": {},
     "output_type": "display_data"
    }
   ],
   "source": [
    "c(1, 0, 9, 4, 3, 2, 5, 7)"
   ]
  },
  {
   "cell_type": "markdown",
   "id": "25869429",
   "metadata": {},
   "source": [
    "### 💁🏻‍♂️ What are the pros and cons of this style of programming for us as humanists?\n",
    "    \n",
    "Well, a programming language that natively treats things as sequences makes a lot of sense for me as someone who studies epic poetry. I might want to consider Homer’s *Iliad* as a sequence of verse lines, or sentences, or words, or letters, or sounds, for example.\n",
    "\n",
    "If your program involves doing some operation over and over again, transforming one list of values into a new list of values, then there’s a good chance it’s a one-liner in R. To put it another way, it’s generally considered poor form to write a `for` loop in R...\n",
    "    \n",
    "But that can also be the downside: because your loops are not explicit, you may have to do a little more work in your head to translate the actions you want to perform in to and out of R code. Remember that a single line may entail thousands of repetitions."
   ]
  },
  {
   "cell_type": "markdown",
   "id": "b6edf4ec",
   "metadata": {},
   "source": [
    "### Math operators\n",
    "\n",
    "Let's get back to some R rudiments. We’ve just seen a couple of simple math operators. Here’s a more comprehensive list.\n",
    "\n",
    "| operator | description |\n",
    "| --- | --- |\n",
    "| `+`  | addition         |\n",
    "| `-`  | subtraction      |\n",
    "| `*`  | multiplication   |\n",
    "| `/`  | division         |\n",
    "| `^`  | exponent         |\n",
    "| `%%` | modulus          |\n",
    "| `%/%`| integer division |\n",
    "\n",
    "The last two are sometimes a little unfamiliar to humanities scholars. If you remember being taught long division with \"remainders\", then integer division can be thought of as returning the whole-number quotient and modulus as returning the remainder. For example:"
   ]
  },
  {
   "cell_type": "code",
   "execution_count": 11,
   "id": "e3ef63a1",
   "metadata": {},
   "outputs": [
    {
     "data": {
      "text/html": [
       "<style>\n",
       ".list-inline {list-style: none; margin:0; padding: 0}\n",
       ".list-inline>li {display: inline-block}\n",
       ".list-inline>li:not(:last-child)::after {content: \"\\00b7\"; padding: 0 .5ex}\n",
       "</style>\n",
       "<ol class=list-inline><li>0</li><li>0</li><li>0</li><li>1</li><li>1</li><li>1</li><li>2</li><li>2</li><li>2</li><li>3</li><li>3</li></ol>\n"
      ],
      "text/latex": [
       "\\begin{enumerate*}\n",
       "\\item 0\n",
       "\\item 0\n",
       "\\item 0\n",
       "\\item 1\n",
       "\\item 1\n",
       "\\item 1\n",
       "\\item 2\n",
       "\\item 2\n",
       "\\item 2\n",
       "\\item 3\n",
       "\\item 3\n",
       "\\end{enumerate*}\n"
      ],
      "text/markdown": [
       "1. 0\n",
       "2. 0\n",
       "3. 0\n",
       "4. 1\n",
       "5. 1\n",
       "6. 1\n",
       "7. 2\n",
       "8. 2\n",
       "9. 2\n",
       "10. 3\n",
       "11. 3\n",
       "\n",
       "\n"
      ],
      "text/plain": [
       " [1] 0 0 0 1 1 1 2 2 2 3 3"
      ]
     },
     "metadata": {},
     "output_type": "display_data"
    }
   ],
   "source": [
    "0:10 %/% 3"
   ]
  },
  {
   "cell_type": "code",
   "execution_count": 12,
   "id": "e3400888",
   "metadata": {},
   "outputs": [
    {
     "data": {
      "text/html": [
       "<style>\n",
       ".list-inline {list-style: none; margin:0; padding: 0}\n",
       ".list-inline>li {display: inline-block}\n",
       ".list-inline>li:not(:last-child)::after {content: \"\\00b7\"; padding: 0 .5ex}\n",
       "</style>\n",
       "<ol class=list-inline><li>0</li><li>1</li><li>2</li><li>0</li><li>1</li><li>2</li><li>0</li><li>1</li><li>2</li><li>0</li><li>1</li></ol>\n"
      ],
      "text/latex": [
       "\\begin{enumerate*}\n",
       "\\item 0\n",
       "\\item 1\n",
       "\\item 2\n",
       "\\item 0\n",
       "\\item 1\n",
       "\\item 2\n",
       "\\item 0\n",
       "\\item 1\n",
       "\\item 2\n",
       "\\item 0\n",
       "\\item 1\n",
       "\\end{enumerate*}\n"
      ],
      "text/markdown": [
       "1. 0\n",
       "2. 1\n",
       "3. 2\n",
       "4. 0\n",
       "5. 1\n",
       "6. 2\n",
       "7. 0\n",
       "8. 1\n",
       "9. 2\n",
       "10. 0\n",
       "11. 1\n",
       "\n",
       "\n"
      ],
      "text/plain": [
       " [1] 0 1 2 0 1 2 0 1 2 0 1"
      ]
     },
     "metadata": {},
     "output_type": "display_data"
    }
   ],
   "source": [
    "0:10 %% 3"
   ]
  },
  {
   "cell_type": "markdown",
   "id": "c0a67f8a",
   "metadata": {},
   "source": [
    "That is:\n",
    " - 0 divided by 3 is 0, with remainder 0\n",
    " - 1 divided by 3 is 0, with remainder 1\n",
    " - 2 divided by 3 is 0, with remainder 2\n",
    " - 3 divided by 3 is 1, with remainder 0\n",
    " \n",
    "and so on. Integer division can be handy when you’re dividing a sequence into groups, e.g. groups of three above. Modulus is helpful when a sequence \"rolls over,\" for example like seconds on a clock.\n",
    "\n",
    "You can read more about math operators using R’s built-in help function, `help()`:"
   ]
  },
  {
   "cell_type": "code",
   "execution_count": 13,
   "id": "b530f7e3",
   "metadata": {},
   "outputs": [],
   "source": [
    "help(Arithmetic)"
   ]
  },
  {
   "cell_type": "markdown",
   "id": "66cac4e3",
   "metadata": {},
   "source": [
    "### 💁🏻‍♂️ Getting help (or, \"read the manual\")\n",
    "    \n",
    "R has built-in help for all its functions, as well as pages on more general topics like the one above. The `help()` function is your friend! You may, however, not know the exact name of the help page you’re looking for. In that case, try `help.search()`.\n",
    "    "
   ]
  },
  {
   "cell_type": "code",
   "execution_count": 14,
   "id": "877fc206",
   "metadata": {},
   "outputs": [],
   "source": [
    "help.search(\"operators\")"
   ]
  },
  {
   "cell_type": "markdown",
   "id": "baea0d31",
   "metadata": {},
   "source": [
    "Or just start with the table of contents:"
   ]
  },
  {
   "cell_type": "code",
   "execution_count": null,
   "id": "b4e9a296",
   "metadata": {},
   "outputs": [],
   "source": [
    "help.start()"
   ]
  },
  {
   "cell_type": "markdown",
   "id": "9e6488f6",
   "metadata": {},
   "source": [
    "### Relational operators and Boolean values\n",
    "\n",
    "Math operators work on numeric values and also produce numeric values. **Relational operators** can work on numeric values and other data types and produce **boolean values**, namely, `TRUE` and `FALSE`.\n",
    "\n",
    "The operators `>` and `<`, \"greater than\" and \"less than\", work as expected. Note that e.g. `>=` means \"greater than or equal to.\"\n",
    "\n",
    "#### Equality\n",
    "\n",
    "Equality is tested with a double equals sign, `==`. Watch out: a single equals sign means something else. To test whether values are *not* equal, use `!=`."
   ]
  },
  {
   "cell_type": "code",
   "execution_count": 16,
   "id": "fe99cdb0",
   "metadata": {},
   "outputs": [
    {
     "data": {
      "text/html": [
       "TRUE"
      ],
      "text/latex": [
       "TRUE"
      ],
      "text/markdown": [
       "TRUE"
      ],
      "text/plain": [
       "[1] TRUE"
      ]
     },
     "metadata": {},
     "output_type": "display_data"
    }
   ],
   "source": [
    "1 < 5"
   ]
  },
  {
   "cell_type": "code",
   "execution_count": 17,
   "id": "8a5f202e",
   "metadata": {},
   "outputs": [
    {
     "data": {
      "text/html": [
       "<style>\n",
       ".list-inline {list-style: none; margin:0; padding: 0}\n",
       ".list-inline>li {display: inline-block}\n",
       ".list-inline>li:not(:last-child)::after {content: \"\\00b7\"; padding: 0 .5ex}\n",
       "</style>\n",
       "<ol class=list-inline><li>FALSE</li><li>FALSE</li><li>FALSE</li><li>FALSE</li><li>TRUE</li><li>TRUE</li><li>TRUE</li><li>TRUE</li><li>TRUE</li><li>TRUE</li></ol>\n"
      ],
      "text/latex": [
       "\\begin{enumerate*}\n",
       "\\item FALSE\n",
       "\\item FALSE\n",
       "\\item FALSE\n",
       "\\item FALSE\n",
       "\\item TRUE\n",
       "\\item TRUE\n",
       "\\item TRUE\n",
       "\\item TRUE\n",
       "\\item TRUE\n",
       "\\item TRUE\n",
       "\\end{enumerate*}\n"
      ],
      "text/markdown": [
       "1. FALSE\n",
       "2. FALSE\n",
       "3. FALSE\n",
       "4. FALSE\n",
       "5. TRUE\n",
       "6. TRUE\n",
       "7. TRUE\n",
       "8. TRUE\n",
       "9. TRUE\n",
       "10. TRUE\n",
       "\n",
       "\n"
      ],
      "text/plain": [
       " [1] FALSE FALSE FALSE FALSE  TRUE  TRUE  TRUE  TRUE  TRUE  TRUE"
      ]
     },
     "metadata": {},
     "output_type": "display_data"
    }
   ],
   "source": [
    "1:10 > 4"
   ]
  },
  {
   "cell_type": "code",
   "execution_count": 18,
   "id": "7acad711",
   "metadata": {},
   "outputs": [
    {
     "data": {
      "text/html": [
       "<style>\n",
       ".list-inline {list-style: none; margin:0; padding: 0}\n",
       ".list-inline>li {display: inline-block}\n",
       ".list-inline>li:not(:last-child)::after {content: \"\\00b7\"; padding: 0 .5ex}\n",
       "</style>\n",
       "<ol class=list-inline><li>TRUE</li><li>FALSE</li><li>TRUE</li><li>FALSE</li><li>TRUE</li><li>FALSE</li><li>TRUE</li><li>FALSE</li><li>TRUE</li><li>FALSE</li></ol>\n"
      ],
      "text/latex": [
       "\\begin{enumerate*}\n",
       "\\item TRUE\n",
       "\\item FALSE\n",
       "\\item TRUE\n",
       "\\item FALSE\n",
       "\\item TRUE\n",
       "\\item FALSE\n",
       "\\item TRUE\n",
       "\\item FALSE\n",
       "\\item TRUE\n",
       "\\item FALSE\n",
       "\\end{enumerate*}\n"
      ],
      "text/markdown": [
       "1. TRUE\n",
       "2. FALSE\n",
       "3. TRUE\n",
       "4. FALSE\n",
       "5. TRUE\n",
       "6. FALSE\n",
       "7. TRUE\n",
       "8. FALSE\n",
       "9. TRUE\n",
       "10. FALSE\n",
       "\n",
       "\n"
      ],
      "text/plain": [
       " [1]  TRUE FALSE  TRUE FALSE  TRUE FALSE  TRUE FALSE  TRUE FALSE"
      ]
     },
     "metadata": {},
     "output_type": "display_data"
    }
   ],
   "source": [
    "1:10 %% 2 == 1"
   ]
  },
  {
   "cell_type": "markdown",
   "id": "bc798145",
   "metadata": {},
   "source": [
    "For help on relational operators:"
   ]
  },
  {
   "cell_type": "code",
   "execution_count": 19,
   "id": "37c2f36b",
   "metadata": {},
   "outputs": [],
   "source": [
    "help(Comparison)"
   ]
  },
  {
   "cell_type": "markdown",
   "id": "3a774d1d",
   "metadata": {},
   "source": [
    "### Logical operators\n",
    "\n",
    "Sometimes you want to combine comparison tests. **Logical operators** work on boolean values and produce other boolean values. Here are a couple:\n",
    "\n",
    "| operator | description |\n",
    "| --- | --- |\n",
    "| `! x`   | not *x* |\n",
    "| `x & y` | *x* and *y* |\n",
    "| `x \\| y` | *x* or *y*  |\n",
    "\n",
    "#### Example \n",
    "\n",
    "Leap years only happen if the year is divisible by 4 *and not* divisible by 100. Let’s start with a sequence of years. Which are leap years?"
   ]
  },
  {
   "cell_type": "code",
   "execution_count": 20,
   "id": "f697b41a",
   "metadata": {},
   "outputs": [
    {
     "data": {
      "text/html": [
       "<style>\n",
       ".list-inline {list-style: none; margin:0; padding: 0}\n",
       ".list-inline>li {display: inline-block}\n",
       ".list-inline>li:not(:last-child)::after {content: \"\\00b7\"; padding: 0 .5ex}\n",
       "</style>\n",
       "<ol class=list-inline><li>1996</li><li>1997</li><li>1998</li><li>1999</li><li>2000</li><li>2001</li><li>2002</li><li>2003</li><li>2004</li></ol>\n"
      ],
      "text/latex": [
       "\\begin{enumerate*}\n",
       "\\item 1996\n",
       "\\item 1997\n",
       "\\item 1998\n",
       "\\item 1999\n",
       "\\item 2000\n",
       "\\item 2001\n",
       "\\item 2002\n",
       "\\item 2003\n",
       "\\item 2004\n",
       "\\end{enumerate*}\n"
      ],
      "text/markdown": [
       "1. 1996\n",
       "2. 1997\n",
       "3. 1998\n",
       "4. 1999\n",
       "5. 2000\n",
       "6. 2001\n",
       "7. 2002\n",
       "8. 2003\n",
       "9. 2004\n",
       "\n",
       "\n"
      ],
      "text/plain": [
       "[1] 1996 1997 1998 1999 2000 2001 2002 2003 2004"
      ]
     },
     "metadata": {},
     "output_type": "display_data"
    }
   ],
   "source": [
    "seq(from=1996, to=2004)"
   ]
  },
  {
   "cell_type": "markdown",
   "id": "91c86d09",
   "metadata": {},
   "source": [
    "This is true when the year is divisible by 4. (i.e. remainder is 0)"
   ]
  },
  {
   "cell_type": "code",
   "execution_count": 21,
   "id": "f9199423",
   "metadata": {},
   "outputs": [
    {
     "data": {
      "text/html": [
       "<style>\n",
       ".list-inline {list-style: none; margin:0; padding: 0}\n",
       ".list-inline>li {display: inline-block}\n",
       ".list-inline>li:not(:last-child)::after {content: \"\\00b7\"; padding: 0 .5ex}\n",
       "</style>\n",
       "<ol class=list-inline><li>TRUE</li><li>FALSE</li><li>FALSE</li><li>FALSE</li><li>TRUE</li><li>FALSE</li><li>FALSE</li><li>FALSE</li><li>TRUE</li></ol>\n"
      ],
      "text/latex": [
       "\\begin{enumerate*}\n",
       "\\item TRUE\n",
       "\\item FALSE\n",
       "\\item FALSE\n",
       "\\item FALSE\n",
       "\\item TRUE\n",
       "\\item FALSE\n",
       "\\item FALSE\n",
       "\\item FALSE\n",
       "\\item TRUE\n",
       "\\end{enumerate*}\n"
      ],
      "text/markdown": [
       "1. TRUE\n",
       "2. FALSE\n",
       "3. FALSE\n",
       "4. FALSE\n",
       "5. TRUE\n",
       "6. FALSE\n",
       "7. FALSE\n",
       "8. FALSE\n",
       "9. TRUE\n",
       "\n",
       "\n"
      ],
      "text/plain": [
       "[1]  TRUE FALSE FALSE FALSE  TRUE FALSE FALSE FALSE  TRUE"
      ]
     },
     "metadata": {},
     "output_type": "display_data"
    }
   ],
   "source": [
    "seq(from=1996, to=2004) %% 4 == 0"
   ]
  },
  {
   "cell_type": "markdown",
   "id": "86acd1ce",
   "metadata": {},
   "source": [
    "This is true when the year is not divisible by 100. (i.e. remainder is not 0)"
   ]
  },
  {
   "cell_type": "code",
   "execution_count": 22,
   "id": "3b59f23c",
   "metadata": {},
   "outputs": [
    {
     "data": {
      "text/html": [
       "<style>\n",
       ".list-inline {list-style: none; margin:0; padding: 0}\n",
       ".list-inline>li {display: inline-block}\n",
       ".list-inline>li:not(:last-child)::after {content: \"\\00b7\"; padding: 0 .5ex}\n",
       "</style>\n",
       "<ol class=list-inline><li>TRUE</li><li>TRUE</li><li>TRUE</li><li>TRUE</li><li>FALSE</li><li>TRUE</li><li>TRUE</li><li>TRUE</li><li>TRUE</li></ol>\n"
      ],
      "text/latex": [
       "\\begin{enumerate*}\n",
       "\\item TRUE\n",
       "\\item TRUE\n",
       "\\item TRUE\n",
       "\\item TRUE\n",
       "\\item FALSE\n",
       "\\item TRUE\n",
       "\\item TRUE\n",
       "\\item TRUE\n",
       "\\item TRUE\n",
       "\\end{enumerate*}\n"
      ],
      "text/markdown": [
       "1. TRUE\n",
       "2. TRUE\n",
       "3. TRUE\n",
       "4. TRUE\n",
       "5. FALSE\n",
       "6. TRUE\n",
       "7. TRUE\n",
       "8. TRUE\n",
       "9. TRUE\n",
       "\n",
       "\n"
      ],
      "text/plain": [
       "[1]  TRUE  TRUE  TRUE  TRUE FALSE  TRUE  TRUE  TRUE  TRUE"
      ]
     },
     "metadata": {},
     "output_type": "display_data"
    }
   ],
   "source": [
    "seq(from=1996, to=2004) %% 100 != 0"
   ]
  },
  {
   "cell_type": "markdown",
   "id": "906575bd",
   "metadata": {},
   "source": [
    "We can combine them with `&` to see where both conditions are true at the same time."
   ]
  },
  {
   "cell_type": "code",
   "execution_count": 23,
   "id": "aa0a44d5",
   "metadata": {},
   "outputs": [
    {
     "data": {
      "text/html": [
       "<style>\n",
       ".list-inline {list-style: none; margin:0; padding: 0}\n",
       ".list-inline>li {display: inline-block}\n",
       ".list-inline>li:not(:last-child)::after {content: \"\\00b7\"; padding: 0 .5ex}\n",
       "</style>\n",
       "<ol class=list-inline><li>TRUE</li><li>FALSE</li><li>FALSE</li><li>FALSE</li><li>FALSE</li><li>FALSE</li><li>FALSE</li><li>FALSE</li><li>TRUE</li></ol>\n"
      ],
      "text/latex": [
       "\\begin{enumerate*}\n",
       "\\item TRUE\n",
       "\\item FALSE\n",
       "\\item FALSE\n",
       "\\item FALSE\n",
       "\\item FALSE\n",
       "\\item FALSE\n",
       "\\item FALSE\n",
       "\\item FALSE\n",
       "\\item TRUE\n",
       "\\end{enumerate*}\n"
      ],
      "text/markdown": [
       "1. TRUE\n",
       "2. FALSE\n",
       "3. FALSE\n",
       "4. FALSE\n",
       "5. FALSE\n",
       "6. FALSE\n",
       "7. FALSE\n",
       "8. FALSE\n",
       "9. TRUE\n",
       "\n",
       "\n"
      ],
      "text/plain": [
       "[1]  TRUE FALSE FALSE FALSE FALSE FALSE FALSE FALSE  TRUE"
      ]
     },
     "metadata": {},
     "output_type": "display_data"
    }
   ],
   "source": [
    "seq(from=1996, to=2004) %% 4 == 0 & seq(from=1996, to=2004) %% 100 != 0"
   ]
  },
  {
   "cell_type": "markdown",
   "id": "444d3f4d",
   "metadata": {},
   "source": [
    "For more on logical operators:"
   ]
  },
  {
   "cell_type": "code",
   "execution_count": 24,
   "id": "ff99e2b8",
   "metadata": {},
   "outputs": [],
   "source": [
    "help(Logic)"
   ]
  },
  {
   "cell_type": "markdown",
   "id": "175445b4",
   "metadata": {},
   "source": [
    "### Variables and assignment operators\n",
    "\n",
    "A **variable** is a name we give to something to make it easier to talk about. It could be a value, a function, or something more complicated.\n",
    "\n",
    "💁🏻‍♂️ Why do we name things? Sometimes we use variables because we don’t know what a value will be when we’re writing our script. Often it’s to save repeating ourselves. When I type `seq(from=1996, to=2004)` twice, then R has to generate the sequence twice, and I double my chances of making a typo.\n",
    "\n",
    "R has a little more diversity than some languages in the way it assigns values to variables. The basic assignment operator is `<-`. That's two keystrokes, a \"less than\" and a \"minus\", put together to look like an arrow pointing left."
   ]
  },
  {
   "cell_type": "code",
   "execution_count": 25,
   "id": "e7d0a65b",
   "metadata": {},
   "outputs": [],
   "source": [
    "foo <- 42"
   ]
  },
  {
   "cell_type": "code",
   "execution_count": 26,
   "id": "b29bceb8",
   "metadata": {},
   "outputs": [
    {
     "data": {
      "text/html": [
       "42"
      ],
      "text/latex": [
       "42"
      ],
      "text/markdown": [
       "42"
      ],
      "text/plain": [
       "[1] 42"
      ]
     },
     "metadata": {},
     "output_type": "display_data"
    }
   ],
   "source": [
    "foo"
   ]
  },
  {
   "cell_type": "code",
   "execution_count": 27,
   "id": "54517276",
   "metadata": {},
   "outputs": [
    {
     "data": {
      "text/html": [
       "<style>\n",
       ".list-inline {list-style: none; margin:0; padding: 0}\n",
       ".list-inline>li {display: inline-block}\n",
       ".list-inline>li:not(:last-child)::after {content: \"\\00b7\"; padding: 0 .5ex}\n",
       "</style>\n",
       "<ol class=list-inline><li>TRUE</li><li>FALSE</li><li>FALSE</li><li>FALSE</li><li>FALSE</li><li>FALSE</li><li>FALSE</li><li>FALSE</li><li>TRUE</li></ol>\n"
      ],
      "text/latex": [
       "\\begin{enumerate*}\n",
       "\\item TRUE\n",
       "\\item FALSE\n",
       "\\item FALSE\n",
       "\\item FALSE\n",
       "\\item FALSE\n",
       "\\item FALSE\n",
       "\\item FALSE\n",
       "\\item FALSE\n",
       "\\item TRUE\n",
       "\\end{enumerate*}\n"
      ],
      "text/markdown": [
       "1. TRUE\n",
       "2. FALSE\n",
       "3. FALSE\n",
       "4. FALSE\n",
       "5. FALSE\n",
       "6. FALSE\n",
       "7. FALSE\n",
       "8. FALSE\n",
       "9. TRUE\n",
       "\n",
       "\n"
      ],
      "text/plain": [
       "[1]  TRUE FALSE FALSE FALSE FALSE FALSE FALSE FALSE  TRUE"
      ]
     },
     "metadata": {},
     "output_type": "display_data"
    }
   ],
   "source": [
    "years <- seq(1996, 2004)\n",
    "years %% 4 == 0 & years %% 100 != 0"
   ]
  },
  {
   "cell_type": "markdown",
   "id": "3e469c96",
   "metadata": {},
   "source": [
    "But there are a couple of other assignment operators, too.\n",
    "\n",
    "#### single equals sign\n",
    "\n",
    "A single equals sign (`=`) is also used as an assignment operator. It works *mostly* the same way as `<-`, but  with some differences in **scope** that we’re not going to discuss in this workshop.\n",
    "\n",
    "In practical terms, we use `=` to assign parameters inside function calls, like in `seq(from=1996, to=2004)`, but when we’re assigning values to our own variables, we use `<-`.\n",
    "\n",
    "#### left-to-right assignment\n",
    "\n",
    "In most programming, assignment happens from right to left: `foo <- 42` means that the value `42` is assigned to the name `foo`. In R, you can, if you want, assign things the other direction, by using `->` instead of `<-`:"
   ]
  },
  {
   "cell_type": "code",
   "execution_count": 28,
   "id": "d1435087",
   "metadata": {},
   "outputs": [],
   "source": [
    "42 -> foo"
   ]
  },
  {
   "cell_type": "code",
   "execution_count": 29,
   "id": "899ed81c",
   "metadata": {},
   "outputs": [
    {
     "data": {
      "text/html": [
       "42"
      ],
      "text/latex": [
       "42"
      ],
      "text/markdown": [
       "42"
      ],
      "text/plain": [
       "[1] 42"
      ]
     },
     "metadata": {},
     "output_type": "display_data"
    }
   ],
   "source": [
    "foo"
   ]
  },
  {
   "cell_type": "markdown",
   "id": "2efa85c7",
   "metadata": {},
   "source": [
    "💁🏻‍♂️ Why would you do this? Well, sometimes you’ve been working on an expression through trial and error for 10 minutes and you suddenly realize that you’ve got it right and want to save the result, but your cursor is all the way at the right-hand end of it. It’s nice to be able to just add a `-> foo` and hit enter to save your hard work!\n",
    "\n",
    "For more information (and still other assignment operators) see:"
   ]
  },
  {
   "cell_type": "code",
   "execution_count": 30,
   "id": "ae4cbd8b",
   "metadata": {},
   "outputs": [],
   "source": [
    "help(assignOps)"
   ]
  },
  {
   "cell_type": "markdown",
   "id": "9434de3e",
   "metadata": {},
   "source": [
    "### Character data\n",
    "\n",
    "So far, we’ve mostly looked at **numeric** and **boolean** values. Another very important type of data for humanists is **character** data, i.e. text.\n",
    "\n",
    "You can assign character data to variables just as you do other kinds of values."
   ]
  },
  {
   "cell_type": "code",
   "execution_count": 31,
   "id": "12f7bf11",
   "metadata": {},
   "outputs": [],
   "source": [
    "name <- 'Zuko'"
   ]
  },
  {
   "cell_type": "markdown",
   "id": "8d572c93",
   "metadata": {},
   "source": [
    "But working with text usually requires special functions. For example:\n",
    "\n",
    "#### Concatenation"
   ]
  },
  {
   "cell_type": "code",
   "execution_count": 32,
   "id": "cb33c058",
   "metadata": {},
   "outputs": [
    {
     "data": {
      "text/html": [
       "'Hello, Zuko here!'"
      ],
      "text/latex": [
       "'Hello, Zuko here!'"
      ],
      "text/markdown": [
       "'Hello, Zuko here!'"
      ],
      "text/plain": [
       "[1] \"Hello, Zuko here!\""
      ]
     },
     "metadata": {},
     "output_type": "display_data"
    }
   ],
   "source": [
    "paste('Hello,', name, 'here!')"
   ]
  },
  {
   "cell_type": "markdown",
   "id": "371c87e8",
   "metadata": {},
   "source": [
    "#### Splitting"
   ]
  },
  {
   "cell_type": "code",
   "execution_count": 33,
   "id": "1dbda54e",
   "metadata": {},
   "outputs": [
    {
     "data": {
      "text/html": [
       "<ol>\n",
       "\t<li><style>\n",
       ".list-inline {list-style: none; margin:0; padding: 0}\n",
       ".list-inline>li {display: inline-block}\n",
       ".list-inline>li:not(:last-child)::after {content: \"\\00b7\"; padding: 0 .5ex}\n",
       "</style>\n",
       "<ol class=list-inline><li>'Dr.'</li><li>'Strangelove:'</li><li>'Or,'</li><li>'How'</li><li>'I'</li><li>'Learned'</li><li>'to'</li><li>'Stop'</li><li>'Worrying'</li><li>'and'</li><li>'Love'</li><li>'the'</li><li>'Bomb'</li></ol>\n",
       "</li>\n",
       "</ol>\n"
      ],
      "text/latex": [
       "\\begin{enumerate}\n",
       "\\item \\begin{enumerate*}\n",
       "\\item 'Dr.'\n",
       "\\item 'Strangelove:'\n",
       "\\item 'Or,'\n",
       "\\item 'How'\n",
       "\\item 'I'\n",
       "\\item 'Learned'\n",
       "\\item 'to'\n",
       "\\item 'Stop'\n",
       "\\item 'Worrying'\n",
       "\\item 'and'\n",
       "\\item 'Love'\n",
       "\\item 'the'\n",
       "\\item 'Bomb'\n",
       "\\end{enumerate*}\n",
       "\n",
       "\\end{enumerate}\n"
      ],
      "text/markdown": [
       "1. 1. 'Dr.'\n",
       "2. 'Strangelove:'\n",
       "3. 'Or,'\n",
       "4. 'How'\n",
       "5. 'I'\n",
       "6. 'Learned'\n",
       "7. 'to'\n",
       "8. 'Stop'\n",
       "9. 'Worrying'\n",
       "10. 'and'\n",
       "11. 'Love'\n",
       "12. 'the'\n",
       "13. 'Bomb'\n",
       "\n",
       "\n",
       "\n",
       "\n",
       "\n"
      ],
      "text/plain": [
       "[[1]]\n",
       " [1] \"Dr.\"          \"Strangelove:\" \"Or,\"          \"How\"          \"I\"           \n",
       " [6] \"Learned\"      \"to\"           \"Stop\"         \"Worrying\"     \"and\"         \n",
       "[11] \"Love\"         \"the\"          \"Bomb\"        \n"
      ]
     },
     "metadata": {},
     "output_type": "display_data"
    }
   ],
   "source": [
    "title <- 'Dr. Strangelove: Or, How I Learned to Stop Worrying and Love the Bomb'\n",
    "strsplit(title, split=' ')"
   ]
  },
  {
   "cell_type": "markdown",
   "id": "b24f1f06",
   "metadata": {},
   "source": [
    "#### Replacement"
   ]
  },
  {
   "cell_type": "code",
   "execution_count": 34,
   "id": "63cd8506",
   "metadata": {},
   "outputs": [
    {
     "data": {
      "text/html": [
       "'Dr. Strange❤️: Or, How I Learned to Stop Worrying and ❤️ the Bomb'"
      ],
      "text/latex": [
       "'Dr. Strange❤️: Or, How I Learned to Stop Worrying and ❤️ the Bomb'"
      ],
      "text/markdown": [
       "'Dr. Strange❤️: Or, How I Learned to Stop Worrying and ❤️ the Bomb'"
      ],
      "text/plain": [
       "[1] \"Dr. Strange❤️: Or, How I Learned to Stop Worrying and ❤️ the Bomb\""
      ]
     },
     "metadata": {},
     "output_type": "display_data"
    }
   ],
   "source": [
    "gsub(title, pattern='love', repl='❤️', ignore.case = TRUE)"
   ]
  },
  {
   "cell_type": "markdown",
   "id": "6576ce73",
   "metadata": {},
   "source": [
    "The base R functions for working with text are a little heterogeneous—some work one way, others another. I recommend using the add-on library **stringr** for any significant work with text. We’ll spend some time looking at it shortly."
   ]
  },
  {
   "cell_type": "markdown",
   "id": "3ba3e2a4",
   "metadata": {},
   "source": [
    "### Special values\n",
    "\n",
    "We’ve seen the three main kinds of values in R: numeric, boolean, and character. In addition to these, there are a couple of special values you might encounter in your data: `NA` and `NaN`. \n",
    "\n",
    "`NA` is a special value which signifies missing data (value **not available**). It can occur in numeric, boolean, or character vectors. For example, when tallying word counts among documents, we may receive `NA` in cases where the word to be counted doesn’t occur at all. Depending on what you want to do with the data, you can choose how R treats `NA` values.\n",
    "\n",
    "`NaN` indicates that a numerical calculation produced a result that is **not a number** (e.g. `0/0`). You’re perhaps less likely to have to deal with this in humanities contexts. It can often be treated in the same way as `NA`."
   ]
  },
  {
   "cell_type": "markdown",
   "id": "0647a6c9",
   "metadata": {},
   "source": [
    "## Vectors\n",
    "\n",
    "Vectors are the basic kind of data in R. They have a single dimension, length, and must contain values of a single type."
   ]
  },
  {
   "cell_type": "code",
   "execution_count": 35,
   "id": "835e9a2b",
   "metadata": {},
   "outputs": [],
   "source": [
    "digits <- c(1, 5, 7, 3, 8, 4, 0, 1, 2)"
   ]
  },
  {
   "cell_type": "code",
   "execution_count": 36,
   "id": "35b57a16",
   "metadata": {},
   "outputs": [
    {
     "data": {
      "text/html": [
       "9"
      ],
      "text/latex": [
       "9"
      ],
      "text/markdown": [
       "9"
      ],
      "text/plain": [
       "[1] 9"
      ]
     },
     "metadata": {},
     "output_type": "display_data"
    }
   ],
   "source": [
    "length(digits)"
   ]
  },
  {
   "cell_type": "markdown",
   "id": "b996659c",
   "metadata": {},
   "source": [
    "Using square brackets, you can locate one or more elements within a vector by their position, or *index*, in the sequence. (⚠️ numbering starts at 1, not 0.)"
   ]
  },
  {
   "cell_type": "code",
   "execution_count": 37,
   "id": "908eefa7",
   "metadata": {},
   "outputs": [
    {
     "data": {
      "text/html": [
       "5"
      ],
      "text/latex": [
       "5"
      ],
      "text/markdown": [
       "5"
      ],
      "text/plain": [
       "[1] 5"
      ]
     },
     "metadata": {},
     "output_type": "display_data"
    }
   ],
   "source": [
    "digits[2]"
   ]
  },
  {
   "cell_type": "markdown",
   "id": "3750d814",
   "metadata": {},
   "source": [
    "You can also identify a **slice**, i.e. a subset of a vector by using multiple indices"
   ]
  },
  {
   "cell_type": "code",
   "execution_count": 38,
   "id": "790f2bd9",
   "metadata": {},
   "outputs": [
    {
     "data": {
      "text/html": [
       "<style>\n",
       ".list-inline {list-style: none; margin:0; padding: 0}\n",
       ".list-inline>li {display: inline-block}\n",
       ".list-inline>li:not(:last-child)::after {content: \"\\00b7\"; padding: 0 .5ex}\n",
       "</style>\n",
       "<ol class=list-inline><li>5</li><li>7</li><li>3</li></ol>\n"
      ],
      "text/latex": [
       "\\begin{enumerate*}\n",
       "\\item 5\n",
       "\\item 7\n",
       "\\item 3\n",
       "\\end{enumerate*}\n"
      ],
      "text/markdown": [
       "1. 5\n",
       "2. 7\n",
       "3. 3\n",
       "\n",
       "\n"
      ],
      "text/plain": [
       "[1] 5 7 3"
      ]
     },
     "metadata": {},
     "output_type": "display_data"
    }
   ],
   "source": [
    "digits[2:4]"
   ]
  },
  {
   "cell_type": "code",
   "execution_count": 39,
   "id": "04cdab6d",
   "metadata": {},
   "outputs": [
    {
     "data": {
      "text/html": [
       "<style>\n",
       ".list-inline {list-style: none; margin:0; padding: 0}\n",
       ".list-inline>li {display: inline-block}\n",
       ".list-inline>li:not(:last-child)::after {content: \"\\00b7\"; padding: 0 .5ex}\n",
       "</style>\n",
       "<ol class=list-inline><li>1</li><li>7</li><li>0</li></ol>\n"
      ],
      "text/latex": [
       "\\begin{enumerate*}\n",
       "\\item 1\n",
       "\\item 7\n",
       "\\item 0\n",
       "\\end{enumerate*}\n"
      ],
      "text/markdown": [
       "1. 1\n",
       "2. 7\n",
       "3. 0\n",
       "\n",
       "\n"
      ],
      "text/plain": [
       "[1] 1 7 0"
      ]
     },
     "metadata": {},
     "output_type": "display_data"
    }
   ],
   "source": [
    "digits[c(1, 3, 7)]"
   ]
  },
  {
   "cell_type": "markdown",
   "id": "1d8bba24",
   "metadata": {},
   "source": [
    "If you provide negative indices, you’ll get a copy of the vector with those elements **removed**."
   ]
  },
  {
   "cell_type": "code",
   "execution_count": 40,
   "id": "4baf400d",
   "metadata": {},
   "outputs": [
    {
     "data": {
      "text/html": [
       "<style>\n",
       ".list-inline {list-style: none; margin:0; padding: 0}\n",
       ".list-inline>li {display: inline-block}\n",
       ".list-inline>li:not(:last-child)::after {content: \"\\00b7\"; padding: 0 .5ex}\n",
       "</style>\n",
       "<ol class=list-inline><li>5</li><li>3</li><li>8</li><li>4</li><li>1</li><li>2</li></ol>\n"
      ],
      "text/latex": [
       "\\begin{enumerate*}\n",
       "\\item 5\n",
       "\\item 3\n",
       "\\item 8\n",
       "\\item 4\n",
       "\\item 1\n",
       "\\item 2\n",
       "\\end{enumerate*}\n"
      ],
      "text/markdown": [
       "1. 5\n",
       "2. 3\n",
       "3. 8\n",
       "4. 4\n",
       "5. 1\n",
       "6. 2\n",
       "\n",
       "\n"
      ],
      "text/plain": [
       "[1] 5 3 8 4 1 2"
      ]
     },
     "metadata": {},
     "output_type": "display_data"
    }
   ],
   "source": [
    "digits[-c(1, 3, 7)]"
   ]
  },
  {
   "cell_type": "markdown",
   "id": "ccdabc34",
   "metadata": {},
   "source": [
    "Another way to slice a vector is with booleans: for every `TRUE`, you get the corresponding value. So, if this is true when the values of `digits` are even:"
   ]
  },
  {
   "cell_type": "code",
   "execution_count": 41,
   "id": "32373510",
   "metadata": {},
   "outputs": [
    {
     "data": {
      "text/html": [
       "<style>\n",
       ".list-inline {list-style: none; margin:0; padding: 0}\n",
       ".list-inline>li {display: inline-block}\n",
       ".list-inline>li:not(:last-child)::after {content: \"\\00b7\"; padding: 0 .5ex}\n",
       "</style>\n",
       "<ol class=list-inline><li>FALSE</li><li>FALSE</li><li>FALSE</li><li>FALSE</li><li>TRUE</li><li>TRUE</li><li>TRUE</li><li>FALSE</li><li>TRUE</li></ol>\n"
      ],
      "text/latex": [
       "\\begin{enumerate*}\n",
       "\\item FALSE\n",
       "\\item FALSE\n",
       "\\item FALSE\n",
       "\\item FALSE\n",
       "\\item TRUE\n",
       "\\item TRUE\n",
       "\\item TRUE\n",
       "\\item FALSE\n",
       "\\item TRUE\n",
       "\\end{enumerate*}\n"
      ],
      "text/markdown": [
       "1. FALSE\n",
       "2. FALSE\n",
       "3. FALSE\n",
       "4. FALSE\n",
       "5. TRUE\n",
       "6. TRUE\n",
       "7. TRUE\n",
       "8. FALSE\n",
       "9. TRUE\n",
       "\n",
       "\n"
      ],
      "text/plain": [
       "[1] FALSE FALSE FALSE FALSE  TRUE  TRUE  TRUE FALSE  TRUE"
      ]
     },
     "metadata": {},
     "output_type": "display_data"
    }
   ],
   "source": [
    "digits %% 2 == 0"
   ]
  },
  {
   "cell_type": "markdown",
   "id": "efdaaf0b",
   "metadata": {},
   "source": [
    "Then this will give you only the even values of `digits`:"
   ]
  },
  {
   "cell_type": "code",
   "execution_count": 42,
   "id": "f2d32258",
   "metadata": {},
   "outputs": [
    {
     "data": {
      "text/html": [
       "<style>\n",
       ".list-inline {list-style: none; margin:0; padding: 0}\n",
       ".list-inline>li {display: inline-block}\n",
       ".list-inline>li:not(:last-child)::after {content: \"\\00b7\"; padding: 0 .5ex}\n",
       "</style>\n",
       "<ol class=list-inline><li>8</li><li>4</li><li>0</li><li>2</li></ol>\n"
      ],
      "text/latex": [
       "\\begin{enumerate*}\n",
       "\\item 8\n",
       "\\item 4\n",
       "\\item 0\n",
       "\\item 2\n",
       "\\end{enumerate*}\n"
      ],
      "text/markdown": [
       "1. 8\n",
       "2. 4\n",
       "3. 0\n",
       "4. 2\n",
       "\n",
       "\n"
      ],
      "text/plain": [
       "[1] 8 4 0 2"
      ]
     },
     "metadata": {},
     "output_type": "display_data"
    }
   ],
   "source": [
    "digits[digits %% 2 == 0]"
   ]
  },
  {
   "cell_type": "markdown",
   "id": "9d9c05d1",
   "metadata": {},
   "source": [
    "Sometimes you don’t actually want the values, you just want to know their indices. For that, use `which()`. This gives you a vector of the positions for all the `TRUE` values."
   ]
  },
  {
   "cell_type": "code",
   "execution_count": 43,
   "id": "d3c1d6c6",
   "metadata": {},
   "outputs": [
    {
     "data": {
      "text/html": [
       "<style>\n",
       ".list-inline {list-style: none; margin:0; padding: 0}\n",
       ".list-inline>li {display: inline-block}\n",
       ".list-inline>li:not(:last-child)::after {content: \"\\00b7\"; padding: 0 .5ex}\n",
       "</style>\n",
       "<ol class=list-inline><li>5</li><li>6</li><li>7</li><li>9</li></ol>\n"
      ],
      "text/latex": [
       "\\begin{enumerate*}\n",
       "\\item 5\n",
       "\\item 6\n",
       "\\item 7\n",
       "\\item 9\n",
       "\\end{enumerate*}\n"
      ],
      "text/markdown": [
       "1. 5\n",
       "2. 6\n",
       "3. 7\n",
       "4. 9\n",
       "\n",
       "\n"
      ],
      "text/plain": [
       "[1] 5 6 7 9"
      ]
     },
     "metadata": {},
     "output_type": "display_data"
    }
   ],
   "source": [
    "which(digits %% 2 == 0)"
   ]
  },
  {
   "cell_type": "markdown",
   "id": "afe850ad",
   "metadata": {},
   "source": [
    "### Names\n",
    "\n",
    "In addition to numeric indices, the elements of a vector can be given **names**. This can make it easier to find what you’re looking for."
   ]
  },
  {
   "cell_type": "code",
   "execution_count": 44,
   "id": "0f1593f6",
   "metadata": {},
   "outputs": [],
   "source": [
    "digits = c(first=100, second=200, third=300, fourth=400, fifth=500)"
   ]
  },
  {
   "cell_type": "code",
   "execution_count": 45,
   "id": "214e0bcd",
   "metadata": {},
   "outputs": [
    {
     "data": {
      "text/html": [
       "<style>\n",
       ".dl-inline {width: auto; margin:0; padding: 0}\n",
       ".dl-inline>dt, .dl-inline>dd {float: none; width: auto; display: inline-block}\n",
       ".dl-inline>dt::after {content: \":\\0020\"; padding-right: .5ex}\n",
       ".dl-inline>dt:not(:first-of-type) {padding-left: .5ex}\n",
       "</style><dl class=dl-inline><dt>first</dt><dd>100</dd><dt>second</dt><dd>200</dd><dt>third</dt><dd>300</dd><dt>fourth</dt><dd>400</dd><dt>fifth</dt><dd>500</dd></dl>\n"
      ],
      "text/latex": [
       "\\begin{description*}\n",
       "\\item[first] 100\n",
       "\\item[second] 200\n",
       "\\item[third] 300\n",
       "\\item[fourth] 400\n",
       "\\item[fifth] 500\n",
       "\\end{description*}\n"
      ],
      "text/markdown": [
       "first\n",
       ":   100second\n",
       ":   200third\n",
       ":   300fourth\n",
       ":   400fifth\n",
       ":   500\n",
       "\n"
      ],
      "text/plain": [
       " first second  third fourth  fifth \n",
       "   100    200    300    400    500 "
      ]
     },
     "metadata": {},
     "output_type": "display_data"
    }
   ],
   "source": [
    "digits"
   ]
  },
  {
   "cell_type": "code",
   "execution_count": 46,
   "id": "d1c40f19",
   "metadata": {},
   "outputs": [
    {
     "data": {
      "text/html": [
       "<style>\n",
       ".dl-inline {width: auto; margin:0; padding: 0}\n",
       ".dl-inline>dt, .dl-inline>dd {float: none; width: auto; display: inline-block}\n",
       ".dl-inline>dt::after {content: \":\\0020\"; padding-right: .5ex}\n",
       ".dl-inline>dt:not(:first-of-type) {padding-left: .5ex}\n",
       "</style><dl class=dl-inline><dt>second</dt><dd>200</dd><dt>fifth</dt><dd>500</dd></dl>\n"
      ],
      "text/latex": [
       "\\begin{description*}\n",
       "\\item[second] 200\n",
       "\\item[fifth] 500\n",
       "\\end{description*}\n"
      ],
      "text/markdown": [
       "second\n",
       ":   200fifth\n",
       ":   500\n",
       "\n"
      ],
      "text/plain": [
       "second  fifth \n",
       "   200    500 "
      ]
     },
     "metadata": {},
     "output_type": "display_data"
    }
   ],
   "source": [
    "digits[c('second', 'fifth')]"
   ]
  },
  {
   "cell_type": "markdown",
   "id": "f39c30c0",
   "metadata": {},
   "source": [
    "Names don’t have to be created with the values. You can get *and set* the names of an existing vector using the `names()` function."
   ]
  },
  {
   "cell_type": "code",
   "execution_count": 47,
   "id": "73115a24",
   "metadata": {},
   "outputs": [
    {
     "data": {
      "text/html": [
       "<style>\n",
       ".list-inline {list-style: none; margin:0; padding: 0}\n",
       ".list-inline>li {display: inline-block}\n",
       ".list-inline>li:not(:last-child)::after {content: \"\\00b7\"; padding: 0 .5ex}\n",
       "</style>\n",
       "<ol class=list-inline><li>'first'</li><li>'second'</li><li>'third'</li><li>'fourth'</li><li>'fifth'</li></ol>\n"
      ],
      "text/latex": [
       "\\begin{enumerate*}\n",
       "\\item 'first'\n",
       "\\item 'second'\n",
       "\\item 'third'\n",
       "\\item 'fourth'\n",
       "\\item 'fifth'\n",
       "\\end{enumerate*}\n"
      ],
      "text/markdown": [
       "1. 'first'\n",
       "2. 'second'\n",
       "3. 'third'\n",
       "4. 'fourth'\n",
       "5. 'fifth'\n",
       "\n",
       "\n"
      ],
      "text/plain": [
       "[1] \"first\"  \"second\" \"third\"  \"fourth\" \"fifth\" "
      ]
     },
     "metadata": {},
     "output_type": "display_data"
    }
   ],
   "source": [
    "names(digits)"
   ]
  },
  {
   "cell_type": "code",
   "execution_count": 48,
   "id": "c75ede1f",
   "metadata": {},
   "outputs": [],
   "source": [
    "names(digits) <- c('alpha', 'beta', 'gamma', 'delta', 'epsilon')"
   ]
  },
  {
   "cell_type": "code",
   "execution_count": 49,
   "id": "03e8faa7",
   "metadata": {},
   "outputs": [
    {
     "data": {
      "text/html": [
       "<style>\n",
       ".dl-inline {width: auto; margin:0; padding: 0}\n",
       ".dl-inline>dt, .dl-inline>dd {float: none; width: auto; display: inline-block}\n",
       ".dl-inline>dt::after {content: \":\\0020\"; padding-right: .5ex}\n",
       ".dl-inline>dt:not(:first-of-type) {padding-left: .5ex}\n",
       "</style><dl class=dl-inline><dt>alpha</dt><dd>100</dd><dt>beta</dt><dd>200</dd><dt>gamma</dt><dd>300</dd><dt>delta</dt><dd>400</dd><dt>epsilon</dt><dd>500</dd></dl>\n"
      ],
      "text/latex": [
       "\\begin{description*}\n",
       "\\item[alpha] 100\n",
       "\\item[beta] 200\n",
       "\\item[gamma] 300\n",
       "\\item[delta] 400\n",
       "\\item[epsilon] 500\n",
       "\\end{description*}\n"
      ],
      "text/markdown": [
       "alpha\n",
       ":   100beta\n",
       ":   200gamma\n",
       ":   300delta\n",
       ":   400epsilon\n",
       ":   500\n",
       "\n"
      ],
      "text/plain": [
       "  alpha    beta   gamma   delta epsilon \n",
       "    100     200     300     400     500 "
      ]
     },
     "metadata": {},
     "output_type": "display_data"
    }
   ],
   "source": [
    "digits"
   ]
  },
  {
   "cell_type": "markdown",
   "id": "79304e13",
   "metadata": {},
   "source": [
    "## More complicated data structures\n",
    "\n",
    "Moving beyond these so-called \"atomic vectors,\" we encounter data structures that share their basic qualities but also possess some additional, complicating attributes.\n",
    "\n",
    "### Factors\n",
    "\n",
    "A **factor** is a vector used to store **categorical data**. It generally looks like a character vector to the untrained eye: for example, we might have a sequence of genre labels like \n",
    "\n",
    "\n",
    "     epic, elegy, elegy, epic, elegy, epic, epic, epic, elegy, ...\n",
    "   \n",
    "This data could be stored as a character vector. But (a) we know that it will only ever take a limited set of values, and (b) we mostly want to use it to sort something else into groups. We could just as easily call all the epic texts \"Group 1\" and all the elegiac texts \"Group 2,\" as long as we remember which is which.\n",
    "\n",
    "Factors are a kind of hybrid data type, joining character representations of the category labels to integer representations of the group number. Let’s look at the difference in how character and factor vectors behave:"
   ]
  },
  {
   "cell_type": "code",
   "execution_count": 50,
   "id": "31a26047",
   "metadata": {},
   "outputs": [],
   "source": [
    "chr_labels <- c('epic', 'elegy', 'elegy', 'epic', 'elegy', 'epic', 'epic', 'epic', 'elegy')\n",
    "fct_labels <- as.factor(chr_labels)"
   ]
  },
  {
   "cell_type": "code",
   "execution_count": 51,
   "id": "e81914bd",
   "metadata": {},
   "outputs": [
    {
     "data": {
      "text/html": [
       "<style>\n",
       ".list-inline {list-style: none; margin:0; padding: 0}\n",
       ".list-inline>li {display: inline-block}\n",
       ".list-inline>li:not(:last-child)::after {content: \"\\00b7\"; padding: 0 .5ex}\n",
       "</style>\n",
       "<ol class=list-inline><li>'epic'</li><li>'elegy'</li><li>'elegy'</li><li>'epic'</li><li>'elegy'</li><li>'epic'</li><li>'epic'</li><li>'epic'</li><li>'elegy'</li></ol>\n"
      ],
      "text/latex": [
       "\\begin{enumerate*}\n",
       "\\item 'epic'\n",
       "\\item 'elegy'\n",
       "\\item 'elegy'\n",
       "\\item 'epic'\n",
       "\\item 'elegy'\n",
       "\\item 'epic'\n",
       "\\item 'epic'\n",
       "\\item 'epic'\n",
       "\\item 'elegy'\n",
       "\\end{enumerate*}\n"
      ],
      "text/markdown": [
       "1. 'epic'\n",
       "2. 'elegy'\n",
       "3. 'elegy'\n",
       "4. 'epic'\n",
       "5. 'elegy'\n",
       "6. 'epic'\n",
       "7. 'epic'\n",
       "8. 'epic'\n",
       "9. 'elegy'\n",
       "\n",
       "\n"
      ],
      "text/plain": [
       "[1] \"epic\"  \"elegy\" \"elegy\" \"epic\"  \"elegy\" \"epic\"  \"epic\"  \"epic\"  \"elegy\""
      ]
     },
     "metadata": {},
     "output_type": "display_data"
    }
   ],
   "source": [
    "chr_labels"
   ]
  },
  {
   "cell_type": "code",
   "execution_count": 52,
   "id": "58590ff0",
   "metadata": {},
   "outputs": [
    {
     "data": {
      "text/html": [
       "<style>\n",
       ".list-inline {list-style: none; margin:0; padding: 0}\n",
       ".list-inline>li {display: inline-block}\n",
       ".list-inline>li:not(:last-child)::after {content: \"\\00b7\"; padding: 0 .5ex}\n",
       "</style>\n",
       "<ol class=list-inline><li>epic</li><li>elegy</li><li>elegy</li><li>epic</li><li>elegy</li><li>epic</li><li>epic</li><li>epic</li><li>elegy</li></ol>\n",
       "\n",
       "<details>\n",
       "\t<summary style=display:list-item;cursor:pointer>\n",
       "\t\t<strong>Levels</strong>:\n",
       "\t</summary>\n",
       "\t<style>\n",
       "\t.list-inline {list-style: none; margin:0; padding: 0}\n",
       "\t.list-inline>li {display: inline-block}\n",
       "\t.list-inline>li:not(:last-child)::after {content: \"\\00b7\"; padding: 0 .5ex}\n",
       "\t</style>\n",
       "\t<ol class=list-inline><li>'elegy'</li><li>'epic'</li></ol>\n",
       "</details>"
      ],
      "text/latex": [
       "\\begin{enumerate*}\n",
       "\\item epic\n",
       "\\item elegy\n",
       "\\item elegy\n",
       "\\item epic\n",
       "\\item elegy\n",
       "\\item epic\n",
       "\\item epic\n",
       "\\item epic\n",
       "\\item elegy\n",
       "\\end{enumerate*}\n",
       "\n",
       "\\emph{Levels}: \\begin{enumerate*}\n",
       "\\item 'elegy'\n",
       "\\item 'epic'\n",
       "\\end{enumerate*}\n"
      ],
      "text/markdown": [
       "1. epic\n",
       "2. elegy\n",
       "3. elegy\n",
       "4. epic\n",
       "5. elegy\n",
       "6. epic\n",
       "7. epic\n",
       "8. epic\n",
       "9. elegy\n",
       "\n",
       "\n",
       "\n",
       "**Levels**: 1. 'elegy'\n",
       "2. 'epic'\n",
       "\n",
       "\n"
      ],
      "text/plain": [
       "[1] epic  elegy elegy epic  elegy epic  epic  epic  elegy\n",
       "Levels: elegy epic"
      ]
     },
     "metadata": {},
     "output_type": "display_data"
    }
   ],
   "source": [
    "fct_labels"
   ]
  },
  {
   "cell_type": "markdown",
   "id": "c5a81d6c",
   "metadata": {},
   "source": [
    "The factor is printed differently: there are no quotation marks around `epic` or `elegy`. And there’s some extra information at the bottom, telling us the **levels**, i.e. all possible values, that this factor can take.\n",
    "\n",
    "Under the hood, each the levels are numbered, and we can convert factor vectors to numeric vectors in contexts where that’s useful."
   ]
  },
  {
   "cell_type": "code",
   "execution_count": 53,
   "id": "2fad050f",
   "metadata": {},
   "outputs": [
    {
     "data": {
      "text/html": [
       "<style>\n",
       ".list-inline {list-style: none; margin:0; padding: 0}\n",
       ".list-inline>li {display: inline-block}\n",
       ".list-inline>li:not(:last-child)::after {content: \"\\00b7\"; padding: 0 .5ex}\n",
       "</style>\n",
       "<ol class=list-inline><li>2</li><li>1</li><li>1</li><li>2</li><li>1</li><li>2</li><li>2</li><li>2</li><li>1</li></ol>\n"
      ],
      "text/latex": [
       "\\begin{enumerate*}\n",
       "\\item 2\n",
       "\\item 1\n",
       "\\item 1\n",
       "\\item 2\n",
       "\\item 1\n",
       "\\item 2\n",
       "\\item 2\n",
       "\\item 2\n",
       "\\item 1\n",
       "\\end{enumerate*}\n"
      ],
      "text/markdown": [
       "1. 2\n",
       "2. 1\n",
       "3. 1\n",
       "4. 2\n",
       "5. 1\n",
       "6. 2\n",
       "7. 2\n",
       "8. 2\n",
       "9. 1\n",
       "\n",
       "\n"
      ],
      "text/plain": [
       "[1] 2 1 1 2 1 2 2 2 1"
      ]
     },
     "metadata": {},
     "output_type": "display_data"
    }
   ],
   "source": [
    "as.numeric(fct_labels)"
   ]
  },
  {
   "cell_type": "markdown",
   "id": "d0789aea",
   "metadata": {},
   "source": [
    "### ordered vs. unordered factors\n",
    "\n",
    "In some cases, like \"elegy\" versus \"epic,\" the assignment of categories to numbers is arbitrary. In other cases, the categories have an intrinsic **order** that we want R to respect."
   ]
  },
  {
   "cell_type": "code",
   "execution_count": 54,
   "id": "21540dd9",
   "metadata": {},
   "outputs": [],
   "source": [
    "labels = factor(c('mon', 'weds', 'fri', 'mon', 'tues', 'fri', 'thurs', 'mon', 'tues'),\n",
    "                levels = c('mon', 'tues', 'weds', 'thurs', 'fri'), ordered=TRUE)"
   ]
  },
  {
   "cell_type": "code",
   "execution_count": 55,
   "id": "b5686d75",
   "metadata": {},
   "outputs": [
    {
     "data": {
      "text/html": [
       "<style>\n",
       ".list-inline {list-style: none; margin:0; padding: 0}\n",
       ".list-inline>li {display: inline-block}\n",
       ".list-inline>li:not(:last-child)::after {content: \"\\00b7\"; padding: 0 .5ex}\n",
       "</style>\n",
       "<ol class=list-inline><li>mon</li><li>weds</li><li>fri</li><li>mon</li><li>tues</li><li>fri</li><li>thurs</li><li>mon</li><li>tues</li></ol>\n",
       "\n",
       "<details>\n",
       "\t<summary style=display:list-item;cursor:pointer>\n",
       "\t\t<strong>Levels</strong>:\n",
       "\t</summary>\n",
       "\t<style>\n",
       "\t.list-inline {list-style: none; margin:0; padding: 0}\n",
       "\t.list-inline>li {display: inline-block}\n",
       "\t.list-inline>li:not(:last-child)::after {content: \"\\00b7\"; padding: 0 .5ex}\n",
       "\t</style>\n",
       "\t<ol class=list-inline><li>'mon'</li><li>'tues'</li><li>'weds'</li><li>'thurs'</li><li>'fri'</li></ol>\n",
       "</details>"
      ],
      "text/latex": [
       "\\begin{enumerate*}\n",
       "\\item mon\n",
       "\\item weds\n",
       "\\item fri\n",
       "\\item mon\n",
       "\\item tues\n",
       "\\item fri\n",
       "\\item thurs\n",
       "\\item mon\n",
       "\\item tues\n",
       "\\end{enumerate*}\n",
       "\n",
       "\\emph{Levels}: \\begin{enumerate*}\n",
       "\\item 'mon'\n",
       "\\item 'tues'\n",
       "\\item 'weds'\n",
       "\\item 'thurs'\n",
       "\\item 'fri'\n",
       "\\end{enumerate*}\n"
      ],
      "text/markdown": [
       "1. mon\n",
       "2. weds\n",
       "3. fri\n",
       "4. mon\n",
       "5. tues\n",
       "6. fri\n",
       "7. thurs\n",
       "8. mon\n",
       "9. tues\n",
       "\n",
       "\n",
       "\n",
       "**Levels**: 1. 'mon'\n",
       "2. 'tues'\n",
       "3. 'weds'\n",
       "4. 'thurs'\n",
       "5. 'fri'\n",
       "\n",
       "\n"
      ],
      "text/plain": [
       "[1] mon   weds  fri   mon   tues  fri   thurs mon   tues \n",
       "Levels: mon < tues < weds < thurs < fri"
      ]
     },
     "metadata": {},
     "output_type": "display_data"
    }
   ],
   "source": [
    "labels"
   ]
  },
  {
   "cell_type": "markdown",
   "id": "132d1c33",
   "metadata": {},
   "source": [
    "## Arrays and matrices\n",
    "\n",
    "Atomic vectors are one-dimensional, as we've seen. But very frequently we want to work with data that has rows and columns. In R, and **array** is a vector that has dimensions. A **matrix** is an array that has exactly two dimensions."
   ]
  },
  {
   "cell_type": "code",
   "execution_count": 56,
   "id": "9f579037",
   "metadata": {},
   "outputs": [],
   "source": [
    "some_data <- array(1:32, dim = c(4,8))"
   ]
  },
  {
   "cell_type": "code",
   "execution_count": 57,
   "id": "4ed9eae4",
   "metadata": {},
   "outputs": [
    {
     "data": {
      "text/html": [
       "<table class=\"dataframe\">\n",
       "<caption>A matrix: 4 × 8 of type int</caption>\n",
       "<tbody>\n",
       "\t<tr><td>1</td><td>5</td><td> 9</td><td>13</td><td>17</td><td>21</td><td>25</td><td>29</td></tr>\n",
       "\t<tr><td>2</td><td>6</td><td>10</td><td>14</td><td>18</td><td>22</td><td>26</td><td>30</td></tr>\n",
       "\t<tr><td>3</td><td>7</td><td>11</td><td>15</td><td>19</td><td>23</td><td>27</td><td>31</td></tr>\n",
       "\t<tr><td>4</td><td>8</td><td>12</td><td>16</td><td>20</td><td>24</td><td>28</td><td>32</td></tr>\n",
       "</tbody>\n",
       "</table>\n"
      ],
      "text/latex": [
       "A matrix: 4 × 8 of type int\n",
       "\\begin{tabular}{llllllll}\n",
       "\t 1 & 5 &  9 & 13 & 17 & 21 & 25 & 29\\\\\n",
       "\t 2 & 6 & 10 & 14 & 18 & 22 & 26 & 30\\\\\n",
       "\t 3 & 7 & 11 & 15 & 19 & 23 & 27 & 31\\\\\n",
       "\t 4 & 8 & 12 & 16 & 20 & 24 & 28 & 32\\\\\n",
       "\\end{tabular}\n"
      ],
      "text/markdown": [
       "\n",
       "A matrix: 4 × 8 of type int\n",
       "\n",
       "| 1 | 5 |  9 | 13 | 17 | 21 | 25 | 29 |\n",
       "| 2 | 6 | 10 | 14 | 18 | 22 | 26 | 30 |\n",
       "| 3 | 7 | 11 | 15 | 19 | 23 | 27 | 31 |\n",
       "| 4 | 8 | 12 | 16 | 20 | 24 | 28 | 32 |\n",
       "\n"
      ],
      "text/plain": [
       "     [,1] [,2] [,3] [,4] [,5] [,6] [,7] [,8]\n",
       "[1,] 1    5     9   13   17   21   25   29  \n",
       "[2,] 2    6    10   14   18   22   26   30  \n",
       "[3,] 3    7    11   15   19   23   27   31  \n",
       "[4,] 4    8    12   16   20   24   28   32  "
      ]
     },
     "metadata": {},
     "output_type": "display_data"
    }
   ],
   "source": [
    "some_data"
   ]
  },
  {
   "cell_type": "markdown",
   "id": "93c23a26",
   "metadata": {},
   "source": [
    "### Operations on arrays\n",
    "\n",
    "Basic operations on arrays work much as they do on vectors: R will attempt to perform operations element-wise."
   ]
  },
  {
   "cell_type": "code",
   "execution_count": 58,
   "id": "9e98b88c",
   "metadata": {},
   "outputs": [
    {
     "data": {
      "text/html": [
       "<table class=\"dataframe\">\n",
       "<caption>A matrix: 4 × 8 of type dbl</caption>\n",
       "<tbody>\n",
       "\t<tr><td>-1</td><td>-5</td><td> -9</td><td>-13</td><td>-17</td><td>-21</td><td>-25</td><td>-29</td></tr>\n",
       "\t<tr><td>-2</td><td>-6</td><td>-10</td><td>-14</td><td>-18</td><td>-22</td><td>-26</td><td>-30</td></tr>\n",
       "\t<tr><td>-3</td><td>-7</td><td>-11</td><td>-15</td><td>-19</td><td>-23</td><td>-27</td><td>-31</td></tr>\n",
       "\t<tr><td>-4</td><td>-8</td><td>-12</td><td>-16</td><td>-20</td><td>-24</td><td>-28</td><td>-32</td></tr>\n",
       "</tbody>\n",
       "</table>\n"
      ],
      "text/latex": [
       "A matrix: 4 × 8 of type dbl\n",
       "\\begin{tabular}{llllllll}\n",
       "\t -1 & -5 &  -9 & -13 & -17 & -21 & -25 & -29\\\\\n",
       "\t -2 & -6 & -10 & -14 & -18 & -22 & -26 & -30\\\\\n",
       "\t -3 & -7 & -11 & -15 & -19 & -23 & -27 & -31\\\\\n",
       "\t -4 & -8 & -12 & -16 & -20 & -24 & -28 & -32\\\\\n",
       "\\end{tabular}\n"
      ],
      "text/markdown": [
       "\n",
       "A matrix: 4 × 8 of type dbl\n",
       "\n",
       "| -1 | -5 |  -9 | -13 | -17 | -21 | -25 | -29 |\n",
       "| -2 | -6 | -10 | -14 | -18 | -22 | -26 | -30 |\n",
       "| -3 | -7 | -11 | -15 | -19 | -23 | -27 | -31 |\n",
       "| -4 | -8 | -12 | -16 | -20 | -24 | -28 | -32 |\n",
       "\n"
      ],
      "text/plain": [
       "     [,1] [,2] [,3] [,4] [,5] [,6] [,7] [,8]\n",
       "[1,] -1   -5    -9  -13  -17  -21  -25  -29 \n",
       "[2,] -2   -6   -10  -14  -18  -22  -26  -30 \n",
       "[3,] -3   -7   -11  -15  -19  -23  -27  -31 \n",
       "[4,] -4   -8   -12  -16  -20  -24  -28  -32 "
      ]
     },
     "metadata": {},
     "output_type": "display_data"
    }
   ],
   "source": [
    "some_data * -1"
   ]
  },
  {
   "cell_type": "markdown",
   "id": "8c962b71",
   "metadata": {},
   "source": [
    "R will try to recycle vectors, but it can be cranky if things don't fit evenly."
   ]
  },
  {
   "cell_type": "code",
   "execution_count": 59,
   "id": "ef21c777",
   "metadata": {},
   "outputs": [
    {
     "data": {
      "text/html": [
       "<table class=\"dataframe\">\n",
       "<caption>A matrix: 4 × 8 of type dbl</caption>\n",
       "<tbody>\n",
       "\t<tr><td>1</td><td> 5</td><td> 9</td><td>13</td><td>17</td><td>21</td><td>25</td><td>29</td></tr>\n",
       "\t<tr><td>0</td><td> 0</td><td> 0</td><td> 0</td><td> 0</td><td> 0</td><td> 0</td><td> 0</td></tr>\n",
       "\t<tr><td>0</td><td> 0</td><td> 0</td><td> 0</td><td> 0</td><td> 0</td><td> 0</td><td> 0</td></tr>\n",
       "\t<tr><td>8</td><td>16</td><td>24</td><td>32</td><td>40</td><td>48</td><td>56</td><td>64</td></tr>\n",
       "</tbody>\n",
       "</table>\n"
      ],
      "text/latex": [
       "A matrix: 4 × 8 of type dbl\n",
       "\\begin{tabular}{llllllll}\n",
       "\t 1 &  5 &  9 & 13 & 17 & 21 & 25 & 29\\\\\n",
       "\t 0 &  0 &  0 &  0 &  0 &  0 &  0 &  0\\\\\n",
       "\t 0 &  0 &  0 &  0 &  0 &  0 &  0 &  0\\\\\n",
       "\t 8 & 16 & 24 & 32 & 40 & 48 & 56 & 64\\\\\n",
       "\\end{tabular}\n"
      ],
      "text/markdown": [
       "\n",
       "A matrix: 4 × 8 of type dbl\n",
       "\n",
       "| 1 |  5 |  9 | 13 | 17 | 21 | 25 | 29 |\n",
       "| 0 |  0 |  0 |  0 |  0 |  0 |  0 |  0 |\n",
       "| 0 |  0 |  0 |  0 |  0 |  0 |  0 |  0 |\n",
       "| 8 | 16 | 24 | 32 | 40 | 48 | 56 | 64 |\n",
       "\n"
      ],
      "text/plain": [
       "     [,1] [,2] [,3] [,4] [,5] [,6] [,7] [,8]\n",
       "[1,] 1     5    9   13   17   21   25   29  \n",
       "[2,] 0     0    0    0    0    0    0    0  \n",
       "[3,] 0     0    0    0    0    0    0    0  \n",
       "[4,] 8    16   24   32   40   48   56   64  "
      ]
     },
     "metadata": {},
     "output_type": "display_data"
    }
   ],
   "source": [
    "some_data * c(1, 0, 0, 2)"
   ]
  },
  {
   "cell_type": "markdown",
   "id": "10e2f3a8",
   "metadata": {},
   "source": [
    "Arrays need to be the same size"
   ]
  },
  {
   "cell_type": "code",
   "execution_count": 60,
   "id": "e8918240",
   "metadata": {},
   "outputs": [
    {
     "data": {
      "text/html": [
       "<table class=\"dataframe\">\n",
       "<caption>A matrix: 4 × 8 of type int</caption>\n",
       "<tbody>\n",
       "\t<tr><td>-31</td><td>-23</td><td>-15</td><td>-7</td><td>1</td><td> 9</td><td>17</td><td>25</td></tr>\n",
       "\t<tr><td>-29</td><td>-21</td><td>-13</td><td>-5</td><td>3</td><td>11</td><td>19</td><td>27</td></tr>\n",
       "\t<tr><td>-27</td><td>-19</td><td>-11</td><td>-3</td><td>5</td><td>13</td><td>21</td><td>29</td></tr>\n",
       "\t<tr><td>-25</td><td>-17</td><td> -9</td><td>-1</td><td>7</td><td>15</td><td>23</td><td>31</td></tr>\n",
       "</tbody>\n",
       "</table>\n"
      ],
      "text/latex": [
       "A matrix: 4 × 8 of type int\n",
       "\\begin{tabular}{llllllll}\n",
       "\t -31 & -23 & -15 & -7 & 1 &  9 & 17 & 25\\\\\n",
       "\t -29 & -21 & -13 & -5 & 3 & 11 & 19 & 27\\\\\n",
       "\t -27 & -19 & -11 & -3 & 5 & 13 & 21 & 29\\\\\n",
       "\t -25 & -17 &  -9 & -1 & 7 & 15 & 23 & 31\\\\\n",
       "\\end{tabular}\n"
      ],
      "text/markdown": [
       "\n",
       "A matrix: 4 × 8 of type int\n",
       "\n",
       "| -31 | -23 | -15 | -7 | 1 |  9 | 17 | 25 |\n",
       "| -29 | -21 | -13 | -5 | 3 | 11 | 19 | 27 |\n",
       "| -27 | -19 | -11 | -3 | 5 | 13 | 21 | 29 |\n",
       "| -25 | -17 |  -9 | -1 | 7 | 15 | 23 | 31 |\n",
       "\n"
      ],
      "text/plain": [
       "     [,1] [,2] [,3] [,4] [,5] [,6] [,7] [,8]\n",
       "[1,] -31  -23  -15  -7   1     9   17   25  \n",
       "[2,] -29  -21  -13  -5   3    11   19   27  \n",
       "[3,] -27  -19  -11  -3   5    13   21   29  \n",
       "[4,] -25  -17   -9  -1   7    15   23   31  "
      ]
     },
     "metadata": {},
     "output_type": "display_data"
    }
   ],
   "source": [
    "other_data = array(32:1, dim=c(4,8))\n",
    "some_data - other_data"
   ]
  },
  {
   "cell_type": "markdown",
   "id": "1d577cfd",
   "metadata": {},
   "source": [
    "To do actual matrix operations, of the kind you learned about in finite algebra class, R has a dedicated suite of operators and functions. See "
   ]
  },
  {
   "cell_type": "markdown",
   "id": "5dad1c07",
   "metadata": {},
   "source": [
    "### Indexing arrays\n",
    "\n",
    "We've already seen how to extract an element or a slice from a vector using an index. That index could be numeric, specifying positions within the vector, or it could be character, specifying the names of elements, or it could be boolean.\n",
    "\n",
    "Selecting subsets of an array works similarly, but we have to separate the dimensions with commas."
   ]
  },
  {
   "cell_type": "code",
   "execution_count": 61,
   "id": "09783071",
   "metadata": {},
   "outputs": [
    {
     "data": {
      "text/html": [
       "13"
      ],
      "text/latex": [
       "13"
      ],
      "text/markdown": [
       "13"
      ],
      "text/plain": [
       "[1] 13"
      ]
     },
     "metadata": {},
     "output_type": "display_data"
    }
   ],
   "source": [
    "some_data[1,4]"
   ]
  },
  {
   "cell_type": "code",
   "execution_count": 62,
   "id": "125b0b1e",
   "metadata": {},
   "outputs": [
    {
     "data": {
      "text/html": [
       "<table class=\"dataframe\">\n",
       "<caption>A matrix: 3 × 4 of type int</caption>\n",
       "<tbody>\n",
       "\t<tr><td>5</td><td> 9</td><td>13</td><td>17</td></tr>\n",
       "\t<tr><td>6</td><td>10</td><td>14</td><td>18</td></tr>\n",
       "\t<tr><td>7</td><td>11</td><td>15</td><td>19</td></tr>\n",
       "</tbody>\n",
       "</table>\n"
      ],
      "text/latex": [
       "A matrix: 3 × 4 of type int\n",
       "\\begin{tabular}{llll}\n",
       "\t 5 &  9 & 13 & 17\\\\\n",
       "\t 6 & 10 & 14 & 18\\\\\n",
       "\t 7 & 11 & 15 & 19\\\\\n",
       "\\end{tabular}\n"
      ],
      "text/markdown": [
       "\n",
       "A matrix: 3 × 4 of type int\n",
       "\n",
       "| 5 |  9 | 13 | 17 |\n",
       "| 6 | 10 | 14 | 18 |\n",
       "| 7 | 11 | 15 | 19 |\n",
       "\n"
      ],
      "text/plain": [
       "     [,1] [,2] [,3] [,4]\n",
       "[1,] 5     9   13   17  \n",
       "[2,] 6    10   14   18  \n",
       "[3,] 7    11   15   19  "
      ]
     },
     "metadata": {},
     "output_type": "display_data"
    }
   ],
   "source": [
    "some_data[1:3,2:5]"
   ]
  },
  {
   "cell_type": "code",
   "execution_count": 63,
   "id": "92a6157a",
   "metadata": {},
   "outputs": [
    {
     "data": {
      "text/html": [
       "<style>\n",
       ".list-inline {list-style: none; margin:0; padding: 0}\n",
       ".list-inline>li {display: inline-block}\n",
       ".list-inline>li:not(:last-child)::after {content: \"\\00b7\"; padding: 0 .5ex}\n",
       "</style>\n",
       "<ol class=list-inline><li>21</li><li>22</li><li>23</li><li>24</li></ol>\n"
      ],
      "text/latex": [
       "\\begin{enumerate*}\n",
       "\\item 21\n",
       "\\item 22\n",
       "\\item 23\n",
       "\\item 24\n",
       "\\end{enumerate*}\n"
      ],
      "text/markdown": [
       "1. 21\n",
       "2. 22\n",
       "3. 23\n",
       "4. 24\n",
       "\n",
       "\n"
      ],
      "text/plain": [
       "[1] 21 22 23 24"
      ]
     },
     "metadata": {},
     "output_type": "display_data"
    }
   ],
   "source": [
    "some_data[,6]"
   ]
  },
  {
   "cell_type": "code",
   "execution_count": 64,
   "id": "e0219821",
   "metadata": {},
   "outputs": [
    {
     "data": {
      "text/html": [
       "<style>\n",
       ".list-inline {list-style: none; margin:0; padding: 0}\n",
       ".list-inline>li {display: inline-block}\n",
       ".list-inline>li:not(:last-child)::after {content: \"\\00b7\"; padding: 0 .5ex}\n",
       "</style>\n",
       "<ol class=list-inline><li>3</li><li>7</li><li>11</li><li>15</li><li>19</li><li>23</li><li>27</li><li>31</li></ol>\n"
      ],
      "text/latex": [
       "\\begin{enumerate*}\n",
       "\\item 3\n",
       "\\item 7\n",
       "\\item 11\n",
       "\\item 15\n",
       "\\item 19\n",
       "\\item 23\n",
       "\\item 27\n",
       "\\item 31\n",
       "\\end{enumerate*}\n"
      ],
      "text/markdown": [
       "1. 3\n",
       "2. 7\n",
       "3. 11\n",
       "4. 15\n",
       "5. 19\n",
       "6. 23\n",
       "7. 27\n",
       "8. 31\n",
       "\n",
       "\n"
      ],
      "text/plain": [
       "[1]  3  7 11 15 19 23 27 31"
      ]
     },
     "metadata": {},
     "output_type": "display_data"
    }
   ],
   "source": [
    "some_data[3,]"
   ]
  },
  {
   "cell_type": "markdown",
   "id": "8a50c421",
   "metadata": {},
   "source": [
    "### But arrays are really just folded vectors\n",
    "\n",
    "You can see in the example above how R wrapped the sequence `1:32` column-wise to create what looks like a table. If you use the array with a one-dimensional index, you’ll get a one-dimensional result, following the same pattern."
   ]
  },
  {
   "cell_type": "code",
   "execution_count": 65,
   "id": "5469a0d5",
   "metadata": {},
   "outputs": [
    {
     "data": {
      "text/html": [
       "<style>\n",
       ".list-inline {list-style: none; margin:0; padding: 0}\n",
       ".list-inline>li {display: inline-block}\n",
       ".list-inline>li:not(:last-child)::after {content: \"\\00b7\"; padding: 0 .5ex}\n",
       "</style>\n",
       "<ol class=list-inline><li>2</li><li>4</li><li>6</li><li>8</li><li>10</li><li>12</li><li>14</li><li>16</li><li>18</li><li>20</li><li>22</li><li>24</li><li>26</li><li>28</li><li>30</li><li>32</li></ol>\n"
      ],
      "text/latex": [
       "\\begin{enumerate*}\n",
       "\\item 2\n",
       "\\item 4\n",
       "\\item 6\n",
       "\\item 8\n",
       "\\item 10\n",
       "\\item 12\n",
       "\\item 14\n",
       "\\item 16\n",
       "\\item 18\n",
       "\\item 20\n",
       "\\item 22\n",
       "\\item 24\n",
       "\\item 26\n",
       "\\item 28\n",
       "\\item 30\n",
       "\\item 32\n",
       "\\end{enumerate*}\n"
      ],
      "text/markdown": [
       "1. 2\n",
       "2. 4\n",
       "3. 6\n",
       "4. 8\n",
       "5. 10\n",
       "6. 12\n",
       "7. 14\n",
       "8. 16\n",
       "9. 18\n",
       "10. 20\n",
       "11. 22\n",
       "12. 24\n",
       "13. 26\n",
       "14. 28\n",
       "15. 30\n",
       "16. 32\n",
       "\n",
       "\n"
      ],
      "text/plain": [
       " [1]  2  4  6  8 10 12 14 16 18 20 22 24 26 28 30 32"
      ]
     },
     "metadata": {},
     "output_type": "display_data"
    }
   ],
   "source": [
    "some_data[some_data %% 2 == 0]"
   ]
  },
  {
   "cell_type": "markdown",
   "id": "3a05eadc",
   "metadata": {},
   "source": [
    "## Lists\n",
    "\n",
    "One limitation of atomic vectors is that all the elements have to have the same data type. Sometimes you have a collection of different kinds of values that you want to keep together: metadata about a text, for example, including the author's name, the year of publication, etc. \n",
    "\n",
    "A **list** is an ordered sequence of items, like a vector, but can contain heterogeneous data types."
   ]
  },
  {
   "cell_type": "code",
   "execution_count": 66,
   "id": "01a894eb",
   "metadata": {},
   "outputs": [],
   "source": [
    "rec <- list(author='vergil', title='aeneid', year=-19, books=12, verse=TRUE)"
   ]
  },
  {
   "cell_type": "code",
   "execution_count": 67,
   "id": "66f35c64",
   "metadata": {},
   "outputs": [
    {
     "data": {
      "text/html": [
       "<dl>\n",
       "\t<dt>$author</dt>\n",
       "\t\t<dd>'vergil'</dd>\n",
       "\t<dt>$title</dt>\n",
       "\t\t<dd>'aeneid'</dd>\n",
       "\t<dt>$year</dt>\n",
       "\t\t<dd>-19</dd>\n",
       "\t<dt>$books</dt>\n",
       "\t\t<dd>12</dd>\n",
       "\t<dt>$verse</dt>\n",
       "\t\t<dd>TRUE</dd>\n",
       "</dl>\n"
      ],
      "text/latex": [
       "\\begin{description}\n",
       "\\item[\\$author] 'vergil'\n",
       "\\item[\\$title] 'aeneid'\n",
       "\\item[\\$year] -19\n",
       "\\item[\\$books] 12\n",
       "\\item[\\$verse] TRUE\n",
       "\\end{description}\n"
      ],
      "text/markdown": [
       "$author\n",
       ":   'vergil'\n",
       "$title\n",
       ":   'aeneid'\n",
       "$year\n",
       ":   -19\n",
       "$books\n",
       ":   12\n",
       "$verse\n",
       ":   TRUE\n",
       "\n",
       "\n"
      ],
      "text/plain": [
       "$author\n",
       "[1] \"vergil\"\n",
       "\n",
       "$title\n",
       "[1] \"aeneid\"\n",
       "\n",
       "$year\n",
       "[1] -19\n",
       "\n",
       "$books\n",
       "[1] 12\n",
       "\n",
       "$verse\n",
       "[1] TRUE\n"
      ]
     },
     "metadata": {},
     "output_type": "display_data"
    }
   ],
   "source": [
    "rec"
   ]
  },
  {
   "cell_type": "markdown",
   "id": "6811ea3b",
   "metadata": {},
   "source": [
    "### Indexing lists\n",
    "\n",
    "You can index lists with vectors of integers, booleans, or characters, as you do with atomic vectors."
   ]
  },
  {
   "cell_type": "code",
   "execution_count": 68,
   "id": "84013f41",
   "metadata": {},
   "outputs": [
    {
     "data": {
      "text/html": [
       "<strong>$author</strong> = 'vergil'"
      ],
      "text/latex": [
       "\\textbf{\\$author} = 'vergil'"
      ],
      "text/markdown": [
       "**$author** = 'vergil'"
      ],
      "text/plain": [
       "$author\n",
       "[1] \"vergil\"\n"
      ]
     },
     "metadata": {},
     "output_type": "display_data"
    }
   ],
   "source": [
    "rec[1]"
   ]
  },
  {
   "cell_type": "code",
   "execution_count": 69,
   "id": "9135ad5d",
   "metadata": {},
   "outputs": [
    {
     "data": {
      "text/html": [
       "<dl>\n",
       "\t<dt>$author</dt>\n",
       "\t\t<dd>'vergil'</dd>\n",
       "\t<dt>$title</dt>\n",
       "\t\t<dd>'aeneid'</dd>\n",
       "</dl>\n"
      ],
      "text/latex": [
       "\\begin{description}\n",
       "\\item[\\$author] 'vergil'\n",
       "\\item[\\$title] 'aeneid'\n",
       "\\end{description}\n"
      ],
      "text/markdown": [
       "$author\n",
       ":   'vergil'\n",
       "$title\n",
       ":   'aeneid'\n",
       "\n",
       "\n"
      ],
      "text/plain": [
       "$author\n",
       "[1] \"vergil\"\n",
       "\n",
       "$title\n",
       "[1] \"aeneid\"\n"
      ]
     },
     "metadata": {},
     "output_type": "display_data"
    }
   ],
   "source": [
    "rec[c('author', 'title')]"
   ]
  },
  {
   "cell_type": "markdown",
   "id": "5b722b91",
   "metadata": {},
   "source": [
    "Note, however, that the objects returned here are themselves lists. That is, even `rec['author']` is going to give you a *list of length 1*, not an atomic character vector. This can be confusing.\n",
    "\n",
    "\n",
    "To get the values *inside* each position in the list, you can use `[[` or `$`:"
   ]
  },
  {
   "cell_type": "code",
   "execution_count": 70,
   "id": "a8610547",
   "metadata": {},
   "outputs": [
    {
     "data": {
      "text/html": [
       "<strong>$author</strong> = 'vergil'"
      ],
      "text/latex": [
       "\\textbf{\\$author} = 'vergil'"
      ],
      "text/markdown": [
       "**$author** = 'vergil'"
      ],
      "text/plain": [
       "$author\n",
       "[1] \"vergil\"\n"
      ]
     },
     "metadata": {},
     "output_type": "display_data"
    }
   ],
   "source": [
    "rec['author']"
   ]
  },
  {
   "cell_type": "code",
   "execution_count": 71,
   "id": "cd5aeb99",
   "metadata": {},
   "outputs": [
    {
     "data": {
      "text/html": [
       "'list'"
      ],
      "text/latex": [
       "'list'"
      ],
      "text/markdown": [
       "'list'"
      ],
      "text/plain": [
       "[1] \"list\""
      ]
     },
     "metadata": {},
     "output_type": "display_data"
    }
   ],
   "source": [
    "mode(rec['author'])"
   ]
  },
  {
   "cell_type": "code",
   "execution_count": 72,
   "id": "1a7a7f47",
   "metadata": {},
   "outputs": [
    {
     "data": {
      "text/html": [
       "'vergil'"
      ],
      "text/latex": [
       "'vergil'"
      ],
      "text/markdown": [
       "'vergil'"
      ],
      "text/plain": [
       "[1] \"vergil\""
      ]
     },
     "metadata": {},
     "output_type": "display_data"
    }
   ],
   "source": [
    "rec[['author']]"
   ]
  },
  {
   "cell_type": "code",
   "execution_count": 73,
   "id": "d1d8c1d2",
   "metadata": {},
   "outputs": [
    {
     "data": {
      "text/html": [
       "'character'"
      ],
      "text/latex": [
       "'character'"
      ],
      "text/markdown": [
       "'character'"
      ],
      "text/plain": [
       "[1] \"character\""
      ]
     },
     "metadata": {},
     "output_type": "display_data"
    }
   ],
   "source": [
    "mode(rec[['author']])"
   ]
  },
  {
   "cell_type": "code",
   "execution_count": 74,
   "id": "12b54486",
   "metadata": {},
   "outputs": [
    {
     "data": {
      "text/html": [
       "'vergil'"
      ],
      "text/latex": [
       "'vergil'"
      ],
      "text/markdown": [
       "'vergil'"
      ],
      "text/plain": [
       "[1] \"vergil\""
      ]
     },
     "metadata": {},
     "output_type": "display_data"
    }
   ],
   "source": [
    "rec$author"
   ]
  },
  {
   "cell_type": "markdown",
   "id": "bc4ca4fb",
   "metadata": {},
   "source": [
    "### Interlude: some annoyances"
   ]
  },
  {
   "cell_type": "markdown",
   "id": "d593739c",
   "metadata": {},
   "source": [
    "Remember, a string of characters is a vector with one element. (⚠️ Pythonistas take note.)"
   ]
  },
  {
   "cell_type": "code",
   "execution_count": 75,
   "id": "c3220a19",
   "metadata": {},
   "outputs": [
    {
     "data": {
      "text/html": [
       "1"
      ],
      "text/latex": [
       "1"
      ],
      "text/markdown": [
       "1"
      ],
      "text/plain": [
       "[1] 1"
      ]
     },
     "metadata": {},
     "output_type": "display_data"
    }
   ],
   "source": [
    "incipit <- 'arma uirumque cano troiae qui primus ab oris'\n",
    "length(incipit)"
   ]
  },
  {
   "cell_type": "markdown",
   "id": "f54ac4f1",
   "metadata": {},
   "source": [
    "To find out how long the string is, use `nchar()`"
   ]
  },
  {
   "cell_type": "code",
   "execution_count": 76,
   "id": "0a3856fe",
   "metadata": {},
   "outputs": [
    {
     "data": {
      "text/html": [
       "44"
      ],
      "text/latex": [
       "44"
      ],
      "text/markdown": [
       "44"
      ],
      "text/plain": [
       "[1] 44"
      ]
     },
     "metadata": {},
     "output_type": "display_data"
    }
   ],
   "source": [
    "nchar(incipit)"
   ]
  },
  {
   "cell_type": "markdown",
   "id": "69742385",
   "metadata": {},
   "source": [
    "Even less intuitive is this result:"
   ]
  },
  {
   "cell_type": "code",
   "execution_count": 77,
   "id": "9c592d6e",
   "metadata": {},
   "outputs": [
    {
     "data": {
      "text/html": [
       "<ol>\n",
       "\t<li><style>\n",
       ".list-inline {list-style: none; margin:0; padding: 0}\n",
       ".list-inline>li {display: inline-block}\n",
       ".list-inline>li:not(:last-child)::after {content: \"\\00b7\"; padding: 0 .5ex}\n",
       "</style>\n",
       "<ol class=list-inline><li>'arma'</li><li>'uirumque'</li><li>'cano'</li><li>'troiae'</li><li>'qui'</li><li>'primus'</li><li>'ab'</li><li>'oris'</li></ol>\n",
       "</li>\n",
       "</ol>\n"
      ],
      "text/latex": [
       "\\begin{enumerate}\n",
       "\\item \\begin{enumerate*}\n",
       "\\item 'arma'\n",
       "\\item 'uirumque'\n",
       "\\item 'cano'\n",
       "\\item 'troiae'\n",
       "\\item 'qui'\n",
       "\\item 'primus'\n",
       "\\item 'ab'\n",
       "\\item 'oris'\n",
       "\\end{enumerate*}\n",
       "\n",
       "\\end{enumerate}\n"
      ],
      "text/markdown": [
       "1. 1. 'arma'\n",
       "2. 'uirumque'\n",
       "3. 'cano'\n",
       "4. 'troiae'\n",
       "5. 'qui'\n",
       "6. 'primus'\n",
       "7. 'ab'\n",
       "8. 'oris'\n",
       "\n",
       "\n",
       "\n",
       "\n",
       "\n"
      ],
      "text/plain": [
       "[[1]]\n",
       "[1] \"arma\"     \"uirumque\" \"cano\"     \"troiae\"   \"qui\"      \"primus\"   \"ab\"      \n",
       "[8] \"oris\"    \n"
      ]
     },
     "metadata": {},
     "output_type": "display_data"
    }
   ],
   "source": [
    "words <- strsplit(incipit, ' ')\n",
    "words"
   ]
  },
  {
   "cell_type": "code",
   "execution_count": 78,
   "id": "4e85fd29",
   "metadata": {},
   "outputs": [
    {
     "data": {
      "text/html": [
       "1"
      ],
      "text/latex": [
       "1"
      ],
      "text/markdown": [
       "1"
      ],
      "text/plain": [
       "[1] 1"
      ]
     },
     "metadata": {},
     "output_type": "display_data"
    }
   ],
   "source": [
    "length(words)"
   ]
  },
  {
   "cell_type": "markdown",
   "id": "c0c12547",
   "metadata": {},
   "source": [
    "**🤔 What?!?**"
   ]
  },
  {
   "cell_type": "code",
   "execution_count": 79,
   "id": "3f62d9ee",
   "metadata": {},
   "outputs": [
    {
     "name": "stdout",
     "output_type": "stream",
     "text": [
      "List of 1\n",
      " $ : chr [1:8] \"arma\" \"uirumque\" \"cano\" \"troiae\" ...\n"
     ]
    }
   ],
   "source": [
    "str(words)"
   ]
  },
  {
   "cell_type": "markdown",
   "id": "6065032e",
   "metadata": {},
   "source": [
    "**Explanation**: `incipit` is a vector of length 1, containing character data. `strsplit()` operates on a vector and *returns a vector of the same length as its input*, each component of which contains the split-up substrings you asked for.\n",
    "\n",
    "That means, `strsplit()` is going to return a **list**. To get an atomic vector of words out of it, we'll need to use `[[` notation."
   ]
  },
  {
   "cell_type": "code",
   "execution_count": 80,
   "id": "3ae82c69",
   "metadata": {},
   "outputs": [
    {
     "data": {
      "text/html": [
       "8"
      ],
      "text/latex": [
       "8"
      ],
      "text/markdown": [
       "8"
      ],
      "text/plain": [
       "[1] 8"
      ]
     },
     "metadata": {},
     "output_type": "display_data"
    }
   ],
   "source": [
    "length(words[[1]])"
   ]
  },
  {
   "cell_type": "markdown",
   "id": "d919fa48",
   "metadata": {},
   "source": [
    "The situation becomes clearer if we split more than one string."
   ]
  },
  {
   "cell_type": "code",
   "execution_count": 81,
   "id": "1bd5f43b",
   "metadata": {},
   "outputs": [],
   "source": [
    "incipits = c(\n",
    "    odyssey = 'Ἄνδρα μοι ἔννεπε, Μοῦσα, πολύτροπον, ὅς μάλα πολλὰ',\n",
    "    aeneid = 'arma uirumque cano troiae qui primus ab oris',\n",
    "    ulysses = 'stately plump buck mulligan came from the stairhead'\n",
    ")"
   ]
  },
  {
   "cell_type": "code",
   "execution_count": 82,
   "id": "469b11e3",
   "metadata": {},
   "outputs": [],
   "source": [
    "words <- strsplit(incipits, ' ')"
   ]
  },
  {
   "cell_type": "code",
   "execution_count": 83,
   "id": "aa170d3d",
   "metadata": {},
   "outputs": [
    {
     "name": "stdout",
     "output_type": "stream",
     "text": [
      "List of 3\n",
      " $ odyssey: chr [1:8] \"Ἄνδρα\" \"μοι\" \"ἔννεπε,\" \"Μοῦσα,\" ...\n",
      " $ aeneid : chr [1:8] \"arma\" \"uirumque\" \"cano\" \"troiae\" ...\n",
      " $ ulysses: chr [1:8] \"stately\" \"plump\" \"buck\" \"mulligan\" ...\n"
     ]
    }
   ],
   "source": [
    "str(words)"
   ]
  },
  {
   "cell_type": "code",
   "execution_count": 84,
   "id": "3ef8ece1",
   "metadata": {},
   "outputs": [
    {
     "data": {
      "text/html": [
       "<style>\n",
       ".list-inline {list-style: none; margin:0; padding: 0}\n",
       ".list-inline>li {display: inline-block}\n",
       ".list-inline>li:not(:last-child)::after {content: \"\\00b7\"; padding: 0 .5ex}\n",
       "</style>\n",
       "<ol class=list-inline><li>'arma'</li><li>'uirumque'</li><li>'cano'</li><li>'troiae'</li><li>'qui'</li><li>'primus'</li><li>'ab'</li><li>'oris'</li></ol>\n"
      ],
      "text/latex": [
       "\\begin{enumerate*}\n",
       "\\item 'arma'\n",
       "\\item 'uirumque'\n",
       "\\item 'cano'\n",
       "\\item 'troiae'\n",
       "\\item 'qui'\n",
       "\\item 'primus'\n",
       "\\item 'ab'\n",
       "\\item 'oris'\n",
       "\\end{enumerate*}\n"
      ],
      "text/markdown": [
       "1. 'arma'\n",
       "2. 'uirumque'\n",
       "3. 'cano'\n",
       "4. 'troiae'\n",
       "5. 'qui'\n",
       "6. 'primus'\n",
       "7. 'ab'\n",
       "8. 'oris'\n",
       "\n",
       "\n"
      ],
      "text/plain": [
       "[1] \"arma\"     \"uirumque\" \"cano\"     \"troiae\"   \"qui\"      \"primus\"   \"ab\"      \n",
       "[8] \"oris\"    "
      ]
     },
     "metadata": {},
     "output_type": "display_data"
    }
   ],
   "source": [
    "words[[2]]"
   ]
  },
  {
   "cell_type": "markdown",
   "id": "c984f3ff",
   "metadata": {},
   "source": [
    "## Data Frames\n",
    "\n",
    "One of the most common data structures I use is something like a spreadsheet. For example:\n",
    "\n",
    "| title | author | language | books |\n",
    "| --- | --- | --- | --- |\n",
    "| Iliad | Homer | grc | 24 |\n",
    "| Odyssey | Homer | grc | 24 |\n",
    "| Argonautica | Apollonius | grc | 4 |\n",
    "| Aeneid | Vergil | lat | 12 |\n",
    "| Metamorphoses | Ovid | lat | 15 |\n",
    "\n",
    "Each row is a record and the columns store various fields or variables. Columns might have different data types, but within a column all the data is consistent. Usually the columns have names.\n",
    "\n",
    "There are a number of competing options for storing this sort of data in R but the most basic one is a **data frame**. A data frame list a list of vectors—one for each column—where all the vectors have the same length."
   ]
  },
  {
   "cell_type": "code",
   "execution_count": 85,
   "id": "7bb8a59a",
   "metadata": {},
   "outputs": [],
   "source": [
    "epics = data.frame(\n",
    "    title = c('Iliad', 'Odyssey', 'Argonautica', 'Aeneid', 'Metamorphoses'),\n",
    "    author = c('Homer', 'Homer', 'Apollonius', 'Vergil', 'Ovid'),\n",
    "    language = factor(c('grc', 'grc', 'grc', 'lat', 'lat')),\n",
    "    books = c(24, 24, 4, 12, 15)\n",
    ")"
   ]
  },
  {
   "cell_type": "code",
   "execution_count": 86,
   "id": "94538a56",
   "metadata": {},
   "outputs": [
    {
     "data": {
      "text/html": [
       "<table class=\"dataframe\">\n",
       "<caption>A data.frame: 5 × 4</caption>\n",
       "<thead>\n",
       "\t<tr><th scope=col>title</th><th scope=col>author</th><th scope=col>language</th><th scope=col>books</th></tr>\n",
       "\t<tr><th scope=col>&lt;chr&gt;</th><th scope=col>&lt;chr&gt;</th><th scope=col>&lt;fct&gt;</th><th scope=col>&lt;dbl&gt;</th></tr>\n",
       "</thead>\n",
       "<tbody>\n",
       "\t<tr><td>Iliad        </td><td>Homer     </td><td>grc</td><td>24</td></tr>\n",
       "\t<tr><td>Odyssey      </td><td>Homer     </td><td>grc</td><td>24</td></tr>\n",
       "\t<tr><td>Argonautica  </td><td>Apollonius</td><td>grc</td><td> 4</td></tr>\n",
       "\t<tr><td>Aeneid       </td><td>Vergil    </td><td>lat</td><td>12</td></tr>\n",
       "\t<tr><td>Metamorphoses</td><td>Ovid      </td><td>lat</td><td>15</td></tr>\n",
       "</tbody>\n",
       "</table>\n"
      ],
      "text/latex": [
       "A data.frame: 5 × 4\n",
       "\\begin{tabular}{llll}\n",
       " title & author & language & books\\\\\n",
       " <chr> & <chr> & <fct> & <dbl>\\\\\n",
       "\\hline\n",
       "\t Iliad         & Homer      & grc & 24\\\\\n",
       "\t Odyssey       & Homer      & grc & 24\\\\\n",
       "\t Argonautica   & Apollonius & grc &  4\\\\\n",
       "\t Aeneid        & Vergil     & lat & 12\\\\\n",
       "\t Metamorphoses & Ovid       & lat & 15\\\\\n",
       "\\end{tabular}\n"
      ],
      "text/markdown": [
       "\n",
       "A data.frame: 5 × 4\n",
       "\n",
       "| title &lt;chr&gt; | author &lt;chr&gt; | language &lt;fct&gt; | books &lt;dbl&gt; |\n",
       "|---|---|---|---|\n",
       "| Iliad         | Homer      | grc | 24 |\n",
       "| Odyssey       | Homer      | grc | 24 |\n",
       "| Argonautica   | Apollonius | grc |  4 |\n",
       "| Aeneid        | Vergil     | lat | 12 |\n",
       "| Metamorphoses | Ovid       | lat | 15 |\n",
       "\n"
      ],
      "text/plain": [
       "  title         author     language books\n",
       "1 Iliad         Homer      grc      24   \n",
       "2 Odyssey       Homer      grc      24   \n",
       "3 Argonautica   Apollonius grc       4   \n",
       "4 Aeneid        Vergil     lat      12   \n",
       "5 Metamorphoses Ovid       lat      15   "
      ]
     },
     "metadata": {},
     "output_type": "display_data"
    }
   ],
   "source": [
    "epics"
   ]
  },
  {
   "cell_type": "markdown",
   "id": "54c411a6",
   "metadata": {},
   "source": [
    "Each column has a name and a data type. (We can give the rows names, too.)"
   ]
  },
  {
   "cell_type": "code",
   "execution_count": 87,
   "id": "e4c5ebf4",
   "metadata": {},
   "outputs": [
    {
     "data": {
      "text/html": [
       "<style>\n",
       ".list-inline {list-style: none; margin:0; padding: 0}\n",
       ".list-inline>li {display: inline-block}\n",
       ".list-inline>li:not(:last-child)::after {content: \"\\00b7\"; padding: 0 .5ex}\n",
       "</style>\n",
       "<ol class=list-inline><li>'title'</li><li>'author'</li><li>'language'</li><li>'books'</li></ol>\n"
      ],
      "text/latex": [
       "\\begin{enumerate*}\n",
       "\\item 'title'\n",
       "\\item 'author'\n",
       "\\item 'language'\n",
       "\\item 'books'\n",
       "\\end{enumerate*}\n"
      ],
      "text/markdown": [
       "1. 'title'\n",
       "2. 'author'\n",
       "3. 'language'\n",
       "4. 'books'\n",
       "\n",
       "\n"
      ],
      "text/plain": [
       "[1] \"title\"    \"author\"   \"language\" \"books\"   "
      ]
     },
     "metadata": {},
     "output_type": "display_data"
    }
   ],
   "source": [
    "colnames(epics)"
   ]
  },
  {
   "cell_type": "code",
   "execution_count": 88,
   "id": "70e9839f",
   "metadata": {},
   "outputs": [
    {
     "data": {
      "text/html": [
       "<style>\n",
       ".list-inline {list-style: none; margin:0; padding: 0}\n",
       ".list-inline>li {display: inline-block}\n",
       ".list-inline>li:not(:last-child)::after {content: \"\\00b7\"; padding: 0 .5ex}\n",
       "</style>\n",
       "<ol class=list-inline><li>'Iliad'</li><li>'Odyssey'</li><li>'Argonautica'</li><li>'Aeneid'</li><li>'Metamorphoses'</li></ol>\n"
      ],
      "text/latex": [
       "\\begin{enumerate*}\n",
       "\\item 'Iliad'\n",
       "\\item 'Odyssey'\n",
       "\\item 'Argonautica'\n",
       "\\item 'Aeneid'\n",
       "\\item 'Metamorphoses'\n",
       "\\end{enumerate*}\n"
      ],
      "text/markdown": [
       "1. 'Iliad'\n",
       "2. 'Odyssey'\n",
       "3. 'Argonautica'\n",
       "4. 'Aeneid'\n",
       "5. 'Metamorphoses'\n",
       "\n",
       "\n"
      ],
      "text/plain": [
       "[1] \"Iliad\"         \"Odyssey\"       \"Argonautica\"   \"Aeneid\"       \n",
       "[5] \"Metamorphoses\""
      ]
     },
     "metadata": {},
     "output_type": "display_data"
    }
   ],
   "source": [
    "epics$title"
   ]
  },
  {
   "cell_type": "code",
   "execution_count": 89,
   "id": "4539e0af",
   "metadata": {},
   "outputs": [
    {
     "data": {
      "text/html": [
       "'character'"
      ],
      "text/latex": [
       "'character'"
      ],
      "text/markdown": [
       "'character'"
      ],
      "text/plain": [
       "[1] \"character\""
      ]
     },
     "metadata": {},
     "output_type": "display_data"
    }
   ],
   "source": [
    "mode(epics$title)"
   ]
  },
  {
   "cell_type": "code",
   "execution_count": 90,
   "id": "b6e705f4",
   "metadata": {},
   "outputs": [
    {
     "data": {
      "text/html": [
       "'numeric'"
      ],
      "text/latex": [
       "'numeric'"
      ],
      "text/markdown": [
       "'numeric'"
      ],
      "text/plain": [
       "[1] \"numeric\""
      ]
     },
     "metadata": {},
     "output_type": "display_data"
    }
   ],
   "source": [
    "mode(epics$books)"
   ]
  },
  {
   "cell_type": "markdown",
   "id": "c9adc4c1",
   "metadata": {},
   "source": [
    "### Indexing data frames\n",
    "\n",
    "Indexing data frames works a lot like indexing lists. Using `$` or `[[` we can specify a column to retrieve the data as an atomic vector. Using `[` will get us another data frame."
   ]
  },
  {
   "cell_type": "code",
   "execution_count": 91,
   "id": "12e4a1d8",
   "metadata": {},
   "outputs": [
    {
     "data": {
      "text/html": [
       "<table class=\"dataframe\">\n",
       "<caption>A data.frame: 5 × 2</caption>\n",
       "<thead>\n",
       "\t<tr><th scope=col>author</th><th scope=col>title</th></tr>\n",
       "\t<tr><th scope=col>&lt;chr&gt;</th><th scope=col>&lt;chr&gt;</th></tr>\n",
       "</thead>\n",
       "<tbody>\n",
       "\t<tr><td>Homer     </td><td>Iliad        </td></tr>\n",
       "\t<tr><td>Homer     </td><td>Odyssey      </td></tr>\n",
       "\t<tr><td>Apollonius</td><td>Argonautica  </td></tr>\n",
       "\t<tr><td>Vergil    </td><td>Aeneid       </td></tr>\n",
       "\t<tr><td>Ovid      </td><td>Metamorphoses</td></tr>\n",
       "</tbody>\n",
       "</table>\n"
      ],
      "text/latex": [
       "A data.frame: 5 × 2\n",
       "\\begin{tabular}{ll}\n",
       " author & title\\\\\n",
       " <chr> & <chr>\\\\\n",
       "\\hline\n",
       "\t Homer      & Iliad        \\\\\n",
       "\t Homer      & Odyssey      \\\\\n",
       "\t Apollonius & Argonautica  \\\\\n",
       "\t Vergil     & Aeneid       \\\\\n",
       "\t Ovid       & Metamorphoses\\\\\n",
       "\\end{tabular}\n"
      ],
      "text/markdown": [
       "\n",
       "A data.frame: 5 × 2\n",
       "\n",
       "| author &lt;chr&gt; | title &lt;chr&gt; |\n",
       "|---|---|\n",
       "| Homer      | Iliad         |\n",
       "| Homer      | Odyssey       |\n",
       "| Apollonius | Argonautica   |\n",
       "| Vergil     | Aeneid        |\n",
       "| Ovid       | Metamorphoses |\n",
       "\n"
      ],
      "text/plain": [
       "  author     title        \n",
       "1 Homer      Iliad        \n",
       "2 Homer      Odyssey      \n",
       "3 Apollonius Argonautica  \n",
       "4 Vergil     Aeneid       \n",
       "5 Ovid       Metamorphoses"
      ]
     },
     "metadata": {},
     "output_type": "display_data"
    }
   ],
   "source": [
    "epics[c('author', 'title')]"
   ]
  },
  {
   "cell_type": "markdown",
   "id": "b472e921",
   "metadata": {},
   "source": [
    "As with an array, we can provide two dimensional indices to subset arbirary rows & columns."
   ]
  },
  {
   "cell_type": "code",
   "execution_count": 92,
   "id": "2f61c215",
   "metadata": {},
   "outputs": [
    {
     "data": {
      "text/html": [
       "<table class=\"dataframe\">\n",
       "<caption>A data.frame: 1 × 4</caption>\n",
       "<thead>\n",
       "\t<tr><th></th><th scope=col>title</th><th scope=col>author</th><th scope=col>language</th><th scope=col>books</th></tr>\n",
       "\t<tr><th></th><th scope=col>&lt;chr&gt;</th><th scope=col>&lt;chr&gt;</th><th scope=col>&lt;fct&gt;</th><th scope=col>&lt;dbl&gt;</th></tr>\n",
       "</thead>\n",
       "<tbody>\n",
       "\t<tr><th scope=row>2</th><td>Odyssey</td><td>Homer</td><td>grc</td><td>24</td></tr>\n",
       "</tbody>\n",
       "</table>\n"
      ],
      "text/latex": [
       "A data.frame: 1 × 4\n",
       "\\begin{tabular}{r|llll}\n",
       "  & title & author & language & books\\\\\n",
       "  & <chr> & <chr> & <fct> & <dbl>\\\\\n",
       "\\hline\n",
       "\t2 & Odyssey & Homer & grc & 24\\\\\n",
       "\\end{tabular}\n"
      ],
      "text/markdown": [
       "\n",
       "A data.frame: 1 × 4\n",
       "\n",
       "| <!--/--> | title &lt;chr&gt; | author &lt;chr&gt; | language &lt;fct&gt; | books &lt;dbl&gt; |\n",
       "|---|---|---|---|---|\n",
       "| 2 | Odyssey | Homer | grc | 24 |\n",
       "\n"
      ],
      "text/plain": [
       "  title   author language books\n",
       "2 Odyssey Homer  grc      24   "
      ]
     },
     "metadata": {},
     "output_type": "display_data"
    }
   ],
   "source": [
    "epics[2,]"
   ]
  },
  {
   "cell_type": "code",
   "execution_count": 93,
   "id": "f6fb854b",
   "metadata": {},
   "outputs": [
    {
     "data": {
      "text/html": [
       "<table class=\"dataframe\">\n",
       "<caption>A data.frame: 2 × 2</caption>\n",
       "<thead>\n",
       "\t<tr><th></th><th scope=col>author</th><th scope=col>title</th></tr>\n",
       "\t<tr><th></th><th scope=col>&lt;chr&gt;</th><th scope=col>&lt;chr&gt;</th></tr>\n",
       "</thead>\n",
       "<tbody>\n",
       "\t<tr><th scope=row>3</th><td>Apollonius</td><td>Argonautica</td></tr>\n",
       "\t<tr><th scope=row>4</th><td>Vergil    </td><td>Aeneid     </td></tr>\n",
       "</tbody>\n",
       "</table>\n"
      ],
      "text/latex": [
       "A data.frame: 2 × 2\n",
       "\\begin{tabular}{r|ll}\n",
       "  & author & title\\\\\n",
       "  & <chr> & <chr>\\\\\n",
       "\\hline\n",
       "\t3 & Apollonius & Argonautica\\\\\n",
       "\t4 & Vergil     & Aeneid     \\\\\n",
       "\\end{tabular}\n"
      ],
      "text/markdown": [
       "\n",
       "A data.frame: 2 × 2\n",
       "\n",
       "| <!--/--> | author &lt;chr&gt; | title &lt;chr&gt; |\n",
       "|---|---|---|\n",
       "| 3 | Apollonius | Argonautica |\n",
       "| 4 | Vergil     | Aeneid      |\n",
       "\n"
      ],
      "text/plain": [
       "  author     title      \n",
       "3 Apollonius Argonautica\n",
       "4 Vergil     Aeneid     "
      ]
     },
     "metadata": {},
     "output_type": "display_data"
    }
   ],
   "source": [
    "epics[3:4, 2:1]"
   ]
  },
  {
   "cell_type": "markdown",
   "id": "82c99f9a",
   "metadata": {},
   "source": [
    "### Working with tabular data\n",
    "\n",
    "Particularly common is indexing a data frame according to a comparison performed on one or more columns."
   ]
  },
  {
   "cell_type": "code",
   "execution_count": 94,
   "id": "19b84a4b",
   "metadata": {},
   "outputs": [
    {
     "data": {
      "text/html": [
       "<table class=\"dataframe\">\n",
       "<caption>A data.frame: 2 × 4</caption>\n",
       "<thead>\n",
       "\t<tr><th></th><th scope=col>title</th><th scope=col>author</th><th scope=col>language</th><th scope=col>books</th></tr>\n",
       "\t<tr><th></th><th scope=col>&lt;chr&gt;</th><th scope=col>&lt;chr&gt;</th><th scope=col>&lt;fct&gt;</th><th scope=col>&lt;dbl&gt;</th></tr>\n",
       "</thead>\n",
       "<tbody>\n",
       "\t<tr><th scope=row>1</th><td>Iliad  </td><td>Homer</td><td>grc</td><td>24</td></tr>\n",
       "\t<tr><th scope=row>2</th><td>Odyssey</td><td>Homer</td><td>grc</td><td>24</td></tr>\n",
       "</tbody>\n",
       "</table>\n"
      ],
      "text/latex": [
       "A data.frame: 2 × 4\n",
       "\\begin{tabular}{r|llll}\n",
       "  & title & author & language & books\\\\\n",
       "  & <chr> & <chr> & <fct> & <dbl>\\\\\n",
       "\\hline\n",
       "\t1 & Iliad   & Homer & grc & 24\\\\\n",
       "\t2 & Odyssey & Homer & grc & 24\\\\\n",
       "\\end{tabular}\n"
      ],
      "text/markdown": [
       "\n",
       "A data.frame: 2 × 4\n",
       "\n",
       "| <!--/--> | title &lt;chr&gt; | author &lt;chr&gt; | language &lt;fct&gt; | books &lt;dbl&gt; |\n",
       "|---|---|---|---|---|\n",
       "| 1 | Iliad   | Homer | grc | 24 |\n",
       "| 2 | Odyssey | Homer | grc | 24 |\n",
       "\n"
      ],
      "text/plain": [
       "  title   author language books\n",
       "1 Iliad   Homer  grc      24   \n",
       "2 Odyssey Homer  grc      24   "
      ]
     },
     "metadata": {},
     "output_type": "display_data"
    }
   ],
   "source": [
    "epics[epics$author == 'Homer',]"
   ]
  },
  {
   "cell_type": "code",
   "execution_count": 95,
   "id": "92a57aad",
   "metadata": {},
   "outputs": [
    {
     "data": {
      "text/html": [
       "<table class=\"dataframe\">\n",
       "<caption>A data.frame: 3 × 4</caption>\n",
       "<thead>\n",
       "\t<tr><th></th><th scope=col>title</th><th scope=col>author</th><th scope=col>language</th><th scope=col>books</th></tr>\n",
       "\t<tr><th></th><th scope=col>&lt;chr&gt;</th><th scope=col>&lt;chr&gt;</th><th scope=col>&lt;fct&gt;</th><th scope=col>&lt;dbl&gt;</th></tr>\n",
       "</thead>\n",
       "<tbody>\n",
       "\t<tr><th scope=row>1</th><td>Iliad      </td><td>Homer     </td><td>grc</td><td>24</td></tr>\n",
       "\t<tr><th scope=row>2</th><td>Odyssey    </td><td>Homer     </td><td>grc</td><td>24</td></tr>\n",
       "\t<tr><th scope=row>3</th><td>Argonautica</td><td>Apollonius</td><td>grc</td><td> 4</td></tr>\n",
       "</tbody>\n",
       "</table>\n"
      ],
      "text/latex": [
       "A data.frame: 3 × 4\n",
       "\\begin{tabular}{r|llll}\n",
       "  & title & author & language & books\\\\\n",
       "  & <chr> & <chr> & <fct> & <dbl>\\\\\n",
       "\\hline\n",
       "\t1 & Iliad       & Homer      & grc & 24\\\\\n",
       "\t2 & Odyssey     & Homer      & grc & 24\\\\\n",
       "\t3 & Argonautica & Apollonius & grc &  4\\\\\n",
       "\\end{tabular}\n"
      ],
      "text/markdown": [
       "\n",
       "A data.frame: 3 × 4\n",
       "\n",
       "| <!--/--> | title &lt;chr&gt; | author &lt;chr&gt; | language &lt;fct&gt; | books &lt;dbl&gt; |\n",
       "|---|---|---|---|---|\n",
       "| 1 | Iliad       | Homer      | grc | 24 |\n",
       "| 2 | Odyssey     | Homer      | grc | 24 |\n",
       "| 3 | Argonautica | Apollonius | grc |  4 |\n",
       "\n"
      ],
      "text/plain": [
       "  title       author     language books\n",
       "1 Iliad       Homer      grc      24   \n",
       "2 Odyssey     Homer      grc      24   \n",
       "3 Argonautica Apollonius grc       4   "
      ]
     },
     "metadata": {},
     "output_type": "display_data"
    }
   ],
   "source": [
    "epics[epics$language == 'grc',]"
   ]
  },
  {
   "cell_type": "code",
   "execution_count": 96,
   "id": "ea196b71",
   "metadata": {},
   "outputs": [
    {
     "data": {
      "text/html": [
       "<table class=\"dataframe\">\n",
       "<caption>A data.frame: 3 × 4</caption>\n",
       "<thead>\n",
       "\t<tr><th></th><th scope=col>title</th><th scope=col>author</th><th scope=col>language</th><th scope=col>books</th></tr>\n",
       "\t<tr><th></th><th scope=col>&lt;chr&gt;</th><th scope=col>&lt;chr&gt;</th><th scope=col>&lt;fct&gt;</th><th scope=col>&lt;dbl&gt;</th></tr>\n",
       "</thead>\n",
       "<tbody>\n",
       "\t<tr><th scope=row>3</th><td>Argonautica  </td><td>Apollonius</td><td>grc</td><td> 4</td></tr>\n",
       "\t<tr><th scope=row>4</th><td>Aeneid       </td><td>Vergil    </td><td>lat</td><td>12</td></tr>\n",
       "\t<tr><th scope=row>5</th><td>Metamorphoses</td><td>Ovid      </td><td>lat</td><td>15</td></tr>\n",
       "</tbody>\n",
       "</table>\n"
      ],
      "text/latex": [
       "A data.frame: 3 × 4\n",
       "\\begin{tabular}{r|llll}\n",
       "  & title & author & language & books\\\\\n",
       "  & <chr> & <chr> & <fct> & <dbl>\\\\\n",
       "\\hline\n",
       "\t3 & Argonautica   & Apollonius & grc &  4\\\\\n",
       "\t4 & Aeneid        & Vergil     & lat & 12\\\\\n",
       "\t5 & Metamorphoses & Ovid       & lat & 15\\\\\n",
       "\\end{tabular}\n"
      ],
      "text/markdown": [
       "\n",
       "A data.frame: 3 × 4\n",
       "\n",
       "| <!--/--> | title &lt;chr&gt; | author &lt;chr&gt; | language &lt;fct&gt; | books &lt;dbl&gt; |\n",
       "|---|---|---|---|---|\n",
       "| 3 | Argonautica   | Apollonius | grc |  4 |\n",
       "| 4 | Aeneid        | Vergil     | lat | 12 |\n",
       "| 5 | Metamorphoses | Ovid       | lat | 15 |\n",
       "\n"
      ],
      "text/plain": [
       "  title         author     language books\n",
       "3 Argonautica   Apollonius grc       4   \n",
       "4 Aeneid        Vergil     lat      12   \n",
       "5 Metamorphoses Ovid       lat      15   "
      ]
     },
     "metadata": {},
     "output_type": "display_data"
    }
   ],
   "source": [
    "epics[epics$books < 20,]"
   ]
  },
  {
   "cell_type": "code",
   "execution_count": 97,
   "id": "ff1bb882",
   "metadata": {},
   "outputs": [
    {
     "data": {
      "text/html": [
       "<table class=\"dataframe\">\n",
       "<caption>A data.frame: 5 × 4</caption>\n",
       "<thead>\n",
       "\t<tr><th></th><th scope=col>title</th><th scope=col>author</th><th scope=col>language</th><th scope=col>books</th></tr>\n",
       "\t<tr><th></th><th scope=col>&lt;chr&gt;</th><th scope=col>&lt;chr&gt;</th><th scope=col>&lt;fct&gt;</th><th scope=col>&lt;dbl&gt;</th></tr>\n",
       "</thead>\n",
       "<tbody>\n",
       "\t<tr><th scope=row>3</th><td>Argonautica  </td><td>Apollonius</td><td>grc</td><td> 4</td></tr>\n",
       "\t<tr><th scope=row>4</th><td>Aeneid       </td><td>Vergil    </td><td>lat</td><td>12</td></tr>\n",
       "\t<tr><th scope=row>5</th><td>Metamorphoses</td><td>Ovid      </td><td>lat</td><td>15</td></tr>\n",
       "\t<tr><th scope=row>1</th><td>Iliad        </td><td>Homer     </td><td>grc</td><td>24</td></tr>\n",
       "\t<tr><th scope=row>2</th><td>Odyssey      </td><td>Homer     </td><td>grc</td><td>24</td></tr>\n",
       "</tbody>\n",
       "</table>\n"
      ],
      "text/latex": [
       "A data.frame: 5 × 4\n",
       "\\begin{tabular}{r|llll}\n",
       "  & title & author & language & books\\\\\n",
       "  & <chr> & <chr> & <fct> & <dbl>\\\\\n",
       "\\hline\n",
       "\t3 & Argonautica   & Apollonius & grc &  4\\\\\n",
       "\t4 & Aeneid        & Vergil     & lat & 12\\\\\n",
       "\t5 & Metamorphoses & Ovid       & lat & 15\\\\\n",
       "\t1 & Iliad         & Homer      & grc & 24\\\\\n",
       "\t2 & Odyssey       & Homer      & grc & 24\\\\\n",
       "\\end{tabular}\n"
      ],
      "text/markdown": [
       "\n",
       "A data.frame: 5 × 4\n",
       "\n",
       "| <!--/--> | title &lt;chr&gt; | author &lt;chr&gt; | language &lt;fct&gt; | books &lt;dbl&gt; |\n",
       "|---|---|---|---|---|\n",
       "| 3 | Argonautica   | Apollonius | grc |  4 |\n",
       "| 4 | Aeneid        | Vergil     | lat | 12 |\n",
       "| 5 | Metamorphoses | Ovid       | lat | 15 |\n",
       "| 1 | Iliad         | Homer      | grc | 24 |\n",
       "| 2 | Odyssey       | Homer      | grc | 24 |\n",
       "\n"
      ],
      "text/plain": [
       "  title         author     language books\n",
       "3 Argonautica   Apollonius grc       4   \n",
       "4 Aeneid        Vergil     lat      12   \n",
       "5 Metamorphoses Ovid       lat      15   \n",
       "1 Iliad         Homer      grc      24   \n",
       "2 Odyssey       Homer      grc      24   "
      ]
     },
     "metadata": {},
     "output_type": "display_data"
    }
   ],
   "source": [
    "epics[order(epics$books),]"
   ]
  },
  {
   "cell_type": "markdown",
   "id": "42954e64",
   "metadata": {},
   "source": [
    "This is where I actually spend much of my research time... organizing my data into tables and then playing with those tables to try to find patterns and relationships within the data. I often use R as a sandbox or a workshop, a place to explore by trial and error. I write scripts, but not very often from the \"top-down\": rather, as I find things that work at the console, I commit them to a growing script in the editor that preserves this history of my experimentation.\n",
    "\n",
    "R is designed for data science, so once you get your data into a tabular format, a lot of complicated tasks turn out to be simple to invoke. R \"just knows\" how to do things with your data. Sometimes that’s what you want... 😀"
   ]
  },
  {
   "cell_type": "code",
   "execution_count": 98,
   "id": "093bdadc",
   "metadata": {},
   "outputs": [
    {
     "data": {
      "text/plain": [
       "    title              author          language     books     \n",
       " Length:5           Length:5           grc:3    Min.   : 4.0  \n",
       " Class :character   Class :character   lat:2    1st Qu.:12.0  \n",
       " Mode  :character   Mode  :character            Median :15.0  \n",
       "                                                Mean   :15.8  \n",
       "                                                3rd Qu.:24.0  \n",
       "                                                Max.   :24.0  "
      ]
     },
     "metadata": {},
     "output_type": "display_data"
    }
   ],
   "source": [
    "summary(epics)"
   ]
  },
  {
   "cell_type": "code",
   "execution_count": 100,
   "id": "118a84e5",
   "metadata": {},
   "outputs": [
    {
     "data": {
      "image/png": "[encoded data removed]",
      "text/plain": [
       "plot without title"
      ]
     },
     "metadata": {
      "image/png": {
       "height": 420,
       "width": 420
      }
     },
     "output_type": "display_data"
    }
   ],
   "source": [
    "with(epics, barplot(books, col=language, names.arg=title))"
   ]
  },
  {
   "cell_type": "markdown",
   "id": "76ef02ed",
   "metadata": {},
   "source": [
    "## Importing and exporting data\n",
    "\n",
    "Most of the time our data isn’t created in R, but imported from somewhere else. Sometimes it’s imported in a relatively raw, unstructured format, and we have to spend a lot of time finessing it into tabular strucure(s). Sometimes it’s already structured, and we just have to let R know how to parse that structure.\n",
    "\n",
    "One of the most common forms of tabular data is delimited text, especially **comma-delimited** or **tab-delimited** values (CSV). R has built-in functions for importing this data, including some fine-tuning options to deal with varying idioms of CSV formatting.\n",
    "\n",
    "Let’s take a look at some tabular data on direct speech in Homer’s *Iliad*, courtesy of my colleague Berenice Verhelst at the University of Amsterdam. This table contains one row for every quotation in the *Iliad* and includes information such as the speaker, addressee, and line numbers where the speech begins and ends.\n"
   ]
  },
  {
   "cell_type": "code",
   "execution_count": 101,
   "id": "bf89c226",
   "metadata": {},
   "outputs": [],
   "source": [
    "filename <- 'https://raw.githubusercontent.com/cwf2/rostock_r/main/data/iliad_speeches.csv'\n",
    "speeches <- read.csv(filename)"
   ]
  },
  {
   "cell_type": "code",
   "execution_count": 102,
   "id": "1d6506e5",
   "metadata": {},
   "outputs": [
    {
     "data": {
      "text/html": [
       "<table class=\"dataframe\">\n",
       "<caption>A data.frame: 6 × 12</caption>\n",
       "<thead>\n",
       "\t<tr><th></th><th scope=col>work</th><th scope=col>book</th><th scope=col>from_line</th><th scope=col>to_line</th><th scope=col>speaker</th><th scope=col>addressee</th><th scope=col>cluster_id</th><th scope=col>cluster_part</th><th scope=col>simple_cluster_type</th><th scope=col>length</th><th scope=col>embedded_level</th><th scope=col>spkr_type</th></tr>\n",
       "\t<tr><th></th><th scope=col>&lt;chr&gt;</th><th scope=col>&lt;int&gt;</th><th scope=col>&lt;int&gt;</th><th scope=col>&lt;int&gt;</th><th scope=col>&lt;chr&gt;</th><th scope=col>&lt;chr&gt;</th><th scope=col>&lt;int&gt;</th><th scope=col>&lt;int&gt;</th><th scope=col>&lt;chr&gt;</th><th scope=col>&lt;int&gt;</th><th scope=col>&lt;int&gt;</th><th scope=col>&lt;chr&gt;</th></tr>\n",
       "</thead>\n",
       "<tbody>\n",
       "\t<tr><th scope=row>1</th><td>Iliad</td><td>1</td><td>17</td><td>21</td><td>Chryses  </td><td>Agamemnon and Greeks</td><td>1</td><td>1</td><td>general interlocution</td><td> 5</td><td>0</td><td>mortal</td></tr>\n",
       "\t<tr><th scope=row>2</th><td>Iliad</td><td>1</td><td>26</td><td>32</td><td>Agamemnon</td><td>Chryses             </td><td>1</td><td>2</td><td>general interlocution</td><td> 7</td><td>0</td><td>mortal</td></tr>\n",
       "\t<tr><th scope=row>3</th><td>Iliad</td><td>1</td><td>37</td><td>42</td><td>Chryses  </td><td>Apollo              </td><td>2</td><td>1</td><td>monologue            </td><td> 6</td><td>0</td><td>mortal</td></tr>\n",
       "\t<tr><th scope=row>4</th><td>Iliad</td><td>1</td><td>59</td><td>67</td><td>Achilles </td><td>Agamemnon           </td><td>3</td><td>1</td><td>general interlocution</td><td> 9</td><td>0</td><td>mortal</td></tr>\n",
       "\t<tr><th scope=row>5</th><td>Iliad</td><td>1</td><td>74</td><td>83</td><td>Calchas  </td><td>Achilles            </td><td>3</td><td>2</td><td>general interlocution</td><td>10</td><td>0</td><td>mortal</td></tr>\n",
       "\t<tr><th scope=row>6</th><td>Iliad</td><td>1</td><td>85</td><td>91</td><td>Achilles </td><td>Calchas             </td><td>3</td><td>3</td><td>general interlocution</td><td> 7</td><td>0</td><td>mortal</td></tr>\n",
       "</tbody>\n",
       "</table>\n"
      ],
      "text/latex": [
       "A data.frame: 6 × 12\n",
       "\\begin{tabular}{r|llllllllllll}\n",
       "  & work & book & from\\_line & to\\_line & speaker & addressee & cluster\\_id & cluster\\_part & simple\\_cluster\\_type & length & embedded\\_level & spkr\\_type\\\\\n",
       "  & <chr> & <int> & <int> & <int> & <chr> & <chr> & <int> & <int> & <chr> & <int> & <int> & <chr>\\\\\n",
       "\\hline\n",
       "\t1 & Iliad & 1 & 17 & 21 & Chryses   & Agamemnon and Greeks & 1 & 1 & general interlocution &  5 & 0 & mortal\\\\\n",
       "\t2 & Iliad & 1 & 26 & 32 & Agamemnon & Chryses              & 1 & 2 & general interlocution &  7 & 0 & mortal\\\\\n",
       "\t3 & Iliad & 1 & 37 & 42 & Chryses   & Apollo               & 2 & 1 & monologue             &  6 & 0 & mortal\\\\\n",
       "\t4 & Iliad & 1 & 59 & 67 & Achilles  & Agamemnon            & 3 & 1 & general interlocution &  9 & 0 & mortal\\\\\n",
       "\t5 & Iliad & 1 & 74 & 83 & Calchas   & Achilles             & 3 & 2 & general interlocution & 10 & 0 & mortal\\\\\n",
       "\t6 & Iliad & 1 & 85 & 91 & Achilles  & Calchas              & 3 & 3 & general interlocution &  7 & 0 & mortal\\\\\n",
       "\\end{tabular}\n"
      ],
      "text/markdown": [
       "\n",
       "A data.frame: 6 × 12\n",
       "\n",
       "| <!--/--> | work &lt;chr&gt; | book &lt;int&gt; | from_line &lt;int&gt; | to_line &lt;int&gt; | speaker &lt;chr&gt; | addressee &lt;chr&gt; | cluster_id &lt;int&gt; | cluster_part &lt;int&gt; | simple_cluster_type &lt;chr&gt; | length &lt;int&gt; | embedded_level &lt;int&gt; | spkr_type &lt;chr&gt; |\n",
       "|---|---|---|---|---|---|---|---|---|---|---|---|---|\n",
       "| 1 | Iliad | 1 | 17 | 21 | Chryses   | Agamemnon and Greeks | 1 | 1 | general interlocution |  5 | 0 | mortal |\n",
       "| 2 | Iliad | 1 | 26 | 32 | Agamemnon | Chryses              | 1 | 2 | general interlocution |  7 | 0 | mortal |\n",
       "| 3 | Iliad | 1 | 37 | 42 | Chryses   | Apollo               | 2 | 1 | monologue             |  6 | 0 | mortal |\n",
       "| 4 | Iliad | 1 | 59 | 67 | Achilles  | Agamemnon            | 3 | 1 | general interlocution |  9 | 0 | mortal |\n",
       "| 5 | Iliad | 1 | 74 | 83 | Calchas   | Achilles             | 3 | 2 | general interlocution | 10 | 0 | mortal |\n",
       "| 6 | Iliad | 1 | 85 | 91 | Achilles  | Calchas              | 3 | 3 | general interlocution |  7 | 0 | mortal |\n",
       "\n"
      ],
      "text/plain": [
       "  work  book from_line to_line speaker   addressee            cluster_id\n",
       "1 Iliad 1    17        21      Chryses   Agamemnon and Greeks 1         \n",
       "2 Iliad 1    26        32      Agamemnon Chryses              1         \n",
       "3 Iliad 1    37        42      Chryses   Apollo               2         \n",
       "4 Iliad 1    59        67      Achilles  Agamemnon            3         \n",
       "5 Iliad 1    74        83      Calchas   Achilles             3         \n",
       "6 Iliad 1    85        91      Achilles  Calchas              3         \n",
       "  cluster_part simple_cluster_type   length embedded_level spkr_type\n",
       "1 1            general interlocution  5     0              mortal   \n",
       "2 2            general interlocution  7     0              mortal   \n",
       "3 1            monologue              6     0              mortal   \n",
       "4 1            general interlocution  9     0              mortal   \n",
       "5 2            general interlocution 10     0              mortal   \n",
       "6 3            general interlocution  7     0              mortal   "
      ]
     },
     "metadata": {},
     "output_type": "display_data"
    }
   ],
   "source": [
    "head(speeches)"
   ]
  },
  {
   "cell_type": "code",
   "execution_count": 103,
   "id": "93260697",
   "metadata": {},
   "outputs": [
    {
     "name": "stdout",
     "output_type": "stream",
     "text": [
      "'data.frame':\t698 obs. of  12 variables:\n",
      " $ work               : chr  \"Iliad\" \"Iliad\" \"Iliad\" \"Iliad\" ...\n",
      " $ book               : int  1 1 1 1 1 1 1 1 1 1 ...\n",
      " $ from_line          : int  17 26 37 59 74 85 93 106 122 131 ...\n",
      " $ to_line            : int  21 32 42 67 83 91 100 120 129 147 ...\n",
      " $ speaker            : chr  \"Chryses\" \"Agamemnon\" \"Chryses\" \"Achilles\" ...\n",
      " $ addressee          : chr  \"Agamemnon and Greeks\" \"Chryses\" \"Apollo\" \"Agamemnon\" ...\n",
      " $ cluster_id         : int  1 1 2 3 3 3 3 3 3 3 ...\n",
      " $ cluster_part       : int  1 2 1 1 2 3 4 5 6 7 ...\n",
      " $ simple_cluster_type: chr  \"general interlocution\" \"general interlocution\" \"monologue\" \"general interlocution\" ...\n",
      " $ length             : int  5 7 6 9 10 7 8 15 8 17 ...\n",
      " $ embedded_level     : int  0 0 0 0 0 0 0 0 0 0 ...\n",
      " $ spkr_type          : chr  \"mortal\" \"mortal\" \"mortal\" \"mortal\" ...\n"
     ]
    }
   ],
   "source": [
    "str(speeches)"
   ]
  },
  {
   "cell_type": "markdown",
   "id": "b036bec6",
   "metadata": {},
   "source": [
    "When you import data from CSV, R will try to guess at the most appropriate data type for each column. (If you know in advance what formats you want, you can specify them using the optional parameter `colClasses`. Other params that come in handy are those dealing with header rows and columns. Check out `help(read.csv)` for all the options.)\n",
    "\n",
    "💁🏻‍♂️ This is a good point to practise exporting a table from Microsoft Excel as CSV data, and then importing it into R with `read.csv`. If you have your own data, give it a try. If you don’t have something handy, you can download the *Iliad* data as an Excel workbook [here](https://github.com/cwf2/rostock_r/raw/main/data/iliad_speeches.xlsx) and practise on that.\n",
    "\n",
    "### Try it out\n",
    "\n",
    "After the break, we’re going to look at a newer way of treating tabular data in R using some popular add-on packages. But for now, let’s take a few minutes to practice working with data frames, since they’re a core component of base R. You can work with your own data if you want, or try to answer some of the following questions about the *Iliad* data:\n",
    "\n",
    "- What is the average length of speeches in the *Iliad*?\n",
    "- How many speeches have Achilles as speaker?\n",
    "- How many have Agamemnon as speaker?\n",
    "- How long, on average, are each of these character’s speeches?\n",
    "- Do gods or mortals make more soliloquys?\n",
    "- Which book of the *Iliad* has the most speeches?"
   ]
  },
  {
   "cell_type": "markdown",
   "id": "c61d1c0e",
   "metadata": {},
   "source": [
    "### Some solutions\n",
    "\n",
    "First, it looks to me like `simple_cluster_type` and `spkr_type` are both categorical data. Let's convert them to factors."
   ]
  },
  {
   "cell_type": "code",
   "execution_count": 104,
   "id": "a46ff72f",
   "metadata": {},
   "outputs": [
    {
     "name": "stdout",
     "output_type": "stream",
     "text": [
      "'data.frame':\t698 obs. of  12 variables:\n",
      " $ work               : chr  \"Iliad\" \"Iliad\" \"Iliad\" \"Iliad\" ...\n",
      " $ book               : int  1 1 1 1 1 1 1 1 1 1 ...\n",
      " $ from_line          : int  17 26 37 59 74 85 93 106 122 131 ...\n",
      " $ to_line            : int  21 32 42 67 83 91 100 120 129 147 ...\n",
      " $ speaker            : chr  \"Chryses\" \"Agamemnon\" \"Chryses\" \"Achilles\" ...\n",
      " $ addressee          : chr  \"Agamemnon and Greeks\" \"Chryses\" \"Apollo\" \"Agamemnon\" ...\n",
      " $ cluster_id         : int  1 1 2 3 3 3 3 3 3 3 ...\n",
      " $ cluster_part       : int  1 2 1 1 2 3 4 5 6 7 ...\n",
      " $ simple_cluster_type: Factor w/ 4 levels \"dialogue\",\"general interlocution\",..: 2 2 3 2 2 2 2 2 2 2 ...\n",
      " $ length             : int  5 7 6 9 10 7 8 15 8 17 ...\n",
      " $ embedded_level     : int  0 0 0 0 0 0 0 0 0 0 ...\n",
      " $ spkr_type          : Factor w/ 4 levels \"animals\",\"collective\",..: 4 4 4 4 4 4 4 4 4 4 ...\n"
     ]
    }
   ],
   "source": [
    "speeches$simple_cluster_type <- factor(speeches$simple_cluster_type)\n",
    "speeches$spkr_type <- factor(speeches$spkr_type)\n",
    "\n",
    "str(speeches)"
   ]
  },
  {
   "cell_type": "markdown",
   "id": "a965c640",
   "metadata": {},
   "source": [
    "### Average length of speeches\n",
    "\n",
    "Speech length is a single vector. We can use R's `mean()` function to find the average."
   ]
  },
  {
   "cell_type": "code",
   "execution_count": 105,
   "id": "1accd2f4",
   "metadata": {},
   "outputs": [
    {
     "data": {
      "text/html": [
       "10.2120343839542"
      ],
      "text/latex": [
       "10.2120343839542"
      ],
      "text/markdown": [
       "10.2120343839542"
      ],
      "text/plain": [
       "[1] 10.21203"
      ]
     },
     "metadata": {},
     "output_type": "display_data"
    }
   ],
   "source": [
    "mean(speeches$length)"
   ]
  },
  {
   "cell_type": "markdown",
   "id": "1d88bc7c",
   "metadata": {},
   "source": [
    "Lots of other statistics are available to us as well. A good start is `summary()`:"
   ]
  },
  {
   "cell_type": "code",
   "execution_count": 106,
   "id": "5b4b9166",
   "metadata": {},
   "outputs": [
    {
     "data": {
      "text/plain": [
       "   Min. 1st Qu.  Median    Mean 3rd Qu.    Max. \n",
       "   1.00    4.00    7.00   10.21   11.75  172.00 "
      ]
     },
     "metadata": {},
     "output_type": "display_data"
    }
   ],
   "source": [
    "summary(speeches$length)"
   ]
  },
  {
   "cell_type": "markdown",
   "id": "6f3335c3",
   "metadata": {},
   "source": [
    "This data looks pretty skewed. We can visualize the distribution with `hist()`:"
   ]
  },
  {
   "cell_type": "code",
   "execution_count": 107,
   "id": "f1035c58",
   "metadata": {},
   "outputs": [
    {
     "data": {
      "image/png": "[encoded data removed]",
      "text/plain": [
       "Plot with title “Histogram of speeches$length”"
      ]
     },
     "metadata": {
      "image/png": {
       "height": 420,
       "width": 420
      }
     },
     "output_type": "display_data"
    }
   ],
   "source": [
    "hist(speeches$length)"
   ]
  },
  {
   "cell_type": "markdown",
   "id": "5e1970cb",
   "metadata": {},
   "source": [
    "🤔 Hmmm. I wonder if `log()` would be more interesting..."
   ]
  },
  {
   "cell_type": "code",
   "execution_count": 108,
   "id": "13d7afbe",
   "metadata": {},
   "outputs": [
    {
     "data": {
      "image/png": "[encoded data removed]",
      "text/plain": [
       "Plot with title “Histogram of log(speeches$length)”"
      ]
     },
     "metadata": {
      "image/png": {
       "height": 420,
       "width": 420
      }
     },
     "output_type": "display_data"
    }
   ],
   "source": [
    "hist(log(speeches$length))"
   ]
  },
  {
   "cell_type": "markdown",
   "id": "3707f42d",
   "metadata": {},
   "source": [
    "### Achilles versus Agamemnon\n",
    "\n",
    "The book centres on a famous \"quarrel\" between these two Greek fighters. Let’s see how many speeches each of them has.\n",
    "\n",
    "A nifty shortcut in R is that `TRUE` is evaluated as `1` in numeric contexts, while `FALSE` is evaluated as `0`. So while the comparison `speeches$speaker == 'Achilles'` returns a boolean, we can take the `sum()` of that vector to count the number of `TRUE`s."
   ]
  },
  {
   "cell_type": "code",
   "execution_count": 109,
   "id": "105047ce",
   "metadata": {},
   "outputs": [
    {
     "data": {
      "text/html": [
       "88"
      ],
      "text/latex": [
       "88"
      ],
      "text/markdown": [
       "88"
      ],
      "text/plain": [
       "[1] 88"
      ]
     },
     "metadata": {},
     "output_type": "display_data"
    }
   ],
   "source": [
    "sum(speeches$speaker == 'Achilles')"
   ]
  },
  {
   "cell_type": "code",
   "execution_count": 110,
   "id": "81b46cb3",
   "metadata": {},
   "outputs": [
    {
     "data": {
      "text/html": [
       "46"
      ],
      "text/latex": [
       "46"
      ],
      "text/markdown": [
       "46"
      ],
      "text/plain": [
       "[1] 46"
      ]
     },
     "metadata": {},
     "output_type": "display_data"
    }
   ],
   "source": [
    "sum(speeches$speaker == 'Agamemnon')"
   ]
  },
  {
   "cell_type": "markdown",
   "id": "8ae6d39e",
   "metadata": {},
   "source": [
    "Looks like Achilles speaks almost twice as many times as Agamemnon.\n",
    "\n",
    "But how long are their speeches, on average? To answer this question, we’re going to need to subset the `length` column using a comparison on the `speaker` column."
   ]
  },
  {
   "cell_type": "code",
   "execution_count": 111,
   "id": "8bb0a3f5",
   "metadata": {},
   "outputs": [
    {
     "data": {
      "text/html": [
       "11.0909090909091"
      ],
      "text/latex": [
       "11.0909090909091"
      ],
      "text/markdown": [
       "11.0909090909091"
      ],
      "text/plain": [
       "[1] 11.09091"
      ]
     },
     "metadata": {},
     "output_type": "display_data"
    }
   ],
   "source": [
    "mean(speeches$length[speeches$speaker=='Achilles'])"
   ]
  },
  {
   "cell_type": "markdown",
   "id": "d217107c",
   "metadata": {},
   "source": [
    "To avoid having to retype `speeches$` all the time, we can enclose our expression inside `with()`, which temporarily **attaches** to the data frame, giving us access to the names of the columns without the prefix."
   ]
  },
  {
   "cell_type": "code",
   "execution_count": 112,
   "id": "914f788e",
   "metadata": {},
   "outputs": [
    {
     "data": {
      "text/html": [
       "12.7391304347826"
      ],
      "text/latex": [
       "12.7391304347826"
      ],
      "text/markdown": [
       "12.7391304347826"
      ],
      "text/plain": [
       "[1] 12.73913"
      ]
     },
     "metadata": {},
     "output_type": "display_data"
    }
   ],
   "source": [
    "with(speeches,\n",
    "    mean(length[speaker=='Agamemnon'])\n",
    "    )"
   ]
  },
  {
   "cell_type": "markdown",
   "id": "3e940ed0",
   "metadata": {},
   "source": [
    "So it looks like Agamemnon’s speeches, though fewer in number, are slightly longer on average. To get a fuller sense of the distribution of speech lengths between the two characters, we can draw a [**box and whisker** diagram](https://en.wikipedia.org/wiki/Box_plot) with `boxplot()`:"
   ]
  },
  {
   "cell_type": "code",
   "execution_count": 113,
   "id": "ac506280",
   "metadata": {},
   "outputs": [
    {
     "data": {
      "image/png": "[encoded data removed]",
      "text/plain": [
       "Plot with title “Speech Length”"
      ]
     },
     "metadata": {
      "image/png": {
       "height": 420,
       "width": 420
      }
     },
     "output_type": "display_data"
    }
   ],
   "source": [
    "with(speeches, \n",
    "     boxplot(length[speaker=='Achilles'], length[speaker=='Agamemnon'], \n",
    "             names=c('Achilles', 'Agamemnon'),\n",
    "             ylab='lines',\n",
    "             main='Speech Length'))"
   ]
  },
  {
   "cell_type": "markdown",
   "id": "a7e65c13",
   "metadata": {},
   "source": [
    "### Gods and mortals\n",
    "\n",
    "To see how soliloquys are divided among gods and mortals, we can create a summary tally of the two factors using `table()`:"
   ]
  },
  {
   "cell_type": "code",
   "execution_count": 114,
   "id": "6f7f88e8",
   "metadata": {},
   "outputs": [
    {
     "data": {
      "text/plain": [
       "            simple_cluster_type\n",
       "spkr_type    dialogue general interlocution monologue soliloquy\n",
       "  animals           1                     0         0         0\n",
       "  collective        0                     0         1         0\n",
       "  god             100                    30        62         1\n",
       "  mortal          168                   136       167        32"
      ]
     },
     "metadata": {},
     "output_type": "display_data"
    }
   ],
   "source": [
    "with(speeches, table(spkr_type, simple_cluster_type))"
   ]
  },
  {
   "cell_type": "markdown",
   "id": "2b1b5bc3",
   "metadata": {},
   "source": [
    "🤔 Interesting! Who’s the one god who soliloquizes? (I bet it’s Zeus...)"
   ]
  },
  {
   "cell_type": "code",
   "execution_count": 115,
   "id": "411d1b8e",
   "metadata": {},
   "outputs": [
    {
     "data": {
      "text/html": [
       "<table class=\"dataframe\">\n",
       "<caption>A data.frame: 1 × 12</caption>\n",
       "<thead>\n",
       "\t<tr><th></th><th scope=col>work</th><th scope=col>book</th><th scope=col>from_line</th><th scope=col>to_line</th><th scope=col>speaker</th><th scope=col>addressee</th><th scope=col>cluster_id</th><th scope=col>cluster_part</th><th scope=col>simple_cluster_type</th><th scope=col>length</th><th scope=col>embedded_level</th><th scope=col>spkr_type</th></tr>\n",
       "\t<tr><th></th><th scope=col>&lt;chr&gt;</th><th scope=col>&lt;int&gt;</th><th scope=col>&lt;int&gt;</th><th scope=col>&lt;int&gt;</th><th scope=col>&lt;chr&gt;</th><th scope=col>&lt;chr&gt;</th><th scope=col>&lt;int&gt;</th><th scope=col>&lt;int&gt;</th><th scope=col>&lt;fct&gt;</th><th scope=col>&lt;int&gt;</th><th scope=col>&lt;int&gt;</th><th scope=col>&lt;fct&gt;</th></tr>\n",
       "</thead>\n",
       "<tbody>\n",
       "\t<tr><th scope=row>455</th><td>Iliad</td><td>17</td><td>201</td><td>208</td><td>Zeus</td><td>self</td><td>255</td><td>1</td><td>soliloquy</td><td>8</td><td>0</td><td>god</td></tr>\n",
       "</tbody>\n",
       "</table>\n"
      ],
      "text/latex": [
       "A data.frame: 1 × 12\n",
       "\\begin{tabular}{r|llllllllllll}\n",
       "  & work & book & from\\_line & to\\_line & speaker & addressee & cluster\\_id & cluster\\_part & simple\\_cluster\\_type & length & embedded\\_level & spkr\\_type\\\\\n",
       "  & <chr> & <int> & <int> & <int> & <chr> & <chr> & <int> & <int> & <fct> & <int> & <int> & <fct>\\\\\n",
       "\\hline\n",
       "\t455 & Iliad & 17 & 201 & 208 & Zeus & self & 255 & 1 & soliloquy & 8 & 0 & god\\\\\n",
       "\\end{tabular}\n"
      ],
      "text/markdown": [
       "\n",
       "A data.frame: 1 × 12\n",
       "\n",
       "| <!--/--> | work &lt;chr&gt; | book &lt;int&gt; | from_line &lt;int&gt; | to_line &lt;int&gt; | speaker &lt;chr&gt; | addressee &lt;chr&gt; | cluster_id &lt;int&gt; | cluster_part &lt;int&gt; | simple_cluster_type &lt;fct&gt; | length &lt;int&gt; | embedded_level &lt;int&gt; | spkr_type &lt;fct&gt; |\n",
       "|---|---|---|---|---|---|---|---|---|---|---|---|---|\n",
       "| 455 | Iliad | 17 | 201 | 208 | Zeus | self | 255 | 1 | soliloquy | 8 | 0 | god |\n",
       "\n"
      ],
      "text/plain": [
       "    work  book from_line to_line speaker addressee cluster_id cluster_part\n",
       "455 Iliad 17   201       208     Zeus    self      255        1           \n",
       "    simple_cluster_type length embedded_level spkr_type\n",
       "455 soliloquy           8      0              god      "
      ]
     },
     "metadata": {},
     "output_type": "display_data"
    }
   ],
   "source": [
    "speeches[speeches$simple_cluster_type=='soliloquy' & speeches$spkr_type=='god',]"
   ]
  },
  {
   "cell_type": "markdown",
   "id": "128682f3",
   "metadata": {},
   "source": [
    "We can also visualize the results of `table()`, for example as a bar chart:"
   ]
  },
  {
   "cell_type": "code",
   "execution_count": 116,
   "id": "4605c204",
   "metadata": {},
   "outputs": [
    {
     "data": {
      "image/png": "[encoded data removed]",
      "text/plain": [
       "Plot with title “speech types by speaker type”"
      ]
     },
     "metadata": {
      "image/png": {
       "height": 420,
       "width": 420
      }
     },
     "output_type": "display_data"
    }
   ],
   "source": [
    "with(speeches, \n",
    "     barplot(table(simple_cluster_type, spkr_type), \n",
    "             beside=T, \n",
    "             legend=T, \n",
    "             args.legend=list(x='topleft'),\n",
    "             ylab='speeches',\n",
    "             main='speech types by speaker type'))"
   ]
  }
 ],
 "metadata": {
  "kernelspec": {
   "display_name": "R",
   "language": "R",
   "name": "ir"
  },
  "language_info": {
   "codemirror_mode": "r",
   "file_extension": ".r",
   "mimetype": "text/x-r-source",
   "name": "R",
   "pygments_lexer": "r",
   "version": "4.2.0"
  }
 },
 "nbformat": 4,
 "nbformat_minor": 5
}
