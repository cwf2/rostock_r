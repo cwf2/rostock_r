{
 "cells": [
  {
   "cell_type": "markdown",
   "id": "36526a22",
   "metadata": {},
   "source": [
    "# A world made of words\n",
    "\n",
    "At the end of the last session, we had imported some text into R in a tabular format, with each row corresponding to a unit of interest in our document. In this session we break the text into words and explore how word frequency is related to the balance between style and content, as well as some basic methods for classifying texts.\n",
    "\n",
    "Now that we've had some experience processing documents from Project Gutenberg by hand, we can turn to a shortcut: the package `gutenbergr` automates the process of downloading documents by gutenberg ID and turning them into tibbles."
   ]
  },
  {
   "cell_type": "code",
   "execution_count": 1,
   "id": "f558768f",
   "metadata": {},
   "outputs": [
    {
     "name": "stdout",
     "output_type": "stream",
     "text": [
      "\n",
      "The downloaded binary packages are in\n",
      "\t/var/folders/_k/nhmmjzg96r318bm9jvyvv7ph0000gn/T//Rtmp6Fa5DF/downloaded_packages\n"
     ]
    }
   ],
   "source": [
    "# only needed once\n",
    "install.packages('gutenbergr')"
   ]
  },
  {
   "cell_type": "code",
   "execution_count": 2,
   "id": "7ecb4a8c",
   "metadata": {},
   "outputs": [
    {
     "name": "stderr",
     "output_type": "stream",
     "text": [
      "── \u001b[1mAttaching packages\u001b[22m ─────────────────────────────────────── tidyverse 1.3.1 ──\n",
      "\n",
      "\u001b[32m✔\u001b[39m \u001b[34mggplot2\u001b[39m 3.3.6     \u001b[32m✔\u001b[39m \u001b[34mpurrr  \u001b[39m 0.3.4\n",
      "\u001b[32m✔\u001b[39m \u001b[34mtibble \u001b[39m 3.1.7     \u001b[32m✔\u001b[39m \u001b[34mdplyr  \u001b[39m 1.0.9\n",
      "\u001b[32m✔\u001b[39m \u001b[34mtidyr  \u001b[39m 1.2.0     \u001b[32m✔\u001b[39m \u001b[34mstringr\u001b[39m 1.4.0\n",
      "\u001b[32m✔\u001b[39m \u001b[34mreadr  \u001b[39m 2.1.2     \u001b[32m✔\u001b[39m \u001b[34mforcats\u001b[39m 0.5.1\n",
      "\n",
      "── \u001b[1mConflicts\u001b[22m ────────────────────────────────────────── tidyverse_conflicts() ──\n",
      "\u001b[31m✖\u001b[39m \u001b[34mdplyr\u001b[39m::\u001b[32mfilter()\u001b[39m masks \u001b[34mstats\u001b[39m::filter()\n",
      "\u001b[31m✖\u001b[39m \u001b[34mdplyr\u001b[39m::\u001b[32mlag()\u001b[39m    masks \u001b[34mstats\u001b[39m::lag()\n",
      "\n"
     ]
    }
   ],
   "source": [
    "library(tidyverse)\n",
    "library(tidytext)\n",
    "library(gutenbergr)"
   ]
  },
  {
   "cell_type": "markdown",
   "id": "7cc0ca53",
   "metadata": {},
   "source": [
    "Let’s recap our work from last time, using gutenbergr. I'll use pipes to chain many of the steps together, but for readability it often helps to chunk your work into a couple of stages.\n",
    "\n",
    "The Project Gutenberg ID for *Idylls of the King* is `610`."
   ]
  },
  {
   "cell_type": "code",
   "execution_count": 3,
   "id": "e5d4487f",
   "metadata": {},
   "outputs": [
    {
     "name": "stderr",
     "output_type": "stream",
     "text": [
      "Determining mirror for Project Gutenberg from http://www.gutenberg.org/robot/harvest\n",
      "\n",
      "Using mirror http://aleph.gutenberg.org\n",
      "\n"
     ]
    }
   ],
   "source": [
    "king_lines <- gutenberg_download(610)"
   ]
  },
  {
   "cell_type": "code",
   "execution_count": 4,
   "id": "f0c67f09",
   "metadata": {},
   "outputs": [],
   "source": [
    "king_lines <- king_lines %>%\n",
    "    mutate(\n",
    "        is_break = str_starts(text, '      \\\\w'),\n",
    "        section = cumsum(is_break)\n",
    "    ) %>%\n",
    "    filter(!is_break & text != '') %>%\n",
    "    filter(section > 4) %>%\n",
    "    mutate(section = section - 4)"
   ]
  },
  {
   "cell_type": "code",
   "execution_count": 5,
   "id": "e381bc39",
   "metadata": {},
   "outputs": [],
   "source": [
    "king_lines <- king_lines %>%\n",
    "    group_by(section) %>%\n",
    "    mutate(line = row_number()) %>%\n",
    "    ungroup() %>%\n",
    "    select(section, line, text)"
   ]
  },
  {
   "cell_type": "markdown",
   "id": "f999b21c",
   "metadata": {},
   "source": [
    "How does it look?"
   ]
  },
  {
   "cell_type": "code",
   "execution_count": 6,
   "id": "93dc70e5",
   "metadata": {},
   "outputs": [
    {
     "data": {
      "text/html": [
       "<table class=\"dataframe\">\n",
       "<caption>A tibble: 10373 × 3</caption>\n",
       "<thead>\n",
       "\t<tr><th scope=col>section</th><th scope=col>line</th><th scope=col>text</th></tr>\n",
       "\t<tr><th scope=col>&lt;dbl&gt;</th><th scope=col>&lt;int&gt;</th><th scope=col>&lt;chr&gt;</th></tr>\n",
       "</thead>\n",
       "<tbody>\n",
       "\t<tr><td>1</td><td> 1</td><td>  These to His Memory—since he held them dear,        </td></tr>\n",
       "\t<tr><td>1</td><td> 2</td><td>  Perchance as finding there unconsciously            </td></tr>\n",
       "\t<tr><td>1</td><td> 3</td><td>  Some image of himself—I dedicate,                   </td></tr>\n",
       "\t<tr><td>1</td><td> 4</td><td>  I dedicate, I consecrate with tears—                </td></tr>\n",
       "\t<tr><td>1</td><td> 5</td><td>  These Idylls.                                       </td></tr>\n",
       "\t<tr><td>1</td><td> 6</td><td>               And indeed He seems to me              </td></tr>\n",
       "\t<tr><td>1</td><td> 7</td><td>  Scarce other than my king’s ideal knight,           </td></tr>\n",
       "\t<tr><td>1</td><td> 8</td><td>  “Who reverenced his conscience as his king;         </td></tr>\n",
       "\t<tr><td>1</td><td> 9</td><td>  Whose glory was, redressing human wrong;            </td></tr>\n",
       "\t<tr><td>1</td><td>10</td><td>  Who spake no slander, no, nor listened to it;       </td></tr>\n",
       "\t<tr><td>1</td><td>11</td><td>  Who loved one only and who clave to her—”           </td></tr>\n",
       "\t<tr><td>1</td><td>12</td><td>  Her—over all whose realms to their last isle,       </td></tr>\n",
       "\t<tr><td>1</td><td>13</td><td>  Commingled with the gloom of imminent war,          </td></tr>\n",
       "\t<tr><td>1</td><td>14</td><td>  The shadow of His loss drew like eclipse,           </td></tr>\n",
       "\t<tr><td>1</td><td>15</td><td>  Darkening the world.  We have lost him:  he is gone:</td></tr>\n",
       "\t<tr><td>1</td><td>16</td><td>  We know him now:  all narrow jealousies             </td></tr>\n",
       "\t<tr><td>1</td><td>17</td><td>  Are silent; and we see him as he moved,             </td></tr>\n",
       "\t<tr><td>1</td><td>18</td><td>  How modest, kindly, all-accomplished, wise,         </td></tr>\n",
       "\t<tr><td>1</td><td>19</td><td>  With what sublime repression of himself,            </td></tr>\n",
       "\t<tr><td>1</td><td>20</td><td>  And in what limits, and how tenderly;               </td></tr>\n",
       "\t<tr><td>1</td><td>21</td><td>  Not swaying to this faction or to that;             </td></tr>\n",
       "\t<tr><td>1</td><td>22</td><td>  Not making his high place the lawless perch         </td></tr>\n",
       "\t<tr><td>1</td><td>23</td><td>  Of winged ambitions, nor a vantage-ground           </td></tr>\n",
       "\t<tr><td>1</td><td>24</td><td>  For pleasure; but through all this tract of years   </td></tr>\n",
       "\t<tr><td>1</td><td>25</td><td>  Wearing the white flower of a blameless life,       </td></tr>\n",
       "\t<tr><td>1</td><td>26</td><td>  Before a thousand peering littlenesses,             </td></tr>\n",
       "\t<tr><td>1</td><td>27</td><td>  In that fierce light which beats upon a throne,     </td></tr>\n",
       "\t<tr><td>1</td><td>28</td><td>  And blackens every blot:  for where is he,          </td></tr>\n",
       "\t<tr><td>1</td><td>29</td><td>  Who dares foreshadow for an only son                </td></tr>\n",
       "\t<tr><td>1</td><td>30</td><td>  A lovelier life, a more unstained, than his?        </td></tr>\n",
       "\t<tr><td>⋮</td><td>⋮</td><td>⋮</td></tr>\n",
       "\t<tr><td>14</td><td>37</td><td>  New-old, and shadowing Sense at war with Soul,       </td></tr>\n",
       "\t<tr><td>14</td><td>38</td><td>  Ideal manhood closed in real man,                    </td></tr>\n",
       "\t<tr><td>14</td><td>39</td><td>  Rather than that gray king, whose name, a ghost,     </td></tr>\n",
       "\t<tr><td>14</td><td>40</td><td>  Streams like a cloud, man-shaped, from mountain peak,</td></tr>\n",
       "\t<tr><td>14</td><td>41</td><td>  And cleaves to cairn and cromlech still; or him      </td></tr>\n",
       "\t<tr><td>14</td><td>42</td><td>  Of Geoffrey’s book, or him of Malleor’s, one         </td></tr>\n",
       "\t<tr><td>14</td><td>43</td><td>  Touched by the adulterous finger of a time           </td></tr>\n",
       "\t<tr><td>14</td><td>44</td><td>  That hovered between war and wantonness,             </td></tr>\n",
       "\t<tr><td>14</td><td>45</td><td>  And crownings and dethronements:  take withal        </td></tr>\n",
       "\t<tr><td>14</td><td>46</td><td>  Thy poet’s blessing, and his trust that Heaven       </td></tr>\n",
       "\t<tr><td>14</td><td>47</td><td>  Will blow the tempest in the distance back           </td></tr>\n",
       "\t<tr><td>14</td><td>48</td><td>  From thine and ours:  for some are scared, who mark, </td></tr>\n",
       "\t<tr><td>14</td><td>49</td><td>  Or wisely or unwisely, signs of storm,               </td></tr>\n",
       "\t<tr><td>14</td><td>50</td><td>  Waverings of every vane with every wind,             </td></tr>\n",
       "\t<tr><td>14</td><td>51</td><td>  And wordy trucklings to the transient hour,          </td></tr>\n",
       "\t<tr><td>14</td><td>52</td><td>  And fierce or careless looseners of the faith,       </td></tr>\n",
       "\t<tr><td>14</td><td>53</td><td>  And Softness breeding scorn of simple life,          </td></tr>\n",
       "\t<tr><td>14</td><td>54</td><td>  Or Cowardice, the child of lust for gold,            </td></tr>\n",
       "\t<tr><td>14</td><td>55</td><td>  Or Labour, with a groan and not a voice,             </td></tr>\n",
       "\t<tr><td>14</td><td>56</td><td>  Or Art with poisonous honey stolen from France,      </td></tr>\n",
       "\t<tr><td>14</td><td>57</td><td>  And that which knows, but careful for itself,        </td></tr>\n",
       "\t<tr><td>14</td><td>58</td><td>  And that which knows not, ruling that which knows    </td></tr>\n",
       "\t<tr><td>14</td><td>59</td><td>  To its own harm:  the goal of this great world       </td></tr>\n",
       "\t<tr><td>14</td><td>60</td><td>  Lies beyond sight:  yet—if our slowly-grown          </td></tr>\n",
       "\t<tr><td>14</td><td>61</td><td>  And crowned Republic’s crowning common-sense,        </td></tr>\n",
       "\t<tr><td>14</td><td>62</td><td>  That saved her many times, not fail—their fears      </td></tr>\n",
       "\t<tr><td>14</td><td>63</td><td>  Are morning shadows huger than the shapes            </td></tr>\n",
       "\t<tr><td>14</td><td>64</td><td>  That cast them, not those gloomier which forego      </td></tr>\n",
       "\t<tr><td>14</td><td>65</td><td>  The darkness of that battle in the West,             </td></tr>\n",
       "\t<tr><td>14</td><td>66</td><td>  Where all of high and holy dies away.                </td></tr>\n",
       "</tbody>\n",
       "</table>\n"
      ],
      "text/latex": [
       "A tibble: 10373 × 3\n",
       "\\begin{tabular}{lll}\n",
       " section & line & text\\\\\n",
       " <dbl> & <int> & <chr>\\\\\n",
       "\\hline\n",
       "\t 1 &  1 &   These to His Memory—since he held them dear,        \\\\\n",
       "\t 1 &  2 &   Perchance as finding there unconsciously            \\\\\n",
       "\t 1 &  3 &   Some image of himself—I dedicate,                   \\\\\n",
       "\t 1 &  4 &   I dedicate, I consecrate with tears—                \\\\\n",
       "\t 1 &  5 &   These Idylls.                                       \\\\\n",
       "\t 1 &  6 &                And indeed He seems to me              \\\\\n",
       "\t 1 &  7 &   Scarce other than my king’s ideal knight,           \\\\\n",
       "\t 1 &  8 &   “Who reverenced his conscience as his king;         \\\\\n",
       "\t 1 &  9 &   Whose glory was, redressing human wrong;            \\\\\n",
       "\t 1 & 10 &   Who spake no slander, no, nor listened to it;       \\\\\n",
       "\t 1 & 11 &   Who loved one only and who clave to her—”           \\\\\n",
       "\t 1 & 12 &   Her—over all whose realms to their last isle,       \\\\\n",
       "\t 1 & 13 &   Commingled with the gloom of imminent war,          \\\\\n",
       "\t 1 & 14 &   The shadow of His loss drew like eclipse,           \\\\\n",
       "\t 1 & 15 &   Darkening the world.  We have lost him:  he is gone:\\\\\n",
       "\t 1 & 16 &   We know him now:  all narrow jealousies             \\\\\n",
       "\t 1 & 17 &   Are silent; and we see him as he moved,             \\\\\n",
       "\t 1 & 18 &   How modest, kindly, all-accomplished, wise,         \\\\\n",
       "\t 1 & 19 &   With what sublime repression of himself,            \\\\\n",
       "\t 1 & 20 &   And in what limits, and how tenderly;               \\\\\n",
       "\t 1 & 21 &   Not swaying to this faction or to that;             \\\\\n",
       "\t 1 & 22 &   Not making his high place the lawless perch         \\\\\n",
       "\t 1 & 23 &   Of winged ambitions, nor a vantage-ground           \\\\\n",
       "\t 1 & 24 &   For pleasure; but through all this tract of years   \\\\\n",
       "\t 1 & 25 &   Wearing the white flower of a blameless life,       \\\\\n",
       "\t 1 & 26 &   Before a thousand peering littlenesses,             \\\\\n",
       "\t 1 & 27 &   In that fierce light which beats upon a throne,     \\\\\n",
       "\t 1 & 28 &   And blackens every blot:  for where is he,          \\\\\n",
       "\t 1 & 29 &   Who dares foreshadow for an only son                \\\\\n",
       "\t 1 & 30 &   A lovelier life, a more unstained, than his?        \\\\\n",
       "\t ⋮ & ⋮ & ⋮\\\\\n",
       "\t 14 & 37 &   New-old, and shadowing Sense at war with Soul,       \\\\\n",
       "\t 14 & 38 &   Ideal manhood closed in real man,                    \\\\\n",
       "\t 14 & 39 &   Rather than that gray king, whose name, a ghost,     \\\\\n",
       "\t 14 & 40 &   Streams like a cloud, man-shaped, from mountain peak,\\\\\n",
       "\t 14 & 41 &   And cleaves to cairn and cromlech still; or him      \\\\\n",
       "\t 14 & 42 &   Of Geoffrey’s book, or him of Malleor’s, one         \\\\\n",
       "\t 14 & 43 &   Touched by the adulterous finger of a time           \\\\\n",
       "\t 14 & 44 &   That hovered between war and wantonness,             \\\\\n",
       "\t 14 & 45 &   And crownings and dethronements:  take withal        \\\\\n",
       "\t 14 & 46 &   Thy poet’s blessing, and his trust that Heaven       \\\\\n",
       "\t 14 & 47 &   Will blow the tempest in the distance back           \\\\\n",
       "\t 14 & 48 &   From thine and ours:  for some are scared, who mark, \\\\\n",
       "\t 14 & 49 &   Or wisely or unwisely, signs of storm,               \\\\\n",
       "\t 14 & 50 &   Waverings of every vane with every wind,             \\\\\n",
       "\t 14 & 51 &   And wordy trucklings to the transient hour,          \\\\\n",
       "\t 14 & 52 &   And fierce or careless looseners of the faith,       \\\\\n",
       "\t 14 & 53 &   And Softness breeding scorn of simple life,          \\\\\n",
       "\t 14 & 54 &   Or Cowardice, the child of lust for gold,            \\\\\n",
       "\t 14 & 55 &   Or Labour, with a groan and not a voice,             \\\\\n",
       "\t 14 & 56 &   Or Art with poisonous honey stolen from France,      \\\\\n",
       "\t 14 & 57 &   And that which knows, but careful for itself,        \\\\\n",
       "\t 14 & 58 &   And that which knows not, ruling that which knows    \\\\\n",
       "\t 14 & 59 &   To its own harm:  the goal of this great world       \\\\\n",
       "\t 14 & 60 &   Lies beyond sight:  yet—if our slowly-grown          \\\\\n",
       "\t 14 & 61 &   And crowned Republic’s crowning common-sense,        \\\\\n",
       "\t 14 & 62 &   That saved her many times, not fail—their fears      \\\\\n",
       "\t 14 & 63 &   Are morning shadows huger than the shapes            \\\\\n",
       "\t 14 & 64 &   That cast them, not those gloomier which forego      \\\\\n",
       "\t 14 & 65 &   The darkness of that battle in the West,             \\\\\n",
       "\t 14 & 66 &   Where all of high and holy dies away.                \\\\\n",
       "\\end{tabular}\n"
      ],
      "text/markdown": [
       "\n",
       "A tibble: 10373 × 3\n",
       "\n",
       "| section &lt;dbl&gt; | line &lt;int&gt; | text &lt;chr&gt; |\n",
       "|---|---|---|\n",
       "| 1 |  1 |   These to His Memory—since he held them dear,         |\n",
       "| 1 |  2 |   Perchance as finding there unconsciously             |\n",
       "| 1 |  3 |   Some image of himself—I dedicate,                    |\n",
       "| 1 |  4 |   I dedicate, I consecrate with tears—                 |\n",
       "| 1 |  5 |   These Idylls.                                        |\n",
       "| 1 |  6 |                And indeed He seems to me               |\n",
       "| 1 |  7 |   Scarce other than my king’s ideal knight,            |\n",
       "| 1 |  8 |   “Who reverenced his conscience as his king;          |\n",
       "| 1 |  9 |   Whose glory was, redressing human wrong;             |\n",
       "| 1 | 10 |   Who spake no slander, no, nor listened to it;        |\n",
       "| 1 | 11 |   Who loved one only and who clave to her—”            |\n",
       "| 1 | 12 |   Her—over all whose realms to their last isle,        |\n",
       "| 1 | 13 |   Commingled with the gloom of imminent war,           |\n",
       "| 1 | 14 |   The shadow of His loss drew like eclipse,            |\n",
       "| 1 | 15 |   Darkening the world.  We have lost him:  he is gone: |\n",
       "| 1 | 16 |   We know him now:  all narrow jealousies              |\n",
       "| 1 | 17 |   Are silent; and we see him as he moved,              |\n",
       "| 1 | 18 |   How modest, kindly, all-accomplished, wise,          |\n",
       "| 1 | 19 |   With what sublime repression of himself,             |\n",
       "| 1 | 20 |   And in what limits, and how tenderly;                |\n",
       "| 1 | 21 |   Not swaying to this faction or to that;              |\n",
       "| 1 | 22 |   Not making his high place the lawless perch          |\n",
       "| 1 | 23 |   Of winged ambitions, nor a vantage-ground            |\n",
       "| 1 | 24 |   For pleasure; but through all this tract of years    |\n",
       "| 1 | 25 |   Wearing the white flower of a blameless life,        |\n",
       "| 1 | 26 |   Before a thousand peering littlenesses,              |\n",
       "| 1 | 27 |   In that fierce light which beats upon a throne,      |\n",
       "| 1 | 28 |   And blackens every blot:  for where is he,           |\n",
       "| 1 | 29 |   Who dares foreshadow for an only son                 |\n",
       "| 1 | 30 |   A lovelier life, a more unstained, than his?         |\n",
       "| ⋮ | ⋮ | ⋮ |\n",
       "| 14 | 37 |   New-old, and shadowing Sense at war with Soul,        |\n",
       "| 14 | 38 |   Ideal manhood closed in real man,                     |\n",
       "| 14 | 39 |   Rather than that gray king, whose name, a ghost,      |\n",
       "| 14 | 40 |   Streams like a cloud, man-shaped, from mountain peak, |\n",
       "| 14 | 41 |   And cleaves to cairn and cromlech still; or him       |\n",
       "| 14 | 42 |   Of Geoffrey’s book, or him of Malleor’s, one          |\n",
       "| 14 | 43 |   Touched by the adulterous finger of a time            |\n",
       "| 14 | 44 |   That hovered between war and wantonness,              |\n",
       "| 14 | 45 |   And crownings and dethronements:  take withal         |\n",
       "| 14 | 46 |   Thy poet’s blessing, and his trust that Heaven        |\n",
       "| 14 | 47 |   Will blow the tempest in the distance back            |\n",
       "| 14 | 48 |   From thine and ours:  for some are scared, who mark,  |\n",
       "| 14 | 49 |   Or wisely or unwisely, signs of storm,                |\n",
       "| 14 | 50 |   Waverings of every vane with every wind,              |\n",
       "| 14 | 51 |   And wordy trucklings to the transient hour,           |\n",
       "| 14 | 52 |   And fierce or careless looseners of the faith,        |\n",
       "| 14 | 53 |   And Softness breeding scorn of simple life,           |\n",
       "| 14 | 54 |   Or Cowardice, the child of lust for gold,             |\n",
       "| 14 | 55 |   Or Labour, with a groan and not a voice,              |\n",
       "| 14 | 56 |   Or Art with poisonous honey stolen from France,       |\n",
       "| 14 | 57 |   And that which knows, but careful for itself,         |\n",
       "| 14 | 58 |   And that which knows not, ruling that which knows     |\n",
       "| 14 | 59 |   To its own harm:  the goal of this great world        |\n",
       "| 14 | 60 |   Lies beyond sight:  yet—if our slowly-grown           |\n",
       "| 14 | 61 |   And crowned Republic’s crowning common-sense,         |\n",
       "| 14 | 62 |   That saved her many times, not fail—their fears       |\n",
       "| 14 | 63 |   Are morning shadows huger than the shapes             |\n",
       "| 14 | 64 |   That cast them, not those gloomier which forego       |\n",
       "| 14 | 65 |   The darkness of that battle in the West,              |\n",
       "| 14 | 66 |   Where all of high and holy dies away.                 |\n",
       "\n"
      ],
      "text/plain": [
       "      section line text                                                   \n",
       "1     1        1     These to His Memory—since he held them dear,         \n",
       "2     1        2     Perchance as finding there unconsciously             \n",
       "3     1        3     Some image of himself—I dedicate,                    \n",
       "4     1        4     I dedicate, I consecrate with tears—                 \n",
       "5     1        5     These Idylls.                                        \n",
       "6     1        6                  And indeed He seems to me               \n",
       "7     1        7     Scarce other than my king’s ideal knight,            \n",
       "8     1        8     “Who reverenced his conscience as his king;          \n",
       "9     1        9     Whose glory was, redressing human wrong;             \n",
       "10    1       10     Who spake no slander, no, nor listened to it;        \n",
       "11    1       11     Who loved one only and who clave to her—”            \n",
       "12    1       12     Her—over all whose realms to their last isle,        \n",
       "13    1       13     Commingled with the gloom of imminent war,           \n",
       "14    1       14     The shadow of His loss drew like eclipse,            \n",
       "15    1       15     Darkening the world.  We have lost him:  he is gone: \n",
       "16    1       16     We know him now:  all narrow jealousies              \n",
       "17    1       17     Are silent; and we see him as he moved,              \n",
       "18    1       18     How modest, kindly, all-accomplished, wise,          \n",
       "19    1       19     With what sublime repression of himself,             \n",
       "20    1       20     And in what limits, and how tenderly;                \n",
       "21    1       21     Not swaying to this faction or to that;              \n",
       "22    1       22     Not making his high place the lawless perch          \n",
       "23    1       23     Of winged ambitions, nor a vantage-ground            \n",
       "24    1       24     For pleasure; but through all this tract of years    \n",
       "25    1       25     Wearing the white flower of a blameless life,        \n",
       "26    1       26     Before a thousand peering littlenesses,              \n",
       "27    1       27     In that fierce light which beats upon a throne,      \n",
       "28    1       28     And blackens every blot:  for where is he,           \n",
       "29    1       29     Who dares foreshadow for an only son                 \n",
       "30    1       30     A lovelier life, a more unstained, than his?         \n",
       "⋮     ⋮       ⋮    ⋮                                                      \n",
       "10344 14      37     New-old, and shadowing Sense at war with Soul,       \n",
       "10345 14      38     Ideal manhood closed in real man,                    \n",
       "10346 14      39     Rather than that gray king, whose name, a ghost,     \n",
       "10347 14      40     Streams like a cloud, man-shaped, from mountain peak,\n",
       "10348 14      41     And cleaves to cairn and cromlech still; or him      \n",
       "10349 14      42     Of Geoffrey’s book, or him of Malleor’s, one         \n",
       "10350 14      43     Touched by the adulterous finger of a time           \n",
       "10351 14      44     That hovered between war and wantonness,             \n",
       "10352 14      45     And crownings and dethronements:  take withal        \n",
       "10353 14      46     Thy poet’s blessing, and his trust that Heaven       \n",
       "10354 14      47     Will blow the tempest in the distance back           \n",
       "10355 14      48     From thine and ours:  for some are scared, who mark, \n",
       "10356 14      49     Or wisely or unwisely, signs of storm,               \n",
       "10357 14      50     Waverings of every vane with every wind,             \n",
       "10358 14      51     And wordy trucklings to the transient hour,          \n",
       "10359 14      52     And fierce or careless looseners of the faith,       \n",
       "10360 14      53     And Softness breeding scorn of simple life,          \n",
       "10361 14      54     Or Cowardice, the child of lust for gold,            \n",
       "10362 14      55     Or Labour, with a groan and not a voice,             \n",
       "10363 14      56     Or Art with poisonous honey stolen from France,      \n",
       "10364 14      57     And that which knows, but careful for itself,        \n",
       "10365 14      58     And that which knows not, ruling that which knows    \n",
       "10366 14      59     To its own harm:  the goal of this great world       \n",
       "10367 14      60     Lies beyond sight:  yet—if our slowly-grown          \n",
       "10368 14      61     And crowned Republic’s crowning common-sense,        \n",
       "10369 14      62     That saved her many times, not fail—their fears      \n",
       "10370 14      63     Are morning shadows huger than the shapes            \n",
       "10371 14      64     That cast them, not those gloomier which forego      \n",
       "10372 14      65     The darkness of that battle in the West,             \n",
       "10373 14      66     Where all of high and holy dies away.                "
      ]
     },
     "metadata": {},
     "output_type": "display_data"
    }
   ],
   "source": [
    "king_lines"
   ]
  },
  {
   "cell_type": "markdown",
   "id": "513f4f5f",
   "metadata": {},
   "source": [
    "## Breaking into words\n",
    "\n",
    "The package **tidytext** contains tokenizers built for tibbles. Depending on your text, language, and application, you may prefer a more full-featured NLP package for tokenization. But for now we’ll try this approach.\n",
    "\n",
    "In tidyr, **unnest** refers to spreading the contents of a list out into multiple rows. The `unnest_tokens()` function provided by tidytext first splits a string into **tokens**, i.e. component features of interest, and then unnests the result.\n",
    "\n",
    "We’re going to start with word tokenization, but one nice thing about tidytext is its ability to do **ngrams**, something we'll check out a bit later.\n",
    "\n",
    "We pass `unnest_tokens()` a couple of arguments:\n",
    "- `output`: the new column we want to create\n",
    "- `input`: the column containing the text to tokenize\n",
    "- optionally, a string describing the kind of tokens we want, default: \"words\"\n",
    "\n",
    "See `help(unnest_tokens)` for details."
   ]
  },
  {
   "cell_type": "code",
   "execution_count": 7,
   "id": "42b1ac81",
   "metadata": {},
   "outputs": [],
   "source": [
    "king_words <- king_lines %>%\n",
    "    unnest_tokens(output=word, input=text)"
   ]
  },
  {
   "cell_type": "code",
   "execution_count": 8,
   "id": "16d85b9b",
   "metadata": {},
   "outputs": [
    {
     "name": "stdout",
     "output_type": "stream",
     "text": [
      "tibble [85,125 × 3] (S3: tbl_df/tbl/data.frame)\n",
      " $ section: num [1:85125] 1 1 1 1 1 1 1 1 1 1 ...\n",
      " $ line   : int [1:85125] 1 1 1 1 1 1 1 1 1 2 ...\n",
      " $ word   : chr [1:85125] \"these\" \"to\" \"his\" \"memory\" ...\n"
     ]
    }
   ],
   "source": [
    "str(king_words)"
   ]
  },
  {
   "cell_type": "code",
   "execution_count": 9,
   "id": "bf8aab2b",
   "metadata": {},
   "outputs": [
    {
     "data": {
      "text/html": [
       "<table class=\"dataframe\">\n",
       "<caption>A tibble: 20 × 3</caption>\n",
       "<thead>\n",
       "\t<tr><th scope=col>section</th><th scope=col>line</th><th scope=col>word</th></tr>\n",
       "\t<tr><th scope=col>&lt;dbl&gt;</th><th scope=col>&lt;int&gt;</th><th scope=col>&lt;chr&gt;</th></tr>\n",
       "</thead>\n",
       "<tbody>\n",
       "\t<tr><td>1</td><td>1</td><td>these        </td></tr>\n",
       "\t<tr><td>1</td><td>1</td><td>to           </td></tr>\n",
       "\t<tr><td>1</td><td>1</td><td>his          </td></tr>\n",
       "\t<tr><td>1</td><td>1</td><td>memory       </td></tr>\n",
       "\t<tr><td>1</td><td>1</td><td>since        </td></tr>\n",
       "\t<tr><td>1</td><td>1</td><td>he           </td></tr>\n",
       "\t<tr><td>1</td><td>1</td><td>held         </td></tr>\n",
       "\t<tr><td>1</td><td>1</td><td>them         </td></tr>\n",
       "\t<tr><td>1</td><td>1</td><td>dear         </td></tr>\n",
       "\t<tr><td>1</td><td>2</td><td>perchance    </td></tr>\n",
       "\t<tr><td>1</td><td>2</td><td>as           </td></tr>\n",
       "\t<tr><td>1</td><td>2</td><td>finding      </td></tr>\n",
       "\t<tr><td>1</td><td>2</td><td>there        </td></tr>\n",
       "\t<tr><td>1</td><td>2</td><td>unconsciously</td></tr>\n",
       "\t<tr><td>1</td><td>3</td><td>some         </td></tr>\n",
       "\t<tr><td>1</td><td>3</td><td>image        </td></tr>\n",
       "\t<tr><td>1</td><td>3</td><td>of           </td></tr>\n",
       "\t<tr><td>1</td><td>3</td><td>himself      </td></tr>\n",
       "\t<tr><td>1</td><td>3</td><td>i            </td></tr>\n",
       "\t<tr><td>1</td><td>3</td><td>dedicate     </td></tr>\n",
       "</tbody>\n",
       "</table>\n"
      ],
      "text/latex": [
       "A tibble: 20 × 3\n",
       "\\begin{tabular}{lll}\n",
       " section & line & word\\\\\n",
       " <dbl> & <int> & <chr>\\\\\n",
       "\\hline\n",
       "\t 1 & 1 & these        \\\\\n",
       "\t 1 & 1 & to           \\\\\n",
       "\t 1 & 1 & his          \\\\\n",
       "\t 1 & 1 & memory       \\\\\n",
       "\t 1 & 1 & since        \\\\\n",
       "\t 1 & 1 & he           \\\\\n",
       "\t 1 & 1 & held         \\\\\n",
       "\t 1 & 1 & them         \\\\\n",
       "\t 1 & 1 & dear         \\\\\n",
       "\t 1 & 2 & perchance    \\\\\n",
       "\t 1 & 2 & as           \\\\\n",
       "\t 1 & 2 & finding      \\\\\n",
       "\t 1 & 2 & there        \\\\\n",
       "\t 1 & 2 & unconsciously\\\\\n",
       "\t 1 & 3 & some         \\\\\n",
       "\t 1 & 3 & image        \\\\\n",
       "\t 1 & 3 & of           \\\\\n",
       "\t 1 & 3 & himself      \\\\\n",
       "\t 1 & 3 & i            \\\\\n",
       "\t 1 & 3 & dedicate     \\\\\n",
       "\\end{tabular}\n"
      ],
      "text/markdown": [
       "\n",
       "A tibble: 20 × 3\n",
       "\n",
       "| section &lt;dbl&gt; | line &lt;int&gt; | word &lt;chr&gt; |\n",
       "|---|---|---|\n",
       "| 1 | 1 | these         |\n",
       "| 1 | 1 | to            |\n",
       "| 1 | 1 | his           |\n",
       "| 1 | 1 | memory        |\n",
       "| 1 | 1 | since         |\n",
       "| 1 | 1 | he            |\n",
       "| 1 | 1 | held          |\n",
       "| 1 | 1 | them          |\n",
       "| 1 | 1 | dear          |\n",
       "| 1 | 2 | perchance     |\n",
       "| 1 | 2 | as            |\n",
       "| 1 | 2 | finding       |\n",
       "| 1 | 2 | there         |\n",
       "| 1 | 2 | unconsciously |\n",
       "| 1 | 3 | some          |\n",
       "| 1 | 3 | image         |\n",
       "| 1 | 3 | of            |\n",
       "| 1 | 3 | himself       |\n",
       "| 1 | 3 | i             |\n",
       "| 1 | 3 | dedicate      |\n",
       "\n"
      ],
      "text/plain": [
       "   section line word         \n",
       "1  1       1    these        \n",
       "2  1       1    to           \n",
       "3  1       1    his          \n",
       "4  1       1    memory       \n",
       "5  1       1    since        \n",
       "6  1       1    he           \n",
       "7  1       1    held         \n",
       "8  1       1    them         \n",
       "9  1       1    dear         \n",
       "10 1       2    perchance    \n",
       "11 1       2    as           \n",
       "12 1       2    finding      \n",
       "13 1       2    there        \n",
       "14 1       2    unconsciously\n",
       "15 1       3    some         \n",
       "16 1       3    image        \n",
       "17 1       3    of           \n",
       "18 1       3    himself      \n",
       "19 1       3    i            \n",
       "20 1       3    dedicate     "
      ]
     },
     "metadata": {},
     "output_type": "display_data"
    }
   ],
   "source": [
    "head(king_words, n=20)"
   ]
  },
  {
   "cell_type": "markdown",
   "id": "41c10468",
   "metadata": {},
   "source": [
    "### Basic tallying\n",
    "\n",
    "Now that we have the text broken down into words, counting them is straightforward. Here are all the word counts, with the most common at the top:"
   ]
  },
  {
   "cell_type": "code",
   "execution_count": 10,
   "id": "cf08b9cc",
   "metadata": {},
   "outputs": [],
   "source": [
    "wc <- king_words %>%\n",
    "    group_by(word) %>%\n",
    "    summarize(count=n()) %>%\n",
    "    arrange(desc(count))"
   ]
  },
  {
   "cell_type": "code",
   "execution_count": 11,
   "id": "230303d5",
   "metadata": {},
   "outputs": [
    {
     "name": "stdout",
     "output_type": "stream",
     "text": [
      "tibble [6,960 × 2] (S3: tbl_df/tbl/data.frame)\n",
      " $ word : chr [1:6960] \"and\" \"the\" \"of\" \"a\" ...\n",
      " $ count: int [1:6960] 4621 4494 1903 1557 1556 1277 1248 970 946 923 ...\n"
     ]
    }
   ],
   "source": [
    "str(wc)"
   ]
  },
  {
   "cell_type": "code",
   "execution_count": 12,
   "id": "39516b07",
   "metadata": {},
   "outputs": [
    {
     "data": {
      "text/html": [
       "<table class=\"dataframe\">\n",
       "<caption>A tibble: 6 × 2</caption>\n",
       "<thead>\n",
       "\t<tr><th scope=col>word</th><th scope=col>count</th></tr>\n",
       "\t<tr><th scope=col>&lt;chr&gt;</th><th scope=col>&lt;int&gt;</th></tr>\n",
       "</thead>\n",
       "<tbody>\n",
       "\t<tr><td>and</td><td>4621</td></tr>\n",
       "\t<tr><td>the</td><td>4494</td></tr>\n",
       "\t<tr><td>of </td><td>1903</td></tr>\n",
       "\t<tr><td>a  </td><td>1557</td></tr>\n",
       "\t<tr><td>to </td><td>1556</td></tr>\n",
       "\t<tr><td>in </td><td>1277</td></tr>\n",
       "</tbody>\n",
       "</table>\n"
      ],
      "text/latex": [
       "A tibble: 6 × 2\n",
       "\\begin{tabular}{ll}\n",
       " word & count\\\\\n",
       " <chr> & <int>\\\\\n",
       "\\hline\n",
       "\t and & 4621\\\\\n",
       "\t the & 4494\\\\\n",
       "\t of  & 1903\\\\\n",
       "\t a   & 1557\\\\\n",
       "\t to  & 1556\\\\\n",
       "\t in  & 1277\\\\\n",
       "\\end{tabular}\n"
      ],
      "text/markdown": [
       "\n",
       "A tibble: 6 × 2\n",
       "\n",
       "| word &lt;chr&gt; | count &lt;int&gt; |\n",
       "|---|---|\n",
       "| and | 4621 |\n",
       "| the | 4494 |\n",
       "| of  | 1903 |\n",
       "| a   | 1557 |\n",
       "| to  | 1556 |\n",
       "| in  | 1277 |\n",
       "\n"
      ],
      "text/plain": [
       "  word count\n",
       "1 and  4621 \n",
       "2 the  4494 \n",
       "3 of   1903 \n",
       "4 a    1557 \n",
       "5 to   1556 \n",
       "6 in   1277 "
      ]
     },
     "metadata": {},
     "output_type": "display_data"
    }
   ],
   "source": [
    "head(wc)"
   ]
  },
  {
   "cell_type": "code",
   "execution_count": 13,
   "id": "41574f4e",
   "metadata": {},
   "outputs": [
    {
     "data": {
      "text/html": [
       "<table class=\"dataframe\">\n",
       "<caption>A tibble: 6 × 2</caption>\n",
       "<thead>\n",
       "\t<tr><th scope=col>word</th><th scope=col>count</th></tr>\n",
       "\t<tr><th scope=col>&lt;chr&gt;</th><th scope=col>&lt;int&gt;</th></tr>\n",
       "</thead>\n",
       "<tbody>\n",
       "\t<tr><td>youthful </td><td>1</td></tr>\n",
       "\t<tr><td>youthhood</td><td>1</td></tr>\n",
       "\t<tr><td>youths   </td><td>1</td></tr>\n",
       "\t<tr><td>zigzag   </td><td>1</td></tr>\n",
       "\t<tr><td>zone     </td><td>1</td></tr>\n",
       "\t<tr><td>zones    </td><td>1</td></tr>\n",
       "</tbody>\n",
       "</table>\n"
      ],
      "text/latex": [
       "A tibble: 6 × 2\n",
       "\\begin{tabular}{ll}\n",
       " word & count\\\\\n",
       " <chr> & <int>\\\\\n",
       "\\hline\n",
       "\t youthful  & 1\\\\\n",
       "\t youthhood & 1\\\\\n",
       "\t youths    & 1\\\\\n",
       "\t zigzag    & 1\\\\\n",
       "\t zone      & 1\\\\\n",
       "\t zones     & 1\\\\\n",
       "\\end{tabular}\n"
      ],
      "text/markdown": [
       "\n",
       "A tibble: 6 × 2\n",
       "\n",
       "| word &lt;chr&gt; | count &lt;int&gt; |\n",
       "|---|---|\n",
       "| youthful  | 1 |\n",
       "| youthhood | 1 |\n",
       "| youths    | 1 |\n",
       "| zigzag    | 1 |\n",
       "| zone      | 1 |\n",
       "| zones     | 1 |\n",
       "\n"
      ],
      "text/plain": [
       "  word      count\n",
       "1 youthful  1    \n",
       "2 youthhood 1    \n",
       "3 youths    1    \n",
       "4 zigzag    1    \n",
       "5 zone      1    \n",
       "6 zones     1    "
      ]
     },
     "metadata": {},
     "output_type": "display_data"
    }
   ],
   "source": [
    "tail(wc)"
   ]
  },
  {
   "cell_type": "markdown",
   "id": "c81629cb",
   "metadata": {},
   "source": [
    "### The Zipfian curve\n",
    "\n",
    "We can see that the word frequencies drop off quickly. In the early 20th century, George Zipf described the apparent universality of this phenomenon, which has come to be called [\"Zipf's Law\"](https://en.wikipedia.org/wiki/Zipf%27s_law). In general, we expect the log of word frequency to decrease linearly with log of word rank.\n",
    "\n",
    "Let's plot the fequencies with **ggplot2** to observe this. First, here are the raw counts—they drop off precipitously with rank:"
   ]
  },
  {
   "cell_type": "code",
   "execution_count": 14,
   "id": "078ed684",
   "metadata": {},
   "outputs": [
    {
     "data": {
      "image/png": "[encoded data removed]",
      "text/plain": [
       "plot without title"
      ]
     },
     "metadata": {
      "image/png": {
       "height": 420,
       "width": 420
      }
     },
     "output_type": "display_data"
    }
   ],
   "source": [
    "wc %>% \n",
    "    mutate(rank=row_number()) %>%\n",
    "ggplot() +\n",
    "    aes(x=rank, y=count) +\n",
    "    geom_line()"
   ]
  },
  {
   "cell_type": "markdown",
   "id": "5d665411",
   "metadata": {},
   "source": [
    "Here they are again on a log-log plot:"
   ]
  },
  {
   "cell_type": "code",
   "execution_count": 15,
   "id": "9e503b75",
   "metadata": {},
   "outputs": [
    {
     "data": {
      "image/png": "[encoded data removed]",
      "text/plain": [
       "plot without title"
      ]
     },
     "metadata": {
      "image/png": {
       "height": 420,
       "width": 420
      }
     },
     "output_type": "display_data"
    }
   ],
   "source": [
    "wc %>% \n",
    "    mutate(rank=row_number()) %>%\n",
    "ggplot() +\n",
    "    aes(x=rank, y=count) +\n",
    "    geom_line() +\n",
    "    scale_x_log10() +\n",
    "    scale_y_log10()"
   ]
  },
  {
   "cell_type": "markdown",
   "id": "2cfb78a1",
   "metadata": {},
   "source": [
    "### More on word frequency\n",
    "\n",
    "So what are the top words in Tennyson's poems? They seem pretty bland..."
   ]
  },
  {
   "cell_type": "code",
   "execution_count": 16,
   "id": "d1e06cd3",
   "metadata": {},
   "outputs": [
    {
     "data": {
      "text/html": [
       "<table class=\"dataframe\">\n",
       "<caption>A tibble: 6 × 2</caption>\n",
       "<thead>\n",
       "\t<tr><th scope=col>word</th><th scope=col>count</th></tr>\n",
       "\t<tr><th scope=col>&lt;chr&gt;</th><th scope=col>&lt;int&gt;</th></tr>\n",
       "</thead>\n",
       "<tbody>\n",
       "\t<tr><td>and</td><td>4621</td></tr>\n",
       "\t<tr><td>the</td><td>4494</td></tr>\n",
       "\t<tr><td>of </td><td>1903</td></tr>\n",
       "\t<tr><td>a  </td><td>1557</td></tr>\n",
       "\t<tr><td>to </td><td>1556</td></tr>\n",
       "\t<tr><td>in </td><td>1277</td></tr>\n",
       "</tbody>\n",
       "</table>\n"
      ],
      "text/latex": [
       "A tibble: 6 × 2\n",
       "\\begin{tabular}{ll}\n",
       " word & count\\\\\n",
       " <chr> & <int>\\\\\n",
       "\\hline\n",
       "\t and & 4621\\\\\n",
       "\t the & 4494\\\\\n",
       "\t of  & 1903\\\\\n",
       "\t a   & 1557\\\\\n",
       "\t to  & 1556\\\\\n",
       "\t in  & 1277\\\\\n",
       "\\end{tabular}\n"
      ],
      "text/markdown": [
       "\n",
       "A tibble: 6 × 2\n",
       "\n",
       "| word &lt;chr&gt; | count &lt;int&gt; |\n",
       "|---|---|\n",
       "| and | 4621 |\n",
       "| the | 4494 |\n",
       "| of  | 1903 |\n",
       "| a   | 1557 |\n",
       "| to  | 1556 |\n",
       "| in  | 1277 |\n",
       "\n"
      ],
      "text/plain": [
       "  word count\n",
       "1 and  4621 \n",
       "2 the  4494 \n",
       "3 of   1903 \n",
       "4 a    1557 \n",
       "5 to   1556 \n",
       "6 in   1277 "
      ]
     },
     "metadata": {},
     "output_type": "display_data"
    }
   ],
   "source": [
    "head(wc)"
   ]
  },
  {
   "cell_type": "markdown",
   "id": "c8ca87cd",
   "metadata": {},
   "source": [
    "The **most frequent words** (MFWs) are almost exclusively **function words**, that is, words that are more related to how the language works than what the text is talking about (i.e. **content words**).\n",
    "\n",
    "What you do with these words probably has a lot to do with what tasks you're interested in. The world of computational text analysis tends to be divided into those who prune MFWs before they even get started and those who, on the contrary, throw away everything else.\n",
    "\n",
    "#### function words are useful for:\n",
    "- authorship attribution\n",
    "- stylometry\n",
    "- some natural language processing\n",
    "\n",
    "#### content words are useful for:\n",
    "- information retrieval\n",
    "- word vectors\n",
    "- sentiment analysis\n",
    "\n",
    "In general, analyses concerned with style have tended to favour MFWs (though sometimes with culling of the *top* most frequent words), while analyses concerned with content have tended to throw them away. Underlying this dichotomy is a more-or-less well-articulated assumption that *style and content are orthogonal*, or independent of each other.\n",
    "\n",
    "So, for example, authorship attribution assumes that an author’s **stylistic fingerprint** is independent of what they’re writing about, and that an author might potentially write about any subject. If I really get to the essence of what makes J.K. Rowling’s language her own, then it should have nothing to do with wizards, but apply equally to detective novels, and perhaps even more diverse genres.\n",
    "\n",
    "On the other hand, information retrieval assumes that all documents on a certain subject share certain properties regardless of who wrote them, and that a given subject might be written about in any style. A perfect model of the topic *baseball*, for example, would match biographies of players, sports news articles, fiction, and maybe even \"Casey at the Bat.\"\n",
    "\n",
    "### Theoretical and practical considerations\n",
    "\n",
    "I am personally opposed to these assumptions on ideological grounds: both style and content are transmitted in a single channel, the stream of language, and there is nothing to stop leakage between them. In my own field, for example, there is much debate over whether the epithet in a phrase like \"swift-footed Achilles\" is style or content. And Roman authors frequently played with the idea that style and content were intimately connected: Ovid, for example, says explicitly (if with tongue in cheek) in *Amores* 1.1 that he’s incapable of writing about war in the elegiac metre.\n",
    "\n",
    "For practical purposes, however, the division between style and content proves very useful. There isn't one firm threshold that separates function words from content, but rather each study involves some tuning to find the parameters that work best in context. Meanwhile, interest in the \"middle\" part of the frequency spectrum is increasing, and the dichotomy I described above was a bit overstated. You can, for example, see some cool visualizations of the effectiveness of various word-frequency windows for authorship using Stylo [here](https://doi.org/10.1093/llc/fqr031)."
   ]
  },
  {
   "cell_type": "markdown",
   "id": "36e59db0",
   "metadata": {},
   "source": [
    "## From single texts to corpora\n",
    "\n",
    "Let's consider how word counts scale as we add more texts. Let's compare selected children's novels by two authors from the turn of the last century, E. Nesbit and L.M. Montgomery."
   ]
  },
  {
   "cell_type": "code",
   "execution_count": 17,
   "id": "1ff42edd",
   "metadata": {},
   "outputs": [
    {
     "name": "stderr",
     "output_type": "stream",
     "text": [
      "\u001b[1mRows: \u001b[22m\u001b[34m12\u001b[39m \u001b[1mColumns: \u001b[22m\u001b[34m4\u001b[39m\n",
      "\u001b[36m──\u001b[39m \u001b[1mColumn specification\u001b[22m \u001b[36m────────────────────────────────────────────────────────\u001b[39m\n",
      "\u001b[1mDelimiter:\u001b[22m \",\"\n",
      "\u001b[31mchr\u001b[39m (2): author, title\n",
      "\u001b[32mdbl\u001b[39m (2): year, gutenberg_id\n",
      "\n",
      "\u001b[36mℹ\u001b[39m Use `spec()` to retrieve the full column specification for this data.\n",
      "\u001b[36mℹ\u001b[39m Specify the column types or set `show_col_types = FALSE` to quiet this message.\n"
     ]
    },
    {
     "data": {
      "text/html": [
       "<table class=\"dataframe\">\n",
       "<caption>A spec_tbl_df: 12 × 4</caption>\n",
       "<thead>\n",
       "\t<tr><th scope=col>author</th><th scope=col>title</th><th scope=col>year</th><th scope=col>gutenberg_id</th></tr>\n",
       "\t<tr><th scope=col>&lt;chr&gt;</th><th scope=col>&lt;chr&gt;</th><th scope=col>&lt;dbl&gt;</th><th scope=col>&lt;dbl&gt;</th></tr>\n",
       "</thead>\n",
       "<tbody>\n",
       "\t<tr><td>Montgomery</td><td>Anne of Green Gables             </td><td>1908</td><td>   45</td></tr>\n",
       "\t<tr><td>Montgomery</td><td>Anne of Avonlea                  </td><td>1909</td><td>   47</td></tr>\n",
       "\t<tr><td>Montgomery</td><td>Anne of the Island               </td><td>1915</td><td>   51</td></tr>\n",
       "\t<tr><td>Montgomery</td><td>Anne's House of Dreams           </td><td>1917</td><td>  544</td></tr>\n",
       "\t<tr><td>Montgomery</td><td>Rilla of Ingleside               </td><td>1921</td><td> 3796</td></tr>\n",
       "\t<tr><td>Montgomery</td><td>Rainbow Valley                   </td><td>1919</td><td> 5343</td></tr>\n",
       "\t<tr><td>Nesbit    </td><td>The Enchanted Castle             </td><td>1907</td><td> 3536</td></tr>\n",
       "\t<tr><td>Nesbit    </td><td>The Railway Children             </td><td>1906</td><td> 1874</td></tr>\n",
       "\t<tr><td>Nesbit    </td><td>The Story of the Treasure Seekers</td><td>1899</td><td>  770</td></tr>\n",
       "\t<tr><td>Nesbit    </td><td>Five Children and It             </td><td>1902</td><td>17314</td></tr>\n",
       "\t<tr><td>Nesbit    </td><td>The Phoenix and the Carpet       </td><td>1904</td><td>  836</td></tr>\n",
       "\t<tr><td>Nesbit    </td><td>The Story of the Amulet          </td><td>1906</td><td>  837</td></tr>\n",
       "</tbody>\n",
       "</table>\n"
      ],
      "text/latex": [
       "A spec\\_tbl\\_df: 12 × 4\n",
       "\\begin{tabular}{llll}\n",
       " author & title & year & gutenberg\\_id\\\\\n",
       " <chr> & <chr> & <dbl> & <dbl>\\\\\n",
       "\\hline\n",
       "\t Montgomery & Anne of Green Gables              & 1908 &    45\\\\\n",
       "\t Montgomery & Anne of Avonlea                   & 1909 &    47\\\\\n",
       "\t Montgomery & Anne of the Island                & 1915 &    51\\\\\n",
       "\t Montgomery & Anne's House of Dreams            & 1917 &   544\\\\\n",
       "\t Montgomery & Rilla of Ingleside                & 1921 &  3796\\\\\n",
       "\t Montgomery & Rainbow Valley                    & 1919 &  5343\\\\\n",
       "\t Nesbit     & The Enchanted Castle              & 1907 &  3536\\\\\n",
       "\t Nesbit     & The Railway Children              & 1906 &  1874\\\\\n",
       "\t Nesbit     & The Story of the Treasure Seekers & 1899 &   770\\\\\n",
       "\t Nesbit     & Five Children and It              & 1902 & 17314\\\\\n",
       "\t Nesbit     & The Phoenix and the Carpet        & 1904 &   836\\\\\n",
       "\t Nesbit     & The Story of the Amulet           & 1906 &   837\\\\\n",
       "\\end{tabular}\n"
      ],
      "text/markdown": [
       "\n",
       "A spec_tbl_df: 12 × 4\n",
       "\n",
       "| author &lt;chr&gt; | title &lt;chr&gt; | year &lt;dbl&gt; | gutenberg_id &lt;dbl&gt; |\n",
       "|---|---|---|---|\n",
       "| Montgomery | Anne of Green Gables              | 1908 |    45 |\n",
       "| Montgomery | Anne of Avonlea                   | 1909 |    47 |\n",
       "| Montgomery | Anne of the Island                | 1915 |    51 |\n",
       "| Montgomery | Anne's House of Dreams            | 1917 |   544 |\n",
       "| Montgomery | Rilla of Ingleside                | 1921 |  3796 |\n",
       "| Montgomery | Rainbow Valley                    | 1919 |  5343 |\n",
       "| Nesbit     | The Enchanted Castle              | 1907 |  3536 |\n",
       "| Nesbit     | The Railway Children              | 1906 |  1874 |\n",
       "| Nesbit     | The Story of the Treasure Seekers | 1899 |   770 |\n",
       "| Nesbit     | Five Children and It              | 1902 | 17314 |\n",
       "| Nesbit     | The Phoenix and the Carpet        | 1904 |   836 |\n",
       "| Nesbit     | The Story of the Amulet           | 1906 |   837 |\n",
       "\n"
      ],
      "text/plain": [
       "   author     title                             year gutenberg_id\n",
       "1  Montgomery Anne of Green Gables              1908    45       \n",
       "2  Montgomery Anne of Avonlea                   1909    47       \n",
       "3  Montgomery Anne of the Island                1915    51       \n",
       "4  Montgomery Anne's House of Dreams            1917   544       \n",
       "5  Montgomery Rilla of Ingleside                1921  3796       \n",
       "6  Montgomery Rainbow Valley                    1919  5343       \n",
       "7  Nesbit     The Enchanted Castle              1907  3536       \n",
       "8  Nesbit     The Railway Children              1906  1874       \n",
       "9  Nesbit     The Story of the Treasure Seekers 1899   770       \n",
       "10 Nesbit     Five Children and It              1902 17314       \n",
       "11 Nesbit     The Phoenix and the Carpet        1904   836       \n",
       "12 Nesbit     The Story of the Amulet           1906   837       "
      ]
     },
     "metadata": {},
     "output_type": "display_data"
    }
   ],
   "source": [
    "corpus <- read_csv('https://raw.githubusercontent.com/cwf2/rostock_r/main/data/novels.csv')\n",
    "corpus"
   ]
  },
  {
   "cell_type": "markdown",
   "id": "1c67f4fc",
   "metadata": {},
   "source": [
    "We'll download all the novels at once using gutenbergr. In the interest of time we won't worry about a lot of cleanup."
   ]
  },
  {
   "cell_type": "code",
   "execution_count": 18,
   "id": "34969009",
   "metadata": {},
   "outputs": [],
   "source": [
    "corpus_lines <- gutenberg_download(corpus$gutenberg_id)"
   ]
  },
  {
   "cell_type": "code",
   "execution_count": 19,
   "id": "bcce39dc",
   "metadata": {},
   "outputs": [
    {
     "name": "stdout",
     "output_type": "stream",
     "text": [
      "tibble [104,478 × 2] (S3: tbl_df/tbl/data.frame)\n",
      " $ gutenberg_id: int [1:104478] 45 45 45 45 45 45 45 45 45 45 ...\n",
      " $ text        : chr [1:104478] \"ANNE OF GREEN GABLES\" \"\" \"By Lucy Maud Montgomery\" \"\" ...\n"
     ]
    }
   ],
   "source": [
    "str(corpus_lines)"
   ]
  },
  {
   "cell_type": "markdown",
   "id": "c758d6f9",
   "metadata": {},
   "source": [
    "The corpus now has over 100,000 lines of text! Next, we'll tokenize into words:"
   ]
  },
  {
   "cell_type": "code",
   "execution_count": 20,
   "id": "1447f158",
   "metadata": {},
   "outputs": [],
   "source": [
    "corpus_words <- corpus_lines %>% \n",
    "    unnest_tokens(output=word, input=text)"
   ]
  },
  {
   "cell_type": "code",
   "execution_count": 21,
   "id": "a844a8c7",
   "metadata": {},
   "outputs": [
    {
     "name": "stdout",
     "output_type": "stream",
     "text": [
      "tibble [908,701 × 2] (S3: tbl_df/tbl/data.frame)\n",
      " $ gutenberg_id: int [1:908701] 45 45 45 45 45 45 45 45 45 45 ...\n",
      " $ word        : chr [1:908701] \"anne\" \"of\" \"green\" \"gables\" ...\n"
     ]
    }
   ],
   "source": [
    "str(corpus_words)"
   ]
  },
  {
   "cell_type": "markdown",
   "id": "f4840541",
   "metadata": {},
   "source": [
    "That produced a table with nearly a million rows! Each row has a single `word`, as well as the `gutenberg_id` it belongs to.\n",
    "\n",
    "Now we'll summarise. This code\n",
    "- groups by `gutenberg_id` and `word`, i.e., takes together all occurrences of a given word in a text\n",
    "- summarizes by the function `n()`, which is just a count of rows; in my summary, I’m also chosing to name this count `n`\n",
    "- orders the results in decreasing order by `n` (one reason to name it earlier is so I can refer to it here)"
   ]
  },
  {
   "cell_type": "code",
   "execution_count": 22,
   "id": "bfa6b641",
   "metadata": {},
   "outputs": [
    {
     "name": "stderr",
     "output_type": "stream",
     "text": [
      "\u001b[1m\u001b[22m`summarise()` has grouped output by 'gutenberg_id'. You can override using the\n",
      "`.groups` argument.\n"
     ]
    }
   ],
   "source": [
    "counts_by_book <- corpus_words %>%\n",
    "    group_by(gutenberg_id, word) %>%\n",
    "    summarize(n=n()) %>% \n",
    "    arrange(desc(n))"
   ]
  },
  {
   "cell_type": "code",
   "execution_count": 23,
   "id": "14d7dcde",
   "metadata": {},
   "outputs": [
    {
     "data": {
      "text/html": [
       "<table class=\"dataframe\">\n",
       "<caption>A grouped_df: 6 × 3</caption>\n",
       "<thead>\n",
       "\t<tr><th scope=col>gutenberg_id</th><th scope=col>word</th><th scope=col>n</th></tr>\n",
       "\t<tr><th scope=col>&lt;int&gt;</th><th scope=col>&lt;chr&gt;</th><th scope=col>&lt;int&gt;</th></tr>\n",
       "</thead>\n",
       "<tbody>\n",
       "\t<tr><td> 837</td><td>the</td><td>4581</td></tr>\n",
       "\t<tr><td>3796</td><td>the</td><td>4245</td></tr>\n",
       "\t<tr><td> 836</td><td>the</td><td>4067</td></tr>\n",
       "\t<tr><td>3536</td><td>the</td><td>4003</td></tr>\n",
       "\t<tr><td>  45</td><td>the</td><td>3925</td></tr>\n",
       "\t<tr><td>3796</td><td>and</td><td>3591</td></tr>\n",
       "</tbody>\n",
       "</table>\n"
      ],
      "text/latex": [
       "A grouped\\_df: 6 × 3\n",
       "\\begin{tabular}{lll}\n",
       " gutenberg\\_id & word & n\\\\\n",
       " <int> & <chr> & <int>\\\\\n",
       "\\hline\n",
       "\t  837 & the & 4581\\\\\n",
       "\t 3796 & the & 4245\\\\\n",
       "\t  836 & the & 4067\\\\\n",
       "\t 3536 & the & 4003\\\\\n",
       "\t   45 & the & 3925\\\\\n",
       "\t 3796 & and & 3591\\\\\n",
       "\\end{tabular}\n"
      ],
      "text/markdown": [
       "\n",
       "A grouped_df: 6 × 3\n",
       "\n",
       "| gutenberg_id &lt;int&gt; | word &lt;chr&gt; | n &lt;int&gt; |\n",
       "|---|---|---|\n",
       "|  837 | the | 4581 |\n",
       "| 3796 | the | 4245 |\n",
       "|  836 | the | 4067 |\n",
       "| 3536 | the | 4003 |\n",
       "|   45 | the | 3925 |\n",
       "| 3796 | and | 3591 |\n",
       "\n"
      ],
      "text/plain": [
       "  gutenberg_id word n   \n",
       "1  837         the  4581\n",
       "2 3796         the  4245\n",
       "3  836         the  4067\n",
       "4 3536         the  4003\n",
       "5   45         the  3925\n",
       "6 3796         and  3591"
      ]
     },
     "metadata": {},
     "output_type": "display_data"
    }
   ],
   "source": [
    "head(counts_by_book)"
   ]
  },
  {
   "cell_type": "markdown",
   "id": "6eb4c42a",
   "metadata": {},
   "source": [
    "In fact, this workflow is a common enough task that there’s a shortcut for it, `count()`. The following does exactly the same thing:"
   ]
  },
  {
   "cell_type": "code",
   "execution_count": 24,
   "id": "590117b3",
   "metadata": {},
   "outputs": [],
   "source": [
    "counts_by_book <- corpus_words %>%\n",
    "    count(gutenberg_id, word, sort=TRUE)"
   ]
  },
  {
   "cell_type": "code",
   "execution_count": 25,
   "id": "b07bf519",
   "metadata": {},
   "outputs": [
    {
     "data": {
      "text/html": [
       "<table class=\"dataframe\">\n",
       "<caption>A tibble: 6 × 3</caption>\n",
       "<thead>\n",
       "\t<tr><th scope=col>gutenberg_id</th><th scope=col>word</th><th scope=col>n</th></tr>\n",
       "\t<tr><th scope=col>&lt;int&gt;</th><th scope=col>&lt;chr&gt;</th><th scope=col>&lt;int&gt;</th></tr>\n",
       "</thead>\n",
       "<tbody>\n",
       "\t<tr><td> 837</td><td>the</td><td>4581</td></tr>\n",
       "\t<tr><td>3796</td><td>the</td><td>4245</td></tr>\n",
       "\t<tr><td> 836</td><td>the</td><td>4067</td></tr>\n",
       "\t<tr><td>3536</td><td>the</td><td>4003</td></tr>\n",
       "\t<tr><td>  45</td><td>the</td><td>3925</td></tr>\n",
       "\t<tr><td>3796</td><td>and</td><td>3591</td></tr>\n",
       "</tbody>\n",
       "</table>\n"
      ],
      "text/latex": [
       "A tibble: 6 × 3\n",
       "\\begin{tabular}{lll}\n",
       " gutenberg\\_id & word & n\\\\\n",
       " <int> & <chr> & <int>\\\\\n",
       "\\hline\n",
       "\t  837 & the & 4581\\\\\n",
       "\t 3796 & the & 4245\\\\\n",
       "\t  836 & the & 4067\\\\\n",
       "\t 3536 & the & 4003\\\\\n",
       "\t   45 & the & 3925\\\\\n",
       "\t 3796 & and & 3591\\\\\n",
       "\\end{tabular}\n"
      ],
      "text/markdown": [
       "\n",
       "A tibble: 6 × 3\n",
       "\n",
       "| gutenberg_id &lt;int&gt; | word &lt;chr&gt; | n &lt;int&gt; |\n",
       "|---|---|---|\n",
       "|  837 | the | 4581 |\n",
       "| 3796 | the | 4245 |\n",
       "|  836 | the | 4067 |\n",
       "| 3536 | the | 4003 |\n",
       "|   45 | the | 3925 |\n",
       "| 3796 | and | 3591 |\n",
       "\n"
      ],
      "text/plain": [
       "  gutenberg_id word n   \n",
       "1  837         the  4581\n",
       "2 3796         the  4245\n",
       "3  836         the  4067\n",
       "4 3536         the  4003\n",
       "5   45         the  3925\n",
       "6 3796         and  3591"
      ]
     },
     "metadata": {},
     "output_type": "display_data"
    }
   ],
   "source": [
    "head(counts_by_book)"
   ]
  },
  {
   "cell_type": "markdown",
   "id": "f0187606",
   "metadata": {},
   "source": [
    "Does the `counts_by_book` table make sense? It has one row for every unique `gutenberg_id`, `word` pairing, along with the count for that word in that book.\n",
    "\n",
    "Maybe you’re imagining a table with one row per book and a column for every word count. We’ll definitely see that model in text analysis: it’s often called a [**document-term matrix**](https://en.wikipedia.org/wiki/Document-term_matrix). One issue with that representation is that not every word exists in every document. Just the opposite, in fact: it produces what is called a \"sparse matrix\", in which most of the cells are zeros.\n",
    "\n",
    "## From counts to frequencies\n",
    "\n",
    "If we want to compare the novels of our corpus, we need to account for the fact that some novels are longer than others. The simplest way is to divide each count by the total number of words in the document. (Because the resulting numbers are so low, it’s common to see frequencies reported per 1000 words.)\n",
    "\n",
    "To get the total words count per document, we can group the per-book counts and take the sum."
   ]
  },
  {
   "cell_type": "code",
   "execution_count": 26,
   "id": "526f2a22",
   "metadata": {},
   "outputs": [],
   "source": [
    "totals_by_book <- counts_by_book %>%\n",
    "    group_by(gutenberg_id) %>%\n",
    "    summarize(total=sum(n))"
   ]
  },
  {
   "cell_type": "code",
   "execution_count": 27,
   "id": "5c919721",
   "metadata": {},
   "outputs": [
    {
     "data": {
      "text/html": [
       "<table class=\"dataframe\">\n",
       "<caption>A tibble: 12 × 2</caption>\n",
       "<thead>\n",
       "\t<tr><th scope=col>gutenberg_id</th><th scope=col>total</th></tr>\n",
       "\t<tr><th scope=col>&lt;int&gt;</th><th scope=col>&lt;int&gt;</th></tr>\n",
       "</thead>\n",
       "<tbody>\n",
       "\t<tr><td>   45</td><td>103554</td></tr>\n",
       "\t<tr><td>   47</td><td> 89058</td></tr>\n",
       "\t<tr><td>   51</td><td> 77519</td></tr>\n",
       "\t<tr><td>  544</td><td> 80903</td></tr>\n",
       "\t<tr><td>  770</td><td> 53428</td></tr>\n",
       "\t<tr><td>  836</td><td> 62614</td></tr>\n",
       "\t<tr><td>  837</td><td> 69667</td></tr>\n",
       "\t<tr><td> 1874</td><td> 60195</td></tr>\n",
       "\t<tr><td> 3536</td><td> 68995</td></tr>\n",
       "\t<tr><td> 3796</td><td>105847</td></tr>\n",
       "\t<tr><td> 5343</td><td> 82147</td></tr>\n",
       "\t<tr><td>17314</td><td> 54774</td></tr>\n",
       "</tbody>\n",
       "</table>\n"
      ],
      "text/latex": [
       "A tibble: 12 × 2\n",
       "\\begin{tabular}{ll}\n",
       " gutenberg\\_id & total\\\\\n",
       " <int> & <int>\\\\\n",
       "\\hline\n",
       "\t    45 & 103554\\\\\n",
       "\t    47 &  89058\\\\\n",
       "\t    51 &  77519\\\\\n",
       "\t   544 &  80903\\\\\n",
       "\t   770 &  53428\\\\\n",
       "\t   836 &  62614\\\\\n",
       "\t   837 &  69667\\\\\n",
       "\t  1874 &  60195\\\\\n",
       "\t  3536 &  68995\\\\\n",
       "\t  3796 & 105847\\\\\n",
       "\t  5343 &  82147\\\\\n",
       "\t 17314 &  54774\\\\\n",
       "\\end{tabular}\n"
      ],
      "text/markdown": [
       "\n",
       "A tibble: 12 × 2\n",
       "\n",
       "| gutenberg_id &lt;int&gt; | total &lt;int&gt; |\n",
       "|---|---|\n",
       "|    45 | 103554 |\n",
       "|    47 |  89058 |\n",
       "|    51 |  77519 |\n",
       "|   544 |  80903 |\n",
       "|   770 |  53428 |\n",
       "|   836 |  62614 |\n",
       "|   837 |  69667 |\n",
       "|  1874 |  60195 |\n",
       "|  3536 |  68995 |\n",
       "|  3796 | 105847 |\n",
       "|  5343 |  82147 |\n",
       "| 17314 |  54774 |\n",
       "\n"
      ],
      "text/plain": [
       "   gutenberg_id total \n",
       "1     45        103554\n",
       "2     47         89058\n",
       "3     51         77519\n",
       "4    544         80903\n",
       "5    770         53428\n",
       "6    836         62614\n",
       "7    837         69667\n",
       "8   1874         60195\n",
       "9   3536         68995\n",
       "10  3796        105847\n",
       "11  5343         82147\n",
       "12 17314         54774"
      ]
     },
     "metadata": {},
     "output_type": "display_data"
    }
   ],
   "source": [
    "totals_by_book"
   ]
  },
  {
   "cell_type": "markdown",
   "id": "1f7dadfb",
   "metadata": {},
   "source": [
    "In the interest of keeping book-level data in the same place, I’m going to do a **join** between `totals_by_book`, which just has the per-book word-counts, and `corpus`, my original table of metadata on the novels.\n",
    "\n",
    "A join merges two tables based on a common column. There are several kinds of join, depending on whether you want complete data from either or both tables, or only those rows that the two have in common. \n",
    "\n",
    "In this case, I’m going to use a **left join**, which means I want everything from the left-hand table (in this case, `corpus`) plus any rows from the right that match. R will figure out that I want to join on the column `gutenberg_id` because that’s the only one the two tables have in common. \n",
    "\n",
    "A **right join** would give me all the rows of the right-hand table plus any from the left that match on the common column, while a **full join** would give me all rows from both tables.\n",
    "\n",
    "An **inner join** gives me only the those rows that match both tables. In fact, in this case it hardly matters which join I choose, because both tables have the same number of rows and the same values for `gutenberg_id`. I just want to be certain that the right total goes with the right row in `corpus`.\n",
    "\n",
    "You can read more about joins [here](https://r4ds.had.co.nz/relational-data.html#understanding-joins).\n"
   ]
  },
  {
   "cell_type": "code",
   "execution_count": 28,
   "id": "01b5279b",
   "metadata": {},
   "outputs": [
    {
     "name": "stderr",
     "output_type": "stream",
     "text": [
      "\u001b[1m\u001b[22mJoining, by = \"gutenberg_id\"\n"
     ]
    }
   ],
   "source": [
    "corpus <- corpus %>% left_join(totals_by_book)"
   ]
  },
  {
   "cell_type": "code",
   "execution_count": 29,
   "id": "57b7a5ca",
   "metadata": {},
   "outputs": [
    {
     "data": {
      "text/html": [
       "<table class=\"dataframe\">\n",
       "<caption>A spec_tbl_df: 12 × 5</caption>\n",
       "<thead>\n",
       "\t<tr><th scope=col>author</th><th scope=col>title</th><th scope=col>year</th><th scope=col>gutenberg_id</th><th scope=col>total</th></tr>\n",
       "\t<tr><th scope=col>&lt;chr&gt;</th><th scope=col>&lt;chr&gt;</th><th scope=col>&lt;dbl&gt;</th><th scope=col>&lt;dbl&gt;</th><th scope=col>&lt;int&gt;</th></tr>\n",
       "</thead>\n",
       "<tbody>\n",
       "\t<tr><td>Montgomery</td><td>Anne of Green Gables             </td><td>1908</td><td>   45</td><td>103554</td></tr>\n",
       "\t<tr><td>Montgomery</td><td>Anne of Avonlea                  </td><td>1909</td><td>   47</td><td> 89058</td></tr>\n",
       "\t<tr><td>Montgomery</td><td>Anne of the Island               </td><td>1915</td><td>   51</td><td> 77519</td></tr>\n",
       "\t<tr><td>Montgomery</td><td>Anne's House of Dreams           </td><td>1917</td><td>  544</td><td> 80903</td></tr>\n",
       "\t<tr><td>Montgomery</td><td>Rilla of Ingleside               </td><td>1921</td><td> 3796</td><td>105847</td></tr>\n",
       "\t<tr><td>Montgomery</td><td>Rainbow Valley                   </td><td>1919</td><td> 5343</td><td> 82147</td></tr>\n",
       "\t<tr><td>Nesbit    </td><td>The Enchanted Castle             </td><td>1907</td><td> 3536</td><td> 68995</td></tr>\n",
       "\t<tr><td>Nesbit    </td><td>The Railway Children             </td><td>1906</td><td> 1874</td><td> 60195</td></tr>\n",
       "\t<tr><td>Nesbit    </td><td>The Story of the Treasure Seekers</td><td>1899</td><td>  770</td><td> 53428</td></tr>\n",
       "\t<tr><td>Nesbit    </td><td>Five Children and It             </td><td>1902</td><td>17314</td><td> 54774</td></tr>\n",
       "\t<tr><td>Nesbit    </td><td>The Phoenix and the Carpet       </td><td>1904</td><td>  836</td><td> 62614</td></tr>\n",
       "\t<tr><td>Nesbit    </td><td>The Story of the Amulet          </td><td>1906</td><td>  837</td><td> 69667</td></tr>\n",
       "</tbody>\n",
       "</table>\n"
      ],
      "text/latex": [
       "A spec\\_tbl\\_df: 12 × 5\n",
       "\\begin{tabular}{lllll}\n",
       " author & title & year & gutenberg\\_id & total\\\\\n",
       " <chr> & <chr> & <dbl> & <dbl> & <int>\\\\\n",
       "\\hline\n",
       "\t Montgomery & Anne of Green Gables              & 1908 &    45 & 103554\\\\\n",
       "\t Montgomery & Anne of Avonlea                   & 1909 &    47 &  89058\\\\\n",
       "\t Montgomery & Anne of the Island                & 1915 &    51 &  77519\\\\\n",
       "\t Montgomery & Anne's House of Dreams            & 1917 &   544 &  80903\\\\\n",
       "\t Montgomery & Rilla of Ingleside                & 1921 &  3796 & 105847\\\\\n",
       "\t Montgomery & Rainbow Valley                    & 1919 &  5343 &  82147\\\\\n",
       "\t Nesbit     & The Enchanted Castle              & 1907 &  3536 &  68995\\\\\n",
       "\t Nesbit     & The Railway Children              & 1906 &  1874 &  60195\\\\\n",
       "\t Nesbit     & The Story of the Treasure Seekers & 1899 &   770 &  53428\\\\\n",
       "\t Nesbit     & Five Children and It              & 1902 & 17314 &  54774\\\\\n",
       "\t Nesbit     & The Phoenix and the Carpet        & 1904 &   836 &  62614\\\\\n",
       "\t Nesbit     & The Story of the Amulet           & 1906 &   837 &  69667\\\\\n",
       "\\end{tabular}\n"
      ],
      "text/markdown": [
       "\n",
       "A spec_tbl_df: 12 × 5\n",
       "\n",
       "| author &lt;chr&gt; | title &lt;chr&gt; | year &lt;dbl&gt; | gutenberg_id &lt;dbl&gt; | total &lt;int&gt; |\n",
       "|---|---|---|---|---|\n",
       "| Montgomery | Anne of Green Gables              | 1908 |    45 | 103554 |\n",
       "| Montgomery | Anne of Avonlea                   | 1909 |    47 |  89058 |\n",
       "| Montgomery | Anne of the Island                | 1915 |    51 |  77519 |\n",
       "| Montgomery | Anne's House of Dreams            | 1917 |   544 |  80903 |\n",
       "| Montgomery | Rilla of Ingleside                | 1921 |  3796 | 105847 |\n",
       "| Montgomery | Rainbow Valley                    | 1919 |  5343 |  82147 |\n",
       "| Nesbit     | The Enchanted Castle              | 1907 |  3536 |  68995 |\n",
       "| Nesbit     | The Railway Children              | 1906 |  1874 |  60195 |\n",
       "| Nesbit     | The Story of the Treasure Seekers | 1899 |   770 |  53428 |\n",
       "| Nesbit     | Five Children and It              | 1902 | 17314 |  54774 |\n",
       "| Nesbit     | The Phoenix and the Carpet        | 1904 |   836 |  62614 |\n",
       "| Nesbit     | The Story of the Amulet           | 1906 |   837 |  69667 |\n",
       "\n"
      ],
      "text/plain": [
       "   author     title                             year gutenberg_id total \n",
       "1  Montgomery Anne of Green Gables              1908    45        103554\n",
       "2  Montgomery Anne of Avonlea                   1909    47         89058\n",
       "3  Montgomery Anne of the Island                1915    51         77519\n",
       "4  Montgomery Anne's House of Dreams            1917   544         80903\n",
       "5  Montgomery Rilla of Ingleside                1921  3796        105847\n",
       "6  Montgomery Rainbow Valley                    1919  5343         82147\n",
       "7  Nesbit     The Enchanted Castle              1907  3536         68995\n",
       "8  Nesbit     The Railway Children              1906  1874         60195\n",
       "9  Nesbit     The Story of the Treasure Seekers 1899   770         53428\n",
       "10 Nesbit     Five Children and It              1902 17314         54774\n",
       "11 Nesbit     The Phoenix and the Carpet        1904   836         62614\n",
       "12 Nesbit     The Story of the Amulet           1906   837         69667"
      ]
     },
     "metadata": {},
     "output_type": "display_data"
    }
   ],
   "source": [
    "corpus"
   ]
  },
  {
   "cell_type": "markdown",
   "id": "1d3e4789",
   "metadata": {},
   "source": [
    "Watch what happens when we do a left join between `counts_by_book` and `totals_by_book`. `counts_by_book` has a lot more rows than `totals_by_book`, but they share a common column, `gutenberg_id`. R will use that column to look up the appropriate row in `totals_by_book` and give each row in `counts_by_book` the total for its respective id."
   ]
  },
  {
   "cell_type": "code",
   "execution_count": 30,
   "id": "662d97b8",
   "metadata": {},
   "outputs": [
    {
     "name": "stderr",
     "output_type": "stream",
     "text": [
      "\u001b[1m\u001b[22mJoining, by = \"gutenberg_id\"\n"
     ]
    },
    {
     "data": {
      "text/html": [
       "<table class=\"dataframe\">\n",
       "<caption>A tibble: 76749 × 4</caption>\n",
       "<thead>\n",
       "\t<tr><th scope=col>gutenberg_id</th><th scope=col>word</th><th scope=col>n</th><th scope=col>total</th></tr>\n",
       "\t<tr><th scope=col>&lt;int&gt;</th><th scope=col>&lt;chr&gt;</th><th scope=col>&lt;int&gt;</th><th scope=col>&lt;int&gt;</th></tr>\n",
       "</thead>\n",
       "<tbody>\n",
       "\t<tr><td>  837</td><td>the</td><td>4581</td><td> 69667</td></tr>\n",
       "\t<tr><td> 3796</td><td>the</td><td>4245</td><td>105847</td></tr>\n",
       "\t<tr><td>  836</td><td>the</td><td>4067</td><td> 62614</td></tr>\n",
       "\t<tr><td> 3536</td><td>the</td><td>4003</td><td> 68995</td></tr>\n",
       "\t<tr><td>   45</td><td>the</td><td>3925</td><td>103554</td></tr>\n",
       "\t<tr><td> 3796</td><td>and</td><td>3591</td><td>105847</td></tr>\n",
       "\t<tr><td>   47</td><td>the</td><td>3521</td><td> 89058</td></tr>\n",
       "\t<tr><td>   45</td><td>and</td><td>3398</td><td>103554</td></tr>\n",
       "\t<tr><td> 1874</td><td>the</td><td>3366</td><td> 60195</td></tr>\n",
       "\t<tr><td>  544</td><td>the</td><td>3308</td><td> 80903</td></tr>\n",
       "\t<tr><td>17314</td><td>the</td><td>3154</td><td> 54774</td></tr>\n",
       "\t<tr><td> 5343</td><td>the</td><td>3091</td><td> 82147</td></tr>\n",
       "\t<tr><td>   45</td><td>to </td><td>3047</td><td>103554</td></tr>\n",
       "\t<tr><td>   47</td><td>and</td><td>2929</td><td> 89058</td></tr>\n",
       "\t<tr><td>   51</td><td>the</td><td>2850</td><td> 77519</td></tr>\n",
       "\t<tr><td>  836</td><td>and</td><td>2820</td><td> 62614</td></tr>\n",
       "\t<tr><td>  837</td><td>and</td><td>2694</td><td> 69667</td></tr>\n",
       "\t<tr><td> 5343</td><td>and</td><td>2666</td><td> 82147</td></tr>\n",
       "\t<tr><td> 3796</td><td>to </td><td>2656</td><td>105847</td></tr>\n",
       "\t<tr><td>  770</td><td>and</td><td>2551</td><td> 53428</td></tr>\n",
       "\t<tr><td> 3536</td><td>and</td><td>2524</td><td> 68995</td></tr>\n",
       "\t<tr><td>  544</td><td>and</td><td>2506</td><td> 80903</td></tr>\n",
       "\t<tr><td>   45</td><td>i  </td><td>2473</td><td>103554</td></tr>\n",
       "\t<tr><td> 1874</td><td>and</td><td>2472</td><td> 60195</td></tr>\n",
       "\t<tr><td>   47</td><td>to </td><td>2461</td><td> 89058</td></tr>\n",
       "\t<tr><td>  770</td><td>the</td><td>2420</td><td> 53428</td></tr>\n",
       "\t<tr><td>   51</td><td>and</td><td>2358</td><td> 77519</td></tr>\n",
       "\t<tr><td> 3796</td><td>i  </td><td>2259</td><td>105847</td></tr>\n",
       "\t<tr><td> 3796</td><td>a  </td><td>2230</td><td>105847</td></tr>\n",
       "\t<tr><td>   45</td><td>a  </td><td>2228</td><td>103554</td></tr>\n",
       "\t<tr><td>⋮</td><td>⋮</td><td>⋮</td><td>⋮</td></tr>\n",
       "\t<tr><td>17314</td><td>wool      </td><td>1</td><td>54774</td></tr>\n",
       "\t<tr><td>17314</td><td>works     </td><td>1</td><td>54774</td></tr>\n",
       "\t<tr><td>17314</td><td>worried   </td><td>1</td><td>54774</td></tr>\n",
       "\t<tr><td>17314</td><td>worship   </td><td>1</td><td>54774</td></tr>\n",
       "\t<tr><td>17314</td><td>worshipful</td><td>1</td><td>54774</td></tr>\n",
       "\t<tr><td>17314</td><td>wouldst   </td><td>1</td><td>54774</td></tr>\n",
       "\t<tr><td>17314</td><td>wounded   </td><td>1</td><td>54774</td></tr>\n",
       "\t<tr><td>17314</td><td>wounds    </td><td>1</td><td>54774</td></tr>\n",
       "\t<tr><td>17314</td><td>wrapped   </td><td>1</td><td>54774</td></tr>\n",
       "\t<tr><td>17314</td><td>wrapping  </td><td>1</td><td>54774</td></tr>\n",
       "\t<tr><td>17314</td><td>wringing  </td><td>1</td><td>54774</td></tr>\n",
       "\t<tr><td>17314</td><td>writer    </td><td>1</td><td>54774</td></tr>\n",
       "\t<tr><td>17314</td><td>writing   </td><td>1</td><td>54774</td></tr>\n",
       "\t<tr><td>17314</td><td>written   </td><td>1</td><td>54774</td></tr>\n",
       "\t<tr><td>17314</td><td>yearling  </td><td>1</td><td>54774</td></tr>\n",
       "\t<tr><td>17314</td><td>yelling   </td><td>1</td><td>54774</td></tr>\n",
       "\t<tr><td>17314</td><td>yellowing </td><td>1</td><td>54774</td></tr>\n",
       "\t<tr><td>17314</td><td>yellowy   </td><td>1</td><td>54774</td></tr>\n",
       "\t<tr><td>17314</td><td>yidey     </td><td>1</td><td>54774</td></tr>\n",
       "\t<tr><td>17314</td><td>yis       </td><td>1</td><td>54774</td></tr>\n",
       "\t<tr><td>17314</td><td>yobby's   </td><td>1</td><td>54774</td></tr>\n",
       "\t<tr><td>17314</td><td>york      </td><td>1</td><td>54774</td></tr>\n",
       "\t<tr><td>17314</td><td>youngness </td><td>1</td><td>54774</td></tr>\n",
       "\t<tr><td>17314</td><td>youngster </td><td>1</td><td>54774</td></tr>\n",
       "\t<tr><td>17314</td><td>youngsters</td><td>1</td><td>54774</td></tr>\n",
       "\t<tr><td>17314</td><td>youthful  </td><td>1</td><td>54774</td></tr>\n",
       "\t<tr><td>17314</td><td>zinnias   </td><td>1</td><td>54774</td></tr>\n",
       "\t<tr><td>17314</td><td>zoo       </td><td>1</td><td>54774</td></tr>\n",
       "\t<tr><td>17314</td><td>zooks     </td><td>1</td><td>54774</td></tr>\n",
       "\t<tr><td>17314</td><td>zoological</td><td>1</td><td>54774</td></tr>\n",
       "</tbody>\n",
       "</table>\n"
      ],
      "text/latex": [
       "A tibble: 76749 × 4\n",
       "\\begin{tabular}{llll}\n",
       " gutenberg\\_id & word & n & total\\\\\n",
       " <int> & <chr> & <int> & <int>\\\\\n",
       "\\hline\n",
       "\t   837 & the & 4581 &  69667\\\\\n",
       "\t  3796 & the & 4245 & 105847\\\\\n",
       "\t   836 & the & 4067 &  62614\\\\\n",
       "\t  3536 & the & 4003 &  68995\\\\\n",
       "\t    45 & the & 3925 & 103554\\\\\n",
       "\t  3796 & and & 3591 & 105847\\\\\n",
       "\t    47 & the & 3521 &  89058\\\\\n",
       "\t    45 & and & 3398 & 103554\\\\\n",
       "\t  1874 & the & 3366 &  60195\\\\\n",
       "\t   544 & the & 3308 &  80903\\\\\n",
       "\t 17314 & the & 3154 &  54774\\\\\n",
       "\t  5343 & the & 3091 &  82147\\\\\n",
       "\t    45 & to  & 3047 & 103554\\\\\n",
       "\t    47 & and & 2929 &  89058\\\\\n",
       "\t    51 & the & 2850 &  77519\\\\\n",
       "\t   836 & and & 2820 &  62614\\\\\n",
       "\t   837 & and & 2694 &  69667\\\\\n",
       "\t  5343 & and & 2666 &  82147\\\\\n",
       "\t  3796 & to  & 2656 & 105847\\\\\n",
       "\t   770 & and & 2551 &  53428\\\\\n",
       "\t  3536 & and & 2524 &  68995\\\\\n",
       "\t   544 & and & 2506 &  80903\\\\\n",
       "\t    45 & i   & 2473 & 103554\\\\\n",
       "\t  1874 & and & 2472 &  60195\\\\\n",
       "\t    47 & to  & 2461 &  89058\\\\\n",
       "\t   770 & the & 2420 &  53428\\\\\n",
       "\t    51 & and & 2358 &  77519\\\\\n",
       "\t  3796 & i   & 2259 & 105847\\\\\n",
       "\t  3796 & a   & 2230 & 105847\\\\\n",
       "\t    45 & a   & 2228 & 103554\\\\\n",
       "\t ⋮ & ⋮ & ⋮ & ⋮\\\\\n",
       "\t 17314 & wool       & 1 & 54774\\\\\n",
       "\t 17314 & works      & 1 & 54774\\\\\n",
       "\t 17314 & worried    & 1 & 54774\\\\\n",
       "\t 17314 & worship    & 1 & 54774\\\\\n",
       "\t 17314 & worshipful & 1 & 54774\\\\\n",
       "\t 17314 & wouldst    & 1 & 54774\\\\\n",
       "\t 17314 & wounded    & 1 & 54774\\\\\n",
       "\t 17314 & wounds     & 1 & 54774\\\\\n",
       "\t 17314 & wrapped    & 1 & 54774\\\\\n",
       "\t 17314 & wrapping   & 1 & 54774\\\\\n",
       "\t 17314 & wringing   & 1 & 54774\\\\\n",
       "\t 17314 & writer     & 1 & 54774\\\\\n",
       "\t 17314 & writing    & 1 & 54774\\\\\n",
       "\t 17314 & written    & 1 & 54774\\\\\n",
       "\t 17314 & yearling   & 1 & 54774\\\\\n",
       "\t 17314 & yelling    & 1 & 54774\\\\\n",
       "\t 17314 & yellowing  & 1 & 54774\\\\\n",
       "\t 17314 & yellowy    & 1 & 54774\\\\\n",
       "\t 17314 & yidey      & 1 & 54774\\\\\n",
       "\t 17314 & yis        & 1 & 54774\\\\\n",
       "\t 17314 & yobby's    & 1 & 54774\\\\\n",
       "\t 17314 & york       & 1 & 54774\\\\\n",
       "\t 17314 & youngness  & 1 & 54774\\\\\n",
       "\t 17314 & youngster  & 1 & 54774\\\\\n",
       "\t 17314 & youngsters & 1 & 54774\\\\\n",
       "\t 17314 & youthful   & 1 & 54774\\\\\n",
       "\t 17314 & zinnias    & 1 & 54774\\\\\n",
       "\t 17314 & zoo        & 1 & 54774\\\\\n",
       "\t 17314 & zooks      & 1 & 54774\\\\\n",
       "\t 17314 & zoological & 1 & 54774\\\\\n",
       "\\end{tabular}\n"
      ],
      "text/markdown": [
       "\n",
       "A tibble: 76749 × 4\n",
       "\n",
       "| gutenberg_id &lt;int&gt; | word &lt;chr&gt; | n &lt;int&gt; | total &lt;int&gt; |\n",
       "|---|---|---|---|\n",
       "|   837 | the | 4581 |  69667 |\n",
       "|  3796 | the | 4245 | 105847 |\n",
       "|   836 | the | 4067 |  62614 |\n",
       "|  3536 | the | 4003 |  68995 |\n",
       "|    45 | the | 3925 | 103554 |\n",
       "|  3796 | and | 3591 | 105847 |\n",
       "|    47 | the | 3521 |  89058 |\n",
       "|    45 | and | 3398 | 103554 |\n",
       "|  1874 | the | 3366 |  60195 |\n",
       "|   544 | the | 3308 |  80903 |\n",
       "| 17314 | the | 3154 |  54774 |\n",
       "|  5343 | the | 3091 |  82147 |\n",
       "|    45 | to  | 3047 | 103554 |\n",
       "|    47 | and | 2929 |  89058 |\n",
       "|    51 | the | 2850 |  77519 |\n",
       "|   836 | and | 2820 |  62614 |\n",
       "|   837 | and | 2694 |  69667 |\n",
       "|  5343 | and | 2666 |  82147 |\n",
       "|  3796 | to  | 2656 | 105847 |\n",
       "|   770 | and | 2551 |  53428 |\n",
       "|  3536 | and | 2524 |  68995 |\n",
       "|   544 | and | 2506 |  80903 |\n",
       "|    45 | i   | 2473 | 103554 |\n",
       "|  1874 | and | 2472 |  60195 |\n",
       "|    47 | to  | 2461 |  89058 |\n",
       "|   770 | the | 2420 |  53428 |\n",
       "|    51 | and | 2358 |  77519 |\n",
       "|  3796 | i   | 2259 | 105847 |\n",
       "|  3796 | a   | 2230 | 105847 |\n",
       "|    45 | a   | 2228 | 103554 |\n",
       "| ⋮ | ⋮ | ⋮ | ⋮ |\n",
       "| 17314 | wool       | 1 | 54774 |\n",
       "| 17314 | works      | 1 | 54774 |\n",
       "| 17314 | worried    | 1 | 54774 |\n",
       "| 17314 | worship    | 1 | 54774 |\n",
       "| 17314 | worshipful | 1 | 54774 |\n",
       "| 17314 | wouldst    | 1 | 54774 |\n",
       "| 17314 | wounded    | 1 | 54774 |\n",
       "| 17314 | wounds     | 1 | 54774 |\n",
       "| 17314 | wrapped    | 1 | 54774 |\n",
       "| 17314 | wrapping   | 1 | 54774 |\n",
       "| 17314 | wringing   | 1 | 54774 |\n",
       "| 17314 | writer     | 1 | 54774 |\n",
       "| 17314 | writing    | 1 | 54774 |\n",
       "| 17314 | written    | 1 | 54774 |\n",
       "| 17314 | yearling   | 1 | 54774 |\n",
       "| 17314 | yelling    | 1 | 54774 |\n",
       "| 17314 | yellowing  | 1 | 54774 |\n",
       "| 17314 | yellowy    | 1 | 54774 |\n",
       "| 17314 | yidey      | 1 | 54774 |\n",
       "| 17314 | yis        | 1 | 54774 |\n",
       "| 17314 | yobby's    | 1 | 54774 |\n",
       "| 17314 | york       | 1 | 54774 |\n",
       "| 17314 | youngness  | 1 | 54774 |\n",
       "| 17314 | youngster  | 1 | 54774 |\n",
       "| 17314 | youngsters | 1 | 54774 |\n",
       "| 17314 | youthful   | 1 | 54774 |\n",
       "| 17314 | zinnias    | 1 | 54774 |\n",
       "| 17314 | zoo        | 1 | 54774 |\n",
       "| 17314 | zooks      | 1 | 54774 |\n",
       "| 17314 | zoological | 1 | 54774 |\n",
       "\n"
      ],
      "text/plain": [
       "      gutenberg_id word       n    total \n",
       "1       837        the        4581  69667\n",
       "2      3796        the        4245 105847\n",
       "3       836        the        4067  62614\n",
       "4      3536        the        4003  68995\n",
       "5        45        the        3925 103554\n",
       "6      3796        and        3591 105847\n",
       "7        47        the        3521  89058\n",
       "8        45        and        3398 103554\n",
       "9      1874        the        3366  60195\n",
       "10      544        the        3308  80903\n",
       "11    17314        the        3154  54774\n",
       "12     5343        the        3091  82147\n",
       "13       45        to         3047 103554\n",
       "14       47        and        2929  89058\n",
       "15       51        the        2850  77519\n",
       "16      836        and        2820  62614\n",
       "17      837        and        2694  69667\n",
       "18     5343        and        2666  82147\n",
       "19     3796        to         2656 105847\n",
       "20      770        and        2551  53428\n",
       "21     3536        and        2524  68995\n",
       "22      544        and        2506  80903\n",
       "23       45        i          2473 103554\n",
       "24     1874        and        2472  60195\n",
       "25       47        to         2461  89058\n",
       "26      770        the        2420  53428\n",
       "27       51        and        2358  77519\n",
       "28     3796        i          2259 105847\n",
       "29     3796        a          2230 105847\n",
       "30       45        a          2228 103554\n",
       "⋮     ⋮            ⋮          ⋮    ⋮     \n",
       "76720 17314        wool       1    54774 \n",
       "76721 17314        works      1    54774 \n",
       "76722 17314        worried    1    54774 \n",
       "76723 17314        worship    1    54774 \n",
       "76724 17314        worshipful 1    54774 \n",
       "76725 17314        wouldst    1    54774 \n",
       "76726 17314        wounded    1    54774 \n",
       "76727 17314        wounds     1    54774 \n",
       "76728 17314        wrapped    1    54774 \n",
       "76729 17314        wrapping   1    54774 \n",
       "76730 17314        wringing   1    54774 \n",
       "76731 17314        writer     1    54774 \n",
       "76732 17314        writing    1    54774 \n",
       "76733 17314        written    1    54774 \n",
       "76734 17314        yearling   1    54774 \n",
       "76735 17314        yelling    1    54774 \n",
       "76736 17314        yellowing  1    54774 \n",
       "76737 17314        yellowy    1    54774 \n",
       "76738 17314        yidey      1    54774 \n",
       "76739 17314        yis        1    54774 \n",
       "76740 17314        yobby's    1    54774 \n",
       "76741 17314        york       1    54774 \n",
       "76742 17314        youngness  1    54774 \n",
       "76743 17314        youngster  1    54774 \n",
       "76744 17314        youngsters 1    54774 \n",
       "76745 17314        youthful   1    54774 \n",
       "76746 17314        zinnias    1    54774 \n",
       "76747 17314        zoo        1    54774 \n",
       "76748 17314        zooks      1    54774 \n",
       "76749 17314        zoological 1    54774 "
      ]
     },
     "metadata": {},
     "output_type": "display_data"
    }
   ],
   "source": [
    "counts_by_book %>% left_join(totals_by_book)"
   ]
  },
  {
   "cell_type": "markdown",
   "id": "e2ffa669",
   "metadata": {},
   "source": [
    "Now that we have the correct denominator available on each row of the counts table, we can divide to get a standard measure of word frequency in the book. I'm going to multiply by 1000 to make the number easier to read."
   ]
  },
  {
   "cell_type": "code",
   "execution_count": 31,
   "id": "ad593aae",
   "metadata": {},
   "outputs": [
    {
     "name": "stderr",
     "output_type": "stream",
     "text": [
      "\u001b[1m\u001b[22mJoining, by = \"gutenberg_id\"\n"
     ]
    }
   ],
   "source": [
    "counts_by_book <- counts_by_book %>%\n",
    "    left_join(totals_by_book) %>%\n",
    "    mutate(freq = 1000 * n / total)"
   ]
  },
  {
   "cell_type": "code",
   "execution_count": 32,
   "id": "c6249ccb",
   "metadata": {},
   "outputs": [
    {
     "data": {
      "text/html": [
       "<table class=\"dataframe\">\n",
       "<caption>A tibble: 6 × 5</caption>\n",
       "<thead>\n",
       "\t<tr><th scope=col>gutenberg_id</th><th scope=col>word</th><th scope=col>n</th><th scope=col>total</th><th scope=col>freq</th></tr>\n",
       "\t<tr><th scope=col>&lt;int&gt;</th><th scope=col>&lt;chr&gt;</th><th scope=col>&lt;int&gt;</th><th scope=col>&lt;int&gt;</th><th scope=col>&lt;dbl&gt;</th></tr>\n",
       "</thead>\n",
       "<tbody>\n",
       "\t<tr><td> 837</td><td>the</td><td>4581</td><td> 69667</td><td>65.75567</td></tr>\n",
       "\t<tr><td>3796</td><td>the</td><td>4245</td><td>105847</td><td>40.10506</td></tr>\n",
       "\t<tr><td> 836</td><td>the</td><td>4067</td><td> 62614</td><td>64.95352</td></tr>\n",
       "\t<tr><td>3536</td><td>the</td><td>4003</td><td> 68995</td><td>58.01870</td></tr>\n",
       "\t<tr><td>  45</td><td>the</td><td>3925</td><td>103554</td><td>37.90293</td></tr>\n",
       "\t<tr><td>3796</td><td>and</td><td>3591</td><td>105847</td><td>33.92633</td></tr>\n",
       "</tbody>\n",
       "</table>\n"
      ],
      "text/latex": [
       "A tibble: 6 × 5\n",
       "\\begin{tabular}{lllll}\n",
       " gutenberg\\_id & word & n & total & freq\\\\\n",
       " <int> & <chr> & <int> & <int> & <dbl>\\\\\n",
       "\\hline\n",
       "\t  837 & the & 4581 &  69667 & 65.75567\\\\\n",
       "\t 3796 & the & 4245 & 105847 & 40.10506\\\\\n",
       "\t  836 & the & 4067 &  62614 & 64.95352\\\\\n",
       "\t 3536 & the & 4003 &  68995 & 58.01870\\\\\n",
       "\t   45 & the & 3925 & 103554 & 37.90293\\\\\n",
       "\t 3796 & and & 3591 & 105847 & 33.92633\\\\\n",
       "\\end{tabular}\n"
      ],
      "text/markdown": [
       "\n",
       "A tibble: 6 × 5\n",
       "\n",
       "| gutenberg_id &lt;int&gt; | word &lt;chr&gt; | n &lt;int&gt; | total &lt;int&gt; | freq &lt;dbl&gt; |\n",
       "|---|---|---|---|---|\n",
       "|  837 | the | 4581 |  69667 | 65.75567 |\n",
       "| 3796 | the | 4245 | 105847 | 40.10506 |\n",
       "|  836 | the | 4067 |  62614 | 64.95352 |\n",
       "| 3536 | the | 4003 |  68995 | 58.01870 |\n",
       "|   45 | the | 3925 | 103554 | 37.90293 |\n",
       "| 3796 | and | 3591 | 105847 | 33.92633 |\n",
       "\n"
      ],
      "text/plain": [
       "  gutenberg_id word n    total  freq    \n",
       "1  837         the  4581  69667 65.75567\n",
       "2 3796         the  4245 105847 40.10506\n",
       "3  836         the  4067  62614 64.95352\n",
       "4 3536         the  4003  68995 58.01870\n",
       "5   45         the  3925 103554 37.90293\n",
       "6 3796         and  3591 105847 33.92633"
      ]
     },
     "metadata": {},
     "output_type": "display_data"
    }
   ],
   "source": [
    "head(counts_by_book)"
   ]
  },
  {
   "cell_type": "markdown",
   "id": "d740892c",
   "metadata": {},
   "source": [
    "## Function words\n",
    "\n",
    "Let’s do some basic comparisons. What about two very frequent words, \"and\" and \"the\": these words are common to the vast majority of utterances in English. Their use is very hard to avoid, and they’re so frequent that they easily pass completely unnoticed by authors and readers alike, fading into the background of language.\n",
    "\n",
    "And yet, studies of authorship dating back over a century have noted that the use of these words is often characteristic of specific authors. Over our lives we develop habits of composing our sentences that can become both stable and unconscious, making them ideal \"fingerprints\" for authorship.\n",
    "\n",
    "Of course, no-one would make forensic claims today based on raw frequencies of only two words, but working through a toy example can show something of their power."
   ]
  },
  {
   "cell_type": "code",
   "execution_count": 33,
   "id": "389296ea",
   "metadata": {},
   "outputs": [
    {
     "data": {
      "text/html": [
       "<table class=\"dataframe\">\n",
       "<caption>A tibble: 24 × 5</caption>\n",
       "<thead>\n",
       "\t<tr><th scope=col>gutenberg_id</th><th scope=col>word</th><th scope=col>n</th><th scope=col>total</th><th scope=col>freq</th></tr>\n",
       "\t<tr><th scope=col>&lt;int&gt;</th><th scope=col>&lt;chr&gt;</th><th scope=col>&lt;int&gt;</th><th scope=col>&lt;int&gt;</th><th scope=col>&lt;dbl&gt;</th></tr>\n",
       "</thead>\n",
       "<tbody>\n",
       "\t<tr><td>  837</td><td>the</td><td>4581</td><td> 69667</td><td>65.75567</td></tr>\n",
       "\t<tr><td> 3796</td><td>the</td><td>4245</td><td>105847</td><td>40.10506</td></tr>\n",
       "\t<tr><td>  836</td><td>the</td><td>4067</td><td> 62614</td><td>64.95352</td></tr>\n",
       "\t<tr><td> 3536</td><td>the</td><td>4003</td><td> 68995</td><td>58.01870</td></tr>\n",
       "\t<tr><td>   45</td><td>the</td><td>3925</td><td>103554</td><td>37.90293</td></tr>\n",
       "\t<tr><td> 3796</td><td>and</td><td>3591</td><td>105847</td><td>33.92633</td></tr>\n",
       "\t<tr><td>   47</td><td>the</td><td>3521</td><td> 89058</td><td>39.53603</td></tr>\n",
       "\t<tr><td>   45</td><td>and</td><td>3398</td><td>103554</td><td>32.81380</td></tr>\n",
       "\t<tr><td> 1874</td><td>the</td><td>3366</td><td> 60195</td><td>55.91827</td></tr>\n",
       "\t<tr><td>  544</td><td>the</td><td>3308</td><td> 80903</td><td>40.88847</td></tr>\n",
       "\t<tr><td>17314</td><td>the</td><td>3154</td><td> 54774</td><td>57.58206</td></tr>\n",
       "\t<tr><td> 5343</td><td>the</td><td>3091</td><td> 82147</td><td>37.62767</td></tr>\n",
       "\t<tr><td>   47</td><td>and</td><td>2929</td><td> 89058</td><td>32.88868</td></tr>\n",
       "\t<tr><td>   51</td><td>the</td><td>2850</td><td> 77519</td><td>36.76518</td></tr>\n",
       "\t<tr><td>  836</td><td>and</td><td>2820</td><td> 62614</td><td>45.03785</td></tr>\n",
       "\t<tr><td>  837</td><td>and</td><td>2694</td><td> 69667</td><td>38.66967</td></tr>\n",
       "\t<tr><td> 5343</td><td>and</td><td>2666</td><td> 82147</td><td>32.45402</td></tr>\n",
       "\t<tr><td>  770</td><td>and</td><td>2551</td><td> 53428</td><td>47.74650</td></tr>\n",
       "\t<tr><td> 3536</td><td>and</td><td>2524</td><td> 68995</td><td>36.58236</td></tr>\n",
       "\t<tr><td>  544</td><td>and</td><td>2506</td><td> 80903</td><td>30.97537</td></tr>\n",
       "\t<tr><td> 1874</td><td>and</td><td>2472</td><td> 60195</td><td>41.06653</td></tr>\n",
       "\t<tr><td>  770</td><td>the</td><td>2420</td><td> 53428</td><td>45.29460</td></tr>\n",
       "\t<tr><td>   51</td><td>and</td><td>2358</td><td> 77519</td><td>30.41835</td></tr>\n",
       "\t<tr><td>17314</td><td>and</td><td>2224</td><td> 54774</td><td>40.60321</td></tr>\n",
       "</tbody>\n",
       "</table>\n"
      ],
      "text/latex": [
       "A tibble: 24 × 5\n",
       "\\begin{tabular}{lllll}\n",
       " gutenberg\\_id & word & n & total & freq\\\\\n",
       " <int> & <chr> & <int> & <int> & <dbl>\\\\\n",
       "\\hline\n",
       "\t   837 & the & 4581 &  69667 & 65.75567\\\\\n",
       "\t  3796 & the & 4245 & 105847 & 40.10506\\\\\n",
       "\t   836 & the & 4067 &  62614 & 64.95352\\\\\n",
       "\t  3536 & the & 4003 &  68995 & 58.01870\\\\\n",
       "\t    45 & the & 3925 & 103554 & 37.90293\\\\\n",
       "\t  3796 & and & 3591 & 105847 & 33.92633\\\\\n",
       "\t    47 & the & 3521 &  89058 & 39.53603\\\\\n",
       "\t    45 & and & 3398 & 103554 & 32.81380\\\\\n",
       "\t  1874 & the & 3366 &  60195 & 55.91827\\\\\n",
       "\t   544 & the & 3308 &  80903 & 40.88847\\\\\n",
       "\t 17314 & the & 3154 &  54774 & 57.58206\\\\\n",
       "\t  5343 & the & 3091 &  82147 & 37.62767\\\\\n",
       "\t    47 & and & 2929 &  89058 & 32.88868\\\\\n",
       "\t    51 & the & 2850 &  77519 & 36.76518\\\\\n",
       "\t   836 & and & 2820 &  62614 & 45.03785\\\\\n",
       "\t   837 & and & 2694 &  69667 & 38.66967\\\\\n",
       "\t  5343 & and & 2666 &  82147 & 32.45402\\\\\n",
       "\t   770 & and & 2551 &  53428 & 47.74650\\\\\n",
       "\t  3536 & and & 2524 &  68995 & 36.58236\\\\\n",
       "\t   544 & and & 2506 &  80903 & 30.97537\\\\\n",
       "\t  1874 & and & 2472 &  60195 & 41.06653\\\\\n",
       "\t   770 & the & 2420 &  53428 & 45.29460\\\\\n",
       "\t    51 & and & 2358 &  77519 & 30.41835\\\\\n",
       "\t 17314 & and & 2224 &  54774 & 40.60321\\\\\n",
       "\\end{tabular}\n"
      ],
      "text/markdown": [
       "\n",
       "A tibble: 24 × 5\n",
       "\n",
       "| gutenberg_id &lt;int&gt; | word &lt;chr&gt; | n &lt;int&gt; | total &lt;int&gt; | freq &lt;dbl&gt; |\n",
       "|---|---|---|---|---|\n",
       "|   837 | the | 4581 |  69667 | 65.75567 |\n",
       "|  3796 | the | 4245 | 105847 | 40.10506 |\n",
       "|   836 | the | 4067 |  62614 | 64.95352 |\n",
       "|  3536 | the | 4003 |  68995 | 58.01870 |\n",
       "|    45 | the | 3925 | 103554 | 37.90293 |\n",
       "|  3796 | and | 3591 | 105847 | 33.92633 |\n",
       "|    47 | the | 3521 |  89058 | 39.53603 |\n",
       "|    45 | and | 3398 | 103554 | 32.81380 |\n",
       "|  1874 | the | 3366 |  60195 | 55.91827 |\n",
       "|   544 | the | 3308 |  80903 | 40.88847 |\n",
       "| 17314 | the | 3154 |  54774 | 57.58206 |\n",
       "|  5343 | the | 3091 |  82147 | 37.62767 |\n",
       "|    47 | and | 2929 |  89058 | 32.88868 |\n",
       "|    51 | the | 2850 |  77519 | 36.76518 |\n",
       "|   836 | and | 2820 |  62614 | 45.03785 |\n",
       "|   837 | and | 2694 |  69667 | 38.66967 |\n",
       "|  5343 | and | 2666 |  82147 | 32.45402 |\n",
       "|   770 | and | 2551 |  53428 | 47.74650 |\n",
       "|  3536 | and | 2524 |  68995 | 36.58236 |\n",
       "|   544 | and | 2506 |  80903 | 30.97537 |\n",
       "|  1874 | and | 2472 |  60195 | 41.06653 |\n",
       "|   770 | the | 2420 |  53428 | 45.29460 |\n",
       "|    51 | and | 2358 |  77519 | 30.41835 |\n",
       "| 17314 | and | 2224 |  54774 | 40.60321 |\n",
       "\n"
      ],
      "text/plain": [
       "   gutenberg_id word n    total  freq    \n",
       "1    837        the  4581  69667 65.75567\n",
       "2   3796        the  4245 105847 40.10506\n",
       "3    836        the  4067  62614 64.95352\n",
       "4   3536        the  4003  68995 58.01870\n",
       "5     45        the  3925 103554 37.90293\n",
       "6   3796        and  3591 105847 33.92633\n",
       "7     47        the  3521  89058 39.53603\n",
       "8     45        and  3398 103554 32.81380\n",
       "9   1874        the  3366  60195 55.91827\n",
       "10   544        the  3308  80903 40.88847\n",
       "11 17314        the  3154  54774 57.58206\n",
       "12  5343        the  3091  82147 37.62767\n",
       "13    47        and  2929  89058 32.88868\n",
       "14    51        the  2850  77519 36.76518\n",
       "15   836        and  2820  62614 45.03785\n",
       "16   837        and  2694  69667 38.66967\n",
       "17  5343        and  2666  82147 32.45402\n",
       "18   770        and  2551  53428 47.74650\n",
       "19  3536        and  2524  68995 36.58236\n",
       "20   544        and  2506  80903 30.97537\n",
       "21  1874        and  2472  60195 41.06653\n",
       "22   770        the  2420  53428 45.29460\n",
       "23    51        and  2358  77519 30.41835\n",
       "24 17314        and  2224  54774 40.60321"
      ]
     },
     "metadata": {},
     "output_type": "display_data"
    }
   ],
   "source": [
    "counts_by_book %>% filter(word %in% c('and', 'the'))"
   ]
  },
  {
   "cell_type": "markdown",
   "id": "28681984",
   "metadata": {},
   "source": [
    "Ok, now I do want a document-term layout, with \"and\" and \"the\" as my columns, and `freq` as the cell data. This can be done with `pivot_wider()`. We can drop the `n` and `total` columns."
   ]
  },
  {
   "cell_type": "code",
   "execution_count": 34,
   "id": "a7a6740f",
   "metadata": {},
   "outputs": [],
   "source": [
    "simple_dtm <- counts_by_book %>% \n",
    "    select(gutenberg_id, word, freq) %>%\n",
    "    filter(word %in% c('and', 'the')) %>%\n",
    "    pivot_wider(names_from=word, values_from=freq)"
   ]
  },
  {
   "cell_type": "code",
   "execution_count": 35,
   "id": "7ad503aa",
   "metadata": {},
   "outputs": [
    {
     "data": {
      "text/html": [
       "<table class=\"dataframe\">\n",
       "<caption>A tibble: 12 × 3</caption>\n",
       "<thead>\n",
       "\t<tr><th scope=col>gutenberg_id</th><th scope=col>the</th><th scope=col>and</th></tr>\n",
       "\t<tr><th scope=col>&lt;int&gt;</th><th scope=col>&lt;dbl&gt;</th><th scope=col>&lt;dbl&gt;</th></tr>\n",
       "</thead>\n",
       "<tbody>\n",
       "\t<tr><td>  837</td><td>65.75567</td><td>38.66967</td></tr>\n",
       "\t<tr><td> 3796</td><td>40.10506</td><td>33.92633</td></tr>\n",
       "\t<tr><td>  836</td><td>64.95352</td><td>45.03785</td></tr>\n",
       "\t<tr><td> 3536</td><td>58.01870</td><td>36.58236</td></tr>\n",
       "\t<tr><td>   45</td><td>37.90293</td><td>32.81380</td></tr>\n",
       "\t<tr><td>   47</td><td>39.53603</td><td>32.88868</td></tr>\n",
       "\t<tr><td> 1874</td><td>55.91827</td><td>41.06653</td></tr>\n",
       "\t<tr><td>  544</td><td>40.88847</td><td>30.97537</td></tr>\n",
       "\t<tr><td>17314</td><td>57.58206</td><td>40.60321</td></tr>\n",
       "\t<tr><td> 5343</td><td>37.62767</td><td>32.45402</td></tr>\n",
       "\t<tr><td>   51</td><td>36.76518</td><td>30.41835</td></tr>\n",
       "\t<tr><td>  770</td><td>45.29460</td><td>47.74650</td></tr>\n",
       "</tbody>\n",
       "</table>\n"
      ],
      "text/latex": [
       "A tibble: 12 × 3\n",
       "\\begin{tabular}{lll}\n",
       " gutenberg\\_id & the & and\\\\\n",
       " <int> & <dbl> & <dbl>\\\\\n",
       "\\hline\n",
       "\t   837 & 65.75567 & 38.66967\\\\\n",
       "\t  3796 & 40.10506 & 33.92633\\\\\n",
       "\t   836 & 64.95352 & 45.03785\\\\\n",
       "\t  3536 & 58.01870 & 36.58236\\\\\n",
       "\t    45 & 37.90293 & 32.81380\\\\\n",
       "\t    47 & 39.53603 & 32.88868\\\\\n",
       "\t  1874 & 55.91827 & 41.06653\\\\\n",
       "\t   544 & 40.88847 & 30.97537\\\\\n",
       "\t 17314 & 57.58206 & 40.60321\\\\\n",
       "\t  5343 & 37.62767 & 32.45402\\\\\n",
       "\t    51 & 36.76518 & 30.41835\\\\\n",
       "\t   770 & 45.29460 & 47.74650\\\\\n",
       "\\end{tabular}\n"
      ],
      "text/markdown": [
       "\n",
       "A tibble: 12 × 3\n",
       "\n",
       "| gutenberg_id &lt;int&gt; | the &lt;dbl&gt; | and &lt;dbl&gt; |\n",
       "|---|---|---|\n",
       "|   837 | 65.75567 | 38.66967 |\n",
       "|  3796 | 40.10506 | 33.92633 |\n",
       "|   836 | 64.95352 | 45.03785 |\n",
       "|  3536 | 58.01870 | 36.58236 |\n",
       "|    45 | 37.90293 | 32.81380 |\n",
       "|    47 | 39.53603 | 32.88868 |\n",
       "|  1874 | 55.91827 | 41.06653 |\n",
       "|   544 | 40.88847 | 30.97537 |\n",
       "| 17314 | 57.58206 | 40.60321 |\n",
       "|  5343 | 37.62767 | 32.45402 |\n",
       "|    51 | 36.76518 | 30.41835 |\n",
       "|   770 | 45.29460 | 47.74650 |\n",
       "\n"
      ],
      "text/plain": [
       "   gutenberg_id the      and     \n",
       "1    837        65.75567 38.66967\n",
       "2   3796        40.10506 33.92633\n",
       "3    836        64.95352 45.03785\n",
       "4   3536        58.01870 36.58236\n",
       "5     45        37.90293 32.81380\n",
       "6     47        39.53603 32.88868\n",
       "7   1874        55.91827 41.06653\n",
       "8    544        40.88847 30.97537\n",
       "9  17314        57.58206 40.60321\n",
       "10  5343        37.62767 32.45402\n",
       "11    51        36.76518 30.41835\n",
       "12   770        45.29460 47.74650"
      ]
     },
     "metadata": {},
     "output_type": "display_data"
    }
   ],
   "source": [
    "simple_dtm"
   ]
  },
  {
   "cell_type": "markdown",
   "id": "fa81d693",
   "metadata": {},
   "source": [
    "Actually, I want the names of the authors on this table too. That’ll be another join. I’m going to `select()` the columns I want from `corpus` and then `right_join()` with `simple_dtm`. That lets me use pipes to craft a single chain of verbs..."
   ]
  },
  {
   "cell_type": "code",
   "execution_count": 36,
   "id": "e3b03381",
   "metadata": {},
   "outputs": [
    {
     "name": "stderr",
     "output_type": "stream",
     "text": [
      "\u001b[1m\u001b[22mJoining, by = \"gutenberg_id\"\n"
     ]
    }
   ],
   "source": [
    "simple_dtm <- corpus %>%\n",
    "    select(gutenberg_id, author) %>%\n",
    "    right_join(simple_dtm)"
   ]
  },
  {
   "cell_type": "code",
   "execution_count": 37,
   "id": "32aa5422",
   "metadata": {},
   "outputs": [
    {
     "data": {
      "text/html": [
       "<table class=\"dataframe\">\n",
       "<caption>A tibble: 12 × 4</caption>\n",
       "<thead>\n",
       "\t<tr><th scope=col>gutenberg_id</th><th scope=col>author</th><th scope=col>the</th><th scope=col>and</th></tr>\n",
       "\t<tr><th scope=col>&lt;dbl&gt;</th><th scope=col>&lt;chr&gt;</th><th scope=col>&lt;dbl&gt;</th><th scope=col>&lt;dbl&gt;</th></tr>\n",
       "</thead>\n",
       "<tbody>\n",
       "\t<tr><td>   45</td><td>Montgomery</td><td>37.90293</td><td>32.81380</td></tr>\n",
       "\t<tr><td>   47</td><td>Montgomery</td><td>39.53603</td><td>32.88868</td></tr>\n",
       "\t<tr><td>   51</td><td>Montgomery</td><td>36.76518</td><td>30.41835</td></tr>\n",
       "\t<tr><td>  544</td><td>Montgomery</td><td>40.88847</td><td>30.97537</td></tr>\n",
       "\t<tr><td> 3796</td><td>Montgomery</td><td>40.10506</td><td>33.92633</td></tr>\n",
       "\t<tr><td> 5343</td><td>Montgomery</td><td>37.62767</td><td>32.45402</td></tr>\n",
       "\t<tr><td> 3536</td><td>Nesbit    </td><td>58.01870</td><td>36.58236</td></tr>\n",
       "\t<tr><td> 1874</td><td>Nesbit    </td><td>55.91827</td><td>41.06653</td></tr>\n",
       "\t<tr><td>  770</td><td>Nesbit    </td><td>45.29460</td><td>47.74650</td></tr>\n",
       "\t<tr><td>17314</td><td>Nesbit    </td><td>57.58206</td><td>40.60321</td></tr>\n",
       "\t<tr><td>  836</td><td>Nesbit    </td><td>64.95352</td><td>45.03785</td></tr>\n",
       "\t<tr><td>  837</td><td>Nesbit    </td><td>65.75567</td><td>38.66967</td></tr>\n",
       "</tbody>\n",
       "</table>\n"
      ],
      "text/latex": [
       "A tibble: 12 × 4\n",
       "\\begin{tabular}{llll}\n",
       " gutenberg\\_id & author & the & and\\\\\n",
       " <dbl> & <chr> & <dbl> & <dbl>\\\\\n",
       "\\hline\n",
       "\t    45 & Montgomery & 37.90293 & 32.81380\\\\\n",
       "\t    47 & Montgomery & 39.53603 & 32.88868\\\\\n",
       "\t    51 & Montgomery & 36.76518 & 30.41835\\\\\n",
       "\t   544 & Montgomery & 40.88847 & 30.97537\\\\\n",
       "\t  3796 & Montgomery & 40.10506 & 33.92633\\\\\n",
       "\t  5343 & Montgomery & 37.62767 & 32.45402\\\\\n",
       "\t  3536 & Nesbit     & 58.01870 & 36.58236\\\\\n",
       "\t  1874 & Nesbit     & 55.91827 & 41.06653\\\\\n",
       "\t   770 & Nesbit     & 45.29460 & 47.74650\\\\\n",
       "\t 17314 & Nesbit     & 57.58206 & 40.60321\\\\\n",
       "\t   836 & Nesbit     & 64.95352 & 45.03785\\\\\n",
       "\t   837 & Nesbit     & 65.75567 & 38.66967\\\\\n",
       "\\end{tabular}\n"
      ],
      "text/markdown": [
       "\n",
       "A tibble: 12 × 4\n",
       "\n",
       "| gutenberg_id &lt;dbl&gt; | author &lt;chr&gt; | the &lt;dbl&gt; | and &lt;dbl&gt; |\n",
       "|---|---|---|---|\n",
       "|    45 | Montgomery | 37.90293 | 32.81380 |\n",
       "|    47 | Montgomery | 39.53603 | 32.88868 |\n",
       "|    51 | Montgomery | 36.76518 | 30.41835 |\n",
       "|   544 | Montgomery | 40.88847 | 30.97537 |\n",
       "|  3796 | Montgomery | 40.10506 | 33.92633 |\n",
       "|  5343 | Montgomery | 37.62767 | 32.45402 |\n",
       "|  3536 | Nesbit     | 58.01870 | 36.58236 |\n",
       "|  1874 | Nesbit     | 55.91827 | 41.06653 |\n",
       "|   770 | Nesbit     | 45.29460 | 47.74650 |\n",
       "| 17314 | Nesbit     | 57.58206 | 40.60321 |\n",
       "|   836 | Nesbit     | 64.95352 | 45.03785 |\n",
       "|   837 | Nesbit     | 65.75567 | 38.66967 |\n",
       "\n"
      ],
      "text/plain": [
       "   gutenberg_id author     the      and     \n",
       "1     45        Montgomery 37.90293 32.81380\n",
       "2     47        Montgomery 39.53603 32.88868\n",
       "3     51        Montgomery 36.76518 30.41835\n",
       "4    544        Montgomery 40.88847 30.97537\n",
       "5   3796        Montgomery 40.10506 33.92633\n",
       "6   5343        Montgomery 37.62767 32.45402\n",
       "7   3536        Nesbit     58.01870 36.58236\n",
       "8   1874        Nesbit     55.91827 41.06653\n",
       "9    770        Nesbit     45.29460 47.74650\n",
       "10 17314        Nesbit     57.58206 40.60321\n",
       "11   836        Nesbit     64.95352 45.03785\n",
       "12   837        Nesbit     65.75567 38.66967"
      ]
     },
     "metadata": {},
     "output_type": "display_data"
    }
   ],
   "source": [
    "simple_dtm"
   ]
  },
  {
   "cell_type": "markdown",
   "id": "4423d571",
   "metadata": {},
   "source": [
    "Let’s plot the points and see whether these two authors’ use of \"and\" and \"the\" is enough to separate their works..."
   ]
  },
  {
   "cell_type": "code",
   "execution_count": 38,
   "id": "3bfdfedd",
   "metadata": {},
   "outputs": [
    {
     "data": {
      "image/png": "[encoded data removed]",
      "text/plain": [
       "plot without title"
      ]
     },
     "metadata": {
      "image/png": {
       "height": 420,
       "width": 420
      }
     },
     "output_type": "display_data"
    }
   ],
   "source": [
    "ggplot(simple_dtm) + \n",
    "    aes(x=the, y=and, col=author) +\n",
    "    geom_point(size=4)"
   ]
  },
  {
   "cell_type": "markdown",
   "id": "e903986f",
   "metadata": {},
   "source": [
    "Wow... this is a pretty extreme example, but an illustrative one. Not only do these two word frequencies perfectly separate the authors, but in fact either one of them alone would be sufficient.\n",
    "\n",
    "Now the real test of an authorship model is whether we can correctly identify unknown samples. Let’s introduce some additional novels without revealing their authors.\n",
    "\n",
    "The code below looks a bit unwieldy, but it’s just a concise way of repeating all the steps we did above, now for the new texts."
   ]
  },
  {
   "cell_type": "code",
   "execution_count": 39,
   "id": "aa3088e8",
   "metadata": {},
   "outputs": [],
   "source": [
    "# throw some unknown samples into the mix\n",
    "unknowns_id <- c(5342, 61236, 50361, 27903)\n",
    "\n",
    "unknowns_dtm <- gutenberg_download(unknowns_id) %>%          # download from pg\n",
    "    unnest_tokens(word, text) %>%                            # tokenize\n",
    "    count(gutenberg_id, word, sort=TRUE) %>%                 # get word counts\n",
    "    group_by(gutenberg_id) %>%                               # group by doc (for per-doc totals in next line)\n",
    "    mutate(total = sum(n), freq=1000*n/total) %>%            # create the 'total' row as sum of word counts\n",
    "    select(gutenberg_id, word, freq) %>%                     # keep only the columns we need                     \n",
    "    filter(word %in% c('the', 'and')) %>%                    # keep only rows we need\n",
    "    pivot_wider(names_from=word, values_from=freq) %>%       # turn 'word' values into new cols\n",
    "    mutate(author='unknown')                                 # add an author column"
   ]
  },
  {
   "cell_type": "markdown",
   "id": "28205d44",
   "metadata": {},
   "source": [
    "Here are our mystery samples:"
   ]
  },
  {
   "cell_type": "code",
   "execution_count": 40,
   "id": "d522b37a",
   "metadata": {},
   "outputs": [
    {
     "data": {
      "text/html": [
       "<table class=\"dataframe\">\n",
       "<caption>A grouped_df: 4 × 4</caption>\n",
       "<thead>\n",
       "\t<tr><th scope=col>gutenberg_id</th><th scope=col>the</th><th scope=col>and</th><th scope=col>author</th></tr>\n",
       "\t<tr><th scope=col>&lt;int&gt;</th><th scope=col>&lt;dbl&gt;</th><th scope=col>&lt;dbl&gt;</th><th scope=col>&lt;chr&gt;</th></tr>\n",
       "</thead>\n",
       "<tbody>\n",
       "\t<tr><td>61236</td><td>38.44895</td><td>32.08243</td><td>unknown</td></tr>\n",
       "\t<tr><td> 5342</td><td>46.14497</td><td>31.67943</td><td>unknown</td></tr>\n",
       "\t<tr><td>27903</td><td>61.27156</td><td>43.10402</td><td>unknown</td></tr>\n",
       "\t<tr><td>50361</td><td>65.38161</td><td>40.95618</td><td>unknown</td></tr>\n",
       "</tbody>\n",
       "</table>\n"
      ],
      "text/latex": [
       "A grouped\\_df: 4 × 4\n",
       "\\begin{tabular}{llll}\n",
       " gutenberg\\_id & the & and & author\\\\\n",
       " <int> & <dbl> & <dbl> & <chr>\\\\\n",
       "\\hline\n",
       "\t 61236 & 38.44895 & 32.08243 & unknown\\\\\n",
       "\t  5342 & 46.14497 & 31.67943 & unknown\\\\\n",
       "\t 27903 & 61.27156 & 43.10402 & unknown\\\\\n",
       "\t 50361 & 65.38161 & 40.95618 & unknown\\\\\n",
       "\\end{tabular}\n"
      ],
      "text/markdown": [
       "\n",
       "A grouped_df: 4 × 4\n",
       "\n",
       "| gutenberg_id &lt;int&gt; | the &lt;dbl&gt; | and &lt;dbl&gt; | author &lt;chr&gt; |\n",
       "|---|---|---|---|\n",
       "| 61236 | 38.44895 | 32.08243 | unknown |\n",
       "|  5342 | 46.14497 | 31.67943 | unknown |\n",
       "| 27903 | 61.27156 | 43.10402 | unknown |\n",
       "| 50361 | 65.38161 | 40.95618 | unknown |\n",
       "\n"
      ],
      "text/plain": [
       "  gutenberg_id the      and      author \n",
       "1 61236        38.44895 32.08243 unknown\n",
       "2  5342        46.14497 31.67943 unknown\n",
       "3 27903        61.27156 43.10402 unknown\n",
       "4 50361        65.38161 40.95618 unknown"
      ]
     },
     "metadata": {},
     "output_type": "display_data"
    }
   ],
   "source": [
    "unknowns_dtm"
   ]
  },
  {
   "cell_type": "markdown",
   "id": "fa415374",
   "metadata": {},
   "source": [
    "Here, we join the new samples to the old ones and graph everything again. This time I’m adding the sample id numbers so we can see which of the unknown texts are which."
   ]
  },
  {
   "cell_type": "code",
   "execution_count": 41,
   "id": "e066c77b",
   "metadata": {},
   "outputs": [
    {
     "data": {
      "image/png": "[encoded data removed]",
      "text/plain": [
       "plot without title"
      ]
     },
     "metadata": {
      "image/png": {
       "height": 420,
       "width": 420
      }
     },
     "output_type": "display_data"
    }
   ],
   "source": [
    "simple_dtm %>%\n",
    "    bind_rows(unknowns_dtm) %>%\n",
    "\n",
    "ggplot() +\n",
    "    aes(x=and, y=the, col=author) +\n",
    "    geom_point(size=4) +\n",
    "    geom_text(aes(label=gutenberg_id), col='black', nudge_x=1)\n"
   ]
  },
  {
   "cell_type": "markdown",
   "id": "7d6b122d",
   "metadata": {},
   "source": [
    "### The reveal\n",
    "\n",
    "Here are the identities of the mystery samples:\n",
    "\n",
    "|gutenberg_id|author|title|\n",
    "| --- | --- | --- |\n",
    "| 5342  | Montgomery | The Story Girl |\n",
    "| 27903 | Nesbit | The Magic World |\n",
    "| 50361 | Nesbit | Wet Magic |\n",
    "| 61236 | Montgomery | Emily of New Moon |"
   ]
  },
  {
   "cell_type": "markdown",
   "id": "bd2fc872",
   "metadata": {},
   "source": [
    "## A final look at most frequent words\n",
    "\n",
    "By now I’m a little curious about Montgomery’s style... she uses both of these really frequent words quite a bit less than Nesbit. If she’s using the most common words less, is she using rarer words more? Does she simply have a bigger vocabulary so that all frequencies are slightly lower?\n",
    "\n",
    "Let’s compare the Zipf curves for these two authors—I'm curious to see whether they have different slopes."
   ]
  },
  {
   "cell_type": "code",
   "execution_count": 42,
   "id": "21b1f2b6",
   "metadata": {},
   "outputs": [
    {
     "name": "stderr",
     "output_type": "stream",
     "text": [
      "\u001b[1m\u001b[22mJoining, by = c(\"gutenberg_id\", \"total\")\n",
      "\u001b[1m\u001b[22mAdding missing grouping variables: `gutenberg_id`\n"
     ]
    },
    {
     "data": {
      "image/png": "[encoded data removed]",
      "text/plain": [
       "plot without title"
      ]
     },
     "metadata": {
      "image/png": {
       "height": 420,
       "width": 420
      }
     },
     "output_type": "display_data"
    }
   ],
   "source": [
    "counts_by_book %>%\n",
    "    left_join(corpus) %>%            # because I want author from the corpus table\n",
    "    group_by(gutenberg_id) %>%       # because I want per-book ranks\n",
    "    mutate(rank=row_number()) %>%    # calculate rank as row number (table is sorted)\n",
    "    select(author, freq, rank) %>% \n",
    "\n",
    "ggplot() +\n",
    "    aes(x=rank, y=freq, col=factor(author)) +\n",
    "    geom_point() +\n",
    "    scale_y_log10() +                           # both scales are log\n",
    "    scale_x_log10()                             #     for zipf curves"
   ]
  },
  {
   "cell_type": "markdown",
   "id": "b2eeea73",
   "metadata": {},
   "source": [
    "The two curves are mostly very similar in slope and intercept. But something interesting might be happening at the very top. \n",
    "\n",
    "### \"Zoom and enhance!\"\n",
    "\n",
    "This gives me a chance to show you something. When we draw a graph with ggplot2, we can save it to a variable and reuse it. And particularly useful here, we can apply a layer after the fact that rescales it. Here's the same graph again, but now we'll zoom in on the top-left part."
   ]
  },
  {
   "cell_type": "code",
   "execution_count": 43,
   "id": "69305941",
   "metadata": {},
   "outputs": [
    {
     "name": "stderr",
     "output_type": "stream",
     "text": [
      "\u001b[1m\u001b[22mJoining, by = c(\"gutenberg_id\", \"total\")\n",
      "\u001b[1m\u001b[22mAdding missing grouping variables: `gutenberg_id`\n"
     ]
    }
   ],
   "source": [
    "plot <-                                  # save the resulting plot to a variable\n",
    "    counts_by_book %>%\n",
    "        left_join(corpus) %>%            # because I want author from the corpus table\n",
    "        group_by(gutenberg_id) %>%       # because I want per-book ranks\n",
    "        mutate(rank=row_number()) %>%    # calculate rank as row number (table is sorted)\n",
    "        select(author, freq, rank) %>% \n",
    "\n",
    "    ggplot() +\n",
    "        aes(x=rank, y=freq, col=factor(author)) +\n",
    "        geom_point() +\n",
    "        scale_y_log10() +                           # both scales are log\n",
    "        scale_x_log10()                             #     for zipf curves"
   ]
  },
  {
   "cell_type": "code",
   "execution_count": 44,
   "id": "1b7ed871",
   "metadata": {},
   "outputs": [
    {
     "data": {
      "image/png": "[encoded data removed]",
      "text/plain": [
       "plot without title"
      ]
     },
     "metadata": {
      "image/png": {
       "height": 420,
       "width": 420
      }
     },
     "output_type": "display_data"
    }
   ],
   "source": [
    "plot + \n",
    "    coord_cartesian(xlim=c(1,20), ylim=c(5,100))"
   ]
  },
  {
   "cell_type": "markdown",
   "id": "7381a104",
   "metadata": {},
   "source": [
    "Montgomery is consistently below Nesbit at the top of the Zipf curve, but really only for those two words... this might be fun to explore at another time."
   ]
  },
  {
   "cell_type": "markdown",
   "id": "1b4c256d",
   "metadata": {},
   "source": [
    "## Identifying meaningful content words\n",
    "\n",
    "Let’s turn our attention away from words that are common to the whole language towards those that are particular to certain documents. One common way to identify words that are important to a given document is the measure called **term frequency-inverse document frequency** or **TF-IDF**. This metric compares a word’s frequency in one document with its broader frequency in the corpus as a whole: words that occur in fewer documents throughout the corpus are weighted more heavily (that's \"inverse document frequency\").\n",
    "\n",
    "For example, consider a Wikipedia page. Many of the most frequent words on the page will be words that are common throughout the site. Very rare words, on the other hand, may be only tangentially related to the page’s content. However, words that occur frequently on that page but are absent from most other pages are likely central to the subject of that page.\n",
    "\n",
    "The tidytext package has a function, `bind_tf_idf()`, that calculates term frequencies and inverse document frequencies from a simple table of word counts.\n",
    "\n",
    "Let's re-create our per-book word-counts, to demonstrate how `count()` and `bind_tf_idf()` can save us several steps from our earlier workflow:"
   ]
  },
  {
   "cell_type": "code",
   "execution_count": 45,
   "id": "cf9bfb59",
   "metadata": {},
   "outputs": [],
   "source": [
    "freq_by_book <- corpus_words %>%\n",
    "    count(gutenberg_id, word, sort=TRUE) %>%\n",
    "    bind_tf_idf(term=word, document=gutenberg_id, n=n)"
   ]
  },
  {
   "cell_type": "code",
   "execution_count": 46,
   "id": "b4c41209",
   "metadata": {},
   "outputs": [
    {
     "data": {
      "text/html": [
       "<table class=\"dataframe\">\n",
       "<caption>A tibble: 20 × 6</caption>\n",
       "<thead>\n",
       "\t<tr><th scope=col>gutenberg_id</th><th scope=col>word</th><th scope=col>n</th><th scope=col>tf</th><th scope=col>idf</th><th scope=col>tf_idf</th></tr>\n",
       "\t<tr><th scope=col>&lt;int&gt;</th><th scope=col>&lt;chr&gt;</th><th scope=col>&lt;int&gt;</th><th scope=col>&lt;dbl&gt;</th><th scope=col>&lt;dbl&gt;</th><th scope=col>&lt;dbl&gt;</th></tr>\n",
       "</thead>\n",
       "<tbody>\n",
       "\t<tr><td>  837</td><td>the</td><td>4581</td><td>0.06575567</td><td>0</td><td>0</td></tr>\n",
       "\t<tr><td> 3796</td><td>the</td><td>4245</td><td>0.04010506</td><td>0</td><td>0</td></tr>\n",
       "\t<tr><td>  836</td><td>the</td><td>4067</td><td>0.06495352</td><td>0</td><td>0</td></tr>\n",
       "\t<tr><td> 3536</td><td>the</td><td>4003</td><td>0.05801870</td><td>0</td><td>0</td></tr>\n",
       "\t<tr><td>   45</td><td>the</td><td>3925</td><td>0.03790293</td><td>0</td><td>0</td></tr>\n",
       "\t<tr><td> 3796</td><td>and</td><td>3591</td><td>0.03392633</td><td>0</td><td>0</td></tr>\n",
       "\t<tr><td>   47</td><td>the</td><td>3521</td><td>0.03953603</td><td>0</td><td>0</td></tr>\n",
       "\t<tr><td>   45</td><td>and</td><td>3398</td><td>0.03281380</td><td>0</td><td>0</td></tr>\n",
       "\t<tr><td> 1874</td><td>the</td><td>3366</td><td>0.05591827</td><td>0</td><td>0</td></tr>\n",
       "\t<tr><td>  544</td><td>the</td><td>3308</td><td>0.04088847</td><td>0</td><td>0</td></tr>\n",
       "\t<tr><td>17314</td><td>the</td><td>3154</td><td>0.05758206</td><td>0</td><td>0</td></tr>\n",
       "\t<tr><td> 5343</td><td>the</td><td>3091</td><td>0.03762767</td><td>0</td><td>0</td></tr>\n",
       "\t<tr><td>   45</td><td>to </td><td>3047</td><td>0.02942426</td><td>0</td><td>0</td></tr>\n",
       "\t<tr><td>   47</td><td>and</td><td>2929</td><td>0.03288868</td><td>0</td><td>0</td></tr>\n",
       "\t<tr><td>   51</td><td>the</td><td>2850</td><td>0.03676518</td><td>0</td><td>0</td></tr>\n",
       "\t<tr><td>  836</td><td>and</td><td>2820</td><td>0.04503785</td><td>0</td><td>0</td></tr>\n",
       "\t<tr><td>  837</td><td>and</td><td>2694</td><td>0.03866967</td><td>0</td><td>0</td></tr>\n",
       "\t<tr><td> 5343</td><td>and</td><td>2666</td><td>0.03245402</td><td>0</td><td>0</td></tr>\n",
       "\t<tr><td> 3796</td><td>to </td><td>2656</td><td>0.02509282</td><td>0</td><td>0</td></tr>\n",
       "\t<tr><td>  770</td><td>and</td><td>2551</td><td>0.04774650</td><td>0</td><td>0</td></tr>\n",
       "</tbody>\n",
       "</table>\n"
      ],
      "text/latex": [
       "A tibble: 20 × 6\n",
       "\\begin{tabular}{llllll}\n",
       " gutenberg\\_id & word & n & tf & idf & tf\\_idf\\\\\n",
       " <int> & <chr> & <int> & <dbl> & <dbl> & <dbl>\\\\\n",
       "\\hline\n",
       "\t   837 & the & 4581 & 0.06575567 & 0 & 0\\\\\n",
       "\t  3796 & the & 4245 & 0.04010506 & 0 & 0\\\\\n",
       "\t   836 & the & 4067 & 0.06495352 & 0 & 0\\\\\n",
       "\t  3536 & the & 4003 & 0.05801870 & 0 & 0\\\\\n",
       "\t    45 & the & 3925 & 0.03790293 & 0 & 0\\\\\n",
       "\t  3796 & and & 3591 & 0.03392633 & 0 & 0\\\\\n",
       "\t    47 & the & 3521 & 0.03953603 & 0 & 0\\\\\n",
       "\t    45 & and & 3398 & 0.03281380 & 0 & 0\\\\\n",
       "\t  1874 & the & 3366 & 0.05591827 & 0 & 0\\\\\n",
       "\t   544 & the & 3308 & 0.04088847 & 0 & 0\\\\\n",
       "\t 17314 & the & 3154 & 0.05758206 & 0 & 0\\\\\n",
       "\t  5343 & the & 3091 & 0.03762767 & 0 & 0\\\\\n",
       "\t    45 & to  & 3047 & 0.02942426 & 0 & 0\\\\\n",
       "\t    47 & and & 2929 & 0.03288868 & 0 & 0\\\\\n",
       "\t    51 & the & 2850 & 0.03676518 & 0 & 0\\\\\n",
       "\t   836 & and & 2820 & 0.04503785 & 0 & 0\\\\\n",
       "\t   837 & and & 2694 & 0.03866967 & 0 & 0\\\\\n",
       "\t  5343 & and & 2666 & 0.03245402 & 0 & 0\\\\\n",
       "\t  3796 & to  & 2656 & 0.02509282 & 0 & 0\\\\\n",
       "\t   770 & and & 2551 & 0.04774650 & 0 & 0\\\\\n",
       "\\end{tabular}\n"
      ],
      "text/markdown": [
       "\n",
       "A tibble: 20 × 6\n",
       "\n",
       "| gutenberg_id &lt;int&gt; | word &lt;chr&gt; | n &lt;int&gt; | tf &lt;dbl&gt; | idf &lt;dbl&gt; | tf_idf &lt;dbl&gt; |\n",
       "|---|---|---|---|---|---|\n",
       "|   837 | the | 4581 | 0.06575567 | 0 | 0 |\n",
       "|  3796 | the | 4245 | 0.04010506 | 0 | 0 |\n",
       "|   836 | the | 4067 | 0.06495352 | 0 | 0 |\n",
       "|  3536 | the | 4003 | 0.05801870 | 0 | 0 |\n",
       "|    45 | the | 3925 | 0.03790293 | 0 | 0 |\n",
       "|  3796 | and | 3591 | 0.03392633 | 0 | 0 |\n",
       "|    47 | the | 3521 | 0.03953603 | 0 | 0 |\n",
       "|    45 | and | 3398 | 0.03281380 | 0 | 0 |\n",
       "|  1874 | the | 3366 | 0.05591827 | 0 | 0 |\n",
       "|   544 | the | 3308 | 0.04088847 | 0 | 0 |\n",
       "| 17314 | the | 3154 | 0.05758206 | 0 | 0 |\n",
       "|  5343 | the | 3091 | 0.03762767 | 0 | 0 |\n",
       "|    45 | to  | 3047 | 0.02942426 | 0 | 0 |\n",
       "|    47 | and | 2929 | 0.03288868 | 0 | 0 |\n",
       "|    51 | the | 2850 | 0.03676518 | 0 | 0 |\n",
       "|   836 | and | 2820 | 0.04503785 | 0 | 0 |\n",
       "|   837 | and | 2694 | 0.03866967 | 0 | 0 |\n",
       "|  5343 | and | 2666 | 0.03245402 | 0 | 0 |\n",
       "|  3796 | to  | 2656 | 0.02509282 | 0 | 0 |\n",
       "|   770 | and | 2551 | 0.04774650 | 0 | 0 |\n",
       "\n"
      ],
      "text/plain": [
       "   gutenberg_id word n    tf         idf tf_idf\n",
       "1    837        the  4581 0.06575567 0   0     \n",
       "2   3796        the  4245 0.04010506 0   0     \n",
       "3    836        the  4067 0.06495352 0   0     \n",
       "4   3536        the  4003 0.05801870 0   0     \n",
       "5     45        the  3925 0.03790293 0   0     \n",
       "6   3796        and  3591 0.03392633 0   0     \n",
       "7     47        the  3521 0.03953603 0   0     \n",
       "8     45        and  3398 0.03281380 0   0     \n",
       "9   1874        the  3366 0.05591827 0   0     \n",
       "10   544        the  3308 0.04088847 0   0     \n",
       "11 17314        the  3154 0.05758206 0   0     \n",
       "12  5343        the  3091 0.03762767 0   0     \n",
       "13    45        to   3047 0.02942426 0   0     \n",
       "14    47        and  2929 0.03288868 0   0     \n",
       "15    51        the  2850 0.03676518 0   0     \n",
       "16   836        and  2820 0.04503785 0   0     \n",
       "17   837        and  2694 0.03866967 0   0     \n",
       "18  5343        and  2666 0.03245402 0   0     \n",
       "19  3796        to   2656 0.02509282 0   0     \n",
       "20   770        and  2551 0.04774650 0   0     "
      ]
     },
     "metadata": {},
     "output_type": "display_data"
    }
   ],
   "source": [
    "head(freq_by_book, n=20)"
   ]
  },
  {
   "cell_type": "code",
   "execution_count": 47,
   "id": "81e102d0",
   "metadata": {},
   "outputs": [
    {
     "data": {
      "text/html": [
       "<table class=\"dataframe\">\n",
       "<caption>A tibble: 20 × 6</caption>\n",
       "<thead>\n",
       "\t<tr><th scope=col>gutenberg_id</th><th scope=col>word</th><th scope=col>n</th><th scope=col>tf</th><th scope=col>idf</th><th scope=col>tf_idf</th></tr>\n",
       "\t<tr><th scope=col>&lt;int&gt;</th><th scope=col>&lt;chr&gt;</th><th scope=col>&lt;int&gt;</th><th scope=col>&lt;dbl&gt;</th><th scope=col>&lt;dbl&gt;</th><th scope=col>&lt;dbl&gt;</th></tr>\n",
       "</thead>\n",
       "<tbody>\n",
       "\t<tr><td>17314</td><td>wringing  </td><td>1</td><td>1.825684e-05</td><td>1.3862944</td><td>2.530935e-05</td></tr>\n",
       "\t<tr><td>17314</td><td>writer    </td><td>1</td><td>1.825684e-05</td><td>0.5389965</td><td>9.840371e-06</td></tr>\n",
       "\t<tr><td>17314</td><td>writing   </td><td>1</td><td>1.825684e-05</td><td>0.0000000</td><td>0.000000e+00</td></tr>\n",
       "\t<tr><td>17314</td><td>written   </td><td>1</td><td>1.825684e-05</td><td>0.0000000</td><td>0.000000e+00</td></tr>\n",
       "\t<tr><td>17314</td><td>yearling  </td><td>1</td><td>1.825684e-05</td><td>2.4849066</td><td>4.536654e-05</td></tr>\n",
       "\t<tr><td>17314</td><td>yelling   </td><td>1</td><td>1.825684e-05</td><td>1.3862944</td><td>2.530935e-05</td></tr>\n",
       "\t<tr><td>17314</td><td>yellowing </td><td>1</td><td>1.825684e-05</td><td>2.4849066</td><td>4.536654e-05</td></tr>\n",
       "\t<tr><td>17314</td><td>yellowy   </td><td>1</td><td>1.825684e-05</td><td>1.0986123</td><td>2.005719e-05</td></tr>\n",
       "\t<tr><td>17314</td><td>yidey     </td><td>1</td><td>1.825684e-05</td><td>2.4849066</td><td>4.536654e-05</td></tr>\n",
       "\t<tr><td>17314</td><td>yis       </td><td>1</td><td>1.825684e-05</td><td>2.4849066</td><td>4.536654e-05</td></tr>\n",
       "\t<tr><td>17314</td><td>yobby's   </td><td>1</td><td>1.825684e-05</td><td>2.4849066</td><td>4.536654e-05</td></tr>\n",
       "\t<tr><td>17314</td><td>york      </td><td>1</td><td>1.825684e-05</td><td>1.7917595</td><td>3.271186e-05</td></tr>\n",
       "\t<tr><td>17314</td><td>youngness </td><td>1</td><td>1.825684e-05</td><td>2.4849066</td><td>4.536654e-05</td></tr>\n",
       "\t<tr><td>17314</td><td>youngster </td><td>1</td><td>1.825684e-05</td><td>1.7917595</td><td>3.271186e-05</td></tr>\n",
       "\t<tr><td>17314</td><td>youngsters</td><td>1</td><td>1.825684e-05</td><td>0.6931472</td><td>1.265468e-05</td></tr>\n",
       "\t<tr><td>17314</td><td>youthful  </td><td>1</td><td>1.825684e-05</td><td>0.5389965</td><td>9.840371e-06</td></tr>\n",
       "\t<tr><td>17314</td><td>zinnias   </td><td>1</td><td>1.825684e-05</td><td>2.4849066</td><td>4.536654e-05</td></tr>\n",
       "\t<tr><td>17314</td><td>zoo       </td><td>1</td><td>1.825684e-05</td><td>1.7917595</td><td>3.271186e-05</td></tr>\n",
       "\t<tr><td>17314</td><td>zooks     </td><td>1</td><td>1.825684e-05</td><td>2.4849066</td><td>4.536654e-05</td></tr>\n",
       "\t<tr><td>17314</td><td>zoological</td><td>1</td><td>1.825684e-05</td><td>0.8754687</td><td>1.598329e-05</td></tr>\n",
       "</tbody>\n",
       "</table>\n"
      ],
      "text/latex": [
       "A tibble: 20 × 6\n",
       "\\begin{tabular}{llllll}\n",
       " gutenberg\\_id & word & n & tf & idf & tf\\_idf\\\\\n",
       " <int> & <chr> & <int> & <dbl> & <dbl> & <dbl>\\\\\n",
       "\\hline\n",
       "\t 17314 & wringing   & 1 & 1.825684e-05 & 1.3862944 & 2.530935e-05\\\\\n",
       "\t 17314 & writer     & 1 & 1.825684e-05 & 0.5389965 & 9.840371e-06\\\\\n",
       "\t 17314 & writing    & 1 & 1.825684e-05 & 0.0000000 & 0.000000e+00\\\\\n",
       "\t 17314 & written    & 1 & 1.825684e-05 & 0.0000000 & 0.000000e+00\\\\\n",
       "\t 17314 & yearling   & 1 & 1.825684e-05 & 2.4849066 & 4.536654e-05\\\\\n",
       "\t 17314 & yelling    & 1 & 1.825684e-05 & 1.3862944 & 2.530935e-05\\\\\n",
       "\t 17314 & yellowing  & 1 & 1.825684e-05 & 2.4849066 & 4.536654e-05\\\\\n",
       "\t 17314 & yellowy    & 1 & 1.825684e-05 & 1.0986123 & 2.005719e-05\\\\\n",
       "\t 17314 & yidey      & 1 & 1.825684e-05 & 2.4849066 & 4.536654e-05\\\\\n",
       "\t 17314 & yis        & 1 & 1.825684e-05 & 2.4849066 & 4.536654e-05\\\\\n",
       "\t 17314 & yobby's    & 1 & 1.825684e-05 & 2.4849066 & 4.536654e-05\\\\\n",
       "\t 17314 & york       & 1 & 1.825684e-05 & 1.7917595 & 3.271186e-05\\\\\n",
       "\t 17314 & youngness  & 1 & 1.825684e-05 & 2.4849066 & 4.536654e-05\\\\\n",
       "\t 17314 & youngster  & 1 & 1.825684e-05 & 1.7917595 & 3.271186e-05\\\\\n",
       "\t 17314 & youngsters & 1 & 1.825684e-05 & 0.6931472 & 1.265468e-05\\\\\n",
       "\t 17314 & youthful   & 1 & 1.825684e-05 & 0.5389965 & 9.840371e-06\\\\\n",
       "\t 17314 & zinnias    & 1 & 1.825684e-05 & 2.4849066 & 4.536654e-05\\\\\n",
       "\t 17314 & zoo        & 1 & 1.825684e-05 & 1.7917595 & 3.271186e-05\\\\\n",
       "\t 17314 & zooks      & 1 & 1.825684e-05 & 2.4849066 & 4.536654e-05\\\\\n",
       "\t 17314 & zoological & 1 & 1.825684e-05 & 0.8754687 & 1.598329e-05\\\\\n",
       "\\end{tabular}\n"
      ],
      "text/markdown": [
       "\n",
       "A tibble: 20 × 6\n",
       "\n",
       "| gutenberg_id &lt;int&gt; | word &lt;chr&gt; | n &lt;int&gt; | tf &lt;dbl&gt; | idf &lt;dbl&gt; | tf_idf &lt;dbl&gt; |\n",
       "|---|---|---|---|---|---|\n",
       "| 17314 | wringing   | 1 | 1.825684e-05 | 1.3862944 | 2.530935e-05 |\n",
       "| 17314 | writer     | 1 | 1.825684e-05 | 0.5389965 | 9.840371e-06 |\n",
       "| 17314 | writing    | 1 | 1.825684e-05 | 0.0000000 | 0.000000e+00 |\n",
       "| 17314 | written    | 1 | 1.825684e-05 | 0.0000000 | 0.000000e+00 |\n",
       "| 17314 | yearling   | 1 | 1.825684e-05 | 2.4849066 | 4.536654e-05 |\n",
       "| 17314 | yelling    | 1 | 1.825684e-05 | 1.3862944 | 2.530935e-05 |\n",
       "| 17314 | yellowing  | 1 | 1.825684e-05 | 2.4849066 | 4.536654e-05 |\n",
       "| 17314 | yellowy    | 1 | 1.825684e-05 | 1.0986123 | 2.005719e-05 |\n",
       "| 17314 | yidey      | 1 | 1.825684e-05 | 2.4849066 | 4.536654e-05 |\n",
       "| 17314 | yis        | 1 | 1.825684e-05 | 2.4849066 | 4.536654e-05 |\n",
       "| 17314 | yobby's    | 1 | 1.825684e-05 | 2.4849066 | 4.536654e-05 |\n",
       "| 17314 | york       | 1 | 1.825684e-05 | 1.7917595 | 3.271186e-05 |\n",
       "| 17314 | youngness  | 1 | 1.825684e-05 | 2.4849066 | 4.536654e-05 |\n",
       "| 17314 | youngster  | 1 | 1.825684e-05 | 1.7917595 | 3.271186e-05 |\n",
       "| 17314 | youngsters | 1 | 1.825684e-05 | 0.6931472 | 1.265468e-05 |\n",
       "| 17314 | youthful   | 1 | 1.825684e-05 | 0.5389965 | 9.840371e-06 |\n",
       "| 17314 | zinnias    | 1 | 1.825684e-05 | 2.4849066 | 4.536654e-05 |\n",
       "| 17314 | zoo        | 1 | 1.825684e-05 | 1.7917595 | 3.271186e-05 |\n",
       "| 17314 | zooks      | 1 | 1.825684e-05 | 2.4849066 | 4.536654e-05 |\n",
       "| 17314 | zoological | 1 | 1.825684e-05 | 0.8754687 | 1.598329e-05 |\n",
       "\n"
      ],
      "text/plain": [
       "   gutenberg_id word       n tf           idf       tf_idf      \n",
       "1  17314        wringing   1 1.825684e-05 1.3862944 2.530935e-05\n",
       "2  17314        writer     1 1.825684e-05 0.5389965 9.840371e-06\n",
       "3  17314        writing    1 1.825684e-05 0.0000000 0.000000e+00\n",
       "4  17314        written    1 1.825684e-05 0.0000000 0.000000e+00\n",
       "5  17314        yearling   1 1.825684e-05 2.4849066 4.536654e-05\n",
       "6  17314        yelling    1 1.825684e-05 1.3862944 2.530935e-05\n",
       "7  17314        yellowing  1 1.825684e-05 2.4849066 4.536654e-05\n",
       "8  17314        yellowy    1 1.825684e-05 1.0986123 2.005719e-05\n",
       "9  17314        yidey      1 1.825684e-05 2.4849066 4.536654e-05\n",
       "10 17314        yis        1 1.825684e-05 2.4849066 4.536654e-05\n",
       "11 17314        yobby's    1 1.825684e-05 2.4849066 4.536654e-05\n",
       "12 17314        york       1 1.825684e-05 1.7917595 3.271186e-05\n",
       "13 17314        youngness  1 1.825684e-05 2.4849066 4.536654e-05\n",
       "14 17314        youngster  1 1.825684e-05 1.7917595 3.271186e-05\n",
       "15 17314        youngsters 1 1.825684e-05 0.6931472 1.265468e-05\n",
       "16 17314        youthful   1 1.825684e-05 0.5389965 9.840371e-06\n",
       "17 17314        zinnias    1 1.825684e-05 2.4849066 4.536654e-05\n",
       "18 17314        zoo        1 1.825684e-05 1.7917595 3.271186e-05\n",
       "19 17314        zooks      1 1.825684e-05 2.4849066 4.536654e-05\n",
       "20 17314        zoological 1 1.825684e-05 0.8754687 1.598329e-05"
      ]
     },
     "metadata": {},
     "output_type": "display_data"
    }
   ],
   "source": [
    "tail(freq_by_book, n=20)"
   ]
  },
  {
   "cell_type": "markdown",
   "id": "362fcf9a",
   "metadata": {},
   "source": [
    "Notice that the words with low frequencies (`tf`) have low TF-IDF scores as well; but words with very *high* frequencies have *even lower* TF-IDF scores, because function words are common to all the documents.\n",
    "\n",
    "So what words have *high* TF-IDF scores?"
   ]
  },
  {
   "cell_type": "code",
   "execution_count": 48,
   "id": "ef3d0c01",
   "metadata": {},
   "outputs": [
    {
     "data": {
      "text/html": [
       "<table class=\"dataframe\">\n",
       "<caption>A tibble: 20 × 6</caption>\n",
       "<thead>\n",
       "\t<tr><th scope=col>gutenberg_id</th><th scope=col>word</th><th scope=col>n</th><th scope=col>tf</th><th scope=col>idf</th><th scope=col>tf_idf</th></tr>\n",
       "\t<tr><th scope=col>&lt;int&gt;</th><th scope=col>&lt;chr&gt;</th><th scope=col>&lt;int&gt;</th><th scope=col>&lt;dbl&gt;</th><th scope=col>&lt;dbl&gt;</th><th scope=col>&lt;dbl&gt;</th></tr>\n",
       "</thead>\n",
       "<tbody>\n",
       "\t<tr><td> 1874</td><td>bobbie  </td><td> 471</td><td>0.007824570</td><td>2.4849066</td><td>0.019443326</td></tr>\n",
       "\t<tr><td>  836</td><td>phoenix </td><td> 377</td><td>0.006021018</td><td>2.4849066</td><td>0.014961667</td></tr>\n",
       "\t<tr><td> 3536</td><td>mabel   </td><td> 414</td><td>0.006000435</td><td>2.4849066</td><td>0.014910520</td></tr>\n",
       "\t<tr><td> 3796</td><td>rilla   </td><td> 706</td><td>0.006670005</td><td>1.7917595</td><td>0.011951044</td></tr>\n",
       "\t<tr><td> 3536</td><td>gerald  </td><td> 590</td><td>0.008551344</td><td>1.3862944</td><td>0.011854680</td></tr>\n",
       "\t<tr><td> 1874</td><td>phyllis </td><td> 282</td><td>0.004684774</td><td>2.4849066</td><td>0.011641227</td></tr>\n",
       "\t<tr><td>  770</td><td>oswald  </td><td> 233</td><td>0.004361009</td><td>2.4849066</td><td>0.010836701</td></tr>\n",
       "\t<tr><td> 3536</td><td>kathleen</td><td> 289</td><td>0.004188709</td><td>2.4849066</td><td>0.010408552</td></tr>\n",
       "\t<tr><td>  837</td><td>anthea  </td><td> 383</td><td>0.005497581</td><td>1.3862944</td><td>0.007621266</td></tr>\n",
       "\t<tr><td>  770</td><td>noel    </td><td> 163</td><td>0.003050835</td><td>2.4849066</td><td>0.007581040</td></tr>\n",
       "\t<tr><td>   51</td><td>anne    </td><td> 982</td><td>0.012667862</td><td>0.5389965</td><td>0.006827933</td></tr>\n",
       "\t<tr><td>  836</td><td>anthea  </td><td> 304</td><td>0.004855144</td><td>1.3862944</td><td>0.006730659</td></tr>\n",
       "\t<tr><td>  837</td><td>cyril   </td><td> 320</td><td>0.004593279</td><td>1.3862944</td><td>0.006367637</td></tr>\n",
       "\t<tr><td> 5343</td><td>una     </td><td> 286</td><td>0.003481564</td><td>1.7917595</td><td>0.006238124</td></tr>\n",
       "\t<tr><td>  836</td><td>cyril   </td><td> 276</td><td>0.004407960</td><td>1.3862944</td><td>0.006110730</td></tr>\n",
       "\t<tr><td>17314</td><td>anthea  </td><td> 240</td><td>0.004381641</td><td>1.3862944</td><td>0.006074244</td></tr>\n",
       "\t<tr><td>   45</td><td>anne    </td><td>1108</td><td>0.010699732</td><td>0.5389965</td><td>0.005767118</td></tr>\n",
       "\t<tr><td>   47</td><td>anne    </td><td> 941</td><td>0.010566148</td><td>0.5389965</td><td>0.005695117</td></tr>\n",
       "\t<tr><td>17314</td><td>cyril   </td><td> 223</td><td>0.004071275</td><td>1.3862944</td><td>0.005643985</td></tr>\n",
       "\t<tr><td> 3796</td><td>susan   </td><td> 543</td><td>0.005130046</td><td>1.0986123</td><td>0.005635932</td></tr>\n",
       "</tbody>\n",
       "</table>\n"
      ],
      "text/latex": [
       "A tibble: 20 × 6\n",
       "\\begin{tabular}{llllll}\n",
       " gutenberg\\_id & word & n & tf & idf & tf\\_idf\\\\\n",
       " <int> & <chr> & <int> & <dbl> & <dbl> & <dbl>\\\\\n",
       "\\hline\n",
       "\t  1874 & bobbie   &  471 & 0.007824570 & 2.4849066 & 0.019443326\\\\\n",
       "\t   836 & phoenix  &  377 & 0.006021018 & 2.4849066 & 0.014961667\\\\\n",
       "\t  3536 & mabel    &  414 & 0.006000435 & 2.4849066 & 0.014910520\\\\\n",
       "\t  3796 & rilla    &  706 & 0.006670005 & 1.7917595 & 0.011951044\\\\\n",
       "\t  3536 & gerald   &  590 & 0.008551344 & 1.3862944 & 0.011854680\\\\\n",
       "\t  1874 & phyllis  &  282 & 0.004684774 & 2.4849066 & 0.011641227\\\\\n",
       "\t   770 & oswald   &  233 & 0.004361009 & 2.4849066 & 0.010836701\\\\\n",
       "\t  3536 & kathleen &  289 & 0.004188709 & 2.4849066 & 0.010408552\\\\\n",
       "\t   837 & anthea   &  383 & 0.005497581 & 1.3862944 & 0.007621266\\\\\n",
       "\t   770 & noel     &  163 & 0.003050835 & 2.4849066 & 0.007581040\\\\\n",
       "\t    51 & anne     &  982 & 0.012667862 & 0.5389965 & 0.006827933\\\\\n",
       "\t   836 & anthea   &  304 & 0.004855144 & 1.3862944 & 0.006730659\\\\\n",
       "\t   837 & cyril    &  320 & 0.004593279 & 1.3862944 & 0.006367637\\\\\n",
       "\t  5343 & una      &  286 & 0.003481564 & 1.7917595 & 0.006238124\\\\\n",
       "\t   836 & cyril    &  276 & 0.004407960 & 1.3862944 & 0.006110730\\\\\n",
       "\t 17314 & anthea   &  240 & 0.004381641 & 1.3862944 & 0.006074244\\\\\n",
       "\t    45 & anne     & 1108 & 0.010699732 & 0.5389965 & 0.005767118\\\\\n",
       "\t    47 & anne     &  941 & 0.010566148 & 0.5389965 & 0.005695117\\\\\n",
       "\t 17314 & cyril    &  223 & 0.004071275 & 1.3862944 & 0.005643985\\\\\n",
       "\t  3796 & susan    &  543 & 0.005130046 & 1.0986123 & 0.005635932\\\\\n",
       "\\end{tabular}\n"
      ],
      "text/markdown": [
       "\n",
       "A tibble: 20 × 6\n",
       "\n",
       "| gutenberg_id &lt;int&gt; | word &lt;chr&gt; | n &lt;int&gt; | tf &lt;dbl&gt; | idf &lt;dbl&gt; | tf_idf &lt;dbl&gt; |\n",
       "|---|---|---|---|---|---|\n",
       "|  1874 | bobbie   |  471 | 0.007824570 | 2.4849066 | 0.019443326 |\n",
       "|   836 | phoenix  |  377 | 0.006021018 | 2.4849066 | 0.014961667 |\n",
       "|  3536 | mabel    |  414 | 0.006000435 | 2.4849066 | 0.014910520 |\n",
       "|  3796 | rilla    |  706 | 0.006670005 | 1.7917595 | 0.011951044 |\n",
       "|  3536 | gerald   |  590 | 0.008551344 | 1.3862944 | 0.011854680 |\n",
       "|  1874 | phyllis  |  282 | 0.004684774 | 2.4849066 | 0.011641227 |\n",
       "|   770 | oswald   |  233 | 0.004361009 | 2.4849066 | 0.010836701 |\n",
       "|  3536 | kathleen |  289 | 0.004188709 | 2.4849066 | 0.010408552 |\n",
       "|   837 | anthea   |  383 | 0.005497581 | 1.3862944 | 0.007621266 |\n",
       "|   770 | noel     |  163 | 0.003050835 | 2.4849066 | 0.007581040 |\n",
       "|    51 | anne     |  982 | 0.012667862 | 0.5389965 | 0.006827933 |\n",
       "|   836 | anthea   |  304 | 0.004855144 | 1.3862944 | 0.006730659 |\n",
       "|   837 | cyril    |  320 | 0.004593279 | 1.3862944 | 0.006367637 |\n",
       "|  5343 | una      |  286 | 0.003481564 | 1.7917595 | 0.006238124 |\n",
       "|   836 | cyril    |  276 | 0.004407960 | 1.3862944 | 0.006110730 |\n",
       "| 17314 | anthea   |  240 | 0.004381641 | 1.3862944 | 0.006074244 |\n",
       "|    45 | anne     | 1108 | 0.010699732 | 0.5389965 | 0.005767118 |\n",
       "|    47 | anne     |  941 | 0.010566148 | 0.5389965 | 0.005695117 |\n",
       "| 17314 | cyril    |  223 | 0.004071275 | 1.3862944 | 0.005643985 |\n",
       "|  3796 | susan    |  543 | 0.005130046 | 1.0986123 | 0.005635932 |\n",
       "\n"
      ],
      "text/plain": [
       "   gutenberg_id word     n    tf          idf       tf_idf     \n",
       "1   1874        bobbie    471 0.007824570 2.4849066 0.019443326\n",
       "2    836        phoenix   377 0.006021018 2.4849066 0.014961667\n",
       "3   3536        mabel     414 0.006000435 2.4849066 0.014910520\n",
       "4   3796        rilla     706 0.006670005 1.7917595 0.011951044\n",
       "5   3536        gerald    590 0.008551344 1.3862944 0.011854680\n",
       "6   1874        phyllis   282 0.004684774 2.4849066 0.011641227\n",
       "7    770        oswald    233 0.004361009 2.4849066 0.010836701\n",
       "8   3536        kathleen  289 0.004188709 2.4849066 0.010408552\n",
       "9    837        anthea    383 0.005497581 1.3862944 0.007621266\n",
       "10   770        noel      163 0.003050835 2.4849066 0.007581040\n",
       "11    51        anne      982 0.012667862 0.5389965 0.006827933\n",
       "12   836        anthea    304 0.004855144 1.3862944 0.006730659\n",
       "13   837        cyril     320 0.004593279 1.3862944 0.006367637\n",
       "14  5343        una       286 0.003481564 1.7917595 0.006238124\n",
       "15   836        cyril     276 0.004407960 1.3862944 0.006110730\n",
       "16 17314        anthea    240 0.004381641 1.3862944 0.006074244\n",
       "17    45        anne     1108 0.010699732 0.5389965 0.005767118\n",
       "18    47        anne      941 0.010566148 0.5389965 0.005695117\n",
       "19 17314        cyril     223 0.004071275 1.3862944 0.005643985\n",
       "20  3796        susan     543 0.005130046 1.0986123 0.005635932"
      ]
     },
     "metadata": {},
     "output_type": "display_data"
    }
   ],
   "source": [
    "freq_by_book %>% \n",
    "    arrange(desc(tf_idf)) %>% \n",
    "    head(n=20)"
   ]
  },
  {
   "cell_type": "markdown",
   "id": "581b6865",
   "metadata": {},
   "source": [
    "<div style=\"float:right; width:140px; margin:1.5em\">\n",
    "    <img src=\"https://upload.wikimedia.org/wikipedia/commons/thumb/5/5a/Thwack%21_-_M.A._and_W.A.J._Claus.jpg/440px-Thwack%21_-_M.A._and_W.A.J._Claus.jpg\">\n",
    "</div>\n",
    "\n",
    "The highest scores for these novels are proper names: characters who are prominent in a given novel’s storyline but don’t occur in the other books. (For those unfamiliar with Nesbit’s work, the \"phoenix\" here is the titular mythical beast from her novel, *The Phoenix and the Carpet*.\n",
    "\n",
    "An interesting case for this somewhat artificial corpus is Anne (Shirley), the protagonist of L.M. Mongtomery’s *Anne of Green Gables* and its sequels. She's a common character to several of the Montgomery books in our corpus, which tends to reduce her name's TF-IDF score; but she's still absent from more than half the books, while being extremely common in the books where she does occur, so while not at the top of the list, she's still relatively prominent."
   ]
  }
 ],
 "metadata": {
  "kernelspec": {
   "display_name": "R",
   "language": "R",
   "name": "ir"
  },
  "language_info": {
   "codemirror_mode": "r",
   "file_extension": ".r",
   "mimetype": "text/x-r-source",
   "name": "R",
   "pygments_lexer": "r",
   "version": "4.2.0"
  }
 },
 "nbformat": 4,
 "nbformat_minor": 5
}
